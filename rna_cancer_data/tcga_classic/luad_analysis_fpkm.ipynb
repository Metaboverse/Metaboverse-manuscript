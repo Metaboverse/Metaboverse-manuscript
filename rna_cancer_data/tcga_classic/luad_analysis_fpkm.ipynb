{
 "cells": [
  {
   "cell_type": "markdown",
   "id": "adc53d81-719c-4b68-9f19-e3582b360c49",
   "metadata": {},
   "source": [
    "# LUAD survival analysis\n",
    "\n",
    "#### Data sources:\n",
    "- `rna_cancer_sample.tsv`: Human Protein Atlas (https://www.proteinatlas.org/download/rna_cancer_sample.tsv.zip)\n",
    "- `clinical.tsv`: TCGA (https://portal.gdc.cancer.gov/projects/TCGA-LUAD; click Clinical download button)\n",
    "\n",
    "Data were pre-normalized as part of the Human Protein Atlas project\n",
    "\n",
    "#### Table of contents:\n",
    "<ul>\n",
    "    <li><a href=\"#import\">Import dependencies</a></li>\n",
    "    <li><a href=\"#functions\">Functions</a></li>\n",
    "    <li><a href=\"#read\">Read gene expression data and format</a></li>\n",
    "    <li><a href=\"#censor\">Read clinical data and format/censor</a></li>\n",
    "    <li><a href=\"#summary\">Data summaries</a></li>\n",
    "    <li><a href=\"#sms\">SMS (ENSG00000102172)</a></li>\n",
    "        <ul>\n",
    "           <li>All stages</li>\n",
    "           <li>Early stages</li>\n",
    "           <li>Late stages</li>\n",
    "        </ul>\n",
    "    <li><a href=\"#glyctk\">GLYCTK (ENSG00000168237)</a></li>\n",
    "        <ul>\n",
    "           <li>All stages</li>\n",
    "           <li>Early stages</li>\n",
    "           <li>Late stages</li>\n",
    "        </ul>\n",
    "    <li><a href=\"#all\">Perform analysis on all genes</a></li>    \n",
    "    <li><a href=\"#rank\">Rank order survival p-values</a></li>   \n",
    "        <ul>\n",
    "           <li>SMS</li>\n",
    "           <li>GLYCTK</li>\n",
    "        </ul>\n",
    "    <li><a href=\"#plots\">Plots</a></li>\n",
    "        <ul>\n",
    "           <li>All stages</li>\n",
    "           <li>Early stages</li>\n",
    "           <li>Late stages</li>\n",
    "        </ul>\n",
    "    <li><a href=\"#session\">Session Info</a></li>\n",
    "</ul>"
   ]
  },
  {
   "cell_type": "markdown",
   "id": "1ba979ad",
   "metadata": {},
   "source": [
    "<a id=\"import\"><h3>Import dependencies</h3></a>"
   ]
  },
  {
   "cell_type": "code",
   "execution_count": 1,
   "id": "4638c5e9",
   "metadata": {
    "tags": []
   },
   "outputs": [
    {
     "name": "stderr",
     "output_type": "stream",
     "text": [
      "Loading required package: ggplot2\n",
      "\n",
      "Loading required package: ggpubr\n",
      "\n"
     ]
    }
   ],
   "source": [
    "suppressWarnings({\n",
    "    library(survival)\n",
    "    library(survminer)\n",
    "    library(stringr)\n",
    "    library(data.table)\n",
    "\n",
    "    #setwd(\"C:/Users/jorda/Desktop/projects/manuscript/rna_cancer_data/tcga_classic/\")\n",
    "})"
   ]
  },
  {
   "cell_type": "markdown",
   "id": "d48297dc",
   "metadata": {},
   "source": [
    "<a id=\"functions\"><h3>Functions</h3></a>"
   ]
  },
  {
   "cell_type": "code",
   "execution_count": 2,
   "id": "0bd879f2",
   "metadata": {},
   "outputs": [],
   "source": [
    "# Clean and prepare clinical data \n",
    "censor_df <- function (df) {\n",
    "    # Censor alive==0/dead==1\n",
    "    # See \"event\" description at https://www.rdocumentation.org/packages/survival/versions/2.11-4/topics/Surv\n",
    "    censor_data <- function(x) if (x == \"Alive\") {0} else {1}\n",
    "    df$status <- mapply(censor_data, df$vital_status)\n",
    "    df$status <- as.numeric(df$status)\n",
    "    df$days_to_death <- as.numeric(df$days_to_death) ##################### <-------- NAs\n",
    "    \n",
    "    # Right censor for alive\n",
    "    # https://cran.r-project.org/web/packages/finalfit/vignettes/survival.html\n",
    "    df$days_to_death <- ifelse(\n",
    "        is.na(df$days_to_death), \n",
    "        df$days_to_last_follow_up, \n",
    "        df$days_to_death)\n",
    "    \n",
    "    df$days_to_death <- ifelse(\n",
    "        df$days_to_death == \"'--\", \n",
    "        df$days_to_last_follow_up, \n",
    "        df$days_to_death)\n",
    "    \n",
    "    return (df)\n",
    "}\n",
    "\n",
    "clean_df <- function(df) {\n",
    "    # Get relevant data and perform some additional data clean-up\n",
    "    df <- df[ , c(\"case_submitter_id\", \"ajcc_pathologic_stage\", \"status\", \"days_to_death\", \"days_to_last_follow_up\")] \n",
    "\n",
    "    # remove duplicate entries\n",
    "    df <- unique(df[,])\n",
    "\n",
    "    # remove samples with no days to death after censoring\n",
    "    df <- df[df$days_to_death != \"'--\", ]\n",
    "\n",
    "    # Make sure output formatting is correct\n",
    "    df$status <- as.numeric(as.character(df$status))\n",
    "    df$days_to_death <- as.numeric(as.character(df$days_to_death))\n",
    "    \n",
    "    return (df)\n",
    "}\n",
    "\n",
    "parse_stages <- function(df) {\n",
    "    \n",
    "    # Add stage category labels\n",
    "    df$stage <- df$ajcc_pathologic_stage\n",
    "    df <- df[df$stage != \"'--\", ]\n",
    "    df$stage[\n",
    "        df$stage == \"Stage I\" | \n",
    "        df$stage == \"Stage IA\" | \n",
    "        df$stage == \"Stage IB\"] <- 1\n",
    "    df$stage[\n",
    "        df$stage == \"Stage II\" | \n",
    "        df$stage == \"Stage IIA\" | \n",
    "        df$stage == \"Stage IIB\"] <- 2\n",
    "    df$stage[\n",
    "        df$stage == \"Stage III\" | \n",
    "        df$stage == \"Stage IIIA\" | \n",
    "        df$stage == \"Stage IIIB\"] <- 3\n",
    "    df$stage[\n",
    "        df$stage == \"Stage IV\" | \n",
    "        df$stage == \"Stage IVA\" | \n",
    "        df$stage == \"Stage IVB\"] <- 4\n",
    "\n",
    "    # Parse out early vs. late patients\n",
    "    early <- df[\n",
    "        df$ajcc_pathologic_stage == \"Stage I\" | \n",
    "        df$ajcc_pathologic_stage == \"Stage IA\" | \n",
    "        df$ajcc_pathologic_stage == \"Stage IB\", ]\n",
    "    late <- df[\n",
    "        df$ajcc_pathologic_stage != \"Stage I\" & \n",
    "        df$ajcc_pathologic_stage != \"Stage IA\" & \n",
    "        df$ajcc_pathologic_stage != \"Stage IB\", ]\n",
    "    all <- df\n",
    "    \n",
    "    v = list(all, early, late)\n",
    "    names(v) <- c(\"all\", \"early\", \"late\")\n",
    "    \n",
    "    return (v)\n",
    "}"
   ]
  },
  {
   "cell_type": "code",
   "execution_count": 3,
   "id": "17a73732",
   "metadata": {},
   "outputs": [],
   "source": [
    "plot_day_dist <- function(df, export=FALSE) {\n",
    "    if (export != FALSE) {\n",
    "        pdf(export)\n",
    "    }\n",
    "    \n",
    "    # initialize plotting space \n",
    "    par(mfrow=c(1,2), pin=c(3,1))\n",
    "    \n",
    "    # plot days to death for dead patients distribution\n",
    "    x1 <- df[df$status == 1, ]$days_to_death\n",
    "    h1 <-hist(x1, breaks=20, col=\"red\", xlab=\"Days to Death\", main=\"Dead\")\n",
    "    xfit1<-seq(min(x1),max(x1),length=40)\n",
    "    yfit1<-dnorm(xfit1,mean=mean(x1),sd=sd(x1))\n",
    "    yfit1 <- yfit1*diff(h1$mids[1:2])*length(x1)\n",
    "    lines(xfit1, yfit1, col=\"red\", lwd=2)\n",
    "    \n",
    "    # plot days to follow-up for alive patients distribution\n",
    "    x2 <- df[df$status == 0, ]$days_to_death\n",
    "    h2 <- hist(x2, breaks=20, col=\"blue\", xlab=\"Days to Follow-up\", main=\"Alive\")\n",
    "    xfit2<-seq(min(x2),max(x2),length=40)\n",
    "    yfit2<-dnorm(xfit2,mean=mean(x2),sd=sd(x2))\n",
    "    yfit2 <- yfit2*diff(h2$mids[1:2])*length(x2)\n",
    "    lines(xfit2, yfit2, col=\"blue\", lwd=2)\n",
    "    \n",
    "    if (export != FALSE) {\n",
    "        dev.off()\n",
    "    }\n",
    "}\n",
    "\n",
    "plot_gene_summary <- function(df, gene, title=NULL, export=FALSE, color=\"blue\") {\n",
    "    if (export != FALSE) {\n",
    "        pdf(export)\n",
    "    }\n",
    "    \n",
    "    if (is.null(title)) {\n",
    "        title = gene\n",
    "    }\n",
    "    \n",
    "    print(paste(title, \"gene expression summary\"))\n",
    "    print(summary(df[df$Gene == gene,]$FPKM))\n",
    "\n",
    "    x2 <- df[df$Gene == gene, ]$FPKM\n",
    "    h2 <- hist(x2, breaks=100, col=\"grey\", xlab=\"FPKM\", main=title)\n",
    "    xfit2<-seq(min(x2),max(x2),length=40)\n",
    "    yfit2<-dnorm(xfit2,mean=mean(x2),sd=sd(x2))\n",
    "    yfit2 <- yfit2*diff(h2$mids[1:2])*length(x2)\n",
    "    lines(xfit2, yfit2, col=\"blue\", lwd=2)\n",
    "    \n",
    "    if (export != FALSE) {\n",
    "        dev.off()\n",
    "    }\n",
    "}"
   ]
  },
  {
   "cell_type": "code",
   "execution_count": 4,
   "id": "0e626b27",
   "metadata": {},
   "outputs": [],
   "source": [
    "analyze_all_genes <- function(expression, clinical, gene_list) {\n",
    "    \n",
    "    median_pvals <-list()\n",
    "    optimized_pvals <- list()\n",
    "    counter <- 0\n",
    "\n",
    "    for (gene in gene_list) {\n",
    "      tryCatch({\n",
    "        data_gene <- expression[expression$Gene == gene,]\n",
    "        # Merged mixed data tables\n",
    "        merged_data_gene <- merge(\n",
    "          data_gene,\n",
    "          clinical,\n",
    "          by.x = \"Sample\",\n",
    "          by.y = \"case_submitter_id\")\n",
    "\n",
    "        this_median <- median(merged_data_gene$FPKM)\n",
    "        merged_data_gene$gene_status <- ifelse(merged_data_gene$FPKM > this_median, \"high\", \"low\")\n",
    "        km_trt_fit <- surv_fit(Surv(days_to_death, status) ~ gene_status, data=merged_data_gene)\n",
    "\n",
    "        opt_cutoff <- surv_cutpoint(\n",
    "            merged_data_gene, \n",
    "            time = \"days_to_death\", \n",
    "            event = \"status\", \n",
    "            variables = c(\"FPKM\"),\n",
    "            minprop=0.2)\n",
    "        opt_categories <- surv_categorize(opt_cutoff)\n",
    "        opt_fit <- surv_fit(Surv(days_to_death, status) ~ FPKM, data = opt_categories)\n",
    "\n",
    "        median_pvals[gene] <- surv_pvalue(km_trt_fit)$pval\n",
    "        optimized_pvals[gene] <- surv_pvalue(opt_fit)$pval\n",
    "          \n",
    "      }, error = function (condition) {\n",
    "        counter <- counter + 1\n",
    "      })\n",
    "    }\n",
    "    print(paste(\"Skipped\", counter, \"genes\", sep=\" \"))\n",
    "    \n",
    "    v = list(median_pvals, optimized_pvals)\n",
    "    names(v) <- c(\"median\", \"optimized\")\n",
    "    \n",
    "    return (v)\n",
    "}"
   ]
  },
  {
   "cell_type": "code",
   "execution_count": 5,
   "id": "01ecf7a6",
   "metadata": {},
   "outputs": [],
   "source": [
    "plot_scatter <- function(expression, clinical, gene, title=NULL, export=FALSE) {\n",
    "    if (export != FALSE) {\n",
    "        pdf(export)\n",
    "    }\n",
    "    \n",
    "    if (is.null(title)) {\n",
    "        title = gene\n",
    "    }\n",
    "    \n",
    "    print(title)\n",
    "    data_gene <- expression[expression$Gene == gene,]\n",
    "    merged_data_gene <- merge(\n",
    "      data_gene,\n",
    "      clinical,\n",
    "      by.x = \"Sample\",\n",
    "      by.y = \"case_submitter_id\")\n",
    "\n",
    "    plot(merged_data_gene$FPKM, merged_data_gene$days_to_death)\n",
    "    \n",
    "    if (export != FALSE) {\n",
    "        dev.off()\n",
    "    }\n",
    "}"
   ]
  },
  {
   "cell_type": "code",
   "execution_count": 6,
   "id": "b4b52be1",
   "metadata": {},
   "outputs": [],
   "source": [
    "get_best_cutoff <- function(expression, clinical, gene, title=NULL, stage=\"All\", minprop=0.2) {\n",
    "    if (is.null(title)) {\n",
    "        title = gene\n",
    "    }\n",
    "    print(paste(stage, \":::\", title))\n",
    "    \n",
    "    # K-M Curve\n",
    "    data_gene <- expression[expression$Gene == gene,]\n",
    "    # Merged mixed data tables\n",
    "    merged_data_gene <- merge(\n",
    "      data_gene,\n",
    "      clinical,\n",
    "      by.x = \"Sample\",\n",
    "      by.y = \"case_submitter_id\")\n",
    "    \n",
    "    # Optimized threshold\n",
    "    opt_cutoff <- surv_cutpoint(\n",
    "        data = merged_data_gene, \n",
    "        time = \"days_to_death\", \n",
    "        event = \"status\", \n",
    "        variables = c(\"FPKM\"),\n",
    "        minprop=minprop)\n",
    "    opt_categories <- surv_categorize(x = opt_cutoff)\n",
    "    opt_fit <- surv_fit(formula = Surv(days_to_death, status) ~ FPKM, data = opt_categories)\n",
    "    \n",
    "    # Get p-values\n",
    "    val_opt <- surv_pvalue(opt_fit)$pval\n",
    "\n",
    "    # Print stats\n",
    "    print(paste(\"Optimized cutoff:\", opt_cutoff$cutpoint$cutpoint))\n",
    "    print(paste(\"Best fit p-value:\", val_opt))\n",
    "    print(paste(\"high:\", sum(str_count(opt_categories$FPKM, \"high\"))))\n",
    "    print(paste(\"low:\", sum(str_count(opt_categories$FPKM, \"low\"))))\n",
    "\n",
    "    # Cox Regression\n",
    "    res.cox <- coxph(Surv(days_to_death, status) ~ FPKM, data=opt_categories)\n",
    "    print(summary(res.cox))\n",
    " \n",
    "    best_value = list(opt_fit, opt_cutoff, opt_cutoff$cutpoint$cutpoint, opt_categories, val_opt)\n",
    "    names(best_value) = list(\"model\", \"cutoff_obj\", \"cutoff\", \"categories\", \"p_val\")\n",
    "    return (best_value)\n",
    "}\n",
    "\n",
    "use_cutoff <- function(expression, clinical, gene, cutoff, title=NULL, stage=\"All\") {\n",
    "    if (is.null(title)) {\n",
    "        title = gene\n",
    "    }\n",
    "    print(paste(stage, \":::\", title))\n",
    "    \n",
    "    data_gene <- expression[expression$Gene == gene,]\n",
    "    # Merged mixed data tables\n",
    "    merged_data_gene <- merge(\n",
    "      data_gene,\n",
    "      clinical,\n",
    "      by.x = \"Sample\",\n",
    "      by.y = \"case_submitter_id\")\n",
    "\n",
    "    merged_data_gene$gene_status <- ifelse(merged_data_gene$FPKM > cutoff, \"high\", \"low\")\n",
    "    opt_fit <- surv_fit(Surv(days_to_death, status) ~ gene_status, data=merged_data_gene)\n",
    "\n",
    "    # Get p-values\n",
    "    val_opt <- surv_pvalue(opt_fit)$pval\n",
    "\n",
    "    # Print stats\n",
    "    print(paste(\"Used cutoff:\", cutoff))\n",
    "    print(paste(\"Used p-value:\", val_opt))\n",
    "    print(paste(\"high:\", sum(str_count(merged_data_gene$gene_status, \"high\"))))\n",
    "    print(paste(\"low:\", sum(str_count(merged_data_gene$gene_status, \"low\"))))\n",
    "    \n",
    "    res.cox <- coxph(Surv(days_to_death, status) ~ gene_status, data=merged_data_gene)\n",
    "    print(summary(res.cox))\n",
    "    \n",
    "    best_value = list(opt_fit, val_opt)\n",
    "    names(best_value) = list(\"model\", \"p_val\")\n",
    "    return (best_value)\n",
    "}"
   ]
  },
  {
   "cell_type": "markdown",
   "id": "3da3db73",
   "metadata": {},
   "source": [
    "<a id=\"read\"><h3>Read gene expression data and format</h3></a>"
   ]
  },
  {
   "cell_type": "code",
   "execution_count": 7,
   "id": "dd248773",
   "metadata": {
    "tags": []
   },
   "outputs": [
    {
     "data": {
      "text/html": [
       "<style>\n",
       ".list-inline {list-style: none; margin:0; padding: 0}\n",
       ".list-inline>li {display: inline-block}\n",
       ".list-inline>li:not(:last-child)::after {content: \"\\00b7\"; padding: 0 .5ex}\n",
       "</style>\n",
       "<ol class=list-inline><li>9728500</li><li>4</li></ol>\n"
      ],
      "text/latex": [
       "\\begin{enumerate*}\n",
       "\\item 9728500\n",
       "\\item 4\n",
       "\\end{enumerate*}\n"
      ],
      "text/markdown": [
       "1. 9728500\n",
       "2. 4\n",
       "\n",
       "\n"
      ],
      "text/plain": [
       "[1] 9728500       4"
      ]
     },
     "metadata": {},
     "output_type": "display_data"
    }
   ],
   "source": [
    "rpkm_data <- read.csv(\n",
    "    file = 'rna_cancer_sample.tsv', \n",
    "    sep=\"\\t\")\n",
    "\n",
    "# Extract LUAD data\n",
    "rpkm_data <- rpkm_data[rpkm_data$Cancer == 'LUAD',]\n",
    "\n",
    "# Clean up Sample IDs\n",
    "rpkm_data$Sample <- sapply(strsplit(rpkm_data$Sample, \"-01A\"), \"[\", 1)\n",
    "gene_list <- unique(rpkm_data$Gene)\n",
    "rpkm_data$FPKM <- as.numeric(rpkm_data$FPKM)\n",
    "\n",
    "dim(rpkm_data)"
   ]
  },
  {
   "cell_type": "markdown",
   "id": "8d0ebd5e",
   "metadata": {},
   "source": [
    "<a id=\"censor\"><h3>Read clinical data and format/censor</h3></a> "
   ]
  },
  {
   "cell_type": "code",
   "execution_count": 8,
   "id": "6ee45a5e",
   "metadata": {},
   "outputs": [
    {
     "name": "stderr",
     "output_type": "stream",
     "text": [
      "Warning message in censor_df(clinical_data):\n",
      "\"NAs introduced by coercion\"\n"
     ]
    },
    {
     "data": {
      "text/html": [
       "<style>\n",
       ".list-inline {list-style: none; margin:0; padding: 0}\n",
       ".list-inline>li {display: inline-block}\n",
       ".list-inline>li:not(:last-child)::after {content: \"\\00b7\"; padding: 0 .5ex}\n",
       "</style>\n",
       "<ol class=list-inline><li>1044</li><li>155</li></ol>\n"
      ],
      "text/latex": [
       "\\begin{enumerate*}\n",
       "\\item 1044\n",
       "\\item 155\n",
       "\\end{enumerate*}\n"
      ],
      "text/markdown": [
       "1. 1044\n",
       "2. 155\n",
       "\n",
       "\n"
      ],
      "text/plain": [
       "[1] 1044  155"
      ]
     },
     "metadata": {},
     "output_type": "display_data"
    },
    {
     "data": {
      "text/html": [
       "<style>\n",
       ".list-inline {list-style: none; margin:0; padding: 0}\n",
       ".list-inline>li {display: inline-block}\n",
       ".list-inline>li:not(:last-child)::after {content: \"\\00b7\"; padding: 0 .5ex}\n",
       "</style>\n",
       "<ol class=list-inline><li>513</li><li>5</li></ol>\n"
      ],
      "text/latex": [
       "\\begin{enumerate*}\n",
       "\\item 513\n",
       "\\item 5\n",
       "\\end{enumerate*}\n"
      ],
      "text/markdown": [
       "1. 513\n",
       "2. 5\n",
       "\n",
       "\n"
      ],
      "text/plain": [
       "[1] 513   5"
      ]
     },
     "metadata": {},
     "output_type": "display_data"
    }
   ],
   "source": [
    "clinical_data <- read.csv(\n",
    "    file = \"clinical.tsv\", \n",
    "    sep=\"\\t\")\n",
    "\n",
    "clinical_data <- censor_df(\n",
    "    clinical_data)\n",
    "dim(clinical_data)\n",
    "\n",
    "clinical_data <- clean_df(\n",
    "    clinical_data)\n",
    "dim(clinical_data)\n",
    "\n",
    "clinical_data <- parse_stages(\n",
    "    clinical_data)"
   ]
  },
  {
   "cell_type": "markdown",
   "id": "2cd64aa1",
   "metadata": {},
   "source": [
    "<a id=\"summary\"><h3>Data summaries</h3></a>"
   ]
  },
  {
   "cell_type": "code",
   "execution_count": 9,
   "id": "9dd43f5a-3464-4faa-9479-302d7d605cf7",
   "metadata": {},
   "outputs": [
    {
     "data": {
      "text/html": [
       "<strong>png:</strong> 2"
      ],
      "text/latex": [
       "\\textbf{png:} 2"
      ],
      "text/markdown": [
       "**png:** 2"
      ],
      "text/plain": [
       "png \n",
       "  2 "
      ]
     },
     "metadata": {},
     "output_type": "display_data"
    }
   ],
   "source": [
    "# plot day distribtions for groups\n",
    "plot_day_dist(\n",
    "    clinical_data$all,\n",
    "    export=\"patient_distribution.pdf\")"
   ]
  },
  {
   "cell_type": "code",
   "execution_count": 10,
   "id": "674117ba-d3be-4c1e-b22b-94d49311a2b1",
   "metadata": {},
   "outputs": [
    {
     "name": "stdout",
     "output_type": "stream",
     "text": [
      "[1] \"SMS gene expression summary\"\n",
      "   Min. 1st Qu.  Median    Mean 3rd Qu.    Max. \n",
      "  11.46   24.99   34.25   39.28   46.05  166.50 \n"
     ]
    },
    {
     "data": {
      "text/html": [
       "<strong>png:</strong> 2"
      ],
      "text/latex": [
       "\\textbf{png:} 2"
      ],
      "text/markdown": [
       "**png:** 2"
      ],
      "text/plain": [
       "png \n",
       "  2 "
      ]
     },
     "metadata": {},
     "output_type": "display_data"
    }
   ],
   "source": [
    "plot_gene_summary(\n",
    "    rpkm_data, \n",
    "    \"ENSG00000102172\", \n",
    "    \"SMS\",\n",
    "    export=\"gene_summary_sms.pdf\")"
   ]
  },
  {
   "cell_type": "code",
   "execution_count": 11,
   "id": "6de90800",
   "metadata": {},
   "outputs": [
    {
     "name": "stdout",
     "output_type": "stream",
     "text": [
      "[1] \"GLYCTK gene expression summary\"\n",
      "   Min. 1st Qu.  Median    Mean 3rd Qu.    Max. \n",
      " 0.1141  0.9718  1.3831  1.9098  2.0368 21.6683 \n"
     ]
    },
    {
     "data": {
      "text/html": [
       "<strong>png:</strong> 2"
      ],
      "text/latex": [
       "\\textbf{png:} 2"
      ],
      "text/markdown": [
       "**png:** 2"
      ],
      "text/plain": [
       "png \n",
       "  2 "
      ]
     },
     "metadata": {},
     "output_type": "display_data"
    }
   ],
   "source": [
    "plot_gene_summary(\n",
    "    rpkm_data, \n",
    "    \"ENSG00000168237\", \n",
    "    \"GLYCTK\",\n",
    "    export=\"gene_summary_glyctk.pdf\")"
   ]
  },
  {
   "cell_type": "code",
   "execution_count": 12,
   "id": "c5b7fb69",
   "metadata": {},
   "outputs": [],
   "source": [
    "# Plot both in same plotting space"
   ]
  },
  {
   "cell_type": "code",
   "execution_count": 13,
   "id": "9fc38ac1",
   "metadata": {},
   "outputs": [
    {
     "data": {
      "text/html": [
       "<strong>png:</strong> 2"
      ],
      "text/latex": [
       "\\textbf{png:} 2"
      ],
      "text/markdown": [
       "**png:** 2"
      ],
      "text/plain": [
       "png \n",
       "  2 "
      ]
     },
     "metadata": {},
     "output_type": "display_data"
    }
   ],
   "source": [
    "pdf(\"gene_summary_both.pdf\", height=8, width=10)\n",
    "\n",
    "# initialize plotting space \n",
    "par(mfrow=c(1,2), pin=c(3,3))\n",
    "\n",
    "x1 <- rpkm_data[rpkm_data$Gene == \"ENSG00000102172\", ]$FPKM\n",
    "h1 <- hist(x1, breaks=100, col=\"grey\", xlab=\"FPKM\", main=\"SMS\")\n",
    "xfit1<-seq(min(x1),max(x1),length=40)\n",
    "yfit1<-dnorm(xfit1,mean=mean(x1),sd=sd(x1))\n",
    "yfit1 <- yfit1*diff(h1$mids[1:2])*length(x1)\n",
    "lines(xfit1, yfit1, col=\"blue\", lwd=2)\n",
    "\n",
    "x2 <- rpkm_data[rpkm_data$Gene == \"ENSG00000168237\", ]$FPKM\n",
    "h2 <- hist(x2, breaks=100, col=\"grey\", xlab=\"FPKM\", main=\"GLYCTK\")\n",
    "xfit2<-seq(min(x2),max(x2),length=40)\n",
    "yfit2<-dnorm(xfit2,mean=mean(x2),sd=sd(x2))\n",
    "yfit2 <- yfit2*diff(h2$mids[1:2])*length(x2)\n",
    "lines(xfit2, yfit2, col=\"blue\", lwd=2)\n",
    "\n",
    "dev.off()"
   ]
  },
  {
   "cell_type": "code",
   "execution_count": null,
   "id": "b017dc66",
   "metadata": {},
   "outputs": [],
   "source": []
  },
  {
   "cell_type": "code",
   "execution_count": null,
   "id": "cadf14f7",
   "metadata": {},
   "outputs": [],
   "source": []
  },
  {
   "cell_type": "markdown",
   "id": "ef143c63",
   "metadata": {},
   "source": [
    "### ========================================================================================="
   ]
  },
  {
   "cell_type": "markdown",
   "id": "5c446f0b-6113-45d9-909d-593e6ea5e5cc",
   "metadata": {},
   "source": [
    "<a id=\"sms\"><h3>SMS (ENSG00000102172)</h3></a>"
   ]
  },
  {
   "cell_type": "markdown",
   "id": "484be22b-d625-4892-ae35-1e556852fdcf",
   "metadata": {},
   "source": [
    "#### All stages"
   ]
  },
  {
   "cell_type": "code",
   "execution_count": 14,
   "id": "49647d15",
   "metadata": {},
   "outputs": [
    {
     "name": "stdout",
     "output_type": "stream",
     "text": [
      "[1] \"SMS\"\n"
     ]
    },
    {
     "data": {
      "image/png": "[encoded data removed]",
      "text/plain": [
       "plot without title"
      ]
     },
     "metadata": {
      "image/png": {
       "height": 420,
       "width": 420
      }
     },
     "output_type": "display_data"
    }
   ],
   "source": [
    "plot_scatter(\n",
    "    rpkm_data, \n",
    "    clinical_data$all, \n",
    "    \"ENSG00000102172\", \n",
    "    \"SMS\")"
   ]
  },
  {
   "cell_type": "code",
   "execution_count": 15,
   "id": "d952ebd8",
   "metadata": {},
   "outputs": [
    {
     "name": "stdout",
     "output_type": "stream",
     "text": [
      "[1] \"All ::: SMS\"\n",
      "[1] \"Optimized cutoff: 49.5413\"\n",
      "[1] \"Best fit p-value: 2.92888467053861e-06\"\n",
      "[1] \"high: 105\"\n",
      "[1] \"low: 382\"\n",
      "Call:\n",
      "coxph(formula = Surv(days_to_death, status) ~ FPKM, data = opt_categories)\n",
      "\n",
      "  n= 487, number of events= 177 \n",
      "\n",
      "           coef exp(coef) se(coef)      z Pr(>|z|)    \n",
      "FPKMlow -0.7461    0.4742   0.1632 -4.571 4.85e-06 ***\n",
      "---\n",
      "Signif. codes:  0 '***' 0.001 '**' 0.01 '*' 0.05 '.' 0.1 ' ' 1\n",
      "\n",
      "        exp(coef) exp(-coef) lower .95 upper .95\n",
      "FPKMlow    0.4742      2.109    0.3444     0.653\n",
      "\n",
      "Concordance= 0.567  (se = 0.019 )\n",
      "Likelihood ratio test= 18.88  on 1 df,   p=1e-05\n",
      "Wald test            = 20.89  on 1 df,   p=5e-06\n",
      "Score (logrank) test = 21.87  on 1 df,   p=3e-06\n",
      "\n"
     ]
    }
   ],
   "source": [
    "best_values_sms_all <- get_best_cutoff(\n",
    "    expression=rpkm_data, \n",
    "    clinical=clinical_data$all, \n",
    "    gene=\"ENSG00000102172\", \n",
    "    title=\"SMS\", \n",
    "    stage=\"All\")"
   ]
  },
  {
   "cell_type": "code",
   "execution_count": 16,
   "id": "0572ae84",
   "metadata": {},
   "outputs": [
    {
     "data": {
      "text/html": [
       "<strong>png:</strong> 2"
      ],
      "text/latex": [
       "\\textbf{png:} 2"
      ],
      "text/markdown": [
       "**png:** 2"
      ],
      "text/plain": [
       "png \n",
       "  2 "
      ]
     },
     "metadata": {},
     "output_type": "display_data"
    }
   ],
   "source": [
    "pdf(\"stat_dist_sms_all.pdf\")\n",
    "plot(\n",
    "    best_values_sms_all$cutoff_obj, \n",
    "    \"FPKM\", \n",
    "    palette = \"npg\", \n",
    "    bins = 50)$FPKM\n",
    "dev.off()"
   ]
  },
  {
   "cell_type": "code",
   "execution_count": 17,
   "id": "f86fcf95",
   "metadata": {},
   "outputs": [
    {
     "data": {
      "text/html": [
       "<strong>png:</strong> 2"
      ],
      "text/latex": [
       "\\textbf{png:} 2"
      ],
      "text/markdown": [
       "**png:** 2"
      ],
      "text/plain": [
       "png \n",
       "  2 "
      ]
     },
     "metadata": {},
     "output_type": "display_data"
    }
   ],
   "source": [
    "model <- best_values_sms_all$model\n",
    "p_val <- best_values_sms_all$p_val\n",
    "dig_round=7\n",
    "p_pos=c(6000,1)\n",
    "\n",
    "pdf(\"km_opt_sms_all.pdf\", onefile=FALSE)\n",
    "ggsurvplot(\n",
    "    model,\n",
    "    pval=round(p_val, digits = dig_round),\n",
    "    risk.table = TRUE,\n",
    "    conf.int=TRUE,\n",
    "    conf.int.style=\"ribbon\",\n",
    "    conf.int.alpha=0.2,\n",
    "    pval.method=TRUE,\n",
    "    pval.size=7,\n",
    "    pval.coord=p_pos,\n",
    "    surv.median.line=\"hv\",\n",
    "    break.time.by=1826.25,\n",
    "    xscale=\"d_y\",\n",
    "    xlab=\"time (years)\",\n",
    "    palette=c(\"dodgerblue2\", \"orchid2\"),\n",
    "    risk.table.height=.25)\n",
    "dev.off()"
   ]
  },
  {
   "cell_type": "markdown",
   "id": "3b2dc282-e1be-4d5c-9d09-cafeb346db0a",
   "metadata": {},
   "source": [
    "#### Early stages"
   ]
  },
  {
   "cell_type": "code",
   "execution_count": 18,
   "id": "b95bc7d4",
   "metadata": {},
   "outputs": [
    {
     "name": "stdout",
     "output_type": "stream",
     "text": [
      "[1] \"SMS\"\n"
     ]
    },
    {
     "data": {
      "image/png": "[encoded data removed]",
      "text/plain": [
       "plot without title"
      ]
     },
     "metadata": {
      "image/png": {
       "height": 420,
       "width": 420
      }
     },
     "output_type": "display_data"
    }
   ],
   "source": [
    "plot_scatter(\n",
    "    rpkm_data, \n",
    "    clinical_data$early, \n",
    "    \"ENSG00000102172\", \n",
    "    \"SMS\")"
   ]
  },
  {
   "cell_type": "code",
   "execution_count": 19,
   "id": "ef9c3bed-a919-487d-aa49-d6edf04a6bc1",
   "metadata": {
    "tags": []
   },
   "outputs": [
    {
     "name": "stdout",
     "output_type": "stream",
     "text": [
      "[1] \"Early ::: SMS\"\n",
      "[1] \"Used cutoff: 49.5413\"\n",
      "[1] \"Used p-value: 0.00021161907604961\"\n",
      "[1] \"high: 51\"\n",
      "[1] \"low: 213\"\n",
      "Call:\n",
      "coxph(formula = Surv(days_to_death, status) ~ gene_status, data = merged_data_gene)\n",
      "\n",
      "  n= 264, number of events= 63 \n",
      "\n",
      "                  coef exp(coef) se(coef)      z Pr(>|z|)    \n",
      "gene_statuslow -0.9707    0.3788   0.2722 -3.566 0.000362 ***\n",
      "---\n",
      "Signif. codes:  0 '***' 0.001 '**' 0.01 '*' 0.05 '.' 0.1 ' ' 1\n",
      "\n",
      "               exp(coef) exp(-coef) lower .95 upper .95\n",
      "gene_statuslow    0.3788       2.64    0.2222    0.6459\n",
      "\n",
      "Concordance= 0.585  (se = 0.034 )\n",
      "Likelihood ratio test= 11.26  on 1 df,   p=8e-04\n",
      "Wald test            = 12.72  on 1 df,   p=4e-04\n",
      "Score (logrank) test = 13.73  on 1 df,   p=2e-04\n",
      "\n"
     ]
    }
   ],
   "source": [
    "use_values_early <- use_cutoff(\n",
    "    rpkm_data, \n",
    "    clinical_data$early, \n",
    "    \"ENSG00000102172\", \n",
    "     best_values_sms_all$cutoff, \n",
    "    title=\"SMS\", \n",
    "    stage=\"Early\")"
   ]
  },
  {
   "cell_type": "code",
   "execution_count": 20,
   "id": "78332705",
   "metadata": {},
   "outputs": [
    {
     "data": {
      "image/png": "[encoded data removed]",
      "text/plain": [
       "plot without title"
      ]
     },
     "metadata": {
      "image/png": {
       "height": 420,
       "width": 420
      }
     },
     "output_type": "display_data"
    }
   ],
   "source": [
    "model <- use_values_early$model\n",
    "p_val <- use_values_early$p_val\n",
    "dig_round=7\n",
    "p_pos=c(6000,1)\n",
    "\n",
    "#pdf()\n",
    "ggsurvplot(\n",
    "    model,\n",
    "    pval=round(p_val, digits = dig_round),\n",
    "    risk.table = TRUE,\n",
    "    conf.int=TRUE,\n",
    "    conf.int.style=\"ribbon\",\n",
    "    conf.int.alpha=0.2,\n",
    "    pval.method=TRUE,\n",
    "    pval.size=7,\n",
    "    pval.coord=p_pos,\n",
    "    surv.median.line=\"hv\",\n",
    "    break.time.by=1826.25,\n",
    "    xscale=\"d_y\",\n",
    "    xlab=\"time (years)\",\n",
    "    palette=c(\"dodgerblue2\", \"orchid2\"),\n",
    "    risk.table.height=.25)\n",
    "#dev.off()"
   ]
  },
  {
   "cell_type": "code",
   "execution_count": null,
   "id": "08d78c0e",
   "metadata": {},
   "outputs": [],
   "source": []
  },
  {
   "cell_type": "code",
   "execution_count": 21,
   "id": "a1e49f80",
   "metadata": {},
   "outputs": [
    {
     "name": "stdout",
     "output_type": "stream",
     "text": [
      "[1] \"early ::: SMS\"\n",
      "[1] \"Optimized cutoff: 48.239\"\n",
      "[1] \"Best fit p-value: 0.000365689639380748\"\n",
      "[1] \"high: 55\"\n",
      "[1] \"low: 209\"\n",
      "Call:\n",
      "coxph(formula = Surv(days_to_death, status) ~ FPKM, data = opt_categories)\n",
      "\n",
      "  n= 264, number of events= 63 \n",
      "\n",
      "           coef exp(coef) se(coef)      z Pr(>|z|)    \n",
      "FPKMlow -0.9069    0.4038   0.2631 -3.447 0.000567 ***\n",
      "---\n",
      "Signif. codes:  0 '***' 0.001 '**' 0.01 '*' 0.05 '.' 0.1 ' ' 1\n",
      "\n",
      "        exp(coef) exp(-coef) lower .95 upper .95\n",
      "FPKMlow    0.4038      2.477    0.2411    0.6762\n",
      "\n",
      "Concordance= 0.58  (se = 0.034 )\n",
      "Likelihood ratio test= 10.7  on 1 df,   p=0.001\n",
      "Wald test            = 11.88  on 1 df,   p=6e-04\n",
      "Score (logrank) test = 12.7  on 1 df,   p=4e-04\n",
      "\n"
     ]
    }
   ],
   "source": [
    "best_values_sms_early <- get_best_cutoff(\n",
    "    expression=rpkm_data, \n",
    "    clinical=clinical_data$early, \n",
    "    gene=\"ENSG00000102172\", \n",
    "    title=\"SMS\", \n",
    "    stage=\"early\")"
   ]
  },
  {
   "cell_type": "code",
   "execution_count": 22,
   "id": "5b0606b6",
   "metadata": {},
   "outputs": [
    {
     "data": {
      "text/html": [
       "<strong>png:</strong> 2"
      ],
      "text/latex": [
       "\\textbf{png:} 2"
      ],
      "text/markdown": [
       "**png:** 2"
      ],
      "text/plain": [
       "png \n",
       "  2 "
      ]
     },
     "metadata": {},
     "output_type": "display_data"
    }
   ],
   "source": [
    "pdf(\"stat_dist_sms_early.pdf\")\n",
    "plot(\n",
    "    best_values_sms_early$cutoff_obj, \n",
    "    \"FPKM\", \n",
    "    palette = \"npg\", \n",
    "    bins = 50)$FPKM\n",
    "dev.off()"
   ]
  },
  {
   "cell_type": "code",
   "execution_count": 23,
   "id": "969b283e",
   "metadata": {},
   "outputs": [
    {
     "data": {
      "text/html": [
       "<strong>png:</strong> 2"
      ],
      "text/latex": [
       "\\textbf{png:} 2"
      ],
      "text/markdown": [
       "**png:** 2"
      ],
      "text/plain": [
       "png \n",
       "  2 "
      ]
     },
     "metadata": {},
     "output_type": "display_data"
    }
   ],
   "source": [
    "model <- best_values_sms_early$model\n",
    "p_val <- best_values_sms_early$p_val\n",
    "dig_round=7\n",
    "p_pos=c(6000,1)\n",
    "\n",
    "pdf(\"km_opt_sms_early.pdf\", onefile=FALSE)\n",
    "ggsurvplot(\n",
    "    model,\n",
    "    pval=round(p_val, digits = dig_round),\n",
    "    risk.table = TRUE,\n",
    "    conf.int=TRUE,\n",
    "    conf.int.style=\"ribbon\",\n",
    "    conf.int.alpha=0.2,\n",
    "    pval.method=TRUE,\n",
    "    pval.size=7,\n",
    "    pval.coord=p_pos,\n",
    "    surv.median.line=\"hv\",\n",
    "    break.time.by=1826.25,\n",
    "    xscale=\"d_y\",\n",
    "    xlab=\"time (years)\",\n",
    "    palette=c(\"dodgerblue2\", \"orchid2\"),\n",
    "    risk.table.height=.25)\n",
    "dev.off()"
   ]
  },
  {
   "cell_type": "code",
   "execution_count": null,
   "id": "75913af9",
   "metadata": {},
   "outputs": [],
   "source": []
  },
  {
   "cell_type": "markdown",
   "id": "8d6c2b8c-684a-408f-8726-faf51b3de287",
   "metadata": {},
   "source": [
    "#### Late stages"
   ]
  },
  {
   "cell_type": "code",
   "execution_count": 24,
   "id": "1bc19e61",
   "metadata": {},
   "outputs": [
    {
     "name": "stdout",
     "output_type": "stream",
     "text": [
      "[1] \"SMS\"\n"
     ]
    },
    {
     "data": {
      "image/png": "[encoded data removed]",
      "text/plain": [
       "plot without title"
      ]
     },
     "metadata": {
      "image/png": {
       "height": 420,
       "width": 420
      }
     },
     "output_type": "display_data"
    }
   ],
   "source": [
    "plot_scatter(\n",
    "    rpkm_data, \n",
    "    clinical_data$late, \n",
    "    \"ENSG00000102172\", \n",
    "    \"SMS\")"
   ]
  },
  {
   "cell_type": "code",
   "execution_count": 25,
   "id": "bf67e1b9-759b-434f-a9e9-134f93ad0135",
   "metadata": {
    "tags": []
   },
   "outputs": [
    {
     "name": "stdout",
     "output_type": "stream",
     "text": [
      "[1] \"Late ::: SMS\"\n",
      "[1] \"Used cutoff: 49.5413\"\n",
      "[1] \"Used p-value: 0.00312343789508907\"\n",
      "[1] \"high: 54\"\n",
      "[1] \"low: 169\"\n",
      "Call:\n",
      "coxph(formula = Surv(days_to_death, status) ~ gene_status, data = merged_data_gene)\n",
      "\n",
      "  n= 223, number of events= 114 \n",
      "\n",
      "                  coef exp(coef) se(coef)      z Pr(>|z|)   \n",
      "gene_statuslow -0.5984    0.5497   0.2055 -2.911   0.0036 **\n",
      "---\n",
      "Signif. codes:  0 '***' 0.001 '**' 0.01 '*' 0.05 '.' 0.1 ' ' 1\n",
      "\n",
      "               exp(coef) exp(-coef) lower .95 upper .95\n",
      "gene_statuslow    0.5497      1.819    0.3674    0.8224\n",
      "\n",
      "Concordance= 0.558  (se = 0.024 )\n",
      "Likelihood ratio test= 7.82  on 1 df,   p=0.005\n",
      "Wald test            = 8.48  on 1 df,   p=0.004\n",
      "Score (logrank) test = 8.73  on 1 df,   p=0.003\n",
      "\n"
     ]
    }
   ],
   "source": [
    "use_values_late <- use_cutoff(\n",
    "    rpkm_data, \n",
    "    clinical_data$late, \n",
    "    \"ENSG00000102172\", \n",
    "     best_values_sms_all$cutoff, \n",
    "    title=\"SMS\", \n",
    "    stage=\"Late\")"
   ]
  },
  {
   "cell_type": "code",
   "execution_count": 26,
   "id": "c49c60a3",
   "metadata": {},
   "outputs": [
    {
     "data": {
      "image/png": "[encoded data removed]",
      "text/plain": [
       "plot without title"
      ]
     },
     "metadata": {
      "image/png": {
       "height": 420,
       "width": 420
      }
     },
     "output_type": "display_data"
    }
   ],
   "source": [
    "model <- use_values_late$model\n",
    "p_val <- use_values_late$p_val\n",
    "dig_round=7\n",
    "p_pos=c(6000,1)\n",
    "\n",
    "#pdf()\n",
    "ggsurvplot(\n",
    "    model,\n",
    "    pval=round(p_val, digits = dig_round),\n",
    "    risk.table = TRUE,\n",
    "    conf.int=TRUE,\n",
    "    conf.int.style=\"ribbon\",\n",
    "    conf.int.alpha=0.2,\n",
    "    pval.method=TRUE,\n",
    "    pval.size=7,\n",
    "    pval.coord=p_pos,\n",
    "    surv.median.line=\"hv\",\n",
    "    break.time.by=1826.25,\n",
    "    xscale=\"d_y\",\n",
    "    xlab=\"time (years)\",\n",
    "    palette=c(\"dodgerblue2\", \"orchid2\"),\n",
    "    risk.table.height=.25)\n",
    "#dev.off()"
   ]
  },
  {
   "cell_type": "code",
   "execution_count": null,
   "id": "c2f0f718",
   "metadata": {},
   "outputs": [],
   "source": []
  },
  {
   "cell_type": "code",
   "execution_count": 27,
   "id": "ea2338aa",
   "metadata": {},
   "outputs": [
    {
     "name": "stdout",
     "output_type": "stream",
     "text": [
      "[1] \"late ::: SMS\"\n",
      "[1] \"Optimized cutoff: 24.971\"\n",
      "[1] \"Best fit p-value: 0.00360953569815356\"\n",
      "[1] \"high: 179\"\n",
      "[1] \"low: 44\"\n",
      "Call:\n",
      "coxph(formula = Surv(days_to_death, status) ~ FPKM, data = opt_categories)\n",
      "\n",
      "  n= 223, number of events= 114 \n",
      "\n",
      "           coef exp(coef) se(coef)      z Pr(>|z|)   \n",
      "FPKMlow -0.8382    0.4325   0.2964 -2.828  0.00469 **\n",
      "---\n",
      "Signif. codes:  0 '***' 0.001 '**' 0.01 '*' 0.05 '.' 0.1 ' ' 1\n",
      "\n",
      "        exp(coef) exp(-coef) lower .95 upper .95\n",
      "FPKMlow    0.4325      2.312    0.2419    0.7732\n",
      "\n",
      "Concordance= 0.549  (se = 0.021 )\n",
      "Likelihood ratio test= 9.85  on 1 df,   p=0.002\n",
      "Wald test            = 8  on 1 df,   p=0.005\n",
      "Score (logrank) test = 8.46  on 1 df,   p=0.004\n",
      "\n"
     ]
    }
   ],
   "source": [
    "best_values_sms_late <- get_best_cutoff(\n",
    "    expression=rpkm_data, \n",
    "    clinical=clinical_data$late, \n",
    "    gene=\"ENSG00000102172\", \n",
    "    title=\"SMS\", \n",
    "    stage=\"late\")"
   ]
  },
  {
   "cell_type": "code",
   "execution_count": 28,
   "id": "34710521",
   "metadata": {},
   "outputs": [
    {
     "name": "stderr",
     "output_type": "stream",
     "text": [
      "Warning message:\n",
      "\"Groups with fewer than two data points have been dropped.\"\n",
      "Warning message in max(ids, na.rm = TRUE):\n",
      "\"no non-missing arguments to max; returning -Inf\"\n"
     ]
    },
    {
     "data": {
      "text/html": [
       "<strong>png:</strong> 2"
      ],
      "text/latex": [
       "\\textbf{png:} 2"
      ],
      "text/markdown": [
       "**png:** 2"
      ],
      "text/plain": [
       "png \n",
       "  2 "
      ]
     },
     "metadata": {},
     "output_type": "display_data"
    }
   ],
   "source": [
    "pdf(\"stat_dist_sms_late.pdf\")\n",
    "plot(\n",
    "    best_values_sms_late$cutoff_obj, \n",
    "    \"FPKM\", \n",
    "    palette = \"npg\", \n",
    "    bins = 50)$FPKM\n",
    "dev.off()"
   ]
  },
  {
   "cell_type": "code",
   "execution_count": 29,
   "id": "459a7888",
   "metadata": {},
   "outputs": [
    {
     "data": {
      "text/html": [
       "<strong>png:</strong> 2"
      ],
      "text/latex": [
       "\\textbf{png:} 2"
      ],
      "text/markdown": [
       "**png:** 2"
      ],
      "text/plain": [
       "png \n",
       "  2 "
      ]
     },
     "metadata": {},
     "output_type": "display_data"
    }
   ],
   "source": [
    "model <- best_values_sms_late$model\n",
    "p_val <- best_values_sms_late$p_val\n",
    "dig_round=7\n",
    "p_pos=c(6000,1)\n",
    "\n",
    "pdf(\"km_opt_sms_late.pdf\", onefile=FALSE)\n",
    "ggsurvplot(\n",
    "    model,\n",
    "    pval=round(p_val, digits = dig_round),\n",
    "    risk.table = TRUE,\n",
    "    conf.int=TRUE,\n",
    "    conf.int.style=\"ribbon\",\n",
    "    conf.int.alpha=0.2,\n",
    "    pval.method=TRUE,\n",
    "    pval.size=7,\n",
    "    pval.coord=p_pos,\n",
    "    surv.median.line=\"hv\",\n",
    "    break.time.by=1826.25,\n",
    "    xscale=\"d_y\",\n",
    "    xlab=\"time (years)\",\n",
    "    palette=c(\"dodgerblue2\", \"orchid2\"),\n",
    "    risk.table.height=.25)\n",
    "dev.off()"
   ]
  },
  {
   "cell_type": "code",
   "execution_count": null,
   "id": "3a2b8a44",
   "metadata": {},
   "outputs": [],
   "source": []
  },
  {
   "cell_type": "markdown",
   "id": "42220e35",
   "metadata": {},
   "source": [
    "### -----------------------------------------------------------------------------------------"
   ]
  },
  {
   "cell_type": "markdown",
   "id": "f9892672-0f7f-49d2-a513-d8b1126cbf4d",
   "metadata": {},
   "source": [
    "<a id=\"glyctk\"><h3>GLYCTK (ENSG00000168237)</h3></a>"
   ]
  },
  {
   "cell_type": "markdown",
   "id": "62b63eb9-bfda-4f55-947e-677eca13577f",
   "metadata": {},
   "source": [
    "#### All stages"
   ]
  },
  {
   "cell_type": "code",
   "execution_count": 30,
   "id": "099d87a6",
   "metadata": {},
   "outputs": [
    {
     "name": "stdout",
     "output_type": "stream",
     "text": [
      "[1] \"GLYCTK\"\n"
     ]
    },
    {
     "data": {
      "image/png": "[encoded data removed]",
      "text/plain": [
       "plot without title"
      ]
     },
     "metadata": {
      "image/png": {
       "height": 420,
       "width": 420
      }
     },
     "output_type": "display_data"
    }
   ],
   "source": [
    "plot_scatter(\n",
    "    rpkm_data, \n",
    "    clinical_data$all, \n",
    "    \"ENSG00000168237\", \n",
    "    \"GLYCTK\")"
   ]
  },
  {
   "cell_type": "code",
   "execution_count": 31,
   "id": "33dc752d-75ab-41c6-aa44-c2fe4d7587f1",
   "metadata": {
    "tags": []
   },
   "outputs": [
    {
     "name": "stdout",
     "output_type": "stream",
     "text": [
      "[1] \"All ::: GLYCTK\"\n",
      "[1] \"Optimized cutoff: 0.913\"\n",
      "[1] \"Best fit p-value: 0.0772322560260469\"\n",
      "[1] \"high: 383\"\n",
      "[1] \"low: 104\"\n",
      "Call:\n",
      "coxph(formula = Surv(days_to_death, status) ~ FPKM, data = opt_categories)\n",
      "\n",
      "  n= 487, number of events= 177 \n",
      "\n",
      "          coef exp(coef) se(coef)    z Pr(>|z|)  \n",
      "FPKMlow 0.2984    1.3478   0.1695 1.76   0.0784 .\n",
      "---\n",
      "Signif. codes:  0 '***' 0.001 '**' 0.01 '*' 0.05 '.' 0.1 ' ' 1\n",
      "\n",
      "        exp(coef) exp(-coef) lower .95 upper .95\n",
      "FPKMlow     1.348      0.742    0.9667     1.879\n",
      "\n",
      "Concordance= 0.524  (se = 0.019 )\n",
      "Likelihood ratio test= 2.96  on 1 df,   p=0.09\n",
      "Wald test            = 3.1  on 1 df,   p=0.08\n",
      "Score (logrank) test = 3.12  on 1 df,   p=0.08\n",
      "\n"
     ]
    }
   ],
   "source": [
    "best_values_glyctk_all <- get_best_cutoff(\n",
    "    rpkm_data, \n",
    "    clinical_data$all, \n",
    "    \"ENSG00000168237\", \n",
    "    title=\"GLYCTK\", \n",
    "    stage=\"All\")"
   ]
  },
  {
   "cell_type": "code",
   "execution_count": 32,
   "id": "64de8c63",
   "metadata": {},
   "outputs": [
    {
     "data": {
      "text/html": [
       "<strong>png:</strong> 2"
      ],
      "text/latex": [
       "\\textbf{png:} 2"
      ],
      "text/markdown": [
       "**png:** 2"
      ],
      "text/plain": [
       "png \n",
       "  2 "
      ]
     },
     "metadata": {},
     "output_type": "display_data"
    }
   ],
   "source": [
    "pdf(\"stat_dist_glyctk_all.pdf\")\n",
    "plot(\n",
    "    best_values_glyctk_all$cutoff_obj, \n",
    "    \"FPKM\", \n",
    "    palette = \"npg\", \n",
    "    bins = 50)$FPKM\n",
    "dev.off()"
   ]
  },
  {
   "cell_type": "code",
   "execution_count": 33,
   "id": "71f79617",
   "metadata": {},
   "outputs": [
    {
     "data": {
      "text/html": [
       "<strong>png:</strong> 2"
      ],
      "text/latex": [
       "\\textbf{png:} 2"
      ],
      "text/markdown": [
       "**png:** 2"
      ],
      "text/plain": [
       "png \n",
       "  2 "
      ]
     },
     "metadata": {},
     "output_type": "display_data"
    }
   ],
   "source": [
    "model <- best_values_glyctk_all$model\n",
    "p_val <- best_values_glyctk_all$p_val\n",
    "dig_round=7\n",
    "p_pos=c(6000,1)\n",
    "\n",
    "pdf(\"km_opt_glyctk_all.pdf\", onefile=FALSE)\n",
    "ggsurvplot(\n",
    "    model,\n",
    "    pval=round(p_val, digits = dig_round),\n",
    "    risk.table = TRUE,\n",
    "    conf.int=TRUE,\n",
    "    conf.int.style=\"ribbon\",\n",
    "    conf.int.alpha=0.2,\n",
    "    pval.method=TRUE,\n",
    "    pval.size=7,\n",
    "    pval.coord=p_pos,\n",
    "    surv.median.line=\"hv\",\n",
    "    break.time.by=1826.25,\n",
    "    xscale=\"d_y\",\n",
    "    xlab=\"time (years)\",\n",
    "    palette=c(\"dodgerblue2\", \"orchid2\"),\n",
    "    risk.table.height=.25)\n",
    "dev.off()"
   ]
  },
  {
   "cell_type": "markdown",
   "id": "584cb677-e44c-46ac-8889-45bd930f9706",
   "metadata": {},
   "source": [
    "#### Early stages"
   ]
  },
  {
   "cell_type": "code",
   "execution_count": 34,
   "id": "50417f57",
   "metadata": {},
   "outputs": [
    {
     "name": "stdout",
     "output_type": "stream",
     "text": [
      "[1] \"GLYCTK\"\n"
     ]
    },
    {
     "data": {
      "image/png": "[encoded data removed]",
      "text/plain": [
       "plot without title"
      ]
     },
     "metadata": {
      "image/png": {
       "height": 420,
       "width": 420
      }
     },
     "output_type": "display_data"
    }
   ],
   "source": [
    "plot_scatter(\n",
    "    rpkm_data, \n",
    "    clinical_data$early, \n",
    "    \"ENSG00000168237\", \n",
    "    \"GLYCTK\")"
   ]
  },
  {
   "cell_type": "code",
   "execution_count": 35,
   "id": "a8bd3cf9",
   "metadata": {},
   "outputs": [
    {
     "name": "stdout",
     "output_type": "stream",
     "text": [
      "[1] \"Early ::: GLYCTK\"\n"
     ]
    },
    {
     "name": "stderr",
     "output_type": "stream",
     "text": [
      "Warning message in .pvalue(fit, data = data, method = method, pval = pval, pval.coord = pval.coord, :\n",
      "\"There are no survival curves to be compared. \n",
      " This is a null model.\"\n"
     ]
    },
    {
     "name": "stdout",
     "output_type": "stream",
     "text": [
      "[1] \"Used cutoff: 0.913\"\n",
      "[1] \"Used p-value: NA\"\n",
      "[1] \"high: 264\"\n",
      "[1] \"low: 0\"\n"
     ]
    },
    {
     "ename": "ERROR",
     "evalue": "Error in `contrasts<-`(`*tmp*`, value = contr.funs[1 + isOF[nn]]): contrasts can be applied only to factors with 2 or more levels\n",
     "output_type": "error",
     "traceback": [
      "Error in `contrasts<-`(`*tmp*`, value = contr.funs[1 + isOF[nn]]): contrasts can be applied only to factors with 2 or more levels\nTraceback:\n",
      "1. use_cutoff(rpkm_data, clinical_data$early, \"ENSG00000102172\", \n .     best_values_glyctk_all$cutoff, title = \"GLYCTK\", stage = \"Early\")",
      "2. coxph(Surv(days_to_death, status) ~ gene_status, data = merged_data_gene)   # at line 70 of file <text>",
      "3. model.matrix(Terms, mf, contrasts.arg = contrast.arg)",
      "4. model.matrix.default(Terms, mf, contrasts.arg = contrast.arg)",
      "5. `contrasts<-`(`*tmp*`, value = contr.funs[1 + isOF[nn]])",
      "6. stop(\"contrasts can be applied only to factors with 2 or more levels\")"
     ]
    }
   ],
   "source": [
    "use_values_early <- use_cutoff(\n",
    "    rpkm_data, \n",
    "    clinical_data$early, \n",
    "    \"ENSG00000102172\", \n",
    "    best_values_glyctk_all$cutoff, \n",
    "    title=\"GLYCTK\", \n",
    "    stage=\"Early\")"
   ]
  },
  {
   "cell_type": "code",
   "execution_count": 36,
   "id": "344bd872",
   "metadata": {},
   "outputs": [
    {
     "name": "stdout",
     "output_type": "stream",
     "text": [
      "[1] \"Early ::: GLYCTK\"\n",
      "[1] \"Optimized cutoff: 0.9349\"\n",
      "[1] \"Best fit p-value: 0.0257739806350333\"\n",
      "[1] \"high: 212\"\n",
      "[1] \"low: 52\"\n",
      "Call:\n",
      "coxph(formula = Surv(days_to_death, status) ~ FPKM, data = opt_categories)\n",
      "\n",
      "  n= 264, number of events= 63 \n",
      "\n",
      "          coef exp(coef) se(coef)     z Pr(>|z|)  \n",
      "FPKMlow 0.6140    1.8478   0.2798 2.195   0.0282 *\n",
      "---\n",
      "Signif. codes:  0 '***' 0.001 '**' 0.01 '*' 0.05 '.' 0.1 ' ' 1\n",
      "\n",
      "        exp(coef) exp(-coef) lower .95 upper .95\n",
      "FPKMlow     1.848     0.5412     1.068     3.197\n",
      "\n",
      "Concordance= 0.526  (se = 0.029 )\n",
      "Likelihood ratio test= 4.44  on 1 df,   p=0.04\n",
      "Wald test            = 4.82  on 1 df,   p=0.03\n",
      "Score (logrank) test = 4.97  on 1 df,   p=0.03\n",
      "\n"
     ]
    }
   ],
   "source": [
    "best_values_glyctk_early <- get_best_cutoff(\n",
    "    rpkm_data, \n",
    "    clinical_data$early, \n",
    "    \"ENSG00000168237\", \n",
    "    title=\"GLYCTK\", \n",
    "    stage=\"Early\")"
   ]
  },
  {
   "cell_type": "code",
   "execution_count": 37,
   "id": "f1e2ec7e",
   "metadata": {},
   "outputs": [
    {
     "name": "stderr",
     "output_type": "stream",
     "text": [
      "Warning message:\n",
      "\"Groups with fewer than two data points have been dropped.\"\n",
      "Warning message in max(ids, na.rm = TRUE):\n",
      "\"no non-missing arguments to max; returning -Inf\"\n"
     ]
    },
    {
     "data": {
      "text/html": [
       "<strong>png:</strong> 2"
      ],
      "text/latex": [
       "\\textbf{png:} 2"
      ],
      "text/markdown": [
       "**png:** 2"
      ],
      "text/plain": [
       "png \n",
       "  2 "
      ]
     },
     "metadata": {},
     "output_type": "display_data"
    }
   ],
   "source": [
    "pdf(\"stat_dist_glyctk_early.pdf\")\n",
    "plot(\n",
    "    best_values_glyctk_early$cutoff_obj, \n",
    "    \"FPKM\", \n",
    "    palette = \"npg\", \n",
    "    bins = 50)$FPKM\n",
    "dev.off()"
   ]
  },
  {
   "cell_type": "code",
   "execution_count": 38,
   "id": "d19fd299",
   "metadata": {},
   "outputs": [
    {
     "data": {
      "text/html": [
       "<strong>png:</strong> 2"
      ],
      "text/latex": [
       "\\textbf{png:} 2"
      ],
      "text/markdown": [
       "**png:** 2"
      ],
      "text/plain": [
       "png \n",
       "  2 "
      ]
     },
     "metadata": {},
     "output_type": "display_data"
    }
   ],
   "source": [
    "model <- best_values_glyctk_early$model\n",
    "p_val <- best_values_glyctk_early$p_val\n",
    "dig_round=7\n",
    "p_pos=c(6000,1)\n",
    "\n",
    "pdf(\"km_opt_glyctk_early.pdf\", onefile=FALSE)\n",
    "ggsurvplot(\n",
    "    model,\n",
    "    pval=round(p_val, digits = dig_round),\n",
    "    risk.table = TRUE,\n",
    "    conf.int=TRUE,\n",
    "    conf.int.style=\"ribbon\",\n",
    "    conf.int.alpha=0.2,\n",
    "    pval.method=TRUE,\n",
    "    pval.size=7,\n",
    "    pval.coord=p_pos,\n",
    "    surv.median.line=\"hv\",\n",
    "    break.time.by=1826.25,\n",
    "    xscale=\"d_y\",\n",
    "    xlab=\"time (years)\",\n",
    "    palette=c(\"dodgerblue2\", \"orchid2\"),\n",
    "    risk.table.height=.25)\n",
    "dev.off()"
   ]
  },
  {
   "cell_type": "markdown",
   "id": "cf10c1f1-cae7-4628-9862-9876f6babea7",
   "metadata": {},
   "source": [
    "#### Late stages"
   ]
  },
  {
   "cell_type": "code",
   "execution_count": 39,
   "id": "b7097e32",
   "metadata": {},
   "outputs": [
    {
     "name": "stdout",
     "output_type": "stream",
     "text": [
      "[1] \"GLYCTK\"\n"
     ]
    },
    {
     "data": {
      "image/png": "[encoded data removed]",
      "text/plain": [
       "plot without title"
      ]
     },
     "metadata": {
      "image/png": {
       "height": 420,
       "width": 420
      }
     },
     "output_type": "display_data"
    }
   ],
   "source": [
    "plot_scatter(\n",
    "    rpkm_data, \n",
    "    clinical_data$late, \n",
    "    \"ENSG00000168237\", \n",
    "    \"GLYCTK\")"
   ]
  },
  {
   "cell_type": "code",
   "execution_count": 40,
   "id": "6441aef4",
   "metadata": {},
   "outputs": [
    {
     "name": "stdout",
     "output_type": "stream",
     "text": [
      "[1] \"Late ::: GLYCTK\"\n"
     ]
    },
    {
     "name": "stderr",
     "output_type": "stream",
     "text": [
      "Warning message in .pvalue(fit, data = data, method = method, pval = pval, pval.coord = pval.coord, :\n",
      "\"There are no survival curves to be compared. \n",
      " This is a null model.\"\n"
     ]
    },
    {
     "name": "stdout",
     "output_type": "stream",
     "text": [
      "[1] \"Used cutoff: 0.913\"\n",
      "[1] \"Used p-value: NA\"\n",
      "[1] \"high: 223\"\n",
      "[1] \"low: 0\"\n"
     ]
    },
    {
     "ename": "ERROR",
     "evalue": "Error in `contrasts<-`(`*tmp*`, value = contr.funs[1 + isOF[nn]]): contrasts can be applied only to factors with 2 or more levels\n",
     "output_type": "error",
     "traceback": [
      "Error in `contrasts<-`(`*tmp*`, value = contr.funs[1 + isOF[nn]]): contrasts can be applied only to factors with 2 or more levels\nTraceback:\n",
      "1. use_cutoff(rpkm_data, clinical_data$late, \"ENSG00000102172\", \n .     best_values_glyctk_all$cutoff, title = \"GLYCTK\", stage = \"Late\")",
      "2. coxph(Surv(days_to_death, status) ~ gene_status, data = merged_data_gene)   # at line 70 of file <text>",
      "3. model.matrix(Terms, mf, contrasts.arg = contrast.arg)",
      "4. model.matrix.default(Terms, mf, contrasts.arg = contrast.arg)",
      "5. `contrasts<-`(`*tmp*`, value = contr.funs[1 + isOF[nn]])",
      "6. stop(\"contrasts can be applied only to factors with 2 or more levels\")"
     ]
    }
   ],
   "source": [
    "use_values_late <- use_cutoff(\n",
    "    rpkm_data, \n",
    "    clinical_data$late, \n",
    "    \"ENSG00000102172\", \n",
    "    best_values_glyctk_all$cutoff, \n",
    "    title=\"GLYCTK\", \n",
    "    stage=\"Late\")"
   ]
  },
  {
   "cell_type": "code",
   "execution_count": null,
   "id": "17e2fc56",
   "metadata": {},
   "outputs": [],
   "source": [
    "best_values_glyctk_late <- get_best_cutoff(\n",
    "    rpkm_data, \n",
    "    clinical_data$late, \n",
    "    \"ENSG00000168237\", \n",
    "    title=\"GLYCTK\", \n",
    "    stage=\"late\")"
   ]
  },
  {
   "cell_type": "code",
   "execution_count": null,
   "id": "187d9857",
   "metadata": {},
   "outputs": [],
   "source": [
    "pdf(\"stat_dist_glyctk_late.pdf\")\n",
    "plot(\n",
    "    best_values_glyctk_late$cutoff_obj, \n",
    "    \"FPKM\", \n",
    "    palette = \"npg\", \n",
    "    bins = 50)$FPKM\n",
    "dev.off()"
   ]
  },
  {
   "cell_type": "code",
   "execution_count": null,
   "id": "cb38b933",
   "metadata": {},
   "outputs": [],
   "source": [
    "model <- best_values_glyctk_late$model\n",
    "p_val <- best_values_glyctk_late$p_val\n",
    "dig_round=7\n",
    "p_pos=c(6000,1)\n",
    "\n",
    "pdf(\"km_opt_glyctk_late.pdf\", onefile=FALSE)\n",
    "ggsurvplot(\n",
    "    model,\n",
    "    pval=round(p_val, digits = dig_round),\n",
    "    risk.table = TRUE,\n",
    "    conf.int=TRUE,\n",
    "    conf.int.style=\"ribbon\",\n",
    "    conf.int.alpha=0.2,\n",
    "    pval.method=TRUE,\n",
    "    pval.size=7,\n",
    "    pval.coord=p_pos,\n",
    "    surv.median.line=\"hv\",\n",
    "    break.time.by=1826.25,\n",
    "    xscale=\"d_y\",\n",
    "    xlab=\"time (years)\",\n",
    "    palette=c(\"dodgerblue2\", \"orchid2\"),\n",
    "    risk.table.height=.25)\n",
    "dev.off()"
   ]
  },
  {
   "cell_type": "code",
   "execution_count": null,
   "id": "9ae5af8f",
   "metadata": {},
   "outputs": [],
   "source": []
  },
  {
   "cell_type": "markdown",
   "id": "34373059",
   "metadata": {},
   "source": [
    "### ========================================================================================="
   ]
  },
  {
   "cell_type": "markdown",
   "id": "a5aa36c0",
   "metadata": {},
   "source": [
    "<a id=\"all\"><h3>Perform analysis on all genes</h3></a> "
   ]
  },
  {
   "cell_type": "markdown",
   "id": "801654b7-b73a-4818-b09e-d7ca7ec3d1fc",
   "metadata": {},
   "source": [
    "#### All stages"
   ]
  },
  {
   "cell_type": "code",
   "execution_count": 371,
   "id": "7785311c",
   "metadata": {
    "tags": []
   },
   "outputs": [],
   "source": [
    "#all_genes_all <- analyze_all_genes(\n",
    "#    rpkm_data, \n",
    "#    clinical_data$all, \n",
    "#    gene_list)"
   ]
  },
  {
   "cell_type": "markdown",
   "id": "ee6712f8-a24f-40b1-801d-a13dc7075cd1",
   "metadata": {},
   "source": [
    "#### Early stages"
   ]
  },
  {
   "cell_type": "code",
   "execution_count": 372,
   "id": "a788327e-11c7-4040-a963-f0a07f51a30c",
   "metadata": {
    "tags": []
   },
   "outputs": [],
   "source": [
    "#all_genes_early <- analyze_all_genes(\n",
    "#    rpkm_data, \n",
    "#    clinical_data$early, \n",
    "#    gene_list)"
   ]
  },
  {
   "cell_type": "markdown",
   "id": "e9011b5d-bf82-452d-81ef-45b9376fcf09",
   "metadata": {},
   "source": [
    "#### Late stages"
   ]
  },
  {
   "cell_type": "code",
   "execution_count": 373,
   "id": "78100329-1a1d-4eca-b8d0-8cf4f1c5fcc4",
   "metadata": {
    "tags": []
   },
   "outputs": [],
   "source": [
    "#all_genes_late <- analyze_all_genes(\n",
    "#    rpkm_data, \n",
    "#    clinical_data$late, \n",
    "#    gene_list)"
   ]
  },
  {
   "cell_type": "markdown",
   "id": "d0a449b6",
   "metadata": {},
   "source": [
    "#### Write data"
   ]
  },
  {
   "cell_type": "code",
   "execution_count": 374,
   "id": "c70c1d6e",
   "metadata": {},
   "outputs": [],
   "source": [
    "#write.table(all_genes_all$median, file = \"all_genes_all_median.tsv\", sep = \"\\t\")\n",
    "#write.table(all_genes_early$median, file = \"all_genes_early_median.tsv\", sep = \"\\t\")\n",
    "#write.table(all_genes_late$median, file = \"all_genes_late_median.tsv\", sep = \"\\t\")\n",
    "\n",
    "#write.table(all_genes_all$optimized, file = \"all_genes_all_optimized.tsv\", sep = \"\\t\")\n",
    "#write.table(all_genes_early$optimized, file = \"all_genes_early_optimized.tsv\", sep = \"\\t\")\n",
    "#write.table(all_genes_late$optimized, file = \"all_genes_late_optimized.tsv\", sep = \"\\t\")"
   ]
  },
  {
   "cell_type": "markdown",
   "id": "4ae64397",
   "metadata": {},
   "source": [
    "#### Read stored data"
   ]
  },
  {
   "cell_type": "code",
   "execution_count": 2,
   "id": "9926a11e",
   "metadata": {},
   "outputs": [],
   "source": [
    "median_file <- read.csv(file = 'all_genes_all_median.tsv', sep=\"\\t\")\n",
    "optimized_file <- read.csv(file = 'all_genes_all_optimized.tsv', sep=\"\\t\")\n",
    "\n",
    "median_pvals <- as.list(median_file)\n",
    "optimized_pvals <- as.list(optimized_file)\n",
    "\n",
    "all_genes_all = list(median_pvals, optimized_pvals)\n",
    "names(all_genes_all) <- c(\"median\", \"optimized\")"
   ]
  },
  {
   "cell_type": "code",
   "execution_count": 3,
   "id": "b43ad0e6",
   "metadata": {},
   "outputs": [],
   "source": [
    "median_file_early <- read.csv(file = 'all_genes_early_median.tsv', sep=\"\\t\")\n",
    "optimized_file_early <- read.csv(file = 'all_genes_early_optimized.tsv', sep=\"\\t\")\n",
    "\n",
    "median_pvals_early <- as.list(median_file_early)\n",
    "optimized_pvals_early <- as.list(optimized_file_early)\n",
    "\n",
    "all_genes_early = list(median_pvals_early, optimized_pvals_early)\n",
    "names(all_genes_early) <- c(\"median\", \"optimized\")"
   ]
  },
  {
   "cell_type": "code",
   "execution_count": 4,
   "id": "39fa0a1d",
   "metadata": {},
   "outputs": [],
   "source": [
    "median_file_late <- read.csv(file = 'all_genes_late_median.tsv', sep=\"\\t\")\n",
    "optimized_file_late <- read.csv(file = 'all_genes_late_optimized.tsv', sep=\"\\t\")\n",
    "\n",
    "median_pvals_late <- as.list(median_file_late)\n",
    "optimized_pvals_late <- as.list(optimized_file_late)\n",
    "\n",
    "all_genes_late = list(median_pvals_late, optimized_pvals_late)\n",
    "names(all_genes_late) <- c(\"median\", \"optimized\")"
   ]
  },
  {
   "cell_type": "code",
   "execution_count": null,
   "id": "651d3858",
   "metadata": {},
   "outputs": [],
   "source": []
  },
  {
   "cell_type": "markdown",
   "id": "9aed478a-489b-4ee9-a3c6-b1d338020aef",
   "metadata": {},
   "source": [
    "<a id=\"rank\"><h3>Rank order survival p-values</h3></a>"
   ]
  },
  {
   "cell_type": "code",
   "execution_count": 5,
   "id": "a2710a2d-2d3b-4bc2-a5ab-d46a8dcb4240",
   "metadata": {},
   "outputs": [],
   "source": [
    "# Get ranked percentile\n",
    "median_pvals_sorted <- all_genes_all$median[order(unlist(all_genes_all$median), decreasing=FALSE)]\n",
    "median_pvals_early_sorted <- all_genes_early$median[order(unlist(all_genes_early$median), decreasing=FALSE)]\n",
    "median_pvals_late_sorted <- all_genes_late$median[order(unlist(all_genes_late$median), decreasing=FALSE)]\n",
    "\n",
    "optimized_pvals_sorted <- all_genes_all$optimized[order(unlist(all_genes_all$optimized), decreasing=FALSE)]\n",
    "optimized_pvals_early_sorted <- all_genes_early$optimized[order(unlist(all_genes_early$optimized), decreasing=FALSE)]\n",
    "optimized_pvals_late_sorted <- all_genes_late$optimized[order(unlist(all_genes_late$optimized), decreasing=FALSE)]"
   ]
  },
  {
   "cell_type": "markdown",
   "id": "40bd17e7",
   "metadata": {},
   "source": [
    "#### SMS"
   ]
  },
  {
   "cell_type": "code",
   "execution_count": 6,
   "id": "8d1c796d",
   "metadata": {},
   "outputs": [],
   "source": [
    "# Optimized"
   ]
  },
  {
   "cell_type": "code",
   "execution_count": 7,
   "id": "d5ec14dd",
   "metadata": {},
   "outputs": [
    {
     "name": "stdout",
     "output_type": "stream",
     "text": [
      "[1] \"SMS ; optimized, all\"\n",
      "[1] \"%ile: 0.649457867796797 %\"\n",
      "[1] \"118 / 18169\"\n",
      "[1] \"\"\n",
      "[1] \"SMS ; optimized, early\"\n",
      "[1] \"%ile: 0.384869144490873 %\"\n",
      "[1] \"70 / 18188\"\n",
      "[1] \"\"\n",
      "[1] \"SMS ; optimized, late\"\n",
      "[1] \"%ile: 9.99393972783869 %\"\n",
      "[1] \"1814 / 18151\"\n"
     ]
    }
   ],
   "source": [
    "gene_name = \"SMS\"\n",
    "gene_id = \"ENSG00000102172\"\n",
    "\n",
    "print(paste(gene_name, \"; optimized, all\"))\n",
    "print(paste(\"%ile:\", (which(names(optimized_pvals_sorted) == gene_id) / length(optimized_pvals_sorted) * 100), \"%\"))\n",
    "print(paste((which(names(optimized_pvals_sorted) == gene_id)), \"/\", length(optimized_pvals_sorted)))\n",
    "print(\"\")\n",
    "print(paste(gene_name, \"; optimized, early\"))\n",
    "print(paste(\"%ile:\", (which(names(optimized_pvals_early_sorted) == gene_id) / length(optimized_pvals_early_sorted) * 100), \"%\"))\n",
    "print(paste((which(names(optimized_pvals_early_sorted) == gene_id)), \"/\", length(optimized_pvals_early_sorted)))\n",
    "print(\"\")\n",
    "print(paste(gene_name, \"; optimized, late\"))\n",
    "print(paste(\"%ile:\", (which(names(optimized_pvals_late_sorted) == gene_id) / length(optimized_pvals_late_sorted) * 100), \"%\"))\n",
    "print(paste((which(names(optimized_pvals_late_sorted) == gene_id)), \"/\", length(optimized_pvals_late_sorted)))"
   ]
  },
  {
   "cell_type": "markdown",
   "id": "a9e78e4b",
   "metadata": {},
   "source": [
    "#### GLYCTK"
   ]
  },
  {
   "cell_type": "code",
   "execution_count": 8,
   "id": "18d2b91c",
   "metadata": {},
   "outputs": [],
   "source": [
    "# Optimized"
   ]
  },
  {
   "cell_type": "code",
   "execution_count": 9,
   "id": "24f0f9b7",
   "metadata": {},
   "outputs": [
    {
     "name": "stdout",
     "output_type": "stream",
     "text": [
      "[1] \"GLYCTK ; optimized, all\"\n",
      "[1] \"%ile: 62.7607463261599 %\"\n",
      "[1] \"11403 / 18169\"\n",
      "[1] \"\"\n",
      "[1] \"GLYCTK ; optimized, early\"\n",
      "[1] \"%ile: 16.3954255553112 %\"\n",
      "[1] \"2982 / 18188\"\n",
      "[1] \"\"\n",
      "[1] \"GLYCTK ; optimized, late\"\n",
      "[1] \"%ile: 94.1601013718252 %\"\n",
      "[1] \"17091 / 18151\"\n"
     ]
    }
   ],
   "source": [
    "gene_name = \"GLYCTK\"\n",
    "gene_id = \"ENSG00000168237\"\n",
    "\n",
    "print(paste(gene_name, \"; optimized, all\"))\n",
    "print(paste(\"%ile:\", (which(names(optimized_pvals_sorted) == gene_id) / length(optimized_pvals_sorted) * 100), \"%\"))\n",
    "print(paste((which(names(optimized_pvals_sorted) == gene_id)), \"/\", length(optimized_pvals_sorted)))\n",
    "print(\"\")\n",
    "print(paste(gene_name, \"; optimized, early\"))\n",
    "print(paste(\"%ile:\", (which(names(optimized_pvals_early_sorted) == gene_id) / length(optimized_pvals_early_sorted) * 100), \"%\"))\n",
    "print(paste((which(names(optimized_pvals_early_sorted) == gene_id)), \"/\", length(optimized_pvals_early_sorted)))\n",
    "print(\"\")\n",
    "print(paste(gene_name, \"; optimized, late\"))\n",
    "print(paste(\"%ile:\", (which(names(optimized_pvals_late_sorted) == gene_id) / length(optimized_pvals_late_sorted) * 100), \"%\"))\n",
    "print(paste((which(names(optimized_pvals_late_sorted) == gene_id)), \"/\", length(optimized_pvals_late_sorted)))"
   ]
  },
  {
   "cell_type": "code",
   "execution_count": null,
   "id": "3b0242ae",
   "metadata": {},
   "outputs": [],
   "source": []
  },
  {
   "cell_type": "markdown",
   "id": "be6bcd4a",
   "metadata": {},
   "source": [
    "<a id=\"plots\"><h3>Plots</h3></a>"
   ]
  },
  {
   "cell_type": "code",
   "execution_count": 10,
   "id": "6e03f32f-f43b-4e72-a7dd-a3181c31875d",
   "metadata": {},
   "outputs": [],
   "source": [
    "bump <- 1e-5"
   ]
  },
  {
   "cell_type": "markdown",
   "id": "ccc97324-3a7a-4fc9-bae7-aff0dee6e455",
   "metadata": {},
   "source": [
    "#### All stages"
   ]
  },
  {
   "cell_type": "code",
   "execution_count": 11,
   "id": "c1db9c82",
   "metadata": {},
   "outputs": [],
   "source": [
    "# Optimized"
   ]
  },
  {
   "cell_type": "code",
   "execution_count": 12,
   "id": "1622ce53-55d6-45e2-a4d0-511a73392600",
   "metadata": {},
   "outputs": [
    {
     "data": {
      "text/html": [
       "<strong>png:</strong> 2"
      ],
      "text/latex": [
       "\\textbf{png:} 2"
      ],
      "text/markdown": [
       "**png:** 2"
      ],
      "text/plain": [
       "png \n",
       "  2 "
      ]
     },
     "metadata": {},
     "output_type": "display_data"
    }
   ],
   "source": [
    "# Plot distribution\n",
    "optimized_pvals_bh <- p.adjust(\n",
    "  optimized_pvals_sorted, \n",
    "  method = \"BH\", \n",
    "  n = length(optimized_pvals_sorted))\n",
    "\n",
    "pdf('bh_dist_all.pdf', width=10, height=5)\n",
    "hist(\n",
    "  -1 * log10(as.numeric(optimized_pvals_bh) + bump),\n",
    "  breaks=150,\n",
    "  main=\"LUAD optimized survival distribution (BH-corrected)\",\n",
    "  xlab=expression(\"-log\"[10]*\"(log-rank p-value)\"))\n",
    "abline(v = -1 * log10(optimized_pvals_bh['ENSG00000102172'] + bump), col=\"#1b9e77\", lwd=3, lty=2)\n",
    "abline(v = -1 * log10(optimized_pvals_bh['ENSG00000168237'] + bump), col=\"#7570b3\", lwd=3, lty=2)\n",
    "dev.off()"
   ]
  },
  {
   "cell_type": "code",
   "execution_count": 13,
   "id": "aa2c5d1b",
   "metadata": {},
   "outputs": [],
   "source": [
    "# Correlation of survival vs ranking\n",
    "# Ranked \"Average\" patterns with at least 2 significant components\n",
    "\n",
    "average_ranked_genes <- list(\n",
    "    \"SMS\",\n",
    "    \"GLYCTK\",\n",
    "    \"PGP\",\n",
    "    \"UPP1\", \"UPP2\",\n",
    "    \"UPP1\", \"UPP2\",\n",
    "    \"ODC1\",\n",
    "    \"TREH\",\n",
    "    #\"SI\", <- not in data\n",
    "    \"AMY1A\", \"AMY1B\", \"AMY2A\", \"AMY2B\", #\"AMY1C\", <- not in data\n",
    "    \"MGAM\",\n",
    "    \"XDH\"\n",
    ")\n",
    "\n",
    "average_ranked_gene_ids <- list(\n",
    "    \"ENSG00000102172\",\n",
    "    \"ENSG00000168237\",\n",
    "    \"ENSG00000184207\",\n",
    "    \"ENSG00000183696\", \"ENSG00000007001\",\n",
    "    \"ENSG00000183696\", \"ENSG00000007001\",\n",
    "    \"ENSG00000115758\",\n",
    "    \"ENSG00000118094\",\n",
    "    #\"ENSG00000090402\", <- not in data\n",
    "    \"ENSG00000237763\", \"ENSG00000174876\", \"ENSG00000243480\", \"ENSG00000240038\", #\"ENSG00000187733\", <- not in data\n",
    "    \"ENSG00000257335\",\n",
    "    \"ENSG00000158125\"\n",
    ")"
   ]
  },
  {
   "cell_type": "code",
   "execution_count": 14,
   "id": "43d4a804",
   "metadata": {},
   "outputs": [
    {
     "data": {
      "image/png": "[encoded data removed]",
      "text/plain": [
       "Plot with title \"Rank vs. Survival BH Value\n",
       " rho =  -0.5862\""
      ]
     },
     "metadata": {
      "image/png": {
       "height": 420,
       "width": 420
      }
     },
     "output_type": "display_data"
    }
   ],
   "source": [
    "counter <- list(\n",
    "    1,\n",
    "    2,\n",
    "    3,\n",
    "    4,4,\n",
    "    5,5,\n",
    "    6,\n",
    "    7,\n",
    "    #8, <- not in data\n",
    "    9,9,9,9, #9,<- not in data\n",
    "    10,\n",
    "    11\n",
    ")\n",
    "bh_vals <- list()\n",
    "\n",
    "for (x in average_ranked_gene_ids) {\n",
    "    bh_vals <- c(bh_vals, -1 * log10(optimized_pvals_bh[x]))\n",
    "}\n",
    "\n",
    "#tiff('bh_vs_rank.tiff', units=\"in\", width=5, height=5, res=300)\n",
    "plot(\n",
    "    counter, \n",
    "    as.numeric(bh_vals), \n",
    "    main=paste(\n",
    "        \"Rank vs. Survival BH Value\\n\", \n",
    "        \"rho = \", round(cor(as.numeric(counter), as.numeric(bh_vals), method = \"pearson\"), digits=4)),\n",
    "    xlab=\"Reaction Pattern Rank\", \n",
    "    ylab=\"-log(BH)\")\n",
    "#dev.off()"
   ]
  },
  {
   "cell_type": "code",
   "execution_count": 15,
   "id": "f6fa517e",
   "metadata": {},
   "outputs": [],
   "source": [
    "library(\"ggpubr\")"
   ]
  },
  {
   "cell_type": "code",
   "execution_count": 16,
   "id": "aada0745",
   "metadata": {},
   "outputs": [],
   "source": [
    "rank_data <- t(rbind(\"Rank\"=as.numeric(counter), \"BH_val\"=as.numeric(bh_vals)))"
   ]
  },
  {
   "cell_type": "code",
   "execution_count": 17,
   "id": "9ca74d89",
   "metadata": {},
   "outputs": [
    {
     "data": {
      "text/html": [
       "<table class=\"dataframe\">\n",
       "<caption>A matrix: 15 × 2 of type dbl</caption>\n",
       "<thead>\n",
       "\t<tr><th scope=col>Rank</th><th scope=col>BH_val</th></tr>\n",
       "</thead>\n",
       "<tbody>\n",
       "\t<tr><td> 1</td><td>3.3480423</td></tr>\n",
       "\t<tr><td> 2</td><td>0.9099012</td></tr>\n",
       "\t<tr><td> 3</td><td>1.3644380</td></tr>\n",
       "\t<tr><td> 4</td><td>1.6897581</td></tr>\n",
       "\t<tr><td> 4</td><td>0.8450903</td></tr>\n",
       "\t<tr><td> 5</td><td>1.6897581</td></tr>\n",
       "\t<tr><td> 5</td><td>0.8450903</td></tr>\n",
       "\t<tr><td> 6</td><td>0.7510583</td></tr>\n",
       "\t<tr><td> 7</td><td>1.9727897</td></tr>\n",
       "\t<tr><td> 9</td><td>0.5778943</td></tr>\n",
       "\t<tr><td> 9</td><td>0.5549917</td></tr>\n",
       "\t<tr><td> 9</td><td>0.4398202</td></tr>\n",
       "\t<tr><td> 9</td><td>1.1804783</td></tr>\n",
       "\t<tr><td>10</td><td>0.5672358</td></tr>\n",
       "\t<tr><td>11</td><td>0.9565426</td></tr>\n",
       "</tbody>\n",
       "</table>\n"
      ],
      "text/latex": [
       "A matrix: 15 × 2 of type dbl\n",
       "\\begin{tabular}{ll}\n",
       " Rank & BH\\_val\\\\\n",
       "\\hline\n",
       "\t  1 & 3.3480423\\\\\n",
       "\t  2 & 0.9099012\\\\\n",
       "\t  3 & 1.3644380\\\\\n",
       "\t  4 & 1.6897581\\\\\n",
       "\t  4 & 0.8450903\\\\\n",
       "\t  5 & 1.6897581\\\\\n",
       "\t  5 & 0.8450903\\\\\n",
       "\t  6 & 0.7510583\\\\\n",
       "\t  7 & 1.9727897\\\\\n",
       "\t  9 & 0.5778943\\\\\n",
       "\t  9 & 0.5549917\\\\\n",
       "\t  9 & 0.4398202\\\\\n",
       "\t  9 & 1.1804783\\\\\n",
       "\t 10 & 0.5672358\\\\\n",
       "\t 11 & 0.9565426\\\\\n",
       "\\end{tabular}\n"
      ],
      "text/markdown": [
       "\n",
       "A matrix: 15 × 2 of type dbl\n",
       "\n",
       "| Rank | BH_val |\n",
       "|---|---|\n",
       "|  1 | 3.3480423 |\n",
       "|  2 | 0.9099012 |\n",
       "|  3 | 1.3644380 |\n",
       "|  4 | 1.6897581 |\n",
       "|  4 | 0.8450903 |\n",
       "|  5 | 1.6897581 |\n",
       "|  5 | 0.8450903 |\n",
       "|  6 | 0.7510583 |\n",
       "|  7 | 1.9727897 |\n",
       "|  9 | 0.5778943 |\n",
       "|  9 | 0.5549917 |\n",
       "|  9 | 0.4398202 |\n",
       "|  9 | 1.1804783 |\n",
       "| 10 | 0.5672358 |\n",
       "| 11 | 0.9565426 |\n",
       "\n"
      ],
      "text/plain": [
       "      Rank BH_val   \n",
       " [1,]  1   3.3480423\n",
       " [2,]  2   0.9099012\n",
       " [3,]  3   1.3644380\n",
       " [4,]  4   1.6897581\n",
       " [5,]  4   0.8450903\n",
       " [6,]  5   1.6897581\n",
       " [7,]  5   0.8450903\n",
       " [8,]  6   0.7510583\n",
       " [9,]  7   1.9727897\n",
       "[10,]  9   0.5778943\n",
       "[11,]  9   0.5549917\n",
       "[12,]  9   0.4398202\n",
       "[13,]  9   1.1804783\n",
       "[14,] 10   0.5672358\n",
       "[15,] 11   0.9565426"
      ]
     },
     "metadata": {},
     "output_type": "display_data"
    }
   ],
   "source": [
    "rank_data"
   ]
  },
  {
   "cell_type": "code",
   "execution_count": 19,
   "id": "a4aee9af",
   "metadata": {},
   "outputs": [
    {
     "name": "stderr",
     "output_type": "stream",
     "text": [
      "`geom_smooth()` using formula 'y ~ x'\n",
      "\n"
     ]
    },
    {
     "data": {
      "text/html": [
       "<strong>png:</strong> 2"
      ],
      "text/latex": [
       "\\textbf{png:} 2"
      ],
      "text/markdown": [
       "**png:** 2"
      ],
      "text/plain": [
       "png \n",
       "  2 "
      ]
     },
     "metadata": {},
     "output_type": "display_data"
    }
   ],
   "source": [
    "tiff('supp_fig_15-bh_vs_rank.tiff', units=\"in\", width=7, height=5, res=600)\n",
    "\n",
    "p <- ggscatter(\n",
    "    as.data.frame(rank_data), x = \"Rank\", y = \"BH_val\", \n",
    "    add = \"loess\", conf.int = TRUE, cor.coef = TRUE, cor.method = \"pearson\",\n",
    "    color = \"black\", shape = 19, size = 4, add.params = list(fill = \"lightgray\"),\n",
    "    main=\"Rank vs. Survival BH Value\", xlab = \"Reaction Pattern Rank\",\n",
    "    font.label = c(6, \"bold\"),\n",
    "    cor.coef.coord = c(7,3.5), cor.coef.size = 6)\n",
    "p + \n",
    "    font(\"title\", size = 24)+ \n",
    "    font(\"xlab\", size = 18)+\n",
    "    font(\"ylab\", size = 18)+\n",
    "    font(\"xy.text\", size = 16)+ \n",
    "    theme(plot.title = element_text(hjust = 0.5))+ \n",
    "    scale_x_continuous(breaks = seq(1, 13, by = 2))+\n",
    "    labs(y=expression(-log[1*0]*\"(Survival BH)\"))\n",
    "\n",
    "dev.off()"
   ]
  },
  {
   "cell_type": "code",
   "execution_count": null,
   "id": "df1e0887",
   "metadata": {},
   "outputs": [],
   "source": []
  },
  {
   "cell_type": "code",
   "execution_count": null,
   "id": "655eee95",
   "metadata": {},
   "outputs": [],
   "source": []
  },
  {
   "cell_type": "code",
   "execution_count": null,
   "id": "3fb53a73",
   "metadata": {},
   "outputs": [],
   "source": []
  },
  {
   "cell_type": "markdown",
   "id": "6a0cc012-3102-4f0b-b86e-800335ccfe85",
   "metadata": {},
   "source": [
    "#### Early stages"
   ]
  },
  {
   "cell_type": "code",
   "execution_count": 14,
   "id": "f036ab16",
   "metadata": {},
   "outputs": [],
   "source": [
    "# Optimized"
   ]
  },
  {
   "cell_type": "code",
   "execution_count": 15,
   "id": "d929e297-c5fd-48ec-a198-ff8fe135f4fd",
   "metadata": {},
   "outputs": [
    {
     "data": {
      "text/html": [
       "<strong>png:</strong> 2"
      ],
      "text/latex": [
       "\\textbf{png:} 2"
      ],
      "text/markdown": [
       "**png:** 2"
      ],
      "text/plain": [
       "png \n",
       "  2 "
      ]
     },
     "metadata": {},
     "output_type": "display_data"
    }
   ],
   "source": [
    "# Plot distribution\n",
    "optimized_pvals_bh_early <- p.adjust(\n",
    "  optimized_pvals_early_sorted, \n",
    "  method = \"BH\", \n",
    "  n = length(optimized_pvals_early_sorted))\n",
    "\n",
    "pdf('bh_dist_early.pdf')\n",
    "hist(\n",
    "  -1 * log10(as.numeric(optimized_pvals_bh_early) + bump),\n",
    "  breaks=150,\n",
    "  main=\"LUAD optimized survival distribution (BH-corrected)\",\n",
    "  xlab=expression(\"-log\"[10]*\"(log-rank p-value)\"))\n",
    "abline(v = -1 * log10(optimized_pvals_bh_early['ENSG00000102172'] + bump), col=\"#1b9e77\", lwd=3, lty=2)\n",
    "abline(v = -1 * log10(optimized_pvals_bh_early['ENSG00000168237'] + bump), col=\"#7570b3\", lwd=3, lty=2)\n",
    "dev.off()"
   ]
  },
  {
   "cell_type": "markdown",
   "id": "f3f1907f-3ec9-48bf-88be-bb2624684a64",
   "metadata": {},
   "source": [
    "#### Late Stages"
   ]
  },
  {
   "cell_type": "code",
   "execution_count": 16,
   "id": "0ca20d71",
   "metadata": {},
   "outputs": [],
   "source": [
    "# Optimized"
   ]
  },
  {
   "cell_type": "code",
   "execution_count": 17,
   "id": "cdfa41b9-725c-4e7f-b554-69cf7919acb0",
   "metadata": {
    "tags": []
   },
   "outputs": [
    {
     "data": {
      "text/html": [
       "<strong>png:</strong> 2"
      ],
      "text/latex": [
       "\\textbf{png:} 2"
      ],
      "text/markdown": [
       "**png:** 2"
      ],
      "text/plain": [
       "png \n",
       "  2 "
      ]
     },
     "metadata": {},
     "output_type": "display_data"
    }
   ],
   "source": [
    "# Plot distribution\n",
    "optimized_pvals_bh_late <- p.adjust(\n",
    "  optimized_pvals_late_sorted, \n",
    "  method = \"BH\", \n",
    "  n = length(optimized_pvals_late_sorted))\n",
    "\n",
    "pdf('bh_dist_late.pdf')\n",
    "hist(\n",
    "  -1 * log10(as.numeric(optimized_pvals_bh_late) + bump),\n",
    "  breaks=150,\n",
    "  main=\"LUAD optimized survival distribution (BH-corrected)\",\n",
    "  xlab=expression(\"-log\"[10]*\"(log-rank p-value)\"))\n",
    "abline(v = -1 * log10(optimized_pvals_bh_late['ENSG00000102172'] + bump), col=\"#1b9e77\", lwd=3, lty=2)\n",
    "abline(v = -1 * log10(optimized_pvals_bh_late['ENSG00000168237'] + bump), col=\"#7570b3\", lwd=3, lty=2)\n",
    "dev.off()"
   ]
  },
  {
   "cell_type": "code",
   "execution_count": null,
   "id": "cff0402a",
   "metadata": {},
   "outputs": [],
   "source": []
  },
  {
   "cell_type": "code",
   "execution_count": null,
   "id": "ce6d2573",
   "metadata": {},
   "outputs": [],
   "source": []
  },
  {
   "cell_type": "code",
   "execution_count": null,
   "id": "3050b50e",
   "metadata": {},
   "outputs": [],
   "source": []
  },
  {
   "cell_type": "code",
   "execution_count": null,
   "id": "11862d18",
   "metadata": {},
   "outputs": [],
   "source": []
  },
  {
   "cell_type": "markdown",
   "id": "5e8c4113",
   "metadata": {},
   "source": [
    "#### Checks"
   ]
  },
  {
   "cell_type": "code",
   "execution_count": 18,
   "id": "ad479722",
   "metadata": {},
   "outputs": [],
   "source": [
    "# Does average expression of gene correlate with rank?\n",
    "# Does it selectively correlate with lower expressed genes? (FPKM < 2)\n",
    "# Correlate with variance?"
   ]
  },
  {
   "cell_type": "code",
   "execution_count": 19,
   "id": "574f0c04",
   "metadata": {},
   "outputs": [],
   "source": [
    "corr_matrix <- data.frame(matrix((optimized_pvals_bh), nrow=length(optimized_pvals_bh), byrow=TRUE),stringsAsFactors=FALSE)"
   ]
  },
  {
   "cell_type": "code",
   "execution_count": 20,
   "id": "208e77ab",
   "metadata": {},
   "outputs": [],
   "source": [
    "rownames(corr_matrix) <- names(optimized_pvals_bh)"
   ]
  },
  {
   "cell_type": "code",
   "execution_count": 21,
   "id": "84cc9edd",
   "metadata": {},
   "outputs": [],
   "source": [
    "colnames(corr_matrix) <- \"bh_val\""
   ]
  },
  {
   "cell_type": "code",
   "execution_count": 22,
   "id": "8c5aece1",
   "metadata": {},
   "outputs": [],
   "source": [
    "corr_matrix[, \"median_expr\"] <- 0"
   ]
  },
  {
   "cell_type": "code",
   "execution_count": 23,
   "id": "95a77b2b",
   "metadata": {},
   "outputs": [],
   "source": [
    "corr_matrix[, \"gene\"] <- rownames(corr_matrix)"
   ]
  },
  {
   "cell_type": "code",
   "execution_count": 24,
   "id": "166b4006",
   "metadata": {},
   "outputs": [
    {
     "ename": "ERROR",
     "evalue": "Error in median(rpkm_data$FPKM[rpkm_data$Gene == x]): object 'rpkm_data' not found\n",
     "output_type": "error",
     "traceback": [
      "Error in median(rpkm_data$FPKM[rpkm_data$Gene == x]): object 'rpkm_data' not found\nTraceback:\n",
      "1. median(rpkm_data$FPKM[rpkm_data$Gene == x])"
     ]
    }
   ],
   "source": [
    "for (x in rownames(corr_matrix)) {\n",
    "    \n",
    "    corr_matrix[x, \"median_expr\"] <- median(\n",
    "        rpkm_data$FPKM[rpkm_data$Gene == x]\n",
    "    )\n",
    "\n",
    "}"
   ]
  },
  {
   "cell_type": "code",
   "execution_count": 25,
   "id": "b9526d4a",
   "metadata": {},
   "outputs": [
    {
     "ename": "ERROR",
     "evalue": "Error in is.data.frame(x): object 'rpkm_data' not found\n",
     "output_type": "error",
     "traceback": [
      "Error in is.data.frame(x): object 'rpkm_data' not found\nTraceback:\n",
      "1. var(rpkm_data$FPKM[rpkm_data$Gene == x])",
      "2. is.data.frame(x)"
     ]
    }
   ],
   "source": [
    "for (x in rownames(corr_matrix)) {\n",
    "    \n",
    "    corr_matrix[x, \"variance\"] <- var(\n",
    "        rpkm_data$FPKM[rpkm_data$Gene == x]\n",
    "    )\n",
    "\n",
    "}"
   ]
  },
  {
   "cell_type": "code",
   "execution_count": 26,
   "id": "088f02ed",
   "metadata": {},
   "outputs": [],
   "source": [
    "plot_matrix = corr_matrix\n",
    "#plot_matrix = corr_matrix[corr_matrix$median_expr < 1, ]"
   ]
  },
  {
   "cell_type": "code",
   "execution_count": 27,
   "id": "bcf9d0c3",
   "metadata": {},
   "outputs": [
    {
     "name": "stderr",
     "output_type": "stream",
     "text": [
      "Warning message in cor(-1 * log(plot_matrix$bh_val), (plot_matrix$median_expr), :\n",
      "\"the standard deviation is zero\"\n"
     ]
    },
    {
     "data": {
      "text/html": [
       "<strong>png:</strong> 2"
      ],
      "text/latex": [
       "\\textbf{png:} 2"
      ],
      "text/markdown": [
       "**png:** 2"
      ],
      "text/plain": [
       "png \n",
       "  2 "
      ]
     },
     "metadata": {},
     "output_type": "display_data"
    }
   ],
   "source": [
    "pdf('corr_matrix_median.pdf')\n",
    "plot(\n",
    "    -1 * log(plot_matrix$bh_val), \n",
    "    (plot_matrix$median_expr), \n",
    "    main=paste(\"Pearson: \", cor(-1 * log(plot_matrix$bh_val), (plot_matrix$median_expr),  method = \"pearson\")),\n",
    "    xlab=\"-log10(BH)\", \n",
    "    ylab=\"Median expression\", \n",
    "    pch=19,\n",
    "    col = rgb(red = 0, green = 0, blue = 0, alpha = 0.2))\n",
    "dev.off()"
   ]
  },
  {
   "cell_type": "code",
   "execution_count": 28,
   "id": "7b54f6c5",
   "metadata": {},
   "outputs": [
    {
     "name": "stderr",
     "output_type": "stream",
     "text": [
      "Warning message in cor(-1 * log(plot_matrix$bh_val), (plot_matrix$median_expr), :\n",
      "\"the standard deviation is zero\"\n"
     ]
    },
    {
     "data": {
      "text/html": [
       "&lt;NA&gt;"
      ],
      "text/latex": [
       "<NA>"
      ],
      "text/markdown": [
       "&lt;NA&gt;"
      ],
      "text/plain": [
       "[1] NA"
      ]
     },
     "metadata": {},
     "output_type": "display_data"
    }
   ],
   "source": [
    "cor(-1 * log(plot_matrix$bh_val), (plot_matrix$median_expr),  method = \"pearson\")"
   ]
  },
  {
   "cell_type": "code",
   "execution_count": 29,
   "id": "008a849e",
   "metadata": {},
   "outputs": [
    {
     "ename": "ERROR",
     "evalue": "Error in cor(-1 * log(plot_matrix$bh_val), (plot_matrix$variance), method = \"pearson\"): supply both 'x' and 'y' or a matrix-like 'x'\n",
     "output_type": "error",
     "traceback": [
      "Error in cor(-1 * log(plot_matrix$bh_val), (plot_matrix$variance), method = \"pearson\"): supply both 'x' and 'y' or a matrix-like 'x'\nTraceback:\n",
      "1. plot(-1 * log(plot_matrix$bh_val), (plot_matrix$variance), main = paste(\"Pearson: \", \n .     cor(-1 * log(plot_matrix$bh_val), (plot_matrix$variance), \n .         method = \"pearson\")), xlab = \"-log10(BH)\", ylab = \"Gene variance\", \n .     pch = 19, col = rgb(red = 0, green = 0, blue = 0, alpha = 0.2))",
      "2. plot.default(-1 * log(plot_matrix$bh_val), (plot_matrix$variance), \n .     main = paste(\"Pearson: \", cor(-1 * log(plot_matrix$bh_val), \n .         (plot_matrix$variance), method = \"pearson\")), xlab = \"-log10(BH)\", \n .     ylab = \"Gene variance\", pch = 19, col = rgb(red = 0, green = 0, \n .         blue = 0, alpha = 0.2))",
      "3. localTitle(main = main, sub = sub, xlab = xlab, ylab = ylab, \n .     ...)",
      "4. title(...)",
      "5. as.graphicsAnnot(main)",
      "6. paste(\"Pearson: \", cor(-1 * log(plot_matrix$bh_val), (plot_matrix$variance), \n .     method = \"pearson\"))",
      "7. cor(-1 * log(plot_matrix$bh_val), (plot_matrix$variance), method = \"pearson\")",
      "8. stop(\"supply both 'x' and 'y' or a matrix-like 'x'\")"
     ]
    }
   ],
   "source": [
    "pdf('corr_matrix_var.pdf')\n",
    "plot(\n",
    "    -1 * log(plot_matrix$bh_val), \n",
    "    (plot_matrix$variance), \n",
    "    main=paste(\"Pearson: \", cor(-1 * log(plot_matrix$bh_val), (plot_matrix$variance),  method = \"pearson\")),\n",
    "    xlab=\"-log10(BH)\", \n",
    "    ylab=\"Gene variance\", \n",
    "    pch=19,\n",
    "    col = rgb(red = 0, green = 0, blue = 0, alpha = 0.2))\n",
    "dev.off()"
   ]
  },
  {
   "cell_type": "code",
   "execution_count": 30,
   "id": "91888103",
   "metadata": {},
   "outputs": [
    {
     "ename": "ERROR",
     "evalue": "Error in cor(-1 * log(plot_matrix$bh_val), (plot_matrix$variance), method = \"pearson\"): supply both 'x' and 'y' or a matrix-like 'x'\n",
     "output_type": "error",
     "traceback": [
      "Error in cor(-1 * log(plot_matrix$bh_val), (plot_matrix$variance), method = \"pearson\"): supply both 'x' and 'y' or a matrix-like 'x'\nTraceback:\n",
      "1. cor(-1 * log(plot_matrix$bh_val), (plot_matrix$variance), method = \"pearson\")",
      "2. stop(\"supply both 'x' and 'y' or a matrix-like 'x'\")"
     ]
    }
   ],
   "source": [
    "cor(-1 * log(plot_matrix$bh_val), (plot_matrix$variance),  method = \"pearson\")"
   ]
  },
  {
   "cell_type": "code",
   "execution_count": 31,
   "id": "ebec995c",
   "metadata": {},
   "outputs": [
    {
     "ename": "ERROR",
     "evalue": "Error in log(plot_matrix$variance): non-numeric argument to mathematical function\n",
     "output_type": "error",
     "traceback": [
      "Error in log(plot_matrix$variance): non-numeric argument to mathematical function\nTraceback:\n",
      "1. plot(log(plot_matrix$median_expr), log(plot_matrix$variance), \n .     main = paste(\"Pearson: \", cor((plot_matrix$median_expr), \n .         (plot_matrix$variance), method = \"pearson\")), xlab = \"Median expression\", \n .     ylab = \"Gene variance\", pch = 19, col = rgb(red = 0, green = 0, \n .         blue = 0, alpha = 0.2))",
      "2. plot.default(log(plot_matrix$median_expr), log(plot_matrix$variance), \n .     main = paste(\"Pearson: \", cor((plot_matrix$median_expr), \n .         (plot_matrix$variance), method = \"pearson\")), xlab = \"Median expression\", \n .     ylab = \"Gene variance\", pch = 19, col = rgb(red = 0, green = 0, \n .         blue = 0, alpha = 0.2))",
      "3. xy.coords(x, y, xlabel, ylabel, log)"
     ]
    }
   ],
   "source": [
    "pdf('corr_matrix_median_var.pdf')\n",
    "plot(\n",
    "    log(plot_matrix$median_expr), \n",
    "    log(plot_matrix$variance), \n",
    "    main=paste(\"Pearson: \", cor((plot_matrix$median_expr), (plot_matrix$variance),  method = \"pearson\")),\n",
    "    xlab=\"Median expression\", \n",
    "    ylab=\"Gene variance\", \n",
    "    pch=19,\n",
    "    col = rgb(red = 0, green = 0, blue = 0, alpha = 0.2))\n",
    "dev.off()"
   ]
  },
  {
   "cell_type": "code",
   "execution_count": 32,
   "id": "fc086ff4",
   "metadata": {},
   "outputs": [
    {
     "ename": "ERROR",
     "evalue": "Error in cor((plot_matrix$median_expr), (plot_matrix$variance), method = \"pearson\"): supply both 'x' and 'y' or a matrix-like 'x'\n",
     "output_type": "error",
     "traceback": [
      "Error in cor((plot_matrix$median_expr), (plot_matrix$variance), method = \"pearson\"): supply both 'x' and 'y' or a matrix-like 'x'\nTraceback:\n",
      "1. cor((plot_matrix$median_expr), (plot_matrix$variance), method = \"pearson\")",
      "2. stop(\"supply both 'x' and 'y' or a matrix-like 'x'\")"
     ]
    }
   ],
   "source": [
    "cor((plot_matrix$median_expr), (plot_matrix$variance),  method = \"pearson\")"
   ]
  },
  {
   "cell_type": "code",
   "execution_count": null,
   "id": "1af865f3",
   "metadata": {},
   "outputs": [],
   "source": []
  },
  {
   "cell_type": "code",
   "execution_count": null,
   "id": "e3eb1ca1",
   "metadata": {},
   "outputs": [],
   "source": []
  },
  {
   "cell_type": "code",
   "execution_count": 33,
   "id": "71d82b09",
   "metadata": {},
   "outputs": [
    {
     "name": "stderr",
     "output_type": "stream",
     "text": [
      "Warning message:\n",
      "\"package 'org.Hs.eg.db' was built under R version 4.0.3\"\n",
      "Loading required package: AnnotationDbi\n",
      "\n",
      "Loading required package: stats4\n",
      "\n",
      "Loading required package: BiocGenerics\n",
      "\n",
      "Loading required package: parallel\n",
      "\n",
      "\n",
      "Attaching package: 'BiocGenerics'\n",
      "\n",
      "\n",
      "The following objects are masked from 'package:parallel':\n",
      "\n",
      "    clusterApply, clusterApplyLB, clusterCall, clusterEvalQ,\n",
      "    clusterExport, clusterMap, parApply, parCapply, parLapply,\n",
      "    parLapplyLB, parRapply, parSapply, parSapplyLB\n",
      "\n",
      "\n",
      "The following objects are masked from 'package:stats':\n",
      "\n",
      "    IQR, mad, sd, var, xtabs\n",
      "\n",
      "\n",
      "The following objects are masked from 'package:base':\n",
      "\n",
      "    anyDuplicated, append, as.data.frame, basename, cbind, colnames,\n",
      "    dirname, do.call, duplicated, eval, evalq, Filter, Find, get, grep,\n",
      "    grepl, intersect, is.unsorted, lapply, Map, mapply, match, mget,\n",
      "    order, paste, pmax, pmax.int, pmin, pmin.int, Position, rank,\n",
      "    rbind, Reduce, rownames, sapply, setdiff, sort, table, tapply,\n",
      "    union, unique, unsplit, which, which.max, which.min\n",
      "\n",
      "\n",
      "Loading required package: Biobase\n",
      "\n",
      "Welcome to Bioconductor\n",
      "\n",
      "    Vignettes contain introductory material; view with\n",
      "    'browseVignettes()'. To cite Bioconductor, see\n",
      "    'citation(\"Biobase\")', and for packages 'citation(\"pkgname\")'.\n",
      "\n",
      "\n",
      "Loading required package: IRanges\n",
      "\n",
      "Loading required package: S4Vectors\n",
      "\n",
      "\n",
      "Attaching package: 'S4Vectors'\n",
      "\n",
      "\n",
      "The following objects are masked from 'package:data.table':\n",
      "\n",
      "    first, second\n",
      "\n",
      "\n",
      "The following object is masked from 'package:base':\n",
      "\n",
      "    expand.grid\n",
      "\n",
      "\n",
      "\n",
      "Attaching package: 'IRanges'\n",
      "\n",
      "\n",
      "The following object is masked from 'package:data.table':\n",
      "\n",
      "    shift\n",
      "\n",
      "\n",
      "The following object is masked from 'package:grDevices':\n",
      "\n",
      "    windows\n",
      "\n",
      "\n",
      "\n",
      "\n"
     ]
    }
   ],
   "source": [
    "library(org.Hs.eg.db)"
   ]
  },
  {
   "cell_type": "code",
   "execution_count": 34,
   "id": "3421aac2",
   "metadata": {},
   "outputs": [
    {
     "name": "stderr",
     "output_type": "stream",
     "text": [
      "'select()' returned 1:many mapping between keys and columns\n",
      "\n"
     ]
    }
   ],
   "source": [
    "symbols <- mapIds(org.Hs.eg.db, keys = rownames(plot_matrix), keytype = \"ENSEMBL\", column=\"SYMBOL\")"
   ]
  },
  {
   "cell_type": "code",
   "execution_count": 35,
   "id": "1da1b1a6",
   "metadata": {},
   "outputs": [],
   "source": [
    "plot_matrix$name <- symbols"
   ]
  },
  {
   "cell_type": "code",
   "execution_count": 36,
   "id": "666e5f49",
   "metadata": {},
   "outputs": [],
   "source": [
    "depmap <- read.csv(\n",
    "    file = 'CRISPR_(DepMap_21Q4_Public+Score,_Chronos)_subsetted_NSCLC.csv', \n",
    "    sep=\",\")"
   ]
  },
  {
   "cell_type": "code",
   "execution_count": 37,
   "id": "148df870",
   "metadata": {},
   "outputs": [],
   "source": [
    "depmap <- t(depmap)"
   ]
  },
  {
   "cell_type": "code",
   "execution_count": 38,
   "id": "2757489d",
   "metadata": {},
   "outputs": [],
   "source": [
    "depmap_c <- depmap[7:length(rownames(depmap)),]"
   ]
  },
  {
   "cell_type": "code",
   "execution_count": null,
   "id": "375e380d",
   "metadata": {},
   "outputs": [],
   "source": []
  },
  {
   "cell_type": "code",
   "execution_count": 39,
   "id": "91350d5f",
   "metadata": {},
   "outputs": [],
   "source": [
    "plot_matrix_copy <- plot_matrix"
   ]
  },
  {
   "cell_type": "code",
   "execution_count": 40,
   "id": "d94ad819",
   "metadata": {},
   "outputs": [],
   "source": [
    "plot_matrix_copy[\"id\"] <- rownames(plot_matrix_copy)"
   ]
  },
  {
   "cell_type": "code",
   "execution_count": 41,
   "id": "ef54fb38",
   "metadata": {},
   "outputs": [],
   "source": [
    "for (x in plot_matrix_copy[, \"name\"]) {\n",
    "    this_index <- row.names(plot_matrix_copy)[which(plot_matrix_copy$name==x)]\n",
    "    \n",
    "    if (x %in% rownames(depmap_c)) {\n",
    "        this_median <- median(\n",
    "            as.numeric(unlist(\n",
    "                depmap_c[x, ][!is.na(depmap_c[x, ])]\n",
    "                )))\n",
    "\n",
    "        plot_matrix_copy[this_index, \"med_dep_score\"] <- this_median\n",
    "    }\n",
    "\n",
    "}"
   ]
  },
  {
   "cell_type": "code",
   "execution_count": null,
   "id": "7897d27e",
   "metadata": {},
   "outputs": [],
   "source": []
  },
  {
   "cell_type": "code",
   "execution_count": 42,
   "id": "e6e094ba",
   "metadata": {},
   "outputs": [],
   "source": [
    "plot_matrix_copy_2 <- plot_matrix_copy[!is.na(plot_matrix_copy$med_dep_score), ]"
   ]
  },
  {
   "cell_type": "code",
   "execution_count": null,
   "id": "6aa3d7f0",
   "metadata": {},
   "outputs": [],
   "source": []
  },
  {
   "cell_type": "code",
   "execution_count": 43,
   "id": "b84ca53c",
   "metadata": {},
   "outputs": [],
   "source": [
    "plot_matrix_copy_3 <- plot_matrix_copy[plot_matrix_copy$name %in% list(\n",
    "    \"SMS\", \"SPN\", \"GLYCTK\", \"PGP\", \"ACSM1\", \"UPP1\", \"UPP2\", \"ODC1\", \"MGAM\", \"AMY2A\", \"ADK\"),]"
   ]
  },
  {
   "cell_type": "code",
   "execution_count": 44,
   "id": "75640ec7",
   "metadata": {},
   "outputs": [
    {
     "data": {
      "text/html": [
       "<table class=\"dataframe\">\n",
       "<caption>A data.frame: 11 × 6</caption>\n",
       "<thead>\n",
       "\t<tr><th></th><th scope=col>bh_val</th><th scope=col>median_expr</th><th scope=col>gene</th><th scope=col>name</th><th scope=col>id</th><th scope=col>med_dep_score</th></tr>\n",
       "\t<tr><th></th><th scope=col>&lt;dbl&gt;</th><th scope=col>&lt;dbl&gt;</th><th scope=col>&lt;chr&gt;</th><th scope=col>&lt;chr&gt;</th><th scope=col>&lt;chr&gt;</th><th scope=col>&lt;dbl&gt;</th></tr>\n",
       "</thead>\n",
       "<tbody>\n",
       "\t<tr><th scope=row>ENSG00000102172</th><td>0.0004487017</td><td>0</td><td>ENSG00000102172</td><td>SMS   </td><td>ENSG00000102172</td><td>-0.47489558</td></tr>\n",
       "\t<tr><th scope=row>ENSG00000197471</th><td>0.0101915459</td><td>0</td><td>ENSG00000197471</td><td>SPN   </td><td>ENSG00000197471</td><td> 0.02523694</td></tr>\n",
       "\t<tr><th scope=row>ENSG00000183696</th><td>0.0204287537</td><td>0</td><td>ENSG00000183696</td><td>UPP1  </td><td>ENSG00000183696</td><td> 0.10748667</td></tr>\n",
       "\t<tr><th scope=row>ENSG00000156110</th><td>0.0407724419</td><td>0</td><td>ENSG00000156110</td><td>ADK   </td><td>ENSG00000156110</td><td>-0.06338164</td></tr>\n",
       "\t<tr><th scope=row>ENSG00000184207</th><td>0.0432077846</td><td>0</td><td>ENSG00000184207</td><td>PGP   </td><td>ENSG00000184207</td><td>-0.11760761</td></tr>\n",
       "\t<tr><th scope=row>ENSG00000166743</th><td>0.0860783074</td><td>0</td><td>ENSG00000166743</td><td>ACSM1 </td><td>ENSG00000166743</td><td> 0.05073574</td></tr>\n",
       "\t<tr><th scope=row>ENSG00000168237</th><td>0.1230548714</td><td>0</td><td>ENSG00000168237</td><td>GLYCTK</td><td>ENSG00000168237</td><td>-0.02442754</td></tr>\n",
       "\t<tr><th scope=row>ENSG00000007001</th><td>0.1428596855</td><td>0</td><td>ENSG00000007001</td><td>UPP2  </td><td>ENSG00000007001</td><td>-0.02051014</td></tr>\n",
       "\t<tr><th scope=row>ENSG00000115758</th><td>0.1773951212</td><td>0</td><td>ENSG00000115758</td><td>ODC1  </td><td>ENSG00000115758</td><td> 0.03944082</td></tr>\n",
       "\t<tr><th scope=row>ENSG00000257335</th><td>0.2708720828</td><td>0</td><td>ENSG00000257335</td><td>MGAM  </td><td>ENSG00000257335</td><td> 0.06806851</td></tr>\n",
       "\t<tr><th scope=row>ENSG00000243480</th><td>0.3632283962</td><td>0</td><td>ENSG00000243480</td><td>AMY2A </td><td>ENSG00000243480</td><td>-0.01932228</td></tr>\n",
       "</tbody>\n",
       "</table>\n"
      ],
      "text/latex": [
       "A data.frame: 11 × 6\n",
       "\\begin{tabular}{r|llllll}\n",
       "  & bh\\_val & median\\_expr & gene & name & id & med\\_dep\\_score\\\\\n",
       "  & <dbl> & <dbl> & <chr> & <chr> & <chr> & <dbl>\\\\\n",
       "\\hline\n",
       "\tENSG00000102172 & 0.0004487017 & 0 & ENSG00000102172 & SMS    & ENSG00000102172 & -0.47489558\\\\\n",
       "\tENSG00000197471 & 0.0101915459 & 0 & ENSG00000197471 & SPN    & ENSG00000197471 &  0.02523694\\\\\n",
       "\tENSG00000183696 & 0.0204287537 & 0 & ENSG00000183696 & UPP1   & ENSG00000183696 &  0.10748667\\\\\n",
       "\tENSG00000156110 & 0.0407724419 & 0 & ENSG00000156110 & ADK    & ENSG00000156110 & -0.06338164\\\\\n",
       "\tENSG00000184207 & 0.0432077846 & 0 & ENSG00000184207 & PGP    & ENSG00000184207 & -0.11760761\\\\\n",
       "\tENSG00000166743 & 0.0860783074 & 0 & ENSG00000166743 & ACSM1  & ENSG00000166743 &  0.05073574\\\\\n",
       "\tENSG00000168237 & 0.1230548714 & 0 & ENSG00000168237 & GLYCTK & ENSG00000168237 & -0.02442754\\\\\n",
       "\tENSG00000007001 & 0.1428596855 & 0 & ENSG00000007001 & UPP2   & ENSG00000007001 & -0.02051014\\\\\n",
       "\tENSG00000115758 & 0.1773951212 & 0 & ENSG00000115758 & ODC1   & ENSG00000115758 &  0.03944082\\\\\n",
       "\tENSG00000257335 & 0.2708720828 & 0 & ENSG00000257335 & MGAM   & ENSG00000257335 &  0.06806851\\\\\n",
       "\tENSG00000243480 & 0.3632283962 & 0 & ENSG00000243480 & AMY2A  & ENSG00000243480 & -0.01932228\\\\\n",
       "\\end{tabular}\n"
      ],
      "text/markdown": [
       "\n",
       "A data.frame: 11 × 6\n",
       "\n",
       "| <!--/--> | bh_val &lt;dbl&gt; | median_expr &lt;dbl&gt; | gene &lt;chr&gt; | name &lt;chr&gt; | id &lt;chr&gt; | med_dep_score &lt;dbl&gt; |\n",
       "|---|---|---|---|---|---|---|\n",
       "| ENSG00000102172 | 0.0004487017 | 0 | ENSG00000102172 | SMS    | ENSG00000102172 | -0.47489558 |\n",
       "| ENSG00000197471 | 0.0101915459 | 0 | ENSG00000197471 | SPN    | ENSG00000197471 |  0.02523694 |\n",
       "| ENSG00000183696 | 0.0204287537 | 0 | ENSG00000183696 | UPP1   | ENSG00000183696 |  0.10748667 |\n",
       "| ENSG00000156110 | 0.0407724419 | 0 | ENSG00000156110 | ADK    | ENSG00000156110 | -0.06338164 |\n",
       "| ENSG00000184207 | 0.0432077846 | 0 | ENSG00000184207 | PGP    | ENSG00000184207 | -0.11760761 |\n",
       "| ENSG00000166743 | 0.0860783074 | 0 | ENSG00000166743 | ACSM1  | ENSG00000166743 |  0.05073574 |\n",
       "| ENSG00000168237 | 0.1230548714 | 0 | ENSG00000168237 | GLYCTK | ENSG00000168237 | -0.02442754 |\n",
       "| ENSG00000007001 | 0.1428596855 | 0 | ENSG00000007001 | UPP2   | ENSG00000007001 | -0.02051014 |\n",
       "| ENSG00000115758 | 0.1773951212 | 0 | ENSG00000115758 | ODC1   | ENSG00000115758 |  0.03944082 |\n",
       "| ENSG00000257335 | 0.2708720828 | 0 | ENSG00000257335 | MGAM   | ENSG00000257335 |  0.06806851 |\n",
       "| ENSG00000243480 | 0.3632283962 | 0 | ENSG00000243480 | AMY2A  | ENSG00000243480 | -0.01932228 |\n",
       "\n"
      ],
      "text/plain": [
       "                bh_val       median_expr gene            name   id             \n",
       "ENSG00000102172 0.0004487017 0           ENSG00000102172 SMS    ENSG00000102172\n",
       "ENSG00000197471 0.0101915459 0           ENSG00000197471 SPN    ENSG00000197471\n",
       "ENSG00000183696 0.0204287537 0           ENSG00000183696 UPP1   ENSG00000183696\n",
       "ENSG00000156110 0.0407724419 0           ENSG00000156110 ADK    ENSG00000156110\n",
       "ENSG00000184207 0.0432077846 0           ENSG00000184207 PGP    ENSG00000184207\n",
       "ENSG00000166743 0.0860783074 0           ENSG00000166743 ACSM1  ENSG00000166743\n",
       "ENSG00000168237 0.1230548714 0           ENSG00000168237 GLYCTK ENSG00000168237\n",
       "ENSG00000007001 0.1428596855 0           ENSG00000007001 UPP2   ENSG00000007001\n",
       "ENSG00000115758 0.1773951212 0           ENSG00000115758 ODC1   ENSG00000115758\n",
       "ENSG00000257335 0.2708720828 0           ENSG00000257335 MGAM   ENSG00000257335\n",
       "ENSG00000243480 0.3632283962 0           ENSG00000243480 AMY2A  ENSG00000243480\n",
       "                med_dep_score\n",
       "ENSG00000102172 -0.47489558  \n",
       "ENSG00000197471  0.02523694  \n",
       "ENSG00000183696  0.10748667  \n",
       "ENSG00000156110 -0.06338164  \n",
       "ENSG00000184207 -0.11760761  \n",
       "ENSG00000166743  0.05073574  \n",
       "ENSG00000168237 -0.02442754  \n",
       "ENSG00000007001 -0.02051014  \n",
       "ENSG00000115758  0.03944082  \n",
       "ENSG00000257335  0.06806851  \n",
       "ENSG00000243480 -0.01932228  "
      ]
     },
     "metadata": {},
     "output_type": "display_data"
    }
   ],
   "source": [
    "plot_matrix_copy_3"
   ]
  },
  {
   "cell_type": "code",
   "execution_count": 45,
   "id": "a904d188",
   "metadata": {},
   "outputs": [],
   "source": [
    "plot_matrix_copy_4 <- plot_matrix_copy_2[plot_matrix_copy_2$med_dep_score < -0.2,]"
   ]
  },
  {
   "cell_type": "code",
   "execution_count": 46,
   "id": "ccc8b037",
   "metadata": {},
   "outputs": [
    {
     "data": {
      "text/html": [
       "<strong>png:</strong> 2"
      ],
      "text/latex": [
       "\\textbf{png:} 2"
      ],
      "text/markdown": [
       "**png:** 2"
      ],
      "text/plain": [
       "png \n",
       "  2 "
      ]
     },
     "metadata": {},
     "output_type": "display_data"
    }
   ],
   "source": [
    "pdf('corr_matrix_bh_v_depmap.pdf')\n",
    "plot(\n",
    "    -1 * log(plot_matrix_copy_4$bh_val + bump), \n",
    "    (plot_matrix_copy_4$med_dep_score), \n",
    "    main=paste(\"Pearson: \", cor(-1 * log(plot_matrix_copy_4$bh_val + bump), (plot_matrix_copy_4$med_dep_score),  method = \"pearson\")),\n",
    "    xlab=\"KM Score\", \n",
    "    ylab=\"DepMap score\", \n",
    "    pch=19,\n",
    "    col = rgb(red = 0, green = 0, blue = 0, alpha = 0.1))\n",
    "dev.off()"
   ]
  },
  {
   "cell_type": "markdown",
   "id": "05ebf82d-a880-496d-ad38-964c500c9d33",
   "metadata": {},
   "source": [
    "<a id=\"session\"><h3>Session Info</h3></a>"
   ]
  },
  {
   "cell_type": "code",
   "execution_count": 237,
   "id": "c7c2d119-4aca-4542-9512-3410a7640e60",
   "metadata": {},
   "outputs": [
    {
     "data": {
      "text/plain": [
       "R version 4.0.2 (2020-06-22)\n",
       "Platform: x86_64-w64-mingw32/x64 (64-bit)\n",
       "Running under: Windows 10 x64 (build 22000)\n",
       "\n",
       "Matrix products: default\n",
       "\n",
       "locale:\n",
       "[1] LC_COLLATE=English_United States.1252 \n",
       "[2] LC_CTYPE=English_United States.1252   \n",
       "[3] LC_MONETARY=English_United States.1252\n",
       "[4] LC_NUMERIC=C                          \n",
       "[5] LC_TIME=English_United States.1252    \n",
       "\n",
       "attached base packages:\n",
       "[1] parallel  stats4    stats     graphics  grDevices utils     datasets \n",
       "[8] methods   base     \n",
       "\n",
       "other attached packages:\n",
       " [1] org.Hs.eg.db_3.11.4  AnnotationDbi_1.50.3 IRanges_2.22.2      \n",
       " [4] S4Vectors_0.26.1     Biobase_2.48.0       BiocGenerics_0.34.0 \n",
       " [7] data.table_1.13.6    stringr_1.4.0        survminer_0.4.9     \n",
       "[10] ggpubr_0.4.0         ggplot2_3.3.3        survival_3.2-11     \n",
       "\n",
       "loaded via a namespace (and not attached):\n",
       " [1] tidyr_1.1.2       bit64_4.0.5       jsonlite_1.7.2    splines_4.0.2    \n",
       " [5] carData_3.0-4     assertthat_0.2.1  blob_1.2.1        cellranger_1.1.0 \n",
       " [9] pillar_1.6.0      RSQLite_2.2.7     backports_1.2.1   lattice_0.20-41  \n",
       "[13] glue_1.4.2        uuid_0.1-4        digest_0.6.27     ggsignif_0.6.1   \n",
       "[17] colorspace_2.0-0  htmltools_0.5.1.1 Matrix_1.3-4      pkgconfig_2.0.3  \n",
       "[21] broom_0.7.6       haven_2.3.1       purrr_0.3.4       xtable_1.8-4     \n",
       "[25] scales_1.1.1      km.ci_0.5-2       openxlsx_4.2.3    rio_0.5.26       \n",
       "[29] KMsurv_0.1-5      tibble_3.0.6      mgcv_1.8-31       farver_2.1.0     \n",
       "[33] generics_0.1.0    car_3.0-10        ellipsis_0.3.1    cachem_1.0.4     \n",
       "[37] withr_2.4.2       repr_1.1.3        magrittr_2.0.1    crayon_1.4.1     \n",
       "[41] readxl_1.3.1      memoise_2.0.0     evaluate_0.14     fansi_0.4.2      \n",
       "[45] nlme_3.1-148      rstatix_0.7.0     forcats_0.5.1     foreign_0.8-80   \n",
       "[49] tools_4.0.2       hms_1.0.0         lifecycle_1.0.0   munsell_0.5.0    \n",
       "[53] zip_2.1.1         compiler_4.0.2    rlang_0.4.10      grid_4.0.2       \n",
       "[57] pbdZMQ_0.3-5      IRkernel_1.1.1    labeling_0.4.2    base64enc_0.1-3  \n",
       "[61] gtable_0.3.0      abind_1.4-5       DBI_1.1.1         curl_4.3         \n",
       "[65] R6_2.5.0          gridExtra_2.3     zoo_1.8-8         knitr_1.33       \n",
       "[69] dplyr_1.0.5       fastmap_1.1.0     survMisc_0.5.5    bit_4.0.4        \n",
       "[73] utf8_1.2.1        stringi_1.5.3     IRdisplay_1.0     Rcpp_1.0.7       \n",
       "[77] vctrs_0.3.6       tidyselect_1.1.0  xfun_0.22        "
      ]
     },
     "metadata": {},
     "output_type": "display_data"
    }
   ],
   "source": [
    "sessionInfo()"
   ]
  },
  {
   "cell_type": "code",
   "execution_count": null,
   "id": "fc2f540a-e2bf-4938-a538-7dd57e4de19f",
   "metadata": {},
   "outputs": [],
   "source": []
  }
 ],
 "metadata": {
  "kernelspec": {
   "display_name": "R",
   "language": "R",
   "name": "ir"
  },
  "language_info": {
   "codemirror_mode": "r",
   "file_extension": ".r",
   "mimetype": "text/x-r-source",
   "name": "R",
   "pygments_lexer": "r",
   "version": "4.0.2"
  }
 },
 "nbformat": 4,
 "nbformat_minor": 5
}
