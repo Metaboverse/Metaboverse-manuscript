{
 "cells": [
  {
   "cell_type": "markdown",
   "id": "adc53d81-719c-4b68-9f19-e3582b360c49",
   "metadata": {},
   "source": [
    "# LUAD survival analysis\n",
    "\n",
    "#### Data sources:\n",
    "- `rna_cancer_sample.tsv`: Human Protein Atlas (https://www.proteinatlas.org/download/rna_cancer_sample.tsv.zip)\n",
    "- `clinical.tsv`: TCGA (https://portal.gdc.cancer.gov/projects/TCGA-LUAD; click Clinical download button)\n",
    "\n",
    "Data were pre-normalized as part of the Human Protein Atlas project\n",
    "\n",
    "#### Table of contents:\n",
    "<ul>\n",
    "    <li><a href=\"#import\">Import dependencies</a></li>\n",
    "    <li><a href=\"#functions\">Functions</a></li>\n",
    "    <li><a href=\"#read\">Read gene expression data and format</a></li>\n",
    "    <li><a href=\"#censor\">Read clinical data and format/censor</a></li>\n",
    "    <li><a href=\"#summary\">Data summaries</a></li>\n",
    "    <li><a href=\"#sms\">SMS (ENSG00000102172)</a></li>\n",
    "        <ul>\n",
    "           <li>All stages</li>\n",
    "           <li>Early stages</li>\n",
    "           <li>Late stages</li>\n",
    "        </ul>\n",
    "    <li><a href=\"#glyctk\">GLYCTK (ENSG00000168237)</a></li>\n",
    "        <ul>\n",
    "           <li>All stages</li>\n",
    "           <li>Early stages</li>\n",
    "           <li>Late stages</li>\n",
    "        </ul>\n",
    "    <li><a href=\"#all\">Perform analysis on all genes</a></li>    \n",
    "    <li><a href=\"#rank\">Rank order survival p-values</a></li>   \n",
    "        <ul>\n",
    "           <li>SMS</li>\n",
    "           <li>GLYCTK</li>\n",
    "        </ul>\n",
    "    <li><a href=\"#plots\">Plots</a></li>\n",
    "        <ul>\n",
    "           <li>All stages</li>\n",
    "           <li>Early stages</li>\n",
    "           <li>Late stages</li>\n",
    "        </ul>\n",
    "    <li><a href=\"#session\">Session Info</a></li>\n",
    "</ul>"
   ]
  },
  {
   "cell_type": "markdown",
   "id": "1ba979ad",
   "metadata": {},
   "source": [
    "<a id=\"import\"><h3>Import dependencies</h3></a>"
   ]
  },
  {
   "cell_type": "code",
   "execution_count": 1,
   "id": "4638c5e9",
   "metadata": {
    "tags": []
   },
   "outputs": [
    {
     "name": "stderr",
     "output_type": "stream",
     "text": [
      "Loading required package: ggplot2\n",
      "\n",
      "Loading required package: ggpubr\n",
      "\n"
     ]
    },
    {
     "ename": "ERROR",
     "evalue": "Error in setwd(\"C:/Users/jorda/Desktop/projects/manuscript/rna_cancer_data/tcga_classic/\"): cannot change working directory\n",
     "output_type": "error",
     "traceback": [
      "Error in setwd(\"C:/Users/jorda/Desktop/projects/manuscript/rna_cancer_data/tcga_classic/\"): cannot change working directory\nTraceback:\n",
      "1. suppressWarnings({\n .     library(survival)\n .     library(survminer)\n .     library(stringr)\n .     library(data.table)\n .     setwd(\"C:/Users/jorda/Desktop/projects/manuscript/rna_cancer_data/tcga_classic/\")\n . })",
      "2. withCallingHandlers(expr, warning = function(w) if (inherits(w, \n .     classes)) tryInvokeRestart(\"muffleWarning\"))",
      "3. setwd(\"C:/Users/jorda/Desktop/projects/manuscript/rna_cancer_data/tcga_classic/\")   # at line 7 of file <text>"
     ]
    }
   ],
   "source": [
    "suppressWarnings({\n",
    "    library(survival)\n",
    "    library(survminer)\n",
    "    library(stringr)\n",
    "    library(data.table)\n",
    "\n",
    "    setwd(\"C:/Users/jorda/Desktop/projects/manuscript/rna_cancer_data/tcga_classic/\")\n",
    "})"
   ]
  },
  {
   "cell_type": "markdown",
   "id": "d48297dc",
   "metadata": {},
   "source": [
    "<a id=\"functions\"><h3>Functions</h3></a>"
   ]
  },
  {
   "cell_type": "code",
   "execution_count": null,
   "id": "0bd879f2",
   "metadata": {},
   "outputs": [],
   "source": [
    "# Clean and prepare clinical data \n",
    "censor_df <- function (df) {\n",
    "    # Censor alive==0/dead==1\n",
    "    # See \"event\" description at https://www.rdocumentation.org/packages/survival/versions/2.11-4/topics/Surv\n",
    "    censor_data <- function(x) if (x == \"Alive\") {0} else {1}\n",
    "    df$status <- mapply(censor_data, df$vital_status)\n",
    "    df$status <- as.numeric(df$status)\n",
    "    df$days_to_death <- as.numeric(df$days_to_death) ##################### <-------- NAs\n",
    "    \n",
    "    # Right censor for alive\n",
    "    # https://cran.r-project.org/web/packages/finalfit/vignettes/survival.html\n",
    "    df$days_to_death <- ifelse(\n",
    "        is.na(df$days_to_death), \n",
    "        df$days_to_last_follow_up, \n",
    "        df$days_to_death)\n",
    "    \n",
    "    df$days_to_death <- ifelse(\n",
    "        df$days_to_death == \"'--\", \n",
    "        df$days_to_last_follow_up, \n",
    "        df$days_to_death)\n",
    "    \n",
    "    return (df)\n",
    "}\n",
    "\n",
    "clean_df <- function(df) {\n",
    "    # Get relevant data and perform some additional data clean-up\n",
    "    df <- df[ , c(\"case_submitter_id\", \"ajcc_pathologic_stage\", \"status\", \"days_to_death\", \"days_to_last_follow_up\")] \n",
    "\n",
    "    # remove duplicate entries\n",
    "    df <- unique(df[,])\n",
    "\n",
    "    # remove samples with no days to death after censoring\n",
    "    df <- df[df$days_to_death != \"'--\", ]\n",
    "\n",
    "    # Make sure output formatting is correct\n",
    "    df$status <- as.numeric(as.character(df$status))\n",
    "    df$days_to_death <- as.numeric(as.character(df$days_to_death))\n",
    "    \n",
    "    return (df)\n",
    "}\n",
    "\n",
    "parse_stages <- function(df) {\n",
    "    \n",
    "    # Add stage category labels\n",
    "    df$stage <- df$ajcc_pathologic_stage\n",
    "    df <- df[df$stage != \"'--\", ]\n",
    "    df$stage[\n",
    "        df$stage == \"Stage I\" | \n",
    "        df$stage == \"Stage IA\" | \n",
    "        df$stage == \"Stage IB\"] <- 1\n",
    "    df$stage[\n",
    "        df$stage == \"Stage II\" | \n",
    "        df$stage == \"Stage IIA\" | \n",
    "        df$stage == \"Stage IIB\"] <- 2\n",
    "    df$stage[\n",
    "        df$stage == \"Stage III\" | \n",
    "        df$stage == \"Stage IIIA\" | \n",
    "        df$stage == \"Stage IIIB\"] <- 3\n",
    "    df$stage[\n",
    "        df$stage == \"Stage IV\" | \n",
    "        df$stage == \"Stage IVA\" | \n",
    "        df$stage == \"Stage IVB\"] <- 4\n",
    "\n",
    "    # Parse out early vs. late patients\n",
    "    early <- df[\n",
    "        df$ajcc_pathologic_stage == \"Stage I\" | \n",
    "        df$ajcc_pathologic_stage == \"Stage IA\" | \n",
    "        df$ajcc_pathologic_stage == \"Stage IB\", ]\n",
    "    late <- df[\n",
    "        df$ajcc_pathologic_stage != \"Stage I\" & \n",
    "        df$ajcc_pathologic_stage != \"Stage IA\" & \n",
    "        df$ajcc_pathologic_stage != \"Stage IB\", ]\n",
    "    all <- df\n",
    "    \n",
    "    v = list(all, early, late)\n",
    "    names(v) <- c(\"all\", \"early\", \"late\")\n",
    "    \n",
    "    return (v)\n",
    "}"
   ]
  },
  {
   "cell_type": "code",
   "execution_count": null,
   "id": "17a73732",
   "metadata": {},
   "outputs": [],
   "source": [
    "plot_day_dist <- function(df, export=FALSE) {\n",
    "    if (export != FALSE) {\n",
    "        pdf(export)\n",
    "    }\n",
    "    \n",
    "    # initialize plotting space \n",
    "    par(mfrow=c(1,2), pin=c(3,1))\n",
    "    \n",
    "    # plot days to death for dead patients distribution\n",
    "    x1 <- df[df$status == 1, ]$days_to_death\n",
    "    h1 <-hist(x1, breaks=20, col=\"red\", xlab=\"Days to Death\", main=\"Dead\")\n",
    "    xfit1<-seq(min(x1),max(x1),length=40)\n",
    "    yfit1<-dnorm(xfit1,mean=mean(x1),sd=sd(x1))\n",
    "    yfit1 <- yfit1*diff(h1$mids[1:2])*length(x1)\n",
    "    lines(xfit1, yfit1, col=\"red\", lwd=2)\n",
    "    \n",
    "    # plot days to follow-up for alive patients distribution\n",
    "    x2 <- df[df$status == 0, ]$days_to_death\n",
    "    h2 <- hist(x2, breaks=20, col=\"blue\", xlab=\"Days to Follow-up\", main=\"Alive\")\n",
    "    xfit2<-seq(min(x2),max(x2),length=40)\n",
    "    yfit2<-dnorm(xfit2,mean=mean(x2),sd=sd(x2))\n",
    "    yfit2 <- yfit2*diff(h2$mids[1:2])*length(x2)\n",
    "    lines(xfit2, yfit2, col=\"blue\", lwd=2)\n",
    "    \n",
    "    if (export != FALSE) {\n",
    "        dev.off()\n",
    "    }\n",
    "}\n",
    "\n",
    "plot_gene_summary <- function(df, gene, title=NULL, export=FALSE, color=\"blue\") {\n",
    "    if (export != FALSE) {\n",
    "        pdf(export)\n",
    "    }\n",
    "    \n",
    "    if (is.null(title)) {\n",
    "        title = gene\n",
    "    }\n",
    "    \n",
    "    print(paste(title, \"gene expression summary\"))\n",
    "    print(summary(df[df$Gene == gene,]$FPKM))\n",
    "\n",
    "    x2 <- df[df$Gene == gene, ]$FPKM\n",
    "    h2 <- hist(x2, breaks=100, col=\"grey\", xlab=\"FPKM\", main=title)\n",
    "    xfit2<-seq(min(x2),max(x2),length=40)\n",
    "    yfit2<-dnorm(xfit2,mean=mean(x2),sd=sd(x2))\n",
    "    yfit2 <- yfit2*diff(h2$mids[1:2])*length(x2)\n",
    "    lines(xfit2, yfit2, col=\"blue\", lwd=2)\n",
    "    \n",
    "    if (export != FALSE) {\n",
    "        dev.off()\n",
    "    }\n",
    "}"
   ]
  },
  {
   "cell_type": "code",
   "execution_count": 2,
   "id": "0e626b27",
   "metadata": {},
   "outputs": [],
   "source": [
    "analyze_all_genes <- function(expression, clinical, gene_list) {\n",
    "    \n",
    "    median_pvals <-list()\n",
    "    optimized_pvals <- list()\n",
    "    counter <- 0\n",
    "\n",
    "    for (gene in gene_list) {\n",
    "      tryCatch({\n",
    "        data_gene <- expression[expression$Gene == gene,]\n",
    "        # Merged mixed data tables\n",
    "        merged_data_gene <- merge(\n",
    "          data_gene,\n",
    "          clinical,\n",
    "          by.x = \"Sample\",\n",
    "          by.y = \"case_submitter_id\")\n",
    "\n",
    "        this_median <- median(merged_data_gene$FPKM)\n",
    "        merged_data_gene$gene_status <- ifelse(merged_data_gene$FPKM > this_median, \"high\", \"low\")\n",
    "        km_trt_fit <- surv_fit(Surv(days_to_death, status) ~ gene_status, data=merged_data_gene)\n",
    "\n",
    "        opt_cutoff <- surv_cutpoint(\n",
    "            merged_data_gene, \n",
    "            time = \"days_to_death\", \n",
    "            event = \"status\", \n",
    "            variables = c(\"FPKM\"),\n",
    "            minprop=0.2)\n",
    "        opt_categories <- surv_categorize(opt_cutoff)\n",
    "        opt_fit <- surv_fit(Surv(days_to_death, status) ~ FPKM, data = opt_categories)\n",
    "\n",
    "        median_pvals[gene] <- surv_pvalue(km_trt_fit)$pval\n",
    "        optimized_pvals[gene] <- surv_pvalue(opt_fit)$pval\n",
    "          \n",
    "      }, error = function (condition) {\n",
    "        counter <- counter + 1\n",
    "      })\n",
    "    }\n",
    "    print(paste(\"Skipped\", counter, \"genes\", sep=\" \"))\n",
    "    \n",
    "    v = list(median_pvals, optimized_pvals)\n",
    "    names(v) <- c(\"median\", \"optimized\")\n",
    "    \n",
    "    return (v)\n",
    "}"
   ]
  },
  {
   "cell_type": "code",
   "execution_count": 3,
   "id": "01ecf7a6",
   "metadata": {},
   "outputs": [],
   "source": [
    "plot_scatter <- function(expression, clinical, gene, title=NULL, export=FALSE) {\n",
    "    if (export != FALSE) {\n",
    "        pdf(export)\n",
    "    }\n",
    "    \n",
    "    if (is.null(title)) {\n",
    "        title = gene\n",
    "    }\n",
    "    \n",
    "    print(title)\n",
    "    data_gene <- expression[expression$Gene == gene,]\n",
    "    merged_data_gene <- merge(\n",
    "      data_gene,\n",
    "      clinical,\n",
    "      by.x = \"Sample\",\n",
    "      by.y = \"case_submitter_id\")\n",
    "\n",
    "    plot(merged_data_gene$FPKM, merged_data_gene$days_to_death)\n",
    "    \n",
    "    if (export != FALSE) {\n",
    "        dev.off()\n",
    "    }\n",
    "}"
   ]
  },
  {
   "cell_type": "code",
   "execution_count": 4,
   "id": "b4b52be1",
   "metadata": {},
   "outputs": [],
   "source": [
    "get_best_cutoff <- function(expression, clinical, gene, title=NULL, stage=\"All\", minprop=0.2) {\n",
    "    if (is.null(title)) {\n",
    "        title = gene\n",
    "    }\n",
    "    print(paste(stage, \":::\", title))\n",
    "    \n",
    "    # K-M Curve\n",
    "    data_gene <- expression[expression$Gene == gene,]\n",
    "    # Merged mixed data tables\n",
    "    merged_data_gene <- merge(\n",
    "      data_gene,\n",
    "      clinical,\n",
    "      by.x = \"Sample\",\n",
    "      by.y = \"case_submitter_id\")\n",
    "    \n",
    "    # Optimized threshold\n",
    "    opt_cutoff <- surv_cutpoint(\n",
    "        data = merged_data_gene, \n",
    "        time = \"days_to_death\", \n",
    "        event = \"status\", \n",
    "        variables = c(\"FPKM\"),\n",
    "        minprop=minprop)\n",
    "    opt_categories <- surv_categorize(x = opt_cutoff)\n",
    "    opt_fit <- surv_fit(formula = Surv(days_to_death, status) ~ FPKM, data = opt_categories)\n",
    "    \n",
    "    # Get p-values\n",
    "    val_opt <- surv_pvalue(opt_fit)$pval\n",
    "\n",
    "    # Print stats\n",
    "    print(paste(\"Optimized cutoff:\", opt_cutoff$cutpoint$cutpoint))\n",
    "    print(paste(\"Best fit p-value:\", val_opt))\n",
    "    print(paste(\"high:\", sum(str_count(opt_categories$FPKM, \"high\"))))\n",
    "    print(paste(\"low:\", sum(str_count(opt_categories$FPKM, \"low\"))))\n",
    "\n",
    "    # Cox Regression\n",
    "    res.cox <- coxph(Surv(days_to_death, status) ~ FPKM, data=opt_categories)\n",
    "    print(summary(res.cox))\n",
    " \n",
    "    best_value = list(opt_fit, opt_cutoff, opt_cutoff$cutpoint$cutpoint, opt_categories, val_opt)\n",
    "    names(best_value) = list(\"model\", \"cutoff_obj\", \"cutoff\", \"categories\", \"p_val\")\n",
    "    return (best_value)\n",
    "}\n",
    "\n",
    "use_cutoff <- function(expression, clinical, gene, cutoff, title=NULL, stage=\"All\") {\n",
    "    if (is.null(title)) {\n",
    "        title = gene\n",
    "    }\n",
    "    print(paste(stage, \":::\", title))\n",
    "    \n",
    "    data_gene <- expression[expression$Gene == gene,]\n",
    "    # Merged mixed data tables\n",
    "    merged_data_gene <- merge(\n",
    "      data_gene,\n",
    "      clinical,\n",
    "      by.x = \"Sample\",\n",
    "      by.y = \"case_submitter_id\")\n",
    "\n",
    "    merged_data_gene$gene_status <- ifelse(merged_data_gene$FPKM > cutoff, \"high\", \"low\")\n",
    "    opt_fit <- surv_fit(Surv(days_to_death, status) ~ gene_status, data=merged_data_gene)\n",
    "\n",
    "    # Get p-values\n",
    "    val_opt <- surv_pvalue(opt_fit)$pval\n",
    "\n",
    "    # Print stats\n",
    "    print(paste(\"Used cutoff:\", cutoff))\n",
    "    print(paste(\"Used p-value:\", val_opt))\n",
    "    print(paste(\"high:\", sum(str_count(merged_data_gene$gene_status, \"high\"))))\n",
    "    print(paste(\"low:\", sum(str_count(merged_data_gene$gene_status, \"low\"))))\n",
    "    \n",
    "    res.cox <- coxph(Surv(days_to_death, status) ~ gene_status, data=merged_data_gene)\n",
    "    print(summary(res.cox))\n",
    "    \n",
    "    best_value = list(opt_fit, val_opt)\n",
    "    names(best_value) = list(\"model\", \"p_val\")\n",
    "    return (best_value)\n",
    "}"
   ]
  },
  {
   "cell_type": "markdown",
   "id": "3da3db73",
   "metadata": {},
   "source": [
    "<a id=\"read\"><h3>Read gene expression data and format</h3></a>"
   ]
  },
  {
   "cell_type": "code",
   "execution_count": 5,
   "id": "dd248773",
   "metadata": {
    "tags": []
   },
   "outputs": [
    {
     "data": {
      "text/html": [
       "<style>\n",
       ".list-inline {list-style: none; margin:0; padding: 0}\n",
       ".list-inline>li {display: inline-block}\n",
       ".list-inline>li:not(:last-child)::after {content: \"\\00b7\"; padding: 0 .5ex}\n",
       "</style>\n",
       "<ol class=list-inline><li>9728500</li><li>4</li></ol>\n"
      ],
      "text/latex": [
       "\\begin{enumerate*}\n",
       "\\item 9728500\n",
       "\\item 4\n",
       "\\end{enumerate*}\n"
      ],
      "text/markdown": [
       "1. 9728500\n",
       "2. 4\n",
       "\n",
       "\n"
      ],
      "text/plain": [
       "[1] 9728500       4"
      ]
     },
     "metadata": {},
     "output_type": "display_data"
    }
   ],
   "source": [
    "rpkm_data <- read.csv(\n",
    "    file = 'rna_cancer_sample.tsv', \n",
    "    sep=\"\\t\")\n",
    "\n",
    "# Extract LUAD data\n",
    "rpkm_data <- rpkm_data[rpkm_data$Cancer == 'LUAD',]\n",
    "\n",
    "# Clean up Sample IDs\n",
    "rpkm_data$Sample <- sapply(strsplit(rpkm_data$Sample, \"-01A\"), \"[\", 1)\n",
    "gene_list <- unique(rpkm_data$Gene)\n",
    "rpkm_data$FPKM <- as.numeric(rpkm_data$FPKM)\n",
    "\n",
    "dim(rpkm_data)"
   ]
  },
  {
   "cell_type": "markdown",
   "id": "8d0ebd5e",
   "metadata": {},
   "source": [
    "<a id=\"censor\"><h3>Read clinical data and format/censor</h3></a> "
   ]
  },
  {
   "cell_type": "code",
   "execution_count": 6,
   "id": "6ee45a5e",
   "metadata": {},
   "outputs": [
    {
     "ename": "ERROR",
     "evalue": "Error in censor_df(clinical_data): could not find function \"censor_df\"\n",
     "output_type": "error",
     "traceback": [
      "Error in censor_df(clinical_data): could not find function \"censor_df\"\nTraceback:\n"
     ]
    }
   ],
   "source": [
    "clinical_data <- read.csv(\n",
    "    file = \"clinical.tsv\", \n",
    "    sep=\"\\t\")\n",
    "\n",
    "clinical_data <- censor_df(\n",
    "    clinical_data)\n",
    "dim(clinical_data)\n",
    "\n",
    "clinical_data <- clean_df(\n",
    "    clinical_data)\n",
    "dim(clinical_data)\n",
    "\n",
    "clinical_data <- parse_stages(\n",
    "    clinical_data)"
   ]
  },
  {
   "cell_type": "markdown",
   "id": "2cd64aa1",
   "metadata": {},
   "source": [
    "<a id=\"summary\"><h3>Data summaries</h3></a>"
   ]
  },
  {
   "cell_type": "code",
   "execution_count": null,
   "id": "9dd43f5a-3464-4faa-9479-302d7d605cf7",
   "metadata": {},
   "outputs": [],
   "source": [
    "# plot day distribtions for groups\n",
    "plot_day_dist(\n",
    "    clinical_data$all,\n",
    "    export=\"patient_distribution.pdf\")"
   ]
  },
  {
   "cell_type": "code",
   "execution_count": null,
   "id": "674117ba-d3be-4c1e-b22b-94d49311a2b1",
   "metadata": {},
   "outputs": [],
   "source": [
    "plot_gene_summary(\n",
    "    rpkm_data, \n",
    "    \"ENSG00000102172\", \n",
    "    \"SMS\",\n",
    "    export=\"gene_summary_sms.pdf\")"
   ]
  },
  {
   "cell_type": "code",
   "execution_count": null,
   "id": "6de90800",
   "metadata": {},
   "outputs": [],
   "source": [
    "plot_gene_summary(\n",
    "    rpkm_data, \n",
    "    \"ENSG00000168237\", \n",
    "    \"GLYCTK\",\n",
    "    export=\"gene_summary_glyctk.pdf\")"
   ]
  },
  {
   "cell_type": "code",
   "execution_count": null,
   "id": "c5b7fb69",
   "metadata": {},
   "outputs": [],
   "source": [
    "# Plot both in same plotting space"
   ]
  },
  {
   "cell_type": "code",
   "execution_count": null,
   "id": "9fc38ac1",
   "metadata": {},
   "outputs": [],
   "source": [
    "pdf(\"gene_summary_both.pdf\", height=8, width=10)\n",
    "\n",
    "# initialize plotting space \n",
    "par(mfrow=c(1,2), pin=c(3,3))\n",
    "\n",
    "x1 <- rpkm_data[rpkm_data$Gene == \"ENSG00000102172\", ]$FPKM\n",
    "h1 <- hist(x1, breaks=100, col=\"grey\", xlab=\"FPKM\", main=\"SMS\")\n",
    "xfit1<-seq(min(x1),max(x1),length=40)\n",
    "yfit1<-dnorm(xfit1,mean=mean(x1),sd=sd(x1))\n",
    "yfit1 <- yfit1*diff(h1$mids[1:2])*length(x1)\n",
    "lines(xfit1, yfit1, col=\"blue\", lwd=2)\n",
    "\n",
    "x2 <- rpkm_data[rpkm_data$Gene == \"ENSG00000168237\", ]$FPKM\n",
    "h2 <- hist(x2, breaks=100, col=\"grey\", xlab=\"FPKM\", main=\"GLYCTK\")\n",
    "xfit2<-seq(min(x2),max(x2),length=40)\n",
    "yfit2<-dnorm(xfit2,mean=mean(x2),sd=sd(x2))\n",
    "yfit2 <- yfit2*diff(h2$mids[1:2])*length(x2)\n",
    "lines(xfit2, yfit2, col=\"blue\", lwd=2)\n",
    "\n",
    "dev.off()"
   ]
  },
  {
   "cell_type": "code",
   "execution_count": null,
   "id": "b017dc66",
   "metadata": {},
   "outputs": [],
   "source": []
  },
  {
   "cell_type": "code",
   "execution_count": null,
   "id": "cadf14f7",
   "metadata": {},
   "outputs": [],
   "source": []
  },
  {
   "cell_type": "markdown",
   "id": "ef143c63",
   "metadata": {},
   "source": [
    "### ========================================================================================="
   ]
  },
  {
   "cell_type": "markdown",
   "id": "5c446f0b-6113-45d9-909d-593e6ea5e5cc",
   "metadata": {},
   "source": [
    "<a id=\"sms\"><h3>SMS (ENSG00000102172)</h3></a>"
   ]
  },
  {
   "cell_type": "markdown",
   "id": "484be22b-d625-4892-ae35-1e556852fdcf",
   "metadata": {},
   "source": [
    "#### All stages"
   ]
  },
  {
   "cell_type": "code",
   "execution_count": 114,
   "id": "49647d15",
   "metadata": {},
   "outputs": [
    {
     "name": "stdout",
     "output_type": "stream",
     "text": [
      "[1] \"SMS\"\n"
     ]
    },
    {
     "data": {
      "image/png": "[encoded data removed]",
      "text/plain": [
       "plot without title"
      ]
     },
     "metadata": {
      "image/png": {
       "height": 420,
       "width": 420
      }
     },
     "output_type": "display_data"
    }
   ],
   "source": [
    "plot_scatter(\n",
    "    rpkm_data, \n",
    "    clinical_data$all, \n",
    "    \"ENSG00000102172\", \n",
    "    \"SMS\")"
   ]
  },
  {
   "cell_type": "code",
   "execution_count": 147,
   "id": "d952ebd8",
   "metadata": {},
   "outputs": [
    {
     "name": "stdout",
     "output_type": "stream",
     "text": [
      "[1] \"All ::: SMS\"\n",
      "[1] \"Optimized cutoff: 49.5413\"\n",
      "[1] \"Best fit p-value: 2.92888467053861e-06\"\n",
      "[1] \"high: 105\"\n",
      "[1] \"low: 382\"\n",
      "Call:\n",
      "coxph(formula = Surv(days_to_death, status) ~ FPKM, data = opt_categories)\n",
      "\n",
      "  n= 487, number of events= 177 \n",
      "\n",
      "           coef exp(coef) se(coef)      z Pr(>|z|)    \n",
      "FPKMlow -0.7461    0.4742   0.1632 -4.571 4.85e-06 ***\n",
      "---\n",
      "Signif. codes:  0 '***' 0.001 '**' 0.01 '*' 0.05 '.' 0.1 ' ' 1\n",
      "\n",
      "        exp(coef) exp(-coef) lower .95 upper .95\n",
      "FPKMlow    0.4742      2.109    0.3444     0.653\n",
      "\n",
      "Concordance= 0.567  (se = 0.019 )\n",
      "Likelihood ratio test= 18.88  on 1 df,   p=1e-05\n",
      "Wald test            = 20.89  on 1 df,   p=5e-06\n",
      "Score (logrank) test = 21.87  on 1 df,   p=3e-06\n",
      "\n"
     ]
    }
   ],
   "source": [
    "best_values_sms_all <- get_best_cutoff(\n",
    "    expression=rpkm_data, \n",
    "    clinical=clinical_data$all, \n",
    "    gene=\"ENSG00000102172\", \n",
    "    title=\"SMS\", \n",
    "    stage=\"All\")"
   ]
  },
  {
   "cell_type": "code",
   "execution_count": 185,
   "id": "0572ae84",
   "metadata": {},
   "outputs": [
    {
     "data": {
      "text/html": [
       "<strong>png:</strong> 2"
      ],
      "text/latex": [
       "\\textbf{png:} 2"
      ],
      "text/markdown": [
       "**png:** 2"
      ],
      "text/plain": [
       "png \n",
       "  2 "
      ]
     },
     "metadata": {},
     "output_type": "display_data"
    }
   ],
   "source": [
    "pdf(\"stat_dist_sms_all.pdf\")\n",
    "plot(\n",
    "    best_values_sms_all$cutoff_obj, \n",
    "    \"FPKM\", \n",
    "    palette = \"npg\", \n",
    "    bins = 50)$FPKM\n",
    "dev.off()"
   ]
  },
  {
   "cell_type": "code",
   "execution_count": 186,
   "id": "f86fcf95",
   "metadata": {},
   "outputs": [
    {
     "data": {
      "text/html": [
       "<strong>png:</strong> 2"
      ],
      "text/latex": [
       "\\textbf{png:} 2"
      ],
      "text/markdown": [
       "**png:** 2"
      ],
      "text/plain": [
       "png \n",
       "  2 "
      ]
     },
     "metadata": {},
     "output_type": "display_data"
    }
   ],
   "source": [
    "model <- best_values_sms_all$model\n",
    "p_val <- best_values_sms_all$p_val\n",
    "dig_round=7\n",
    "p_pos=c(6000,1)\n",
    "\n",
    "pdf(\"km_opt_sms_all.pdf\")\n",
    "ggsurvplot(\n",
    "    model,\n",
    "    pval=round(p_val, digits = dig_round),\n",
    "    risk.table = TRUE,\n",
    "    conf.int=TRUE,\n",
    "    conf.int.style=\"ribbon\",\n",
    "    conf.int.alpha=0.2,\n",
    "    pval.method=TRUE,\n",
    "    pval.size=7,\n",
    "    pval.coord=p_pos,\n",
    "    surv.median.line=\"hv\",\n",
    "    xscale=\"d_y\",\n",
    "    xlab=\"time (years)\",\n",
    "    palette=c(\"dodgerblue2\", \"orchid2\"),\n",
    "    risk.table.height=.25)\n",
    "dev.off()"
   ]
  },
  {
   "cell_type": "markdown",
   "id": "3b2dc282-e1be-4d5c-9d09-cafeb346db0a",
   "metadata": {},
   "source": [
    "#### Early stages"
   ]
  },
  {
   "cell_type": "code",
   "execution_count": 150,
   "id": "b95bc7d4",
   "metadata": {},
   "outputs": [
    {
     "name": "stdout",
     "output_type": "stream",
     "text": [
      "[1] \"SMS\"\n"
     ]
    },
    {
     "data": {
      "image/png": "[encoded data removed]",
      "text/plain": [
       "plot without title"
      ]
     },
     "metadata": {
      "image/png": {
       "height": 420,
       "width": 420
      }
     },
     "output_type": "display_data"
    }
   ],
   "source": [
    "plot_scatter(\n",
    "    rpkm_data, \n",
    "    clinical_data$early, \n",
    "    \"ENSG00000102172\", \n",
    "    \"SMS\")"
   ]
  },
  {
   "cell_type": "code",
   "execution_count": 151,
   "id": "ef9c3bed-a919-487d-aa49-d6edf04a6bc1",
   "metadata": {
    "tags": []
   },
   "outputs": [
    {
     "name": "stdout",
     "output_type": "stream",
     "text": [
      "[1] \"Early ::: SMS\"\n",
      "[1] \"Used cutoff: 49.5413\"\n",
      "[1] \"Used p-value: 0.00021161907604961\"\n",
      "[1] \"high: 51\"\n",
      "[1] \"low: 213\"\n",
      "Call:\n",
      "coxph(formula = Surv(days_to_death, status) ~ gene_status, data = merged_data_gene)\n",
      "\n",
      "  n= 264, number of events= 63 \n",
      "\n",
      "                  coef exp(coef) se(coef)      z Pr(>|z|)    \n",
      "gene_statuslow -0.9707    0.3788   0.2722 -3.566 0.000362 ***\n",
      "---\n",
      "Signif. codes:  0 '***' 0.001 '**' 0.01 '*' 0.05 '.' 0.1 ' ' 1\n",
      "\n",
      "               exp(coef) exp(-coef) lower .95 upper .95\n",
      "gene_statuslow    0.3788       2.64    0.2222    0.6459\n",
      "\n",
      "Concordance= 0.585  (se = 0.034 )\n",
      "Likelihood ratio test= 11.26  on 1 df,   p=8e-04\n",
      "Wald test            = 12.72  on 1 df,   p=4e-04\n",
      "Score (logrank) test = 13.73  on 1 df,   p=2e-04\n",
      "\n"
     ]
    }
   ],
   "source": [
    "use_values_early <- use_cutoff(\n",
    "    rpkm_data, \n",
    "    clinical_data$early, \n",
    "    \"ENSG00000102172\", \n",
    "    best_values_sms_all$cutoff, \n",
    "    title=\"SMS\", \n",
    "    stage=\"Early\")"
   ]
  },
  {
   "cell_type": "code",
   "execution_count": 152,
   "id": "78332705",
   "metadata": {},
   "outputs": [
    {
     "data": {
      "image/png": "[encoded data removed]",
      "text/plain": [
       "plot without title"
      ]
     },
     "metadata": {
      "image/png": {
       "height": 420,
       "width": 420
      }
     },
     "output_type": "display_data"
    }
   ],
   "source": [
    "model <- use_values_early$model\n",
    "p_val <- use_values_early$p_val\n",
    "dig_round=7\n",
    "p_pos=c(6000,1)\n",
    "\n",
    "#pdf()\n",
    "ggsurvplot(\n",
    "    model,\n",
    "    pval=round(p_val, digits = dig_round),\n",
    "    risk.table = TRUE,\n",
    "    conf.int=TRUE,\n",
    "    conf.int.style=\"ribbon\",\n",
    "    conf.int.alpha=0.2,\n",
    "    pval.method=TRUE,\n",
    "    pval.size=7,\n",
    "    pval.coord=p_pos,\n",
    "    surv.median.line=\"hv\",\n",
    "    xscale=\"d_y\",\n",
    "    xlab=\"time (years)\",\n",
    "    palette=c(\"dodgerblue2\", \"orchid2\"),\n",
    "    risk.table.height=.25)\n",
    "#dev.off()"
   ]
  },
  {
   "cell_type": "code",
   "execution_count": null,
   "id": "08d78c0e",
   "metadata": {},
   "outputs": [],
   "source": []
  },
  {
   "cell_type": "code",
   "execution_count": 153,
   "id": "a1e49f80",
   "metadata": {},
   "outputs": [
    {
     "name": "stdout",
     "output_type": "stream",
     "text": [
      "[1] \"early ::: SMS\"\n",
      "[1] \"Optimized cutoff: 48.239\"\n",
      "[1] \"Best fit p-value: 0.000365689639380748\"\n",
      "[1] \"high: 55\"\n",
      "[1] \"low: 209\"\n",
      "Call:\n",
      "coxph(formula = Surv(days_to_death, status) ~ FPKM, data = opt_categories)\n",
      "\n",
      "  n= 264, number of events= 63 \n",
      "\n",
      "           coef exp(coef) se(coef)      z Pr(>|z|)    \n",
      "FPKMlow -0.9069    0.4038   0.2631 -3.447 0.000567 ***\n",
      "---\n",
      "Signif. codes:  0 '***' 0.001 '**' 0.01 '*' 0.05 '.' 0.1 ' ' 1\n",
      "\n",
      "        exp(coef) exp(-coef) lower .95 upper .95\n",
      "FPKMlow    0.4038      2.477    0.2411    0.6762\n",
      "\n",
      "Concordance= 0.58  (se = 0.034 )\n",
      "Likelihood ratio test= 10.7  on 1 df,   p=0.001\n",
      "Wald test            = 11.88  on 1 df,   p=6e-04\n",
      "Score (logrank) test = 12.7  on 1 df,   p=4e-04\n",
      "\n"
     ]
    }
   ],
   "source": [
    "best_values_sms_early <- get_best_cutoff(\n",
    "    expression=rpkm_data, \n",
    "    clinical=clinical_data$early, \n",
    "    gene=\"ENSG00000102172\", \n",
    "    title=\"SMS\", \n",
    "    stage=\"early\")"
   ]
  },
  {
   "cell_type": "code",
   "execution_count": 187,
   "id": "5b0606b6",
   "metadata": {},
   "outputs": [
    {
     "data": {
      "text/html": [
       "<strong>png:</strong> 2"
      ],
      "text/latex": [
       "\\textbf{png:} 2"
      ],
      "text/markdown": [
       "**png:** 2"
      ],
      "text/plain": [
       "png \n",
       "  2 "
      ]
     },
     "metadata": {},
     "output_type": "display_data"
    }
   ],
   "source": [
    "pdf(\"stat_dist_sms_early.pdf\")\n",
    "plot(\n",
    "    best_values_sms_early$cutoff_obj, \n",
    "    \"FPKM\", \n",
    "    palette = \"npg\", \n",
    "    bins = 50)$FPKM\n",
    "dev.off()"
   ]
  },
  {
   "cell_type": "code",
   "execution_count": 188,
   "id": "969b283e",
   "metadata": {},
   "outputs": [
    {
     "data": {
      "text/html": [
       "<strong>png:</strong> 2"
      ],
      "text/latex": [
       "\\textbf{png:} 2"
      ],
      "text/markdown": [
       "**png:** 2"
      ],
      "text/plain": [
       "png \n",
       "  2 "
      ]
     },
     "metadata": {},
     "output_type": "display_data"
    }
   ],
   "source": [
    "model <- best_values_sms_early$model\n",
    "p_val <- best_values_sms_early$p_val\n",
    "dig_round=7\n",
    "p_pos=c(6000,1)\n",
    "\n",
    "pdf(\"km_opt_sms_early.pdf\")\n",
    "ggsurvplot(\n",
    "    model,\n",
    "    pval=round(p_val, digits = dig_round),\n",
    "    risk.table = TRUE,\n",
    "    conf.int=TRUE,\n",
    "    conf.int.style=\"ribbon\",\n",
    "    conf.int.alpha=0.2,\n",
    "    pval.method=TRUE,\n",
    "    pval.size=7,\n",
    "    pval.coord=p_pos,\n",
    "    surv.median.line=\"hv\",\n",
    "    xscale=\"d_y\",\n",
    "    xlab=\"time (years)\",\n",
    "    palette=c(\"dodgerblue2\", \"orchid2\"),\n",
    "    risk.table.height=.25)\n",
    "dev.off()"
   ]
  },
  {
   "cell_type": "code",
   "execution_count": null,
   "id": "75913af9",
   "metadata": {},
   "outputs": [],
   "source": []
  },
  {
   "cell_type": "markdown",
   "id": "8d6c2b8c-684a-408f-8726-faf51b3de287",
   "metadata": {},
   "source": [
    "#### Late stages"
   ]
  },
  {
   "cell_type": "code",
   "execution_count": 156,
   "id": "1bc19e61",
   "metadata": {},
   "outputs": [
    {
     "name": "stdout",
     "output_type": "stream",
     "text": [
      "[1] \"SMS\"\n"
     ]
    },
    {
     "data": {
      "image/png": "[encoded data removed]",
      "text/plain": [
       "plot without title"
      ]
     },
     "metadata": {
      "image/png": {
       "height": 420,
       "width": 420
      }
     },
     "output_type": "display_data"
    }
   ],
   "source": [
    "plot_scatter(\n",
    "    rpkm_data, \n",
    "    clinical_data$late, \n",
    "    \"ENSG00000102172\", \n",
    "    \"SMS\")"
   ]
  },
  {
   "cell_type": "code",
   "execution_count": 157,
   "id": "bf67e1b9-759b-434f-a9e9-134f93ad0135",
   "metadata": {
    "tags": []
   },
   "outputs": [
    {
     "name": "stdout",
     "output_type": "stream",
     "text": [
      "[1] \"Late ::: SMS\"\n",
      "[1] \"Used cutoff: 49.5413\"\n",
      "[1] \"Used p-value: 0.00312343789508907\"\n",
      "[1] \"high: 54\"\n",
      "[1] \"low: 169\"\n",
      "Call:\n",
      "coxph(formula = Surv(days_to_death, status) ~ gene_status, data = merged_data_gene)\n",
      "\n",
      "  n= 223, number of events= 114 \n",
      "\n",
      "                  coef exp(coef) se(coef)      z Pr(>|z|)   \n",
      "gene_statuslow -0.5984    0.5497   0.2055 -2.911   0.0036 **\n",
      "---\n",
      "Signif. codes:  0 '***' 0.001 '**' 0.01 '*' 0.05 '.' 0.1 ' ' 1\n",
      "\n",
      "               exp(coef) exp(-coef) lower .95 upper .95\n",
      "gene_statuslow    0.5497      1.819    0.3674    0.8224\n",
      "\n",
      "Concordance= 0.558  (se = 0.024 )\n",
      "Likelihood ratio test= 7.82  on 1 df,   p=0.005\n",
      "Wald test            = 8.48  on 1 df,   p=0.004\n",
      "Score (logrank) test = 8.73  on 1 df,   p=0.003\n",
      "\n"
     ]
    }
   ],
   "source": [
    "use_values_late <- use_cutoff(\n",
    "    rpkm_data, \n",
    "    clinical_data$late, \n",
    "    \"ENSG00000102172\", \n",
    "     best_values_sms_all$cutoff, \n",
    "    title=\"SMS\", \n",
    "    stage=\"Late\")"
   ]
  },
  {
   "cell_type": "code",
   "execution_count": 158,
   "id": "c49c60a3",
   "metadata": {},
   "outputs": [
    {
     "data": {
      "image/png": "[encoded data removed]",
      "text/plain": [
       "plot without title"
      ]
     },
     "metadata": {
      "image/png": {
       "height": 420,
       "width": 420
      }
     },
     "output_type": "display_data"
    }
   ],
   "source": [
    "model <- use_values_late$model\n",
    "p_val <- use_values_late$p_val\n",
    "dig_round=7\n",
    "p_pos=c(6000,1)\n",
    "\n",
    "#pdf()\n",
    "ggsurvplot(\n",
    "    model,\n",
    "    pval=round(p_val, digits = dig_round),\n",
    "    risk.table = TRUE,\n",
    "    conf.int=TRUE,\n",
    "    conf.int.style=\"ribbon\",\n",
    "    conf.int.alpha=0.2,\n",
    "    pval.method=TRUE,\n",
    "    pval.size=7,\n",
    "    pval.coord=p_pos,\n",
    "    surv.median.line=\"hv\",\n",
    "    xscale=\"d_y\",\n",
    "    xlab=\"time (years)\",\n",
    "    palette=c(\"dodgerblue2\", \"orchid2\"),\n",
    "    risk.table.height=.25)\n",
    "#dev.off()"
   ]
  },
  {
   "cell_type": "code",
   "execution_count": null,
   "id": "c2f0f718",
   "metadata": {},
   "outputs": [],
   "source": []
  },
  {
   "cell_type": "code",
   "execution_count": 159,
   "id": "ea2338aa",
   "metadata": {},
   "outputs": [
    {
     "name": "stdout",
     "output_type": "stream",
     "text": [
      "[1] \"late ::: SMS\"\n",
      "[1] \"Optimized cutoff: 24.971\"\n",
      "[1] \"Best fit p-value: 0.00360953569815356\"\n",
      "[1] \"high: 179\"\n",
      "[1] \"low: 44\"\n",
      "Call:\n",
      "coxph(formula = Surv(days_to_death, status) ~ FPKM, data = opt_categories)\n",
      "\n",
      "  n= 223, number of events= 114 \n",
      "\n",
      "           coef exp(coef) se(coef)      z Pr(>|z|)   \n",
      "FPKMlow -0.8382    0.4325   0.2964 -2.828  0.00469 **\n",
      "---\n",
      "Signif. codes:  0 '***' 0.001 '**' 0.01 '*' 0.05 '.' 0.1 ' ' 1\n",
      "\n",
      "        exp(coef) exp(-coef) lower .95 upper .95\n",
      "FPKMlow    0.4325      2.312    0.2419    0.7732\n",
      "\n",
      "Concordance= 0.549  (se = 0.021 )\n",
      "Likelihood ratio test= 9.85  on 1 df,   p=0.002\n",
      "Wald test            = 8  on 1 df,   p=0.005\n",
      "Score (logrank) test = 8.46  on 1 df,   p=0.004\n",
      "\n"
     ]
    }
   ],
   "source": [
    "best_values_sms_late <- get_best_cutoff(\n",
    "    expression=rpkm_data, \n",
    "    clinical=clinical_data$late, \n",
    "    gene=\"ENSG00000102172\", \n",
    "    title=\"SMS\", \n",
    "    stage=\"late\")"
   ]
  },
  {
   "cell_type": "code",
   "execution_count": 189,
   "id": "34710521",
   "metadata": {},
   "outputs": [
    {
     "name": "stderr",
     "output_type": "stream",
     "text": [
      "Warning message:\n",
      "\"Groups with fewer than two data points have been dropped.\"\n",
      "Warning message in max(ids, na.rm = TRUE):\n",
      "\"no non-missing arguments to max; returning -Inf\"\n"
     ]
    },
    {
     "data": {
      "text/html": [
       "<strong>png:</strong> 2"
      ],
      "text/latex": [
       "\\textbf{png:} 2"
      ],
      "text/markdown": [
       "**png:** 2"
      ],
      "text/plain": [
       "png \n",
       "  2 "
      ]
     },
     "metadata": {},
     "output_type": "display_data"
    }
   ],
   "source": [
    "pdf(\"stat_dist_sms_late.pdf\")\n",
    "plot(\n",
    "    best_values_sms_late$cutoff_obj, \n",
    "    \"FPKM\", \n",
    "    palette = \"npg\", \n",
    "    bins = 50)$FPKM\n",
    "dev.off()"
   ]
  },
  {
   "cell_type": "code",
   "execution_count": 190,
   "id": "459a7888",
   "metadata": {},
   "outputs": [
    {
     "data": {
      "text/html": [
       "<strong>png:</strong> 2"
      ],
      "text/latex": [
       "\\textbf{png:} 2"
      ],
      "text/markdown": [
       "**png:** 2"
      ],
      "text/plain": [
       "png \n",
       "  2 "
      ]
     },
     "metadata": {},
     "output_type": "display_data"
    }
   ],
   "source": [
    "model <- best_values_sms_late$model\n",
    "p_val <- best_values_sms_late$p_val\n",
    "dig_round=7\n",
    "p_pos=c(6000,1)\n",
    "\n",
    "pdf(\"km_opt_sms_late.pdf\")\n",
    "ggsurvplot(\n",
    "    model,\n",
    "    pval=round(p_val, digits = dig_round),\n",
    "    risk.table = TRUE,\n",
    "    conf.int=TRUE,\n",
    "    conf.int.style=\"ribbon\",\n",
    "    conf.int.alpha=0.2,\n",
    "    pval.method=TRUE,\n",
    "    pval.size=7,\n",
    "    pval.coord=p_pos,\n",
    "    surv.median.line=\"hv\",\n",
    "    xscale=\"d_y\",\n",
    "    xlab=\"time (years)\",\n",
    "    palette=c(\"dodgerblue2\", \"orchid2\"),\n",
    "    risk.table.height=.25)\n",
    "dev.off()"
   ]
  },
  {
   "cell_type": "code",
   "execution_count": null,
   "id": "3a2b8a44",
   "metadata": {},
   "outputs": [],
   "source": []
  },
  {
   "cell_type": "markdown",
   "id": "42220e35",
   "metadata": {},
   "source": [
    "### -----------------------------------------------------------------------------------------"
   ]
  },
  {
   "cell_type": "markdown",
   "id": "f9892672-0f7f-49d2-a513-d8b1126cbf4d",
   "metadata": {},
   "source": [
    "<a id=\"glyctk\"><h3>GLYCTK (ENSG00000168237)</h3></a>"
   ]
  },
  {
   "cell_type": "markdown",
   "id": "62b63eb9-bfda-4f55-947e-677eca13577f",
   "metadata": {},
   "source": [
    "#### All stages"
   ]
  },
  {
   "cell_type": "code",
   "execution_count": 162,
   "id": "099d87a6",
   "metadata": {},
   "outputs": [
    {
     "name": "stdout",
     "output_type": "stream",
     "text": [
      "[1] \"GLYCTK\"\n"
     ]
    },
    {
     "data": {
      "image/png": "[encoded data removed]",
      "text/plain": [
       "plot without title"
      ]
     },
     "metadata": {
      "image/png": {
       "height": 420,
       "width": 420
      }
     },
     "output_type": "display_data"
    }
   ],
   "source": [
    "plot_scatter(\n",
    "    rpkm_data, \n",
    "    clinical_data$all, \n",
    "    \"ENSG00000168237\", \n",
    "    \"GLYCTK\")"
   ]
  },
  {
   "cell_type": "code",
   "execution_count": 163,
   "id": "33dc752d-75ab-41c6-aa44-c2fe4d7587f1",
   "metadata": {
    "tags": []
   },
   "outputs": [
    {
     "name": "stdout",
     "output_type": "stream",
     "text": [
      "[1] \"All ::: GLYCTK\"\n",
      "[1] \"Optimized cutoff: 0.913\"\n",
      "[1] \"Best fit p-value: 0.0772322560260469\"\n",
      "[1] \"high: 383\"\n",
      "[1] \"low: 104\"\n",
      "Call:\n",
      "coxph(formula = Surv(days_to_death, status) ~ FPKM, data = opt_categories)\n",
      "\n",
      "  n= 487, number of events= 177 \n",
      "\n",
      "          coef exp(coef) se(coef)    z Pr(>|z|)  \n",
      "FPKMlow 0.2984    1.3478   0.1695 1.76   0.0784 .\n",
      "---\n",
      "Signif. codes:  0 '***' 0.001 '**' 0.01 '*' 0.05 '.' 0.1 ' ' 1\n",
      "\n",
      "        exp(coef) exp(-coef) lower .95 upper .95\n",
      "FPKMlow     1.348      0.742    0.9667     1.879\n",
      "\n",
      "Concordance= 0.524  (se = 0.019 )\n",
      "Likelihood ratio test= 2.96  on 1 df,   p=0.09\n",
      "Wald test            = 3.1  on 1 df,   p=0.08\n",
      "Score (logrank) test = 3.12  on 1 df,   p=0.08\n",
      "\n"
     ]
    }
   ],
   "source": [
    "best_values_glyctk_all <- get_best_cutoff(\n",
    "    rpkm_data, \n",
    "    clinical_data$all, \n",
    "    \"ENSG00000168237\", \n",
    "    title=\"GLYCTK\", \n",
    "    stage=\"All\")"
   ]
  },
  {
   "cell_type": "code",
   "execution_count": 191,
   "id": "64de8c63",
   "metadata": {},
   "outputs": [
    {
     "data": {
      "text/html": [
       "<strong>png:</strong> 2"
      ],
      "text/latex": [
       "\\textbf{png:} 2"
      ],
      "text/markdown": [
       "**png:** 2"
      ],
      "text/plain": [
       "png \n",
       "  2 "
      ]
     },
     "metadata": {},
     "output_type": "display_data"
    }
   ],
   "source": [
    "pdf(\"stat_dist_glyctk_all.pdf\")\n",
    "plot(\n",
    "    best_values_glyctk_all$cutoff_obj, \n",
    "    \"FPKM\", \n",
    "    palette = \"npg\", \n",
    "    bins = 50)$FPKM\n",
    "dev.off()"
   ]
  },
  {
   "cell_type": "code",
   "execution_count": 194,
   "id": "71f79617",
   "metadata": {},
   "outputs": [
    {
     "data": {
      "text/html": [
       "<strong>png:</strong> 2"
      ],
      "text/latex": [
       "\\textbf{png:} 2"
      ],
      "text/markdown": [
       "**png:** 2"
      ],
      "text/plain": [
       "png \n",
       "  2 "
      ]
     },
     "metadata": {},
     "output_type": "display_data"
    }
   ],
   "source": [
    "model <- best_values_glyctk_all$model\n",
    "p_val <- best_values_glyctk_all$p_val\n",
    "dig_round=7\n",
    "p_pos=c(6000,1)\n",
    "\n",
    "pdf(\"km_opt_glyctk_all.pdf\")\n",
    "ggsurvplot(\n",
    "    model,\n",
    "    pval=round(p_val, digits = dig_round),\n",
    "    risk.table = TRUE,\n",
    "    conf.int=TRUE,\n",
    "    conf.int.style=\"ribbon\",\n",
    "    conf.int.alpha=0.2,\n",
    "    pval.method=TRUE,\n",
    "    pval.size=7,\n",
    "    pval.coord=p_pos,\n",
    "    surv.median.line=\"hv\",\n",
    "    xscale=\"d_y\",\n",
    "    xlab=\"time (years)\",\n",
    "    palette=c(\"dodgerblue2\", \"orchid2\"),\n",
    "    risk.table.height=.25)\n",
    "dev.off()"
   ]
  },
  {
   "cell_type": "markdown",
   "id": "584cb677-e44c-46ac-8889-45bd930f9706",
   "metadata": {},
   "source": [
    "#### Early stages"
   ]
  },
  {
   "cell_type": "code",
   "execution_count": 166,
   "id": "50417f57",
   "metadata": {},
   "outputs": [
    {
     "name": "stdout",
     "output_type": "stream",
     "text": [
      "[1] \"GLYCTK\"\n"
     ]
    },
    {
     "data": {
      "image/png": "[encoded data removed]",
      "text/plain": [
       "plot without title"
      ]
     },
     "metadata": {
      "image/png": {
       "height": 420,
       "width": 420
      }
     },
     "output_type": "display_data"
    }
   ],
   "source": [
    "plot_scatter(\n",
    "    rpkm_data, \n",
    "    clinical_data$early, \n",
    "    \"ENSG00000168237\", \n",
    "    \"GLYCTK\")"
   ]
  },
  {
   "cell_type": "code",
   "execution_count": 167,
   "id": "a8bd3cf9",
   "metadata": {},
   "outputs": [
    {
     "name": "stdout",
     "output_type": "stream",
     "text": [
      "[1] \"Early ::: GLYCTK\"\n"
     ]
    },
    {
     "name": "stderr",
     "output_type": "stream",
     "text": [
      "Warning message in .pvalue(fit, data = data, method = method, pval = pval, pval.coord = pval.coord, :\n",
      "\"There are no survival curves to be compared. \n",
      " This is a null model.\"\n"
     ]
    },
    {
     "name": "stdout",
     "output_type": "stream",
     "text": [
      "[1] \"Used cutoff: 0.913\"\n",
      "[1] \"Used p-value: NA\"\n",
      "[1] \"high: 264\"\n",
      "[1] \"low: 0\"\n"
     ]
    },
    {
     "ename": "ERROR",
     "evalue": "Error in `contrasts<-`(`*tmp*`, value = contr.funs[1 + isOF[nn]]): contrasts can be applied only to factors with 2 or more levels\n",
     "output_type": "error",
     "traceback": [
      "Error in `contrasts<-`(`*tmp*`, value = contr.funs[1 + isOF[nn]]): contrasts can be applied only to factors with 2 or more levels\nTraceback:\n",
      "1. use_cutoff(rpkm_data, clinical_data$early, \"ENSG00000102172\", \n .     best_values_glyctk_all$cutoff, title = \"GLYCTK\", stage = \"Early\")",
      "2. coxph(Surv(days_to_death, status) ~ gene_status, data = merged_data_gene)   # at line 70 of file <text>",
      "3. model.matrix(Terms, mf, contrasts.arg = contrast.arg)",
      "4. model.matrix.default(Terms, mf, contrasts.arg = contrast.arg)",
      "5. `contrasts<-`(`*tmp*`, value = contr.funs[1 + isOF[nn]])",
      "6. stop(\"contrasts can be applied only to factors with 2 or more levels\")"
     ]
    }
   ],
   "source": [
    "use_values_early <- use_cutoff(\n",
    "    rpkm_data, \n",
    "    clinical_data$early, \n",
    "    \"ENSG00000102172\", \n",
    "    best_values_glyctk_all$cutoff, \n",
    "    title=\"GLYCTK\", \n",
    "    stage=\"Early\")"
   ]
  },
  {
   "cell_type": "code",
   "execution_count": 168,
   "id": "344bd872",
   "metadata": {},
   "outputs": [
    {
     "name": "stdout",
     "output_type": "stream",
     "text": [
      "[1] \"early ::: GLYCTK\"\n",
      "[1] \"Optimized cutoff: 0.9349\"\n",
      "[1] \"Best fit p-value: 0.0257739806350333\"\n",
      "[1] \"high: 212\"\n",
      "[1] \"low: 52\"\n",
      "Call:\n",
      "coxph(formula = Surv(days_to_death, status) ~ FPKM, data = opt_categories)\n",
      "\n",
      "  n= 264, number of events= 63 \n",
      "\n",
      "          coef exp(coef) se(coef)     z Pr(>|z|)  \n",
      "FPKMlow 0.6140    1.8478   0.2798 2.195   0.0282 *\n",
      "---\n",
      "Signif. codes:  0 '***' 0.001 '**' 0.01 '*' 0.05 '.' 0.1 ' ' 1\n",
      "\n",
      "        exp(coef) exp(-coef) lower .95 upper .95\n",
      "FPKMlow     1.848     0.5412     1.068     3.197\n",
      "\n",
      "Concordance= 0.526  (se = 0.029 )\n",
      "Likelihood ratio test= 4.44  on 1 df,   p=0.04\n",
      "Wald test            = 4.82  on 1 df,   p=0.03\n",
      "Score (logrank) test = 4.97  on 1 df,   p=0.03\n",
      "\n"
     ]
    }
   ],
   "source": [
    "best_values_glyctk_early <- get_best_cutoff(\n",
    "    rpkm_data, \n",
    "    clinical_data$early, \n",
    "    \"ENSG00000168237\", \n",
    "    title=\"GLYCTK\", \n",
    "    stage=\"early\")"
   ]
  },
  {
   "cell_type": "code",
   "execution_count": 192,
   "id": "f1e2ec7e",
   "metadata": {},
   "outputs": [
    {
     "name": "stderr",
     "output_type": "stream",
     "text": [
      "Warning message:\n",
      "\"Groups with fewer than two data points have been dropped.\"\n",
      "Warning message in max(ids, na.rm = TRUE):\n",
      "\"no non-missing arguments to max; returning -Inf\"\n"
     ]
    },
    {
     "data": {
      "text/html": [
       "<strong>png:</strong> 2"
      ],
      "text/latex": [
       "\\textbf{png:} 2"
      ],
      "text/markdown": [
       "**png:** 2"
      ],
      "text/plain": [
       "png \n",
       "  2 "
      ]
     },
     "metadata": {},
     "output_type": "display_data"
    }
   ],
   "source": [
    "pdf(\"stat_dist_glyctk_early.pdf\")\n",
    "plot(\n",
    "    best_values_glyctk_early$cutoff_obj, \n",
    "    \"FPKM\", \n",
    "    palette = \"npg\", \n",
    "    bins = 50)$FPKM\n",
    "dev.off()"
   ]
  },
  {
   "cell_type": "code",
   "execution_count": 195,
   "id": "d19fd299",
   "metadata": {},
   "outputs": [
    {
     "data": {
      "text/html": [
       "<strong>png:</strong> 2"
      ],
      "text/latex": [
       "\\textbf{png:} 2"
      ],
      "text/markdown": [
       "**png:** 2"
      ],
      "text/plain": [
       "png \n",
       "  2 "
      ]
     },
     "metadata": {},
     "output_type": "display_data"
    }
   ],
   "source": [
    "model <- best_values_glyctk_early$model\n",
    "p_val <- best_values_glyctk_early$p_val\n",
    "dig_round=7\n",
    "p_pos=c(6000,1)\n",
    "\n",
    "pdf(\"km_opt_glyctk_early.pdf\")\n",
    "ggsurvplot(\n",
    "    model,\n",
    "    pval=round(p_val, digits = dig_round),\n",
    "    risk.table = TRUE,\n",
    "    conf.int=TRUE,\n",
    "    conf.int.style=\"ribbon\",\n",
    "    conf.int.alpha=0.2,\n",
    "    pval.method=TRUE,\n",
    "    pval.size=7,\n",
    "    pval.coord=p_pos,\n",
    "    surv.median.line=\"hv\",\n",
    "    xscale=\"d_y\",\n",
    "    xlab=\"time (years)\",\n",
    "    palette=c(\"dodgerblue2\", \"orchid2\"),\n",
    "    risk.table.height=.25)\n",
    "dev.off()"
   ]
  },
  {
   "cell_type": "markdown",
   "id": "cf10c1f1-cae7-4628-9862-9876f6babea7",
   "metadata": {},
   "source": [
    "#### Late stages"
   ]
  },
  {
   "cell_type": "code",
   "execution_count": 171,
   "id": "b7097e32",
   "metadata": {},
   "outputs": [
    {
     "name": "stdout",
     "output_type": "stream",
     "text": [
      "[1] \"GLYCTK\"\n"
     ]
    },
    {
     "data": {
      "image/png": "[encoded data removed]",
      "text/plain": [
       "plot without title"
      ]
     },
     "metadata": {
      "image/png": {
       "height": 420,
       "width": 420
      }
     },
     "output_type": "display_data"
    }
   ],
   "source": [
    "plot_scatter(\n",
    "    rpkm_data, \n",
    "    clinical_data$late, \n",
    "    \"ENSG00000168237\", \n",
    "    \"GLYCTK\")"
   ]
  },
  {
   "cell_type": "code",
   "execution_count": 172,
   "id": "6441aef4",
   "metadata": {},
   "outputs": [
    {
     "name": "stdout",
     "output_type": "stream",
     "text": [
      "[1] \"Late ::: GLYCTK\"\n"
     ]
    },
    {
     "name": "stderr",
     "output_type": "stream",
     "text": [
      "Warning message in .pvalue(fit, data = data, method = method, pval = pval, pval.coord = pval.coord, :\n",
      "\"There are no survival curves to be compared. \n",
      " This is a null model.\"\n"
     ]
    },
    {
     "name": "stdout",
     "output_type": "stream",
     "text": [
      "[1] \"Used cutoff: 0.913\"\n",
      "[1] \"Used p-value: NA\"\n",
      "[1] \"high: 223\"\n",
      "[1] \"low: 0\"\n"
     ]
    },
    {
     "ename": "ERROR",
     "evalue": "Error in `contrasts<-`(`*tmp*`, value = contr.funs[1 + isOF[nn]]): contrasts can be applied only to factors with 2 or more levels\n",
     "output_type": "error",
     "traceback": [
      "Error in `contrasts<-`(`*tmp*`, value = contr.funs[1 + isOF[nn]]): contrasts can be applied only to factors with 2 or more levels\nTraceback:\n",
      "1. use_cutoff(rpkm_data, clinical_data$late, \"ENSG00000102172\", \n .     best_values_glyctk_all$cutoff, title = \"GLYCTK\", stage = \"Late\")",
      "2. coxph(Surv(days_to_death, status) ~ gene_status, data = merged_data_gene)   # at line 70 of file <text>",
      "3. model.matrix(Terms, mf, contrasts.arg = contrast.arg)",
      "4. model.matrix.default(Terms, mf, contrasts.arg = contrast.arg)",
      "5. `contrasts<-`(`*tmp*`, value = contr.funs[1 + isOF[nn]])",
      "6. stop(\"contrasts can be applied only to factors with 2 or more levels\")"
     ]
    }
   ],
   "source": [
    "use_values_late <- use_cutoff(\n",
    "    rpkm_data, \n",
    "    clinical_data$late, \n",
    "    \"ENSG00000102172\", \n",
    "    best_values_glyctk_all$cutoff, \n",
    "    title=\"GLYCTK\", \n",
    "    stage=\"Late\")"
   ]
  },
  {
   "cell_type": "code",
   "execution_count": 173,
   "id": "17e2fc56",
   "metadata": {},
   "outputs": [
    {
     "name": "stdout",
     "output_type": "stream",
     "text": [
      "[1] \"late ::: GLYCTK\"\n",
      "[1] \"Optimized cutoff: 1.7735\"\n",
      "[1] \"Best fit p-value: 0.319220866718962\"\n",
      "[1] \"high: 70\"\n",
      "[1] \"low: 153\"\n",
      "Call:\n",
      "coxph(formula = Surv(days_to_death, status) ~ FPKM, data = opt_categories)\n",
      "\n",
      "  n= 223, number of events= 114 \n",
      "\n",
      "          coef exp(coef) se(coef)     z Pr(>|z|)\n",
      "FPKMlow 0.2081    1.2313   0.2097 0.992    0.321\n",
      "\n",
      "        exp(coef) exp(-coef) lower .95 upper .95\n",
      "FPKMlow     1.231     0.8121    0.8163     1.857\n",
      "\n",
      "Concordance= 0.54  (se = 0.024 )\n",
      "Likelihood ratio test= 1.01  on 1 df,   p=0.3\n",
      "Wald test            = 0.98  on 1 df,   p=0.3\n",
      "Score (logrank) test = 0.99  on 1 df,   p=0.3\n",
      "\n"
     ]
    }
   ],
   "source": [
    "best_values_glyctk_late <- get_best_cutoff(\n",
    "    rpkm_data, \n",
    "    clinical_data$late, \n",
    "    \"ENSG00000168237\", \n",
    "    title=\"GLYCTK\", \n",
    "    stage=\"late\")"
   ]
  },
  {
   "cell_type": "code",
   "execution_count": 193,
   "id": "187d9857",
   "metadata": {},
   "outputs": [
    {
     "data": {
      "text/html": [
       "<strong>png:</strong> 2"
      ],
      "text/latex": [
       "\\textbf{png:} 2"
      ],
      "text/markdown": [
       "**png:** 2"
      ],
      "text/plain": [
       "png \n",
       "  2 "
      ]
     },
     "metadata": {},
     "output_type": "display_data"
    }
   ],
   "source": [
    "pdf(\"stat_dist_glyctk_late.pdf\")\n",
    "plot(\n",
    "    best_values_glyctk_late$cutoff_obj, \n",
    "    \"FPKM\", \n",
    "    palette = \"npg\", \n",
    "    bins = 50)$FPKM\n",
    "dev.off()"
   ]
  },
  {
   "cell_type": "code",
   "execution_count": 196,
   "id": "cb38b933",
   "metadata": {},
   "outputs": [
    {
     "data": {
      "text/html": [
       "<strong>png:</strong> 2"
      ],
      "text/latex": [
       "\\textbf{png:} 2"
      ],
      "text/markdown": [
       "**png:** 2"
      ],
      "text/plain": [
       "png \n",
       "  2 "
      ]
     },
     "metadata": {},
     "output_type": "display_data"
    }
   ],
   "source": [
    "model <- best_values_glyctk_late$model\n",
    "p_val <- best_values_glyctk_late$p_val\n",
    "dig_round=7\n",
    "p_pos=c(6000,1)\n",
    "\n",
    "pdf(\"km_opt_glyctk_late.pdf\")\n",
    "ggsurvplot(\n",
    "    model,\n",
    "    pval=round(p_val, digits = dig_round),\n",
    "    risk.table = TRUE,\n",
    "    conf.int=TRUE,\n",
    "    conf.int.style=\"ribbon\",\n",
    "    conf.int.alpha=0.2,\n",
    "    pval.method=TRUE,\n",
    "    pval.size=7,\n",
    "    pval.coord=p_pos,\n",
    "    surv.median.line=\"hv\",\n",
    "    xscale=\"d_y\",\n",
    "    xlab=\"time (years)\",\n",
    "    palette=c(\"dodgerblue2\", \"orchid2\"),\n",
    "    risk.table.height=.25)\n",
    "dev.off()"
   ]
  },
  {
   "cell_type": "code",
   "execution_count": null,
   "id": "9ae5af8f",
   "metadata": {},
   "outputs": [],
   "source": []
  },
  {
   "cell_type": "markdown",
   "id": "34373059",
   "metadata": {},
   "source": [
    "### ========================================================================================="
   ]
  },
  {
   "cell_type": "markdown",
   "id": "a5aa36c0",
   "metadata": {},
   "source": [
    "<a id=\"all\"><h3>Perform analysis on all genes</h3></a> "
   ]
  },
  {
   "cell_type": "markdown",
   "id": "801654b7-b73a-4818-b09e-d7ca7ec3d1fc",
   "metadata": {},
   "source": [
    "#### All stages"
   ]
  },
  {
   "cell_type": "code",
   "execution_count": 17,
   "id": "7785311c",
   "metadata": {
    "tags": []
   },
   "outputs": [
    {
     "name": "stdout",
     "output_type": "stream",
     "text": [
      "[1] \"Skipped 0 genes\"\n"
     ]
    }
   ],
   "source": [
    "all_genes_all <- analyze_all_genes(\n",
    "    rpkm_data, \n",
    "    clinical_data$all, \n",
    "    gene_list)"
   ]
  },
  {
   "cell_type": "markdown",
   "id": "ee6712f8-a24f-40b1-801d-a13dc7075cd1",
   "metadata": {},
   "source": [
    "#### Early stages"
   ]
  },
  {
   "cell_type": "code",
   "execution_count": 18,
   "id": "a788327e-11c7-4040-a963-f0a07f51a30c",
   "metadata": {
    "tags": []
   },
   "outputs": [
    {
     "name": "stdout",
     "output_type": "stream",
     "text": [
      "[1] \"Skipped 0 genes\"\n"
     ]
    }
   ],
   "source": [
    "all_genes_early <- analyze_all_genes(\n",
    "    rpkm_data, \n",
    "    clinical_data$early, \n",
    "    gene_list)"
   ]
  },
  {
   "cell_type": "markdown",
   "id": "e9011b5d-bf82-452d-81ef-45b9376fcf09",
   "metadata": {},
   "source": [
    "#### Late stages"
   ]
  },
  {
   "cell_type": "code",
   "execution_count": 19,
   "id": "78100329-1a1d-4eca-b8d0-8cf4f1c5fcc4",
   "metadata": {
    "tags": []
   },
   "outputs": [
    {
     "name": "stdout",
     "output_type": "stream",
     "text": [
      "[1] \"Skipped 0 genes\"\n"
     ]
    }
   ],
   "source": [
    "all_genes_late <- analyze_all_genes(\n",
    "    rpkm_data, \n",
    "    clinical_data$late, \n",
    "    gene_list)"
   ]
  },
  {
   "cell_type": "markdown",
   "id": "9aed478a-489b-4ee9-a3c6-b1d338020aef",
   "metadata": {},
   "source": [
    "<a id=\"rank\"><h3>Rank order survival p-values</h3></a>"
   ]
  },
  {
   "cell_type": "code",
   "execution_count": 20,
   "id": "a2710a2d-2d3b-4bc2-a5ab-d46a8dcb4240",
   "metadata": {},
   "outputs": [],
   "source": [
    "# Get ranked percentile\n",
    "median_pvals_sorted <- all_genes_all$median[order(unlist(all_genes_all$median), decreasing=FALSE)]\n",
    "median_pvals_early_sorted <- all_genes_early$median[order(unlist(all_genes_early$median), decreasing=FALSE)]\n",
    "median_pvals_late_sorted <- all_genes_late$median[order(unlist(all_genes_late$median), decreasing=FALSE)]\n",
    "\n",
    "optimized_pvals_sorted <- all_genes_all$optimized[order(unlist(all_genes_all$optimized), decreasing=FALSE)]\n",
    "optimized_pvals_early_sorted <- all_genes_early$optimized[order(unlist(all_genes_early$optimized), decreasing=FALSE)]\n",
    "optimized_pvals_late_sorted <- all_genes_late$optimized[order(unlist(all_genes_late$optimized), decreasing=FALSE)]"
   ]
  },
  {
   "cell_type": "markdown",
   "id": "40bd17e7",
   "metadata": {},
   "source": [
    "#### SMS"
   ]
  },
  {
   "cell_type": "code",
   "execution_count": null,
   "id": "8d1c796d",
   "metadata": {},
   "outputs": [],
   "source": [
    "# Optimized"
   ]
  },
  {
   "cell_type": "code",
   "execution_count": 50,
   "id": "d5ec14dd",
   "metadata": {},
   "outputs": [
    {
     "name": "stdout",
     "output_type": "stream",
     "text": [
      "[1] \"0.649457867796797 %\"\n"
     ]
    }
   ],
   "source": [
    "print(paste((which(names(optimized_pvals_sorted) == \"ENSG00000102172\") / length(optimized_pvals_sorted) * 100), \"%\"))"
   ]
  },
  {
   "cell_type": "code",
   "execution_count": 179,
   "id": "7b4cf640",
   "metadata": {},
   "outputs": [
    {
     "name": "stdout",
     "output_type": "stream",
     "text": [
      "[1] 118\n"
     ]
    }
   ],
   "source": [
    "print((which(names(optimized_pvals_sorted) == \"ENSG00000102172\")))"
   ]
  },
  {
   "cell_type": "code",
   "execution_count": 180,
   "id": "a6bc0fe5",
   "metadata": {},
   "outputs": [
    {
     "name": "stdout",
     "output_type": "stream",
     "text": [
      "[1] 18169\n"
     ]
    }
   ],
   "source": [
    "print(length(optimized_pvals_sorted))"
   ]
  },
  {
   "cell_type": "code",
   "execution_count": 51,
   "id": "40777647",
   "metadata": {},
   "outputs": [
    {
     "name": "stdout",
     "output_type": "stream",
     "text": [
      "[1] \"0.384869144490873 %\"\n"
     ]
    }
   ],
   "source": [
    "print(paste((which(names(optimized_pvals_early_sorted) == \"ENSG00000102172\") / length(optimized_pvals_early_sorted) * 100), \"%\"))"
   ]
  },
  {
   "cell_type": "code",
   "execution_count": 52,
   "id": "78b5429c",
   "metadata": {},
   "outputs": [
    {
     "name": "stdout",
     "output_type": "stream",
     "text": [
      "[1] \"9.99393972783869 %\"\n"
     ]
    }
   ],
   "source": [
    "print(paste((which(names(optimized_pvals_late_sorted) == \"ENSG00000102172\") / length(optimized_pvals_late_sorted) * 100), \"%\"))"
   ]
  },
  {
   "cell_type": "code",
   "execution_count": null,
   "id": "f8b6e20b",
   "metadata": {},
   "outputs": [],
   "source": [
    "# Median"
   ]
  },
  {
   "cell_type": "code",
   "execution_count": 107,
   "id": "743b3b8a",
   "metadata": {},
   "outputs": [
    {
     "name": "stdout",
     "output_type": "stream",
     "text": [
      "[1] \"6.96240849799108 %\"\n"
     ]
    }
   ],
   "source": [
    "print(paste((which(names(median_pvals_sorted) == \"ENSG00000102172\") / length(median_pvals_sorted) * 100), \"%\"))"
   ]
  },
  {
   "cell_type": "code",
   "execution_count": 108,
   "id": "89d94cdc",
   "metadata": {},
   "outputs": [
    {
     "name": "stdout",
     "output_type": "stream",
     "text": [
      "[1] \"44.4358917967891 %\"\n"
     ]
    }
   ],
   "source": [
    "print(paste((which(names(median_pvals_early_sorted) == \"ENSG00000102172\") / length(median_pvals_early_sorted) * 100), \"%\"))"
   ]
  },
  {
   "cell_type": "code",
   "execution_count": 109,
   "id": "7c4ffaef",
   "metadata": {},
   "outputs": [
    {
     "name": "stdout",
     "output_type": "stream",
     "text": [
      "[1] \"21.9326758856261 %\"\n"
     ]
    }
   ],
   "source": [
    "print(paste((which(names(median_pvals_late_sorted) == \"ENSG00000102172\") / length(median_pvals_late_sorted) * 100), \"%\"))"
   ]
  },
  {
   "cell_type": "markdown",
   "id": "a9e78e4b",
   "metadata": {},
   "source": [
    "#### GLYCTK"
   ]
  },
  {
   "cell_type": "code",
   "execution_count": null,
   "id": "18d2b91c",
   "metadata": {},
   "outputs": [],
   "source": [
    "# Optimized"
   ]
  },
  {
   "cell_type": "code",
   "execution_count": 53,
   "id": "db31d47f",
   "metadata": {},
   "outputs": [
    {
     "name": "stdout",
     "output_type": "stream",
     "text": [
      "[1] \"62.7607463261599 %\"\n"
     ]
    }
   ],
   "source": [
    "print(paste((which(names(optimized_pvals_sorted) == \"ENSG00000168237\") / length(optimized_pvals_sorted) * 100), \"%\"))"
   ]
  },
  {
   "cell_type": "code",
   "execution_count": 54,
   "id": "b076cbb1",
   "metadata": {},
   "outputs": [
    {
     "name": "stdout",
     "output_type": "stream",
     "text": [
      "[1] \"16.3954255553112 %\"\n"
     ]
    }
   ],
   "source": [
    "print(paste((which(names(optimized_pvals_early_sorted) == \"ENSG00000168237\") / length(optimized_pvals_early_sorted) * 100), \"%\"))"
   ]
  },
  {
   "cell_type": "code",
   "execution_count": 55,
   "id": "e7a81536",
   "metadata": {},
   "outputs": [
    {
     "name": "stdout",
     "output_type": "stream",
     "text": [
      "[1] \"94.1601013718252 %\"\n"
     ]
    }
   ],
   "source": [
    "print(paste((which(names(optimized_pvals_late_sorted) == \"ENSG00000168237\") / length(optimized_pvals_late_sorted) * 100), \"%\"))"
   ]
  },
  {
   "cell_type": "code",
   "execution_count": null,
   "id": "f8eaedac",
   "metadata": {},
   "outputs": [],
   "source": [
    "# Median"
   ]
  },
  {
   "cell_type": "code",
   "execution_count": 110,
   "id": "02fa1882",
   "metadata": {},
   "outputs": [
    {
     "name": "stdout",
     "output_type": "stream",
     "text": [
      "[1] \"50.3494963949585 %\"\n"
     ]
    }
   ],
   "source": [
    "print(paste((which(names(median_pvals_sorted) == \"ENSG00000168237\") / length(median_pvals_sorted) * 100), \"%\"))"
   ]
  },
  {
   "cell_type": "code",
   "execution_count": 111,
   "id": "1756b96e",
   "metadata": {},
   "outputs": [
    {
     "name": "stdout",
     "output_type": "stream",
     "text": [
      "[1] \"47.3114141191995 %\"\n"
     ]
    }
   ],
   "source": [
    "print(paste((which(names(median_pvals_early_sorted) == \"ENSG00000168237\") / length(median_pvals_early_sorted) * 100), \"%\"))"
   ]
  },
  {
   "cell_type": "code",
   "execution_count": 112,
   "id": "6ceab8bd",
   "metadata": {},
   "outputs": [
    {
     "name": "stdout",
     "output_type": "stream",
     "text": [
      "[1] \"94.0554239435844 %\"\n"
     ]
    }
   ],
   "source": [
    "print(paste((which(names(median_pvals_late_sorted) == \"ENSG00000168237\") / length(median_pvals_late_sorted) * 100), \"%\"))"
   ]
  },
  {
   "cell_type": "markdown",
   "id": "be6bcd4a",
   "metadata": {},
   "source": [
    "<a id=\"plots\"><h3>Plots</h3></a>"
   ]
  },
  {
   "cell_type": "code",
   "execution_count": 177,
   "id": "6e03f32f-f43b-4e72-a7dd-a3181c31875d",
   "metadata": {},
   "outputs": [],
   "source": [
    "bump <- 1e-5"
   ]
  },
  {
   "cell_type": "markdown",
   "id": "ccc97324-3a7a-4fc9-bae7-aff0dee6e455",
   "metadata": {},
   "source": [
    "#### All stages"
   ]
  },
  {
   "cell_type": "code",
   "execution_count": null,
   "id": "c1db9c82",
   "metadata": {},
   "outputs": [],
   "source": [
    "# Optimized"
   ]
  },
  {
   "cell_type": "code",
   "execution_count": 200,
   "id": "1622ce53-55d6-45e2-a4d0-511a73392600",
   "metadata": {},
   "outputs": [
    {
     "data": {
      "text/html": [
       "<strong>png:</strong> 2"
      ],
      "text/latex": [
       "\\textbf{png:} 2"
      ],
      "text/markdown": [
       "**png:** 2"
      ],
      "text/plain": [
       "png \n",
       "  2 "
      ]
     },
     "metadata": {},
     "output_type": "display_data"
    }
   ],
   "source": [
    "# Plot distribution\n",
    "optimized_pvals_bh <- p.adjust(\n",
    "  optimized_pvals_sorted, \n",
    "  method = \"BH\", \n",
    "  n = length(optimized_pvals_sorted))\n",
    "\n",
    "pdf('bh_dist_all.pdf', width=10, height=5)\n",
    "hist(\n",
    "  -1 * log10(as.numeric(optimized_pvals_bh) + bump),\n",
    "  breaks=150,\n",
    "  main=\"LUAD optimized survival distribution (BH-corrected)\",\n",
    "  xlab=expression(\"-log\"[10]*\"(log-rank p-value)\"))\n",
    "abline(v = -1 * log10(optimized_pvals_bh['ENSG00000102172'] + bump), col=\"#1b9e77\", lwd=3, lty=2)\n",
    "abline(v = -1 * log10(optimized_pvals_bh['ENSG00000168237'] + bump), col=\"#7570b3\", lwd=3, lty=2)\n",
    "dev.off()"
   ]
  },
  {
   "cell_type": "code",
   "execution_count": null,
   "id": "fdc442c8",
   "metadata": {},
   "outputs": [],
   "source": [
    "# Median"
   ]
  },
  {
   "cell_type": "code",
   "execution_count": 97,
   "id": "f90721f3",
   "metadata": {},
   "outputs": [
    {
     "data": {
      "image/png": "[encoded data removed]",
      "text/plain": [
       "Plot with title \"LUAD optimized survival distribution (BH-corrected)\""
      ]
     },
     "metadata": {
      "image/png": {
       "height": 420,
       "width": 420
      }
     },
     "output_type": "display_data"
    }
   ],
   "source": [
    "# Plot distribution\n",
    "median_pvals_bh <- p.adjust(\n",
    "  median_pvals_sorted, \n",
    "  method = \"BH\", \n",
    "  n = length(median_pvals_sorted))\n",
    "\n",
    "#pdf('bh_dist_all.pdf')\n",
    "hist(\n",
    "  -1 * log10(as.numeric(median_pvals_bh) + bump),\n",
    "  breaks=150,\n",
    "  main=\"LUAD optimized survival distribution (BH-corrected)\",\n",
    "  xlab=expression(\"-log\"[10]*\"(log-rank p-value)\"))\n",
    "abline(v = -1 * log10(median_pvals_bh['ENSG00000102172'] + bump), col=\"#1b9e77\", lwd=3, lty=2)\n",
    "abline(v = -1 * log10(median_pvals_bh['ENSG00000168237'] + bump), col=\"#7570b3\", lwd=3, lty=2)"
   ]
  },
  {
   "cell_type": "markdown",
   "id": "6a0cc012-3102-4f0b-b86e-800335ccfe85",
   "metadata": {},
   "source": [
    "#### Early stages"
   ]
  },
  {
   "cell_type": "code",
   "execution_count": null,
   "id": "f036ab16",
   "metadata": {},
   "outputs": [],
   "source": [
    "# Optimized"
   ]
  },
  {
   "cell_type": "code",
   "execution_count": 203,
   "id": "d929e297-c5fd-48ec-a198-ff8fe135f4fd",
   "metadata": {},
   "outputs": [
    {
     "data": {
      "text/html": [
       "<strong>png:</strong> 2"
      ],
      "text/latex": [
       "\\textbf{png:} 2"
      ],
      "text/markdown": [
       "**png:** 2"
      ],
      "text/plain": [
       "png \n",
       "  2 "
      ]
     },
     "metadata": {},
     "output_type": "display_data"
    }
   ],
   "source": [
    "# Plot distribution\n",
    "optimized_pvals_bh_early <- p.adjust(\n",
    "  optimized_pvals_early_sorted, \n",
    "  method = \"BH\", \n",
    "  n = length(optimized_pvals_early_sorted))\n",
    "\n",
    "pdf('bh_dist_early.pdf')\n",
    "hist(\n",
    "  -1 * log10(as.numeric(optimized_pvals_bh_early) + bump),\n",
    "  breaks=150,\n",
    "  main=\"LUAD optimized survival distribution (BH-corrected)\",\n",
    "  xlab=expression(\"-log\"[10]*\"(log-rank p-value)\"))\n",
    "abline(v = -1 * log10(optimized_pvals_bh_early['ENSG00000102172'] + bump), col=\"#1b9e77\", lwd=3, lty=2)\n",
    "abline(v = -1 * log10(optimized_pvals_bh_early['ENSG00000168237'] + bump), col=\"#7570b3\", lwd=3, lty=2)\n",
    "dev.off()"
   ]
  },
  {
   "cell_type": "code",
   "execution_count": null,
   "id": "4fd94f14",
   "metadata": {},
   "outputs": [],
   "source": [
    "# Median"
   ]
  },
  {
   "cell_type": "code",
   "execution_count": 106,
   "id": "d45746fb",
   "metadata": {},
   "outputs": [
    {
     "data": {
      "image/png": "[encoded data removed]",
      "text/plain": [
       "Plot with title \"LUAD optimized survival distribution (BH-corrected)\""
      ]
     },
     "metadata": {
      "image/png": {
       "height": 420,
       "width": 420
      }
     },
     "output_type": "display_data"
    }
   ],
   "source": [
    "# Plot distribution\n",
    "median_pvals_bh_early <- p.adjust(\n",
    "  median_pvals_early_sorted, \n",
    "  method = \"BH\", \n",
    "  n = length(median_pvals_early_sorted))\n",
    "\n",
    "#pdf('bh_dist_all.pdf')\n",
    "hist(\n",
    "  -1 * log10(as.numeric(median_pvals_bh_early) + bump),\n",
    "  breaks=150,\n",
    "  main=\"LUAD optimized survival distribution (BH-corrected)\",\n",
    "  xlab=expression(\"-log\"[10]*\"(log-rank p-value)\"))\n",
    "abline(v = -1 * log10(median_pvals_bh_early['ENSG00000102172'] + bump), col=\"#1b9e77\", lwd=3, lty=2)\n",
    "abline(v = -1 * log10(median_pvals_bh_early['ENSG00000168237'] + bump), col=\"#7570b3\", lwd=3, lty=2)"
   ]
  },
  {
   "cell_type": "markdown",
   "id": "f3f1907f-3ec9-48bf-88be-bb2624684a64",
   "metadata": {},
   "source": [
    "#### Late Stages"
   ]
  },
  {
   "cell_type": "code",
   "execution_count": null,
   "id": "0ca20d71",
   "metadata": {},
   "outputs": [],
   "source": [
    "# Optimized"
   ]
  },
  {
   "cell_type": "code",
   "execution_count": 204,
   "id": "cdfa41b9-725c-4e7f-b554-69cf7919acb0",
   "metadata": {
    "tags": []
   },
   "outputs": [
    {
     "data": {
      "text/html": [
       "<strong>png:</strong> 2"
      ],
      "text/latex": [
       "\\textbf{png:} 2"
      ],
      "text/markdown": [
       "**png:** 2"
      ],
      "text/plain": [
       "png \n",
       "  2 "
      ]
     },
     "metadata": {},
     "output_type": "display_data"
    }
   ],
   "source": [
    "# Plot distribution\n",
    "optimized_pvals_bh_late <- p.adjust(\n",
    "  optimized_pvals_late_sorted, \n",
    "  method = \"BH\", \n",
    "  n = length(optimized_pvals_late_sorted))\n",
    "\n",
    "pdf('bh_dist_late.pdf')\n",
    "hist(\n",
    "  -1 * log10(as.numeric(optimized_pvals_bh_late) + bump),\n",
    "  breaks=150,\n",
    "  main=\"LUAD optimized survival distribution (BH-corrected)\",\n",
    "  xlab=expression(\"-log\"[10]*\"(log-rank p-value)\"))\n",
    "abline(v = -1 * log10(optimized_pvals_bh_late['ENSG00000102172'] + bump), col=\"#1b9e77\", lwd=3, lty=2)\n",
    "abline(v = -1 * log10(optimized_pvals_bh_late['ENSG00000168237'] + bump), col=\"#7570b3\", lwd=3, lty=2)\n",
    "dev.off()"
   ]
  },
  {
   "cell_type": "code",
   "execution_count": null,
   "id": "20850166",
   "metadata": {},
   "outputs": [],
   "source": [
    "# Median"
   ]
  },
  {
   "cell_type": "code",
   "execution_count": 99,
   "id": "95dd5468",
   "metadata": {},
   "outputs": [
    {
     "data": {
      "image/png": "[encoded data removed]",
      "text/plain": [
       "Plot with title \"LUAD optimized survival distribution (BH-corrected)\""
      ]
     },
     "metadata": {
      "image/png": {
       "height": 420,
       "width": 420
      }
     },
     "output_type": "display_data"
    }
   ],
   "source": [
    "# Plot distribution\n",
    "median_pvals_bh_late <- p.adjust(\n",
    "  median_pvals_late_sorted, \n",
    "  method = \"BH\", \n",
    "  n = length(median_pvals_late_sorted))\n",
    "\n",
    "#pdf('bh_dist_all.pdf')\n",
    "hist(\n",
    "  -1 * log10(as.numeric(median_pvals_bh_late) + bump),\n",
    "  breaks=150,\n",
    "  main=\"LUAD optimized survival distribution (BH-corrected)\",\n",
    "  xlab=expression(\"-log\"[10]*\"(log-rank p-value)\"))\n",
    "abline(v = -1 * log10(median_pvals_bh_late['ENSG00000102172'] + bump), col=\"#1b9e77\", lwd=3, lty=2)\n",
    "abline(v = -1 * log10(median_pvals_bh_late['ENSG00000168237'] + bump), col=\"#7570b3\", lwd=3, lty=2)"
   ]
  },
  {
   "cell_type": "markdown",
   "id": "05ebf82d-a880-496d-ad38-964c500c9d33",
   "metadata": {},
   "source": [
    "<a id=\"session\"><h3>Session Info</h3></a>"
   ]
  },
  {
   "cell_type": "code",
   "execution_count": 178,
   "id": "c7c2d119-4aca-4542-9512-3410a7640e60",
   "metadata": {},
   "outputs": [
    {
     "data": {
      "text/plain": [
       "R version 4.0.2 (2020-06-22)\n",
       "Platform: x86_64-w64-mingw32/x64 (64-bit)\n",
       "Running under: Windows 10 x64 (build 19042)\n",
       "\n",
       "Matrix products: default\n",
       "\n",
       "locale:\n",
       "[1] LC_COLLATE=English_United States.1252 \n",
       "[2] LC_CTYPE=English_United States.1252   \n",
       "[3] LC_MONETARY=English_United States.1252\n",
       "[4] LC_NUMERIC=C                          \n",
       "[5] LC_TIME=English_United States.1252    \n",
       "\n",
       "attached base packages:\n",
       "[1] stats     graphics  grDevices utils     datasets  methods   base     \n",
       "\n",
       "other attached packages:\n",
       "[1] data.table_1.13.6 stringr_1.4.0     survminer_0.4.9   ggpubr_0.4.0     \n",
       "[5] ggplot2_3.3.3     survival_3.2-11  \n",
       "\n",
       "loaded via a namespace (and not attached):\n",
       " [1] tidyr_1.1.2           jsonlite_1.7.2        splines_4.0.2        \n",
       " [4] maxstat_0.7-25        carData_3.0-4         assertthat_0.2.1     \n",
       " [7] cellranger_1.1.0      pillar_1.6.0          backports_1.2.1      \n",
       "[10] lattice_0.20-41       glue_1.4.2            uuid_0.1-4           \n",
       "[13] digest_0.6.27         ggsignif_0.6.1        gridtext_0.1.4       \n",
       "[16] colorspace_2.0-0      htmltools_0.5.1.1     Matrix_1.2-18        \n",
       "[19] pkgconfig_2.0.3       broom_0.7.6           haven_2.3.1          \n",
       "[22] purrr_0.3.4           xtable_1.8-4          mvtnorm_1.1-1        \n",
       "[25] scales_1.1.1          km.ci_0.5-2           openxlsx_4.2.3       \n",
       "[28] rio_0.5.26            KMsurv_0.1-5          tibble_3.0.6         \n",
       "[31] generics_0.1.0        farver_2.1.0          car_3.0-10           \n",
       "[34] ellipsis_0.3.1        withr_2.4.2           repr_1.1.3           \n",
       "[37] magrittr_2.0.1        crayon_1.4.1          readxl_1.3.1         \n",
       "[40] ggtext_0.1.1          evaluate_0.14         fansi_0.4.2          \n",
       "[43] rstatix_0.7.0         forcats_0.5.1         xml2_1.3.2           \n",
       "[46] foreign_0.8-80        tools_4.0.2           hms_1.0.0            \n",
       "[49] lifecycle_1.0.0       munsell_0.5.0         ggsci_2.9            \n",
       "[52] zip_2.1.1             compiler_4.0.2        rlang_0.4.10         \n",
       "[55] grid_4.0.2            pbdZMQ_0.3-5          IRkernel_1.1.1       \n",
       "[58] base64enc_0.1-3       labeling_0.4.2        gtable_0.3.0         \n",
       "[61] abind_1.4-5           DBI_1.1.1             curl_4.3             \n",
       "[64] markdown_1.1          R6_2.5.0              gridExtra_2.3        \n",
       "[67] zoo_1.8-8             knitr_1.33            dplyr_1.0.5          \n",
       "[70] survMisc_0.5.5        utf8_1.2.1            exactRankTests_0.8-32\n",
       "[73] stringi_1.5.3         IRdisplay_1.0         Rcpp_1.0.6           \n",
       "[76] vctrs_0.3.6           tidyselect_1.1.0      xfun_0.22            "
      ]
     },
     "metadata": {},
     "output_type": "display_data"
    }
   ],
   "source": [
    "sessionInfo()"
   ]
  },
  {
   "cell_type": "code",
   "execution_count": null,
   "id": "fc2f540a-e2bf-4938-a538-7dd57e4de19f",
   "metadata": {},
   "outputs": [],
   "source": []
  }
 ],
 "metadata": {
  "kernelspec": {
   "display_name": "R",
   "language": "R",
   "name": "ir"
  },
  "language_info": {
   "codemirror_mode": "r",
   "file_extension": ".r",
   "mimetype": "text/x-r-source",
   "name": "R",
   "pygments_lexer": "r",
   "version": "4.0.2"
  }
 },
 "nbformat": 4,
 "nbformat_minor": 5
}
