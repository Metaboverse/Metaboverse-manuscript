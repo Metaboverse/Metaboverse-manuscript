{
 "cells": [
  {
   "cell_type": "code",
   "execution_count": 33,
   "id": "afe0c147",
   "metadata": {},
   "outputs": [],
   "source": [
    "import pandas as pd\n",
    "import numpy as np\n",
    "\n",
    "import matplotlib\n",
    "import matplotlib.pyplot as plt\n",
    "import seaborn as sns"
   ]
  },
  {
   "cell_type": "code",
   "execution_count": 8,
   "id": "557c99ec",
   "metadata": {},
   "outputs": [],
   "source": [
    "depmap = pd.read_csv(\"CRISPR_(DepMap_21Q4_Public+Score,_Chronos)_subsetted_NSCLC.csv\", index_col=0)\n",
    "depmap.index.name = None"
   ]
  },
  {
   "cell_type": "code",
   "execution_count": 28,
   "id": "c1de41f1",
   "metadata": {},
   "outputs": [],
   "source": [
    "average_ranked_genes = [\n",
    "    \"SMS\",\n",
    "    \"GLYCTK\",\n",
    "    \"PGP\",\n",
    "    \"UPP1\", \"UPP2\",\n",
    "    \"UPP1\", \"UPP2\",\n",
    "    \"ODC1\",\n",
    "    #\"TREH\", <- not in data\n",
    "    \"SI\",\n",
    "    #\"AMY1A\", \"AMY1B\", <- not in data\n",
    "        \"AMY2A\", \n",
    "        #\"AMY2B\", \"AMY1C\",  <- not in data\n",
    "    \"MGAM\",\n",
    "    \"XDH\"\n",
    "]"
   ]
  },
  {
   "cell_type": "code",
   "execution_count": 29,
   "id": "6e7b5211",
   "metadata": {},
   "outputs": [],
   "source": [
    "rankings = [\n",
    "    1,\n",
    "    2,\n",
    "    3,\n",
    "    4,4,\n",
    "    5,5,\n",
    "    6,\n",
    "    #7, <- not in data\n",
    "    8, \n",
    "    #9,9, <- not in data\n",
    "        9,\n",
    "        #9, 9, <- not in data\n",
    "    10,\n",
    "    11\n",
    "]"
   ]
  },
  {
   "cell_type": "code",
   "execution_count": 31,
   "id": "3aa80fac",
   "metadata": {},
   "outputs": [
    {
     "data": {
      "text/plain": [
       "SMS      -0.474896\n",
       "GLYCTK   -0.024428\n",
       "PGP      -0.117608\n",
       "UPP1      0.107487\n",
       "UPP2     -0.020510\n",
       "UPP1      0.107487\n",
       "UPP2     -0.020510\n",
       "ODC1      0.039441\n",
       "SI        0.013299\n",
       "AMY2A    -0.019322\n",
       "MGAM      0.068069\n",
       "XDH       0.010385\n",
       "dtype: float64"
      ]
     },
     "execution_count": 31,
     "metadata": {},
     "output_type": "execute_result"
    }
   ],
   "source": [
    "depmap[average_ranked_genes].median()"
   ]
  },
  {
   "cell_type": "code",
   "execution_count": 32,
   "id": "1adb4b74",
   "metadata": {},
   "outputs": [
    {
     "data": {
      "text/plain": [
       "SMS      -0.456447\n",
       "GLYCTK   -0.024766\n",
       "PGP      -0.155247\n",
       "UPP1      0.101929\n",
       "UPP2     -0.018982\n",
       "UPP1      0.101929\n",
       "UPP2     -0.018982\n",
       "ODC1      0.033541\n",
       "SI        0.009096\n",
       "AMY2A    -0.017167\n",
       "MGAM      0.072642\n",
       "XDH       0.015929\n",
       "dtype: float64"
      ]
     },
     "execution_count": 32,
     "metadata": {},
     "output_type": "execute_result"
    }
   ],
   "source": [
    "depmap[average_ranked_genes].mean()"
   ]
  },
  {
   "cell_type": "code",
   "execution_count": 54,
   "id": "73e784b6",
   "metadata": {},
   "outputs": [
    {
     "data": {
      "text/plain": [
       "Text(0, 0.5, 'Median DepMap Dependency Score')"
      ]
     },
     "execution_count": 54,
     "metadata": {},
     "output_type": "execute_result"
    },
    {
     "data": {
      "image/png": "[encoded data removed]",
      "text/plain": [
       "<Figure size 1080x360 with 2 Axes>"
      ]
     },
     "metadata": {
      "needs_background": "light"
     },
     "output_type": "display_data"
    }
   ],
   "source": [
    "graph, (plot1, plot2) = plt.subplots(1, 2, figsize=(15,5))\n",
    "\n",
    "graph.suptitle(\"NSCLC Dependency Scores\", size=18)\n",
    "\n",
    "plot1.scatter(rankings, depmap[average_ranked_genes].mean(), c=\"k\")\n",
    "plot1.invert_yaxis()\n",
    "plot1.set_title(\"Metaboverse reaction rank vs. DepMap mean dependency\")\n",
    "plot1.set_xlabel(\"Reaction Pattern Rank\")\n",
    "plot1.set_ylabel(\"Mean DepMap Dependency Score\")\n",
    "\n",
    "plot2.scatter(rankings, depmap[average_ranked_genes].median(), c=\"k\")\n",
    "plot2.invert_yaxis()\n",
    "plot2.set_title(\"Metaboverse reaction rank vs. DepMap median dependency\")\n",
    "plot2.set_xlabel(\"Reaction Pattern Rank\")\n",
    "plot2.set_ylabel(\"Median DepMap Dependency Score\")"
   ]
  },
  {
   "cell_type": "code",
   "execution_count": null,
   "id": "2a4d290b",
   "metadata": {},
   "outputs": [],
   "source": []
  },
  {
   "cell_type": "code",
   "execution_count": 12,
   "id": "d3780ccb",
   "metadata": {},
   "outputs": [
    {
     "data": {
      "text/plain": [
       "[1, 2, 3, 4, 4, 5, 5, 6, 7, 9, 9, 9, 9, 10, 11]"
      ]
     },
     "execution_count": 12,
     "metadata": {},
     "output_type": "execute_result"
    }
   ],
   "source": [
    "rankings"
   ]
  },
  {
   "cell_type": "code",
   "execution_count": null,
   "id": "49987641",
   "metadata": {},
   "outputs": [],
   "source": []
  }
 ],
 "metadata": {
  "kernelspec": {
   "display_name": "Python 3 (ipykernel)",
   "language": "python",
   "name": "python3"
  },
  "language_info": {
   "codemirror_mode": {
    "name": "ipython",
    "version": 3
   },
   "file_extension": ".py",
   "mimetype": "text/x-python",
   "name": "python",
   "nbconvert_exporter": "python",
   "pygments_lexer": "ipython3",
   "version": "3.8.10"
  }
 },
 "nbformat": 4,
 "nbformat_minor": 5
}
