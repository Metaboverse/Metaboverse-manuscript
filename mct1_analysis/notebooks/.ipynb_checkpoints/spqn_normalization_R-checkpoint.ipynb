{
 "cells": [
  {
   "cell_type": "markdown",
   "id": "7036d901",
   "metadata": {},
   "source": [
    "# SpQN RNA-seq co-expression ranking"
   ]
  },
  {
   "cell_type": "code",
   "execution_count": 1,
   "id": "144ae522",
   "metadata": {},
   "outputs": [
    {
     "name": "stderr",
     "output_type": "stream",
     "text": [
      "Loading required package: ggplot2\n",
      "\n",
      "Warning message:\n",
      "\"package 'ggplot2' was built under R version 4.0.3\"\n",
      "Loading required package: ggridges\n",
      "\n",
      "Warning message:\n",
      "\"package 'ggridges' was built under R version 4.0.4\"\n",
      "Loading required package: SummarizedExperiment\n",
      "\n",
      "Loading required package: GenomicRanges\n",
      "\n",
      "Loading required package: stats4\n",
      "\n",
      "Loading required package: BiocGenerics\n",
      "\n",
      "Loading required package: parallel\n",
      "\n",
      "\n",
      "Attaching package: 'BiocGenerics'\n",
      "\n",
      "\n",
      "The following objects are masked from 'package:parallel':\n",
      "\n",
      "    clusterApply, clusterApplyLB, clusterCall, clusterEvalQ,\n",
      "    clusterExport, clusterMap, parApply, parCapply, parLapply,\n",
      "    parLapplyLB, parRapply, parSapply, parSapplyLB\n",
      "\n",
      "\n",
      "The following objects are masked from 'package:stats':\n",
      "\n",
      "    IQR, mad, sd, var, xtabs\n",
      "\n",
      "\n",
      "The following objects are masked from 'package:base':\n",
      "\n",
      "    anyDuplicated, append, as.data.frame, basename, cbind, colnames,\n",
      "    dirname, do.call, duplicated, eval, evalq, Filter, Find, get, grep,\n",
      "    grepl, intersect, is.unsorted, lapply, Map, mapply, match, mget,\n",
      "    order, paste, pmax, pmax.int, pmin, pmin.int, Position, rank,\n",
      "    rbind, Reduce, rownames, sapply, setdiff, sort, table, tapply,\n",
      "    union, unique, unsplit, which, which.max, which.min\n",
      "\n",
      "\n",
      "Loading required package: S4Vectors\n",
      "\n",
      "\n",
      "Attaching package: 'S4Vectors'\n",
      "\n",
      "\n",
      "The following object is masked from 'package:base':\n",
      "\n",
      "    expand.grid\n",
      "\n",
      "\n",
      "Loading required package: IRanges\n",
      "\n",
      "\n",
      "Attaching package: 'IRanges'\n",
      "\n",
      "\n",
      "The following object is masked from 'package:grDevices':\n",
      "\n",
      "    windows\n",
      "\n",
      "\n",
      "Loading required package: GenomeInfoDb\n",
      "\n",
      "Loading required package: Biobase\n",
      "\n",
      "Welcome to Bioconductor\n",
      "\n",
      "    Vignettes contain introductory material; view with\n",
      "    'browseVignettes()'. To cite Bioconductor, see\n",
      "    'citation(\"Biobase\")', and for packages 'citation(\"pkgname\")'.\n",
      "\n",
      "\n",
      "Loading required package: DelayedArray\n",
      "\n",
      "Loading required package: matrixStats\n",
      "\n",
      "Warning message:\n",
      "\"package 'matrixStats' was built under R version 4.0.3\"\n",
      "\n",
      "Attaching package: 'matrixStats'\n",
      "\n",
      "\n",
      "The following objects are masked from 'package:Biobase':\n",
      "\n",
      "    anyMissing, rowMedians\n",
      "\n",
      "\n",
      "\n",
      "Attaching package: 'DelayedArray'\n",
      "\n",
      "\n",
      "The following objects are masked from 'package:matrixStats':\n",
      "\n",
      "    colMaxs, colMins, colRanges, rowMaxs, rowMins, rowRanges\n",
      "\n",
      "\n",
      "The following objects are masked from 'package:base':\n",
      "\n",
      "    aperm, apply, rowsum\n",
      "\n",
      "\n",
      "Warning message:\n",
      "\"package 'data.table' was built under R version 4.0.3\"\n",
      "\n",
      "Attaching package: 'data.table'\n",
      "\n",
      "\n",
      "The following object is masked from 'package:SummarizedExperiment':\n",
      "\n",
      "    shift\n",
      "\n",
      "\n",
      "The following object is masked from 'package:GenomicRanges':\n",
      "\n",
      "    shift\n",
      "\n",
      "\n",
      "The following object is masked from 'package:IRanges':\n",
      "\n",
      "    shift\n",
      "\n",
      "\n",
      "The following objects are masked from 'package:S4Vectors':\n",
      "\n",
      "    first, second\n",
      "\n",
      "\n",
      "Warning message:\n",
      "\"package 'WGCNA' was built under R version 4.0.4\"\n",
      "Loading required package: dynamicTreeCut\n",
      "\n",
      "Loading required package: fastcluster\n",
      "\n",
      "\n",
      "Attaching package: 'fastcluster'\n",
      "\n",
      "\n",
      "The following object is masked from 'package:stats':\n",
      "\n",
      "    hclust\n",
      "\n",
      "\n",
      "\n",
      "\n",
      "\n",
      "Attaching package: 'WGCNA'\n",
      "\n",
      "\n",
      "The following object is masked from 'package:IRanges':\n",
      "\n",
      "    cor\n",
      "\n",
      "\n",
      "The following object is masked from 'package:S4Vectors':\n",
      "\n",
      "    cor\n",
      "\n",
      "\n",
      "The following object is masked from 'package:stats':\n",
      "\n",
      "    cor\n",
      "\n",
      "\n",
      "Loading required package: mgcv\n",
      "\n",
      "Loading required package: nlme\n",
      "\n",
      "\n",
      "Attaching package: 'nlme'\n",
      "\n",
      "\n",
      "The following object is masked from 'package:IRanges':\n",
      "\n",
      "    collapse\n",
      "\n",
      "\n",
      "This is mgcv 1.8-31. For overview type 'help(\"mgcv-package\")'.\n",
      "\n",
      "Loading required package: genefilter\n",
      "\n",
      "\n",
      "Attaching package: 'genefilter'\n",
      "\n",
      "\n",
      "The following objects are masked from 'package:matrixStats':\n",
      "\n",
      "    rowSds, rowVars\n",
      "\n",
      "\n",
      "Loading required package: BiocParallel\n",
      "\n",
      "Warning message:\n",
      "\"package 'pamr' was built under R version 4.0.5\"\n",
      "Loading required package: cluster\n",
      "\n",
      "Loading required package: survival\n",
      "\n",
      "Warning message:\n",
      "\"package 'survival' was built under R version 4.0.5\"\n",
      "\n",
      "Attaching package: 'limma'\n",
      "\n",
      "\n",
      "The following object is masked from 'package:BiocGenerics':\n",
      "\n",
      "    plotMA\n",
      "\n",
      "\n"
     ]
    }
   ],
   "source": [
    "library(spqn)\n",
    "library(data.table)\n",
    "library(WGCNA)\n",
    "\n",
    "library(sva)\n",
    "library(bladderbatch)\n",
    "data(bladderdata)\n",
    "library(pamr)\n",
    "library(limma)\n",
    "\n",
    "setwd(\n",
    "  \"C:\\\\Users\\\\jorda\\\\Desktop\\\\projects\\\\manuscript\\\\mct1_analysis\")"
   ]
  },
  {
   "cell_type": "code",
   "execution_count": 4,
   "id": "7b7c52ee",
   "metadata": {},
   "outputs": [],
   "source": [
    "n_comps <- 4"
   ]
  },
  {
   "cell_type": "code",
   "execution_count": 141,
   "id": "12c9e031",
   "metadata": {},
   "outputs": [],
   "source": [
    "# Read data \n",
    "# Removed gene rows where min value was not 25 or greater\n",
    "# Performed TPM normalization of gene counts\n",
    "\n",
    "exp_name <- \"mct1_mct1sit4_rnaseq_tpm25\"\n",
    "\n",
    "#exp_name <- \"refine_bio_all\"\n",
    "#exp_name <- \"refine_bio_wt\"\n",
    "\n",
    "\n",
    "input_file <- paste(\"data/\", exp_name, \".tsv\", sep=\"\")\n",
    "output_file <- paste(\"data/\", exp_name, \"_spqn_cor.tsv\", sep=\"\")\n",
    "\n",
    "counts <- read.table(\n",
    "  input_file, \n",
    "  sep=\"\\t\", \n",
    "  header=TRUE, \n",
    "  row.names=\"X\")"
   ]
  },
  {
   "cell_type": "code",
   "execution_count": 142,
   "id": "00de7ac9",
   "metadata": {},
   "outputs": [
    {
     "data": {
      "text/html": [
       "<style>\n",
       ".list-inline {list-style: none; margin:0; padding: 0}\n",
       ".list-inline>li {display: inline-block}\n",
       ".list-inline>li:not(:last-child)::after {content: \"\\00b7\"; padding: 0 .5ex}\n",
       "</style>\n",
       "<ol class=list-inline><li>5427</li><li>27</li></ol>\n"
      ],
      "text/latex": [
       "\\begin{enumerate*}\n",
       "\\item 5427\n",
       "\\item 27\n",
       "\\end{enumerate*}\n"
      ],
      "text/markdown": [
       "1. 5427\n",
       "2. 27\n",
       "\n",
       "\n"
      ],
      "text/plain": [
       "[1] 5427   27"
      ]
     },
     "metadata": {},
     "output_type": "display_data"
    }
   ],
   "source": [
    "dim(counts)"
   ]
  },
  {
   "cell_type": "code",
   "execution_count": 143,
   "id": "1f325768",
   "metadata": {},
   "outputs": [],
   "source": [
    "# Pre-process data\n",
    "log_data <- log2(counts + 0.5)\n",
    "ave_log_data <- rowMeans(log_data)\n",
    "log_data_centered <- log_data - ave_log_data # mean centering\n",
    "log_data_centered  <- log_data_centered / matrixStats::rowSds(\n",
    "  as.matrix(log_data_centered)) # variance scaling"
   ]
  },
  {
   "cell_type": "code",
   "execution_count": 144,
   "id": "a95fd994",
   "metadata": {},
   "outputs": [],
   "source": [
    "# Remove PCs (4) from the gene expression matrix after scaling each gene to \n",
    "# have mean=0 and variance=1\n",
    "log_data_pc4 <- removePrincipalComponents(\n",
    "  t(scale(t(log_data_centered))), \n",
    "  n = n_comps)"
   ]
  },
  {
   "cell_type": "code",
   "execution_count": 145,
   "id": "4e128219",
   "metadata": {},
   "outputs": [],
   "source": [
    "# Perform base correlation of pre-processed data\n",
    "cor_m <- cor(t(log_data_pc4))"
   ]
  },
  {
   "cell_type": "code",
   "execution_count": 146,
   "id": "90a9079c",
   "metadata": {},
   "outputs": [
    {
     "name": "stderr",
     "output_type": "stream",
     "text": [
      "Picking joint bandwidth of 0.0276\n",
      "\n",
      "Warning message:\n",
      "\"Continuous limits supplied to discrete scale.\n",
      "Did you mean `limits = factor(...)` or `scale_*_continuous()`?\"\n",
      "Picking joint bandwidth of 0.0819\n",
      "\n"
     ]
    },
    {
     "data": {
      "image/png": "[encoded data removed]",
      "text/plain": [
       "plot without title"
      ]
     },
     "metadata": {
      "image/png": {
       "height": 420,
       "width": 420
      }
     },
     "output_type": "display_data"
    },
    {
     "data": {
      "image/png": "[encoded data removed]",
      "text/plain": [
       "plot without title"
      ]
     },
     "metadata": {
      "image/png": {
       "height": 420,
       "width": 420
      }
     },
     "output_type": "display_data"
    }
   ],
   "source": [
    "# we re-arrrange the correlation matrix by sortng the row and column by the \n",
    "# expression level, and partitioned the correlation matrix into same-size bins, \n",
    "# then used each bin to estimate the distribution of correlation for genes with \n",
    "# that expression level. Here we use 10 by 10 bins.\n",
    "# The second plot will show that high-expressed genes' correlation is \n",
    "# skewed high\n",
    "plot_signal_condition_exp(cor_m, ave_log_data, signal=0)\n",
    "plot_signal_condition_exp(cor_m, ave_log_data, signal=0.001)"
   ]
  },
  {
   "cell_type": "code",
   "execution_count": 147,
   "id": "8a6bdc84",
   "metadata": {},
   "outputs": [
    {
     "data": {
      "image/png": "[encoded data removed]",
      "text/plain": [
       "plot without title"
      ]
     },
     "metadata": {
      "image/png": {
       "height": 420,
       "width": 420
      }
     },
     "output_type": "display_data"
    }
   ],
   "source": [
    "# We next plot the marginal relationship between IQR of correlation and the \n",
    "# expression level of the lower expression group for each bin, and we also see \n",
    "# a positive relationship.\n",
    "# Note: I do not see with with TPM-normalized data\n",
    "IQR_list <- get_IQR_condition_exp(cor_m, ave_log_data)\n",
    "IQR_unlist <- unlist(lapply(1:10, function(ii) IQR_list$IQR_cor_mat[ii, ii:10]))\n",
    "plot(rep(IQR_list$grp_mean, times = 1:10),\n",
    "     IQR_unlist,\n",
    "     xlab=\"min(average(log2TPM))\", ylab=\"IQR\", cex.lab=1.5, cex.axis=1.2, col=\"blue\")"
   ]
  },
  {
   "cell_type": "code",
   "execution_count": 148,
   "id": "bb45d0cb",
   "metadata": {},
   "outputs": [
    {
     "data": {
      "image/png": "[encoded data removed]",
      "text/plain": [
       "plot without title"
      ]
     },
     "metadata": {
      "image/png": {
       "height": 420,
       "width": 420
      }
     },
     "output_type": "display_data"
    }
   ],
   "source": [
    "# We further examined the difference of the distributions using Q-Q plot. We \n",
    "# used the bins with the second highest expression level on the diagonal as \n",
    "# reference, and compared the distribution with other bins in the diagonal. We \n",
    "# observe both scale and shape difference in the distributions.\n",
    "par(mfrow = c(3,3))\n",
    "for(j in c(1:8,10)){\n",
    "  qqplot_condition_exp(cor_m, ave_log_data, j, j)\n",
    "}"
   ]
  },
  {
   "cell_type": "code",
   "execution_count": 149,
   "id": "1164f76f",
   "metadata": {},
   "outputs": [],
   "source": [
    "# SPQN normalization\n",
    "cor_m_spqn <- normalize_correlation(\n",
    "  cor_m, \n",
    "  ave_exp=ave_log_data, \n",
    "  ngrp=20, \n",
    "  size_grp=300, \n",
    "  ref_grp=18)"
   ]
  },
  {
   "cell_type": "code",
   "execution_count": 150,
   "id": "0ea96e4b",
   "metadata": {},
   "outputs": [
    {
     "name": "stderr",
     "output_type": "stream",
     "text": [
      "Picking joint bandwidth of 0.029\n",
      "\n",
      "Warning message:\n",
      "\"Continuous limits supplied to discrete scale.\n",
      "Did you mean `limits = factor(...)` or `scale_*_continuous()`?\"\n",
      "Picking joint bandwidth of 0.0186\n",
      "\n"
     ]
    },
    {
     "data": {
      "image/png": "[encoded data removed]",
      "text/plain": [
       "plot without title"
      ]
     },
     "metadata": {
      "image/png": {
       "height": 420,
       "width": 420
      }
     },
     "output_type": "display_data"
    },
    {
     "data": {
      "image/png": "[encoded data removed]",
      "text/plain": [
       "plot without title"
      ]
     },
     "metadata": {
      "image/png": {
       "height": 420,
       "width": 420
      }
     },
     "output_type": "display_data"
    }
   ],
   "source": [
    "# Distribution of predicted signals and background correlations for bins on the \n",
    "# diagonal of the correlation matrix.\n",
    "# Note: Signal becomes more uniform\n",
    "plot_signal_condition_exp(cor_m_spqn, ave_log_data, signal=0)\n",
    "plot_signal_condition_exp(cor_m_spqn, ave_log_data, signal=0.001)\n",
    "\n",
    "IQR_spqn_list <- get_IQR_condition_exp(cor_m_spqn, ave_log_data)"
   ]
  },
  {
   "cell_type": "code",
   "execution_count": 151,
   "id": "29ee92f3",
   "metadata": {},
   "outputs": [
    {
     "data": {
      "image/png": "[encoded data removed]",
      "text/plain": [
       "plot without title"
      ]
     },
     "metadata": {
      "image/png": {
       "height": 420,
       "width": 420
      }
     },
     "output_type": "display_data"
    }
   ],
   "source": [
    "# Q-Q plots\n",
    "par(mfrow = c(3,3))\n",
    "for(j in c(1:8,10)){\n",
    "  qqplot_condition_exp(cor_m_spqn, ave_log_data, j, j)\n",
    "}"
   ]
  },
  {
   "cell_type": "code",
   "execution_count": 152,
   "id": "ba2b3229",
   "metadata": {},
   "outputs": [
    {
     "data": {
      "image/png": "[encoded data removed]",
      "text/plain": [
       "plot without title"
      ]
     },
     "metadata": {
      "image/png": {
       "height": 420,
       "width": 420
      }
     },
     "output_type": "display_data"
    }
   ],
   "source": [
    "# Marginal relationship between IQR and the expression level of the lower \n",
    "# expressed group for each bin.\n",
    "IQR_unlist <- unlist(lapply(1:10, function(ii) IQR_spqn_list$IQR_cor_mat[ii, ii:10]))\n",
    "plot(rep(IQR_spqn_list$grp_mean, times = 1:10),\n",
    "     IQR_unlist,\n",
    "     xlab=\"min(average(log2TPM))\", ylab=\"IQR\", cex.lab=1.5, cex.axis=1.2, col=\"blue\")"
   ]
  },
  {
   "cell_type": "code",
   "execution_count": 153,
   "id": "77fa97e3",
   "metadata": {},
   "outputs": [],
   "source": [
    "# Add gene names to row and col names\n",
    "row.names(cor_m_spqn) <- row.names(cor_m)\n",
    "colnames(cor_m_spqn) <- colnames(cor_m)"
   ]
  },
  {
   "cell_type": "code",
   "execution_count": 154,
   "id": "be4c0514",
   "metadata": {},
   "outputs": [],
   "source": [
    "# Output results\n",
    "write.table(\n",
    "  cor_m_spqn, \n",
    "  file=output_file, \n",
    "  row.names=TRUE, \n",
    "  col.names=TRUE,\n",
    "  sep=\"\\t\")"
   ]
  },
  {
   "cell_type": "code",
   "execution_count": null,
   "id": "d22fc468",
   "metadata": {},
   "outputs": [],
   "source": []
  },
  {
   "cell_type": "code",
   "execution_count": null,
   "id": "fb131a90",
   "metadata": {},
   "outputs": [],
   "source": []
  },
  {
   "cell_type": "code",
   "execution_count": null,
   "id": "b3022031",
   "metadata": {},
   "outputs": [],
   "source": []
  },
  {
   "cell_type": "code",
   "execution_count": null,
   "id": "056118c0",
   "metadata": {},
   "outputs": [],
   "source": []
  }
 ],
 "metadata": {
  "kernelspec": {
   "display_name": "R",
   "language": "R",
   "name": "ir"
  },
  "language_info": {
   "codemirror_mode": "r",
   "file_extension": ".r",
   "mimetype": "text/x-r-source",
   "name": "R",
   "pygments_lexer": "r",
   "version": "4.0.2"
  }
 },
 "nbformat": 4,
 "nbformat_minor": 5
}
