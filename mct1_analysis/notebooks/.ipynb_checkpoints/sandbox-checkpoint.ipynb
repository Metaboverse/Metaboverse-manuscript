{
 "cells": [
  {
   "cell_type": "markdown",
   "metadata": {},
   "source": [
    "### Import dependencies"
   ]
  },
  {
   "cell_type": "code",
   "execution_count": 1,
   "metadata": {},
   "outputs": [],
   "source": [
    "import os \n",
    "import sys \n",
    "import numpy as np \n",
    "import pandas as pd \n",
    "import seaborn as sns \n",
    "import matplotlib \n",
    "import matplotlib.pyplot as plt \n",
    "import xpressplot as xp\n",
    "\n",
    "sns.set(font='arial')\n",
    "jakes_cmap = sns.diverging_palette(212, 61, s=99, l=77, sep=1, n=16, center='dark') #Custom aesthetics"
   ]
  },
  {
   "cell_type": "markdown",
   "metadata": {},
   "source": [
    "### Read in source files"
   ]
  },
  {
   "cell_type": "code",
   "execution_count": 2,
   "metadata": {},
   "outputs": [],
   "source": [
    "rna_source_url = os.path.join (os.getcwd(), \"..\", \"data\", \"mct1_rnaseq_data\")  \n",
    "\n",
    "rnaseq_url = os.path.join (rna_source_url, \"sce_mct1_deduped_counts_count_table.tsv\")\n",
    "rnaseq_metadata_url = os.path.join (rna_source_url, \"sce_mct1_metadata_copy.txt\")\n",
    "\n",
    "                               \n",
    "proteomics_source_url = os.path.join (os.getcwd(), \"..\", \"data\", \"mct1_proteomics_data\")                       \n",
    "proteomics_url = os.path.join (proteomics_source_url, \"proteomics_values.txt\")\n",
    "\n",
    "\n",
    "genelist_source_url = os.path.join (os.getcwd(), \"..\", \"data\", \"analysis_lists\")  \n",
    "aa_genelist_url = os.path.join (genelist_source_url, \"aa_gene_list.csv\")\n",
    "nt_genelist_url = os.path.join (genelist_source_url, \"GO_0009117_SCE_nucleotide_metabolism.txt\")\n",
    "rna_lengths_url = os.path.join (genelist_source_url, \"sce_lengths.txt\")\n",
    "\n",
    "\n",
    "plots_url = os.path.join (os.getcwd(), \"..\", \"plots\")  "
   ]
  },
  {
   "cell_type": "code",
   "execution_count": 3,
   "metadata": {},
   "outputs": [],
   "source": [
    "rnaseq = pd.read_csv(\n",
    "    rnaseq_url,\n",
    "    sep=\"\\t\",\n",
    "    index_col=0)\n",
    "rna_metadata = pd.read_csv(\n",
    "    rnaseq_metadata_url,\n",
    "    sep=\"\\t\")\n",
    "rna_lengths = pd.read_csv(\n",
    "    rna_lengths_url,\n",
    "    sep=\"\\t\",\n",
    "    index_col=0)\n",
    "rna_lengths.index.name = None\n",
    "aa_genes = pd.read_csv(\n",
    "    aa_genelist_url,\n",
    "    sep=\",\")\n",
    "nt_genes = pd.read_csv(\n",
    "    nt_genelist_url,\n",
    "    sep=\"\\t\",\n",
    "    header=None)\n",
    "\n",
    "proteomics = pd.read_csv(\n",
    "    proteomics_url,\n",
    "    sep=\"\\t\",\n",
    "    index_col=0)"
   ]
  },
  {
   "cell_type": "markdown",
   "metadata": {},
   "source": [
    "### Prepare reference items"
   ]
  },
  {
   "cell_type": "code",
   "execution_count": 4,
   "metadata": {},
   "outputs": [],
   "source": [
    "rna_length_dict = rna_lengths.to_dict()['Length']"
   ]
  },
  {
   "cell_type": "markdown",
   "metadata": {},
   "source": [
    "### TPM normalization\n",
    "1) Divide the read counts by the length of each gene in kilobases. This gives you reads per kilobase (RPK).   \n",
    "2) Count up all the RPK values in a sample and divide this number by 1,000,000. This is your “per million” scaling factor.   \n",
    "3) Divide the RPK values by the “per million” scaling factor. This gives you TPM.   \n",
    "Source: https://rna-seqblog.com/rpkm-fpkm-and-tpm-clearly-explained/"
   ]
  },
  {
   "cell_type": "code",
   "execution_count": 5,
   "metadata": {},
   "outputs": [
    {
     "name": "stdout",
     "output_type": "stream",
     "text": [
      "Initial dataframe size: (7127, 24)\n",
      "Count thresholding: (5643, 24)\n",
      "Remove misc. RNAs: (5450, 25)\n",
      "\n",
      "Check outputs:\n",
      "14251X1     1000000.0\n",
      "14251X2     1000000.0\n",
      "14251X3     1000000.0\n",
      "14251X4     1000000.0\n",
      "14251X5     1000000.0\n",
      "14251X6     1000000.0\n",
      "14251X7     1000000.0\n",
      "14251X8     1000000.0\n",
      "14251X9     1000000.0\n",
      "14251X10    1000000.0\n",
      "14251X11    1000000.0\n",
      "14251X12    1000000.0\n",
      "14251X13    1000000.0\n",
      "14251X14    1000000.0\n",
      "14251X15    1000000.0\n",
      "14251X16    1000000.0\n",
      "14251X17    1000000.0\n",
      "14251X18    1000000.0\n",
      "14251X19    1000000.0\n",
      "14251X20    1000000.0\n",
      "14251X21    1000000.0\n",
      "14251X22    1000000.0\n",
      "14251X23    1000000.0\n",
      "14251X24    1000000.0\n",
      "dtype: float64\n"
     ]
    }
   ],
   "source": [
    "rnaseq_tpm = rnaseq.copy()\n",
    "\n",
    "print(\"Initial dataframe size: \" + str(rnaseq_tpm.shape))\n",
    "\n",
    "# remove RNAs with less than 50 counts\n",
    "rnaseq_tpm = rnaseq_tpm[rnaseq_tpm.min(axis=1) > 25]\n",
    "print(\"Count thresholding: \" + str(rnaseq_tpm.shape))\n",
    "\n",
    "# remove RNAs with unmapped lengths -- most are dubious ORFs, ncRNAs, etc.\n",
    "rnaseq_tpm['lengths'] = rnaseq_tpm.index.map(rna_length_dict)\n",
    "rnaseq_tpm = rnaseq_tpm[~rnaseq_tpm['lengths'].isna()]\n",
    "rnaseq_tpm['lengths'] = rnaseq_tpm['lengths'] / 1000\n",
    "print(\"Remove misc. RNAs: \" + str(rnaseq_tpm.shape))\n",
    "\n",
    "# Step 1\n",
    "rnaseq_tpm = rnaseq_tpm.divide((rnaseq_tpm['lengths']), axis=0) \n",
    "rnaseq_tpm.drop('lengths', axis=1, inplace=True)\n",
    "\n",
    "# Step 2\n",
    "rnaseq_tpm.loc['per_million'] = rnaseq_tpm.sum(axis=0) / 1000000\n",
    "\n",
    "# Step 3\n",
    "rnaseq_tpm = rnaseq_tpm.divide((rnaseq_tpm.loc['per_million']), axis=1) \n",
    "rnaseq_tpm.drop('per_million', axis=0, inplace=True)\n",
    "\n",
    "# Check outputs \n",
    "print(\"\\nCheck outputs:\")\n",
    "print(rnaseq_tpm.sum())"
   ]
  },
  {
   "cell_type": "code",
   "execution_count": 6,
   "metadata": {},
   "outputs": [
    {
     "ename": "OSError",
     "evalue": "[Errno 22] Invalid argument: 'C:\\\\Users\\\\jorda\\\\Desktop\\\\projects\\\\manuscript\\\\mct1_analysis\\\\notebooks\\\\..\\\\data\\\\mct1_rnaseq_data\\\\sce_mct1_deduped_tpm_threshold25.tsv'",
     "output_type": "error",
     "traceback": [
      "\u001b[1;31m---------------------------------------------------------------------------\u001b[0m",
      "\u001b[1;31mOSError\u001b[0m                                   Traceback (most recent call last)",
      "\u001b[1;32m<ipython-input-6-47a01135d765>\u001b[0m in \u001b[0;36m<module>\u001b[1;34m\u001b[0m\n\u001b[1;32m----> 1\u001b[1;33m rnaseq_tpm.to_csv(\n\u001b[0m\u001b[0;32m      2\u001b[0m     \u001b[0mos\u001b[0m\u001b[1;33m.\u001b[0m\u001b[0mpath\u001b[0m\u001b[1;33m.\u001b[0m\u001b[0mjoin\u001b[0m\u001b[1;33m(\u001b[0m\u001b[0mrna_source_url\u001b[0m\u001b[1;33m,\u001b[0m \u001b[1;34m\"sce_mct1_deduped_tpm_threshold25.tsv\"\u001b[0m\u001b[1;33m)\u001b[0m\u001b[1;33m,\u001b[0m\u001b[1;33m\u001b[0m\u001b[1;33m\u001b[0m\u001b[0m\n\u001b[0;32m      3\u001b[0m     sep='\\t')\n",
      "\u001b[1;32m~\\miniconda3\\lib\\site-packages\\pandas\\core\\generic.py\u001b[0m in \u001b[0;36mto_csv\u001b[1;34m(self, path_or_buf, sep, na_rep, float_format, columns, header, index, index_label, mode, encoding, compression, quoting, quotechar, line_terminator, chunksize, date_format, doublequote, escapechar, decimal, errors, storage_options)\u001b[0m\n\u001b[0;32m   3382\u001b[0m         )\n\u001b[0;32m   3383\u001b[0m \u001b[1;33m\u001b[0m\u001b[0m\n\u001b[1;32m-> 3384\u001b[1;33m         return DataFrameRenderer(formatter).to_csv(\n\u001b[0m\u001b[0;32m   3385\u001b[0m             \u001b[0mpath_or_buf\u001b[0m\u001b[1;33m,\u001b[0m\u001b[1;33m\u001b[0m\u001b[1;33m\u001b[0m\u001b[0m\n\u001b[0;32m   3386\u001b[0m             \u001b[0mline_terminator\u001b[0m\u001b[1;33m=\u001b[0m\u001b[0mline_terminator\u001b[0m\u001b[1;33m,\u001b[0m\u001b[1;33m\u001b[0m\u001b[1;33m\u001b[0m\u001b[0m\n",
      "\u001b[1;32m~\\miniconda3\\lib\\site-packages\\pandas\\io\\formats\\format.py\u001b[0m in \u001b[0;36mto_csv\u001b[1;34m(self, path_or_buf, encoding, sep, columns, index_label, mode, compression, quoting, quotechar, line_terminator, chunksize, date_format, doublequote, escapechar, errors, storage_options)\u001b[0m\n\u001b[0;32m   1081\u001b[0m             \u001b[0mformatter\u001b[0m\u001b[1;33m=\u001b[0m\u001b[0mself\u001b[0m\u001b[1;33m.\u001b[0m\u001b[0mfmt\u001b[0m\u001b[1;33m,\u001b[0m\u001b[1;33m\u001b[0m\u001b[1;33m\u001b[0m\u001b[0m\n\u001b[0;32m   1082\u001b[0m         )\n\u001b[1;32m-> 1083\u001b[1;33m         \u001b[0mcsv_formatter\u001b[0m\u001b[1;33m.\u001b[0m\u001b[0msave\u001b[0m\u001b[1;33m(\u001b[0m\u001b[1;33m)\u001b[0m\u001b[1;33m\u001b[0m\u001b[1;33m\u001b[0m\u001b[0m\n\u001b[0m\u001b[0;32m   1084\u001b[0m \u001b[1;33m\u001b[0m\u001b[0m\n\u001b[0;32m   1085\u001b[0m         \u001b[1;32mif\u001b[0m \u001b[0mcreated_buffer\u001b[0m\u001b[1;33m:\u001b[0m\u001b[1;33m\u001b[0m\u001b[1;33m\u001b[0m\u001b[0m\n",
      "\u001b[1;32m~\\miniconda3\\lib\\site-packages\\pandas\\io\\formats\\csvs.py\u001b[0m in \u001b[0;36msave\u001b[1;34m(self)\u001b[0m\n\u001b[0;32m    226\u001b[0m         \"\"\"\n\u001b[0;32m    227\u001b[0m         \u001b[1;31m# apply compression and byte/text conversion\u001b[0m\u001b[1;33m\u001b[0m\u001b[1;33m\u001b[0m\u001b[1;33m\u001b[0m\u001b[0m\n\u001b[1;32m--> 228\u001b[1;33m         with get_handle(\n\u001b[0m\u001b[0;32m    229\u001b[0m             \u001b[0mself\u001b[0m\u001b[1;33m.\u001b[0m\u001b[0mfilepath_or_buffer\u001b[0m\u001b[1;33m,\u001b[0m\u001b[1;33m\u001b[0m\u001b[1;33m\u001b[0m\u001b[0m\n\u001b[0;32m    230\u001b[0m             \u001b[0mself\u001b[0m\u001b[1;33m.\u001b[0m\u001b[0mmode\u001b[0m\u001b[1;33m,\u001b[0m\u001b[1;33m\u001b[0m\u001b[1;33m\u001b[0m\u001b[0m\n",
      "\u001b[1;32m~\\miniconda3\\lib\\site-packages\\pandas\\io\\common.py\u001b[0m in \u001b[0;36mget_handle\u001b[1;34m(path_or_buf, mode, encoding, compression, memory_map, is_text, errors, storage_options)\u001b[0m\n\u001b[0;32m    637\u001b[0m         \u001b[1;32mif\u001b[0m \u001b[0mioargs\u001b[0m\u001b[1;33m.\u001b[0m\u001b[0mencoding\u001b[0m \u001b[1;32mand\u001b[0m \u001b[1;34m\"b\"\u001b[0m \u001b[1;32mnot\u001b[0m \u001b[1;32min\u001b[0m \u001b[0mioargs\u001b[0m\u001b[1;33m.\u001b[0m\u001b[0mmode\u001b[0m\u001b[1;33m:\u001b[0m\u001b[1;33m\u001b[0m\u001b[1;33m\u001b[0m\u001b[0m\n\u001b[0;32m    638\u001b[0m             \u001b[1;31m# Encoding\u001b[0m\u001b[1;33m\u001b[0m\u001b[1;33m\u001b[0m\u001b[1;33m\u001b[0m\u001b[0m\n\u001b[1;32m--> 639\u001b[1;33m             handle = open(\n\u001b[0m\u001b[0;32m    640\u001b[0m                 \u001b[0mhandle\u001b[0m\u001b[1;33m,\u001b[0m\u001b[1;33m\u001b[0m\u001b[1;33m\u001b[0m\u001b[0m\n\u001b[0;32m    641\u001b[0m                 \u001b[0mioargs\u001b[0m\u001b[1;33m.\u001b[0m\u001b[0mmode\u001b[0m\u001b[1;33m,\u001b[0m\u001b[1;33m\u001b[0m\u001b[1;33m\u001b[0m\u001b[0m\n",
      "\u001b[1;31mOSError\u001b[0m: [Errno 22] Invalid argument: 'C:\\\\Users\\\\jorda\\\\Desktop\\\\projects\\\\manuscript\\\\mct1_analysis\\\\notebooks\\\\..\\\\data\\\\mct1_rnaseq_data\\\\sce_mct1_deduped_tpm_threshold25.tsv'"
     ]
    }
   ],
   "source": [
    "rnaseq_tpm.to_csv(\n",
    "    os.path.join(rna_source_url, \"sce_mct1_deduped_tpm_threshold25.tsv\"),\n",
    "    sep='\\t')"
   ]
  },
  {
   "cell_type": "code",
   "execution_count": null,
   "metadata": {},
   "outputs": [],
   "source": []
  },
  {
   "cell_type": "code",
   "execution_count": null,
   "metadata": {},
   "outputs": [],
   "source": []
  },
  {
   "cell_type": "markdown",
   "metadata": {},
   "source": [
    "### Get gene set dataframe"
   ]
  },
  {
   "cell_type": "code",
   "execution_count": 7,
   "metadata": {},
   "outputs": [],
   "source": [
    "# AA metabolism\n",
    "rnaseq_aaSet = rnaseq_tpm.reindex(aa_genes['gene_id'].tolist()).dropna(axis=0)\n",
    "\n",
    "# Rename gene IDs to gene names\n",
    "gene_name_dict = aa_genes.set_index('gene_id').to_dict()['gene_name']\n",
    "gene_class_dict = aa_genes.set_index('gene_name').to_dict()['function']\n",
    "rnaseq_aaSet = rnaseq_aaSet.rename(index=gene_name_dict)\n",
    "\n",
    "# nt metabolism \n",
    "rnaseq_ntSet = rnaseq_tpm.reindex(list(set(nt_genes[1].tolist()))).dropna(axis=0)"
   ]
  },
  {
   "cell_type": "markdown",
   "metadata": {},
   "source": [
    "### Plot data"
   ]
  },
  {
   "cell_type": "code",
   "execution_count": 8,
   "metadata": {},
   "outputs": [],
   "source": [
    "# Sort data by condition params\n",
    "rna_metadata = rna_metadata.sort_values([\"Condition\", \"Time\"], ascending = (True, True))\n",
    "rnaseq_aaSet = rnaseq_aaSet[rna_metadata.Sample.tolist()]\n",
    "\n",
    "# Set labels and set color-codes for rows\n",
    "gene_hex = {\n",
    "    'Amino acid anabolism':'#1b9e77', \n",
    "    'Amino acid catabolism':'#d95f02'}\n",
    "\n",
    "gene_colors = rnaseq_aaSet.copy()\n",
    "gene_colors['labels'] = gene_colors.index.map(gene_class_dict)\n",
    "gene_colors = gene_colors[['labels']]\n",
    "gene_colors['labels'] = gene_colors['labels'].map(gene_hex)"
   ]
  },
  {
   "cell_type": "code",
   "execution_count": 9,
   "metadata": {},
   "outputs": [],
   "source": [
    "# Set labels and set color-codes for cols\n",
    "condition_hex = {\n",
    "    'WT':'#AAAAAA', \n",
    "    'mct1':'#464646'}\n",
    "time_hex = {\n",
    "    0:'#a2cffe',\n",
    "    3:'#047495',\n",
    "    12:'#1f3b4d'}\n",
    "\n",
    "col_colors = rna_metadata.set_index('Sample').copy()\n",
    "col_colors.index.name = None\n",
    "\n",
    "col_colors['Condition'] = col_colors['Condition'].map(condition_hex)\n",
    "col_colors['Time'] = col_colors['Time'].map(time_hex)\n",
    "\n",
    "col_colors1 = col_colors.copy()[['Condition']]\n",
    "col_colors1.columns = ['label']\n",
    "col_colors2 = col_colors.copy()[['Time']]\n",
    "col_colors2.columns = ['label']"
   ]
  },
  {
   "cell_type": "code",
   "execution_count": 10,
   "metadata": {},
   "outputs": [
    {
     "name": "stderr",
     "output_type": "stream",
     "text": [
      "<ipython-input-10-0fd06ba7f6fb>:38: UserWarning:\n",
      "\n",
      "Matplotlib is currently using agg, which is a non-GUI backend, so cannot show the figure.\n",
      "\n"
     ]
    }
   ],
   "source": [
    "sns.set(font_scale=0.75)\n",
    "sns.clustermap(\n",
    "    rnaseq_aaSet,\n",
    "    z_score=0,\n",
    "    xticklabels=False,\n",
    "    row_cluster=True,\n",
    "    col_cluster=False,\n",
    "    center=0,\n",
    "    cbar_kws={'label': 'Z-score'},\n",
    "    row_colors=gene_colors,\n",
    "    col_colors=[col_colors1.label, col_colors2.label],\n",
    "    cmap=jakes_cmap)\n",
    "\n",
    "# Label legends\n",
    "f = lambda m,c: plt.plot([],[],marker='o', color=c, ls=\"none\")[0]\n",
    "handles = [f(\"s\", list(gene_hex.values())[i]) for i in range(len(list(gene_hex.values())))]\n",
    "first_legend = plt.legend(handles, list(gene_hex.keys()), bbox_to_anchor=(7, 0.41), loc=2, borderaxespad=0., title='Gene Groups')\n",
    "\n",
    "# Add the legend manually to the current Axes.\n",
    "ax = plt.gca().add_artist(first_legend)\n",
    "\n",
    "ff = lambda m,c: plt.plot([],[],marker='o', color=c, ls=\"none\")[0]\n",
    "handles = [ff(\"s\", list(time_hex.values())[i]) for i in range(len(list(time_hex.values())))]\n",
    "second_legend = plt.legend(handles, [str(x) + \" hr\" for x in list(time_hex.keys())], bbox_to_anchor=(4.1, 0.5), loc=2, borderaxespad=0., title='Time')\n",
    "\n",
    "# Add the legend manually to the current Axes.\n",
    "ax = plt.gca().add_artist(second_legend)\n",
    "\n",
    "g = lambda m,c: plt.plot([],[],marker='o', color=c, ls=\"none\")[0]\n",
    "handles_g = [f(\"s\", list(condition_hex.values())[i]) for i in range(len(list(condition_hex.values())))]\n",
    "plt.legend(handles_g, list(condition_hex.keys()), bbox_to_anchor=(4.1, 1), loc=2, borderaxespad=0., title='Samples')\n",
    "\n",
    "#Save and show figure\n",
    "plt.savefig(\n",
    "    os.path.join(plots_url, \"aa_gene_list_rnaseq.pdf\"),\n",
    "    dpi=600,\n",
    "    bbox_inches='tight')\n",
    "plt.show()"
   ]
  },
  {
   "cell_type": "code",
   "execution_count": null,
   "metadata": {},
   "outputs": [],
   "source": []
  },
  {
   "cell_type": "code",
   "execution_count": 11,
   "metadata": {},
   "outputs": [],
   "source": [
    "# AA metabolism\n",
    "proteomics_aa = proteomics.reindex(aa_genes['gene_name'].tolist()).dropna(axis=0)\n",
    "\n",
    "# nt metabolism \n",
    "proteomics_nt = proteomics.reindex(list(set(nt_genes[1].tolist()))).dropna(axis=0)"
   ]
  },
  {
   "cell_type": "code",
   "execution_count": 12,
   "metadata": {},
   "outputs": [],
   "source": [
    "protein_colors = proteomics_aa.copy()\n",
    "protein_colors['labels'] = protein_colors.index.map(gene_class_dict)\n",
    "protein_colors = protein_colors[['labels']]\n",
    "protein_colors['labels'] = protein_colors['labels'].map(gene_hex)"
   ]
  },
  {
   "cell_type": "code",
   "execution_count": 13,
   "metadata": {},
   "outputs": [],
   "source": [
    "sample_hex = {\n",
    "    'WT_1':'#AAAAAA', \n",
    "    'WT_2':'#AAAAAA',\n",
    "    'WT_3':'#AAAAAA',\n",
    "    'mct1_1':'#464646',\n",
    "    'mct1_2':'#464646',\n",
    "    'mct1_3':'#464646'}\n",
    "\n",
    "proteomics_labels = proteomics_aa.T.copy()\n",
    "proteomics_labels['label'] = proteomics_labels.index.map(sample_hex)\n",
    "proteomics_labels = proteomics_labels[['label']]"
   ]
  },
  {
   "cell_type": "code",
   "execution_count": 14,
   "metadata": {},
   "outputs": [
    {
     "name": "stderr",
     "output_type": "stream",
     "text": [
      "<ipython-input-14-fd36d3ba3249>:32: UserWarning:\n",
      "\n",
      "Matplotlib is currently using agg, which is a non-GUI backend, so cannot show the figure.\n",
      "\n"
     ]
    }
   ],
   "source": [
    "sns.set(font_scale=0.75)\n",
    "sns.clustermap(\n",
    "    proteomics_aa,\n",
    "    z_score=0,\n",
    "    xticklabels=False,\n",
    "    row_cluster=True,\n",
    "    col_cluster=False,\n",
    "    center=0,\n",
    "    cbar_kws={'label': 'Z-score'},\n",
    "    row_colors=protein_colors,\n",
    "    col_colors=proteomics_labels,\n",
    "    figsize=(4,10),\n",
    "    cmap=jakes_cmap)\n",
    "\n",
    "# Label legends\n",
    "f = lambda m,c: plt.plot([],[],marker='o', color=c, ls=\"none\")[0]\n",
    "handles = [f(\"s\", list(gene_hex.values())[i]) for i in range(len(list(gene_hex.values())))]\n",
    "first_legend = plt.legend(handles, list(gene_hex.keys()), bbox_to_anchor=(9, 1), loc=2, borderaxespad=0., title='Gene Groups')\n",
    "\n",
    "# Add the legend manually to the current Axes.\n",
    "ax = plt.gca().add_artist(first_legend)\n",
    "\n",
    "g = lambda m,c: plt.plot([],[],marker='o', color=c, ls=\"none\")[0]\n",
    "handles_g = [f(\"s\", list(sample_hex.values())[i]) for i in range(len(list(sample_hex.values())))]\n",
    "plt.legend(handles_g, list(sample_hex.keys()), bbox_to_anchor=(4.1, 1), loc=2, borderaxespad=0., title='Samples')\n",
    "\n",
    "#Save and show figure\n",
    "plt.savefig(\n",
    "    os.path.join(plots_url, \"aa_gene_list_protein.pdf\"),\n",
    "    dpi=600,\n",
    "    bbox_inches='tight')\n",
    "plt.show()"
   ]
  },
  {
   "cell_type": "code",
   "execution_count": 15,
   "metadata": {},
   "outputs": [
    {
     "name": "stderr",
     "output_type": "stream",
     "text": [
      "<ipython-input-15-a5302101471e>:24: UserWarning:\n",
      "\n",
      "Matplotlib is currently using agg, which is a non-GUI backend, so cannot show the figure.\n",
      "\n"
     ]
    }
   ],
   "source": [
    "sns.set(font_scale=0.6)\n",
    "sns.clustermap(\n",
    "    proteomics_nt,\n",
    "    z_score=0,\n",
    "    xticklabels=False,\n",
    "    row_cluster=True,\n",
    "    col_cluster=False,\n",
    "    center=0,\n",
    "    cbar_kws={'label': 'Z-score'},\n",
    "    col_colors=proteomics_labels,\n",
    "    figsize=(4,25),\n",
    "    cmap=jakes_cmap)\n",
    "\n",
    "# Label legends\n",
    "g = lambda m,c: plt.plot([],[],marker='o', color=c, ls=\"none\")[0]\n",
    "handles_g = [f(\"s\", list(sample_hex.values())[i]) for i in range(len(list(sample_hex.values())))]\n",
    "plt.legend(handles_g, list(sample_hex.keys()), bbox_to_anchor=(4.1, 1), loc=2, borderaxespad=0., title='Samples')\n",
    "\n",
    "#Save and show figure\n",
    "plt.savefig(\n",
    "    os.path.join(plots_url, \"nt_gene_list_protein.pdf\"),\n",
    "    dpi=600,\n",
    "    bbox_inches='tight')\n",
    "plt.show()"
   ]
  },
  {
   "cell_type": "code",
   "execution_count": 16,
   "metadata": {},
   "outputs": [],
   "source": [
    "# AA metabolism\n",
    "proteomics_aa = proteomics.reindex(aa_genes['gene_name'].tolist()).dropna(axis=0)\n",
    "\n",
    "# nt metabolism \n",
    "proteomics_nt = proteomics.reindex(list(set(nt_genes[1].tolist()))).dropna(axis=0)"
   ]
  },
  {
   "cell_type": "code",
   "execution_count": null,
   "metadata": {},
   "outputs": [],
   "source": []
  },
  {
   "cell_type": "markdown",
   "metadata": {},
   "source": [
    "# Glyoxylate cycle"
   ]
  },
  {
   "cell_type": "code",
   "execution_count": 17,
   "metadata": {},
   "outputs": [],
   "source": [
    "glyoxylate_url = os.path.join (genelist_source_url, \"glyoxylate-cycle-pathway-genes-sgd.txt\")\n",
    "glyoxylate_genes = pd.read_csv(\n",
    "    glyoxylate_url,\n",
    "    sep=\"\\t\",\n",
    "    comment=\"#\")"
   ]
  },
  {
   "cell_type": "code",
   "execution_count": 18,
   "metadata": {},
   "outputs": [
    {
     "data": {
      "text/plain": [
       "['MDH3',\n",
       " 'MDH2',\n",
       " 'MAE1',\n",
       " 'CIT2',\n",
       " 'ACO1',\n",
       " 'ACO2',\n",
       " 'ACO1',\n",
       " 'ACO2',\n",
       " 'ICL1',\n",
       " 'MLS1',\n",
       " 'DAL7',\n",
       " 'CTP1',\n",
       " 'SFC1']"
      ]
     },
     "execution_count": 18,
     "metadata": {},
     "output_type": "execute_result"
    }
   ],
   "source": [
    "glyoxylate_genes['Gene name'].tolist()"
   ]
  },
  {
   "cell_type": "code",
   "execution_count": 19,
   "metadata": {},
   "outputs": [],
   "source": [
    "proteomics_glyoxylate = proteomics.reindex(list(set(glyoxylate_genes['Gene name'].tolist()))).dropna(axis=0)"
   ]
  },
  {
   "cell_type": "code",
   "execution_count": 20,
   "metadata": {},
   "outputs": [
    {
     "name": "stderr",
     "output_type": "stream",
     "text": [
      "<ipython-input-20-5b6eb3e7dc48>:24: UserWarning:\n",
      "\n",
      "Matplotlib is currently using agg, which is a non-GUI backend, so cannot show the figure.\n",
      "\n"
     ]
    }
   ],
   "source": [
    "sns.set(font_scale=1)\n",
    "sns.clustermap(\n",
    "    proteomics_glyoxylate,\n",
    "    z_score=0,\n",
    "    xticklabels=False,\n",
    "    row_cluster=True,\n",
    "    col_cluster=False,\n",
    "    center=0,\n",
    "    cbar_kws={'label': 'Z-score'},\n",
    "    col_colors=proteomics_labels,\n",
    "    figsize=(4,4),\n",
    "    cmap=jakes_cmap)\n",
    "\n",
    "# Label legends\n",
    "g = lambda m,c: plt.plot([],[],marker='o', color=c, ls=\"none\")[0]\n",
    "handles_g = [f(\"s\", list(sample_hex.values())[i]) for i in range(len(list(sample_hex.values())))]\n",
    "plt.legend(handles_g, list(sample_hex.keys()), bbox_to_anchor=(6.7, 2), loc=2, borderaxespad=0., title='Samples')\n",
    "\n",
    "#Save and show figure\n",
    "plt.savefig(\n",
    "    os.path.join(plots_url, \"glyoxylate_gene_list_protein.pdf\"),\n",
    "    dpi=600,\n",
    "    bbox_inches='tight')\n",
    "plt.show()"
   ]
  },
  {
   "cell_type": "markdown",
   "metadata": {},
   "source": [
    "CIT2: Citrate synthase, peroxisomal isozyme involved in glyoxylate cycle; catalyzes condensation of acetyl coenzyme A and oxaloacetate to form citrate; expression is controlled by Rtg1p and Rtg2p transcription factors; SCF-Ucc1 regulates level of Cit2p to maintain citrate homeostasis; oxaloacetate-dependent positive feedback loop inhibits Cit2p ubiquitination; CIT2 has a paralog, CIT1, that arose from the whole genome duplication"
   ]
  },
  {
   "cell_type": "code",
   "execution_count": 21,
   "metadata": {},
   "outputs": [],
   "source": [
    "tca_proteins = [\n",
    "    \"PYC1\",\n",
    "    \"PYC2\",\n",
    "    \"MPC1\",\n",
    "    \"MPC2\",\n",
    "    \"MPC3\",\n",
    "    \"CIT3\",\n",
    "    \"CIT1\",\n",
    "    \"ACO1\",\n",
    "    \"ACO2\",\n",
    "    \"IDH1\",\n",
    "    \"IDH2\",\n",
    "    \"LPD1\",\n",
    "    \"KGD1\",\n",
    "    \"KGD2\",\n",
    "    \"LSC1\",\n",
    "    \"LSC2\",\n",
    "    \"SDH4\",\n",
    "    \"SDH3\",\n",
    "    \"SDH2\",\n",
    "    \"YJL045W\",\n",
    "    \"SDH1\",\n",
    "    \"FUM1\",\n",
    "    \"MAE1\",\n",
    "    \"MDH1\",\n",
    "    \"GDH1\",\n",
    "    \"GDH2\",\n",
    "    \n",
    "]\n",
    "proteomics_tca = proteomics.reindex(tca_proteins).dropna(axis=0)"
   ]
  },
  {
   "cell_type": "code",
   "execution_count": 22,
   "metadata": {},
   "outputs": [
    {
     "name": "stderr",
     "output_type": "stream",
     "text": [
      "<ipython-input-22-3bd5b2c86add>:24: UserWarning:\n",
      "\n",
      "Matplotlib is currently using agg, which is a non-GUI backend, so cannot show the figure.\n",
      "\n"
     ]
    }
   ],
   "source": [
    "sns.set(font_scale=1)\n",
    "sns.clustermap(\n",
    "    proteomics_tca,\n",
    "    z_score=0,\n",
    "    xticklabels=False,\n",
    "    row_cluster=True,\n",
    "    col_cluster=False,\n",
    "    center=0,\n",
    "    cbar_kws={'label': 'Z-score'},\n",
    "    col_colors=proteomics_labels,\n",
    "    figsize=(4,8),\n",
    "    cmap=jakes_cmap)\n",
    "\n",
    "# Label legends\n",
    "g = lambda m,c: plt.plot([],[],marker='o', color=c, ls=\"none\")[0]\n",
    "handles_g = [f(\"s\", list(sample_hex.values())[i]) for i in range(len(list(sample_hex.values())))]\n",
    "plt.legend(handles_g, list(sample_hex.keys()), bbox_to_anchor=(6.7, 2), loc=2, borderaxespad=0., title='Samples')\n",
    "\n",
    "#Save and show figure\n",
    "plt.savefig(\n",
    "    os.path.join(plots_url, \"tca_gene_list_protein.pdf\"),\n",
    "    dpi=600,\n",
    "    bbox_inches='tight')\n",
    "plt.show()"
   ]
  },
  {
   "cell_type": "code",
   "execution_count": 23,
   "metadata": {},
   "outputs": [],
   "source": [
    "final_proteins = [\n",
    "    \"PYC1\",\n",
    "    \"PYC2\",\n",
    "    \"MAE1\",\n",
    "    \"GDH1\",\n",
    "    \"GDH2\",\n",
    "    \n",
    "]\n",
    "proteomics_final = proteomics.reindex(final_proteins).dropna(axis=0)\n",
    "\n",
    "sample_hex_mod = {\n",
    "    'WT': '#AAAAAA',\n",
    "    'mct1': '#464646',\n",
    "}"
   ]
  },
  {
   "cell_type": "code",
   "execution_count": 24,
   "metadata": {},
   "outputs": [
    {
     "name": "stderr",
     "output_type": "stream",
     "text": [
      "<ipython-input-24-591f8451c351>:24: UserWarning:\n",
      "\n",
      "Matplotlib is currently using agg, which is a non-GUI backend, so cannot show the figure.\n",
      "\n"
     ]
    }
   ],
   "source": [
    "sns.set(font_scale=1)\n",
    "sns.clustermap(\n",
    "    proteomics_final,\n",
    "    z_score=0,\n",
    "    xticklabels=False,\n",
    "    row_cluster=True,\n",
    "    col_cluster=False,\n",
    "    center=0,\n",
    "    cbar_kws={'label': 'Z-score'},\n",
    "    col_colors=proteomics_labels,\n",
    "    figsize=(4,3),\n",
    "    cmap=jakes_cmap)\n",
    "\n",
    "# Label legends\n",
    "g = lambda m,c: plt.plot([],[],marker='o', color=c, ls=\"none\")[0]\n",
    "handles_g = [f(\"s\", list(sample_hex_mod.values())[i]) for i in range(len(list(sample_hex_mod.values())))]\n",
    "plt.legend(handles_g, list(sample_hex_mod.keys()), bbox_to_anchor=(6.7, 1), loc=2, borderaxespad=0., title='Samples')\n",
    "\n",
    "#Save and show figure\n",
    "plt.savefig(\n",
    "    os.path.join(plots_url, \"final_gene_list_protein.pdf\"),\n",
    "    dpi=600,\n",
    "    bbox_inches='tight')\n",
    "plt.show()"
   ]
  },
  {
   "cell_type": "code",
   "execution_count": 25,
   "metadata": {},
   "outputs": [],
   "source": [
    "final_proteins = [\n",
    "    \"MAE1\",\n",
    "    \"PYC1\",\n",
    "    \"PYC2\",\n",
    "    \"CIT1\",\n",
    "    \"CIT2\",\n",
    "    \"CIT3\",\n",
    "    \"ACO1\",\n",
    "    \"ACO2\",\n",
    "    \"IDH1\",\n",
    "    \"IDH2\",\n",
    "    \"GDH1\",\n",
    "    \"GDH2\"\n",
    "    \n",
    "]\n",
    "proteomics_final = proteomics.reindex(final_proteins).dropna(axis=0)\n",
    "\n",
    "sample_hex_mod = {\n",
    "    'WT': '#AAAAAA',\n",
    "    'mct1': '#464646',\n",
    "}"
   ]
  },
  {
   "cell_type": "code",
   "execution_count": 26,
   "metadata": {},
   "outputs": [
    {
     "data": {
      "text/html": [
       "<div>\n",
       "<style scoped>\n",
       "    .dataframe tbody tr th:only-of-type {\n",
       "        vertical-align: middle;\n",
       "    }\n",
       "\n",
       "    .dataframe tbody tr th {\n",
       "        vertical-align: top;\n",
       "    }\n",
       "\n",
       "    .dataframe thead th {\n",
       "        text-align: right;\n",
       "    }\n",
       "</style>\n",
       "<table border=\"1\" class=\"dataframe\">\n",
       "  <thead>\n",
       "    <tr style=\"text-align: right;\">\n",
       "      <th></th>\n",
       "      <th>WT_1</th>\n",
       "      <th>WT_2</th>\n",
       "      <th>WT_3</th>\n",
       "      <th>mct1_1</th>\n",
       "      <th>mct1_2</th>\n",
       "      <th>mct1_3</th>\n",
       "    </tr>\n",
       "  </thead>\n",
       "  <tbody>\n",
       "    <tr>\n",
       "      <th>GDH2</th>\n",
       "      <td>5.022820</td>\n",
       "      <td>4.671230</td>\n",
       "      <td>5.142670</td>\n",
       "      <td>8.96851</td>\n",
       "      <td>9.55053</td>\n",
       "      <td>9.89657</td>\n",
       "    </tr>\n",
       "    <tr>\n",
       "      <th>GDH1</th>\n",
       "      <td>22.864600</td>\n",
       "      <td>19.641100</td>\n",
       "      <td>21.921400</td>\n",
       "      <td>3.77899</td>\n",
       "      <td>3.88050</td>\n",
       "      <td>3.08858</td>\n",
       "    </tr>\n",
       "    <tr>\n",
       "      <th>IDH2</th>\n",
       "      <td>10.390000</td>\n",
       "      <td>12.425100</td>\n",
       "      <td>11.824600</td>\n",
       "      <td>9.52887</td>\n",
       "      <td>11.63890</td>\n",
       "      <td>8.77095</td>\n",
       "    </tr>\n",
       "    <tr>\n",
       "      <th>IDH1</th>\n",
       "      <td>9.280660</td>\n",
       "      <td>11.720400</td>\n",
       "      <td>10.054700</td>\n",
       "      <td>9.33028</td>\n",
       "      <td>11.19420</td>\n",
       "      <td>8.93955</td>\n",
       "    </tr>\n",
       "    <tr>\n",
       "      <th>ACO2</th>\n",
       "      <td>8.487270</td>\n",
       "      <td>7.395370</td>\n",
       "      <td>7.092470</td>\n",
       "      <td>6.18737</td>\n",
       "      <td>6.66719</td>\n",
       "      <td>5.80946</td>\n",
       "    </tr>\n",
       "    <tr>\n",
       "      <th>ACO1</th>\n",
       "      <td>10.946700</td>\n",
       "      <td>13.940800</td>\n",
       "      <td>10.443500</td>\n",
       "      <td>8.98799</td>\n",
       "      <td>9.64408</td>\n",
       "      <td>9.08089</td>\n",
       "    </tr>\n",
       "    <tr>\n",
       "      <th>CIT3</th>\n",
       "      <td>1.225360</td>\n",
       "      <td>1.181200</td>\n",
       "      <td>1.216730</td>\n",
       "      <td>3.73960</td>\n",
       "      <td>4.15533</td>\n",
       "      <td>4.76334</td>\n",
       "    </tr>\n",
       "    <tr>\n",
       "      <th>CIT2</th>\n",
       "      <td>0.599546</td>\n",
       "      <td>0.823996</td>\n",
       "      <td>0.971257</td>\n",
       "      <td>7.06537</td>\n",
       "      <td>7.92993</td>\n",
       "      <td>7.90818</td>\n",
       "    </tr>\n",
       "    <tr>\n",
       "      <th>CIT1</th>\n",
       "      <td>8.206470</td>\n",
       "      <td>15.382400</td>\n",
       "      <td>8.891030</td>\n",
       "      <td>3.96649</td>\n",
       "      <td>4.15441</td>\n",
       "      <td>3.71538</td>\n",
       "    </tr>\n",
       "    <tr>\n",
       "      <th>PYC2</th>\n",
       "      <td>5.789140</td>\n",
       "      <td>6.876980</td>\n",
       "      <td>5.881210</td>\n",
       "      <td>12.39120</td>\n",
       "      <td>10.68450</td>\n",
       "      <td>11.57670</td>\n",
       "    </tr>\n",
       "    <tr>\n",
       "      <th>PYC1</th>\n",
       "      <td>4.426100</td>\n",
       "      <td>5.399150</td>\n",
       "      <td>4.638010</td>\n",
       "      <td>19.47000</td>\n",
       "      <td>14.05620</td>\n",
       "      <td>16.81160</td>\n",
       "    </tr>\n",
       "    <tr>\n",
       "      <th>MAE1</th>\n",
       "      <td>3.487900</td>\n",
       "      <td>4.022380</td>\n",
       "      <td>4.181470</td>\n",
       "      <td>12.70830</td>\n",
       "      <td>9.82577</td>\n",
       "      <td>12.24000</td>\n",
       "    </tr>\n",
       "  </tbody>\n",
       "</table>\n",
       "</div>"
      ],
      "text/plain": [
       "           WT_1       WT_2       WT_3    mct1_1    mct1_2    mct1_3\n",
       "GDH2   5.022820   4.671230   5.142670   8.96851   9.55053   9.89657\n",
       "GDH1  22.864600  19.641100  21.921400   3.77899   3.88050   3.08858\n",
       "IDH2  10.390000  12.425100  11.824600   9.52887  11.63890   8.77095\n",
       "IDH1   9.280660  11.720400  10.054700   9.33028  11.19420   8.93955\n",
       "ACO2   8.487270   7.395370   7.092470   6.18737   6.66719   5.80946\n",
       "ACO1  10.946700  13.940800  10.443500   8.98799   9.64408   9.08089\n",
       "CIT3   1.225360   1.181200   1.216730   3.73960   4.15533   4.76334\n",
       "CIT2   0.599546   0.823996   0.971257   7.06537   7.92993   7.90818\n",
       "CIT1   8.206470  15.382400   8.891030   3.96649   4.15441   3.71538\n",
       "PYC2   5.789140   6.876980   5.881210  12.39120  10.68450  11.57670\n",
       "PYC1   4.426100   5.399150   4.638010  19.47000  14.05620  16.81160\n",
       "MAE1   3.487900   4.022380   4.181470  12.70830   9.82577  12.24000"
      ]
     },
     "execution_count": 26,
     "metadata": {},
     "output_type": "execute_result"
    }
   ],
   "source": [
    "proteomics_final[::-1]"
   ]
  },
  {
   "cell_type": "code",
   "execution_count": 27,
   "metadata": {},
   "outputs": [
    {
     "name": "stderr",
     "output_type": "stream",
     "text": [
      "<ipython-input-27-c3835833c5fa>:24: UserWarning:\n",
      "\n",
      "Matplotlib is currently using agg, which is a non-GUI backend, so cannot show the figure.\n",
      "\n"
     ]
    }
   ],
   "source": [
    "sns.set(font_scale=1)\n",
    "sns.clustermap(\n",
    "    proteomics_final[::-1],\n",
    "    z_score=0,\n",
    "    xticklabels=False,\n",
    "    row_cluster=False,\n",
    "    col_cluster=False,\n",
    "    center=0,\n",
    "    cbar_kws={'label': 'Z-score'},\n",
    "    col_colors=proteomics_labels,\n",
    "    figsize=(4,6),\n",
    "    cmap=jakes_cmap)\n",
    "\n",
    "# Label legends\n",
    "#g = lambda m,c: plt.plot([],[],marker='o', color=c, ls=\"none\")[0]\n",
    "#handles_g = [f(\"s\", list(sample_hex_mod.values())[i]) for i in range(len(list(sample_hex_mod.values())))]\n",
    "#plt.legend(handles_g, list(sample_hex_mod.keys()), bbox_to_anchor=(6.7, 1), loc=2, borderaxespad=0., title='Samples')\n",
    "\n",
    "#Save and show figure\n",
    "plt.savefig(\n",
    "    os.path.join(plots_url, \"final_gene_list_protein.pdf\"),\n",
    "    dpi=600,\n",
    "    bbox_inches='tight')\n",
    "plt.show()"
   ]
  },
  {
   "cell_type": "code",
   "execution_count": null,
   "metadata": {},
   "outputs": [],
   "source": []
  },
  {
   "cell_type": "code",
   "execution_count": 28,
   "metadata": {},
   "outputs": [
    {
     "name": "stdout",
     "output_type": "stream",
     "text": [
      "LST8\n",
      "LST7\n",
      "LST4\n"
     ]
    }
   ],
   "source": [
    "for x in proteomics.index.tolist():\n",
    "    if \"lst\" in x.lower():\n",
    "        print(x)"
   ]
  },
  {
   "cell_type": "code",
   "execution_count": 29,
   "metadata": {},
   "outputs": [
    {
     "name": "stderr",
     "output_type": "stream",
     "text": [
      "<ipython-input-29-5a850b7c19d3>:36: UserWarning:\n",
      "\n",
      "Matplotlib is currently using agg, which is a non-GUI backend, so cannot show the figure.\n",
      "\n"
     ]
    }
   ],
   "source": [
    "rtg_proteins = [\n",
    "    'CIT1', 'IDH1', 'IDH2', 'ACO1', 'CIT2', 'PYC1', 'DLD3', 'DIP5', 'ADH3', #target\n",
    "    'CTP1' #ctp\n",
    "    \n",
    "]\n",
    "proteomics_rtg = proteomics.reindex(rtg_proteins).dropna(axis=0)\n",
    "\n",
    "sample_hex_mod = {\n",
    "    'WT': '#AAAAAA',\n",
    "    'mct1': '#464646',\n",
    "}\n",
    "\n",
    "sns.set(font_scale=1)\n",
    "sns.clustermap(\n",
    "    proteomics_rtg,\n",
    "    z_score=0,\n",
    "    xticklabels=False,\n",
    "    row_cluster=False,\n",
    "    col_cluster=False,\n",
    "    center=0,\n",
    "    cbar_kws={'label': 'Z-score'},\n",
    "    col_colors=proteomics_labels,\n",
    "    figsize=(4,4),\n",
    "    cmap=jakes_cmap)\n",
    "\n",
    "# Label legends\n",
    "g = lambda m,c: plt.plot([],[],marker='o', color=c, ls=\"none\")[0]\n",
    "handles_g = [f(\"s\", list(sample_hex_mod.values())[i]) for i in range(len(list(sample_hex_mod.values())))]\n",
    "plt.legend(handles_g, list(sample_hex_mod.keys()), bbox_to_anchor=(6.7, 1), loc=2, borderaxespad=0., title='Samples')\n",
    "\n",
    "#Save and show figure\n",
    "plt.savefig(\n",
    "    os.path.join(plots_url, \"rtg_gene_list_protein.pdf\"),\n",
    "    dpi=600,\n",
    "    bbox_inches='tight')\n",
    "plt.show()"
   ]
  },
  {
   "cell_type": "code",
   "execution_count": 30,
   "metadata": {},
   "outputs": [
    {
     "name": "stdout",
     "output_type": "stream",
     "text": [
      "LYS4\n",
      "LYS14\n",
      "LYS9\n",
      "LYS2\n",
      "LYS12\n",
      "LYS21\n",
      "LYS1\n",
      "LYS20\n"
     ]
    }
   ],
   "source": [
    "for x in proteomics.index.tolist():\n",
    "    if 'lys' in x.lower():\n",
    "        print(x)"
   ]
  },
  {
   "cell_type": "code",
   "execution_count": 31,
   "metadata": {},
   "outputs": [
    {
     "name": "stderr",
     "output_type": "stream",
     "text": [
      "<ipython-input-31-c3fe0159cbdf>:36: UserWarning:\n",
      "\n",
      "Matplotlib is currently using agg, which is a non-GUI backend, so cannot show the figure.\n",
      "\n"
     ]
    }
   ],
   "source": [
    "rtg_proteins = [\n",
    "    'ALT1', 'ALT2', 'AAT1',\n",
    "    'LPD1', 'KGD1', 'KGD2', 'LSC1', 'LSC2'\n",
    "    \n",
    "]\n",
    "proteomics_rtg = proteomics.reindex(rtg_proteins).dropna(axis=0)\n",
    "\n",
    "sample_hex_mod = {\n",
    "    'WT': '#AAAAAA',\n",
    "    'mct1': '#464646',\n",
    "}\n",
    "\n",
    "sns.set(font_scale=1)\n",
    "sns.clustermap(\n",
    "    proteomics_rtg,\n",
    "    z_score=0,\n",
    "    xticklabels=False,\n",
    "    row_cluster=False,\n",
    "    col_cluster=False,\n",
    "    center=0,\n",
    "    cbar_kws={'label': 'Z-score'},\n",
    "    col_colors=proteomics_labels,\n",
    "    figsize=(4,4),\n",
    "    cmap=jakes_cmap)\n",
    "\n",
    "# Label legends\n",
    "g = lambda m,c: plt.plot([],[],marker='o', color=c, ls=\"none\")[0]\n",
    "handles_g = [f(\"s\", list(sample_hex_mod.values())[i]) for i in range(len(list(sample_hex_mod.values())))]\n",
    "plt.legend(handles_g, list(sample_hex_mod.keys()), bbox_to_anchor=(6.7, 1), loc=2, borderaxespad=0., title='Samples')\n",
    "\n",
    "#Save and show figure\n",
    "plt.savefig(\n",
    "    os.path.join(plots_url, \"aa_other_gene_list_protein.pdf\"),\n",
    "    dpi=600,\n",
    "    bbox_inches='tight')\n",
    "plt.show()"
   ]
  },
  {
   "cell_type": "code",
   "execution_count": 32,
   "metadata": {},
   "outputs": [
    {
     "name": "stderr",
     "output_type": "stream",
     "text": [
      "<ipython-input-32-aa00a99765e7>:41: UserWarning:\n",
      "\n",
      "Matplotlib is currently using agg, which is a non-GUI backend, so cannot show the figure.\n",
      "\n"
     ]
    }
   ],
   "source": [
    "rtg_proteins = [\n",
    "    'LYS1',\n",
    "    'LYS2',\n",
    "    'LYS4', \n",
    "    'LYS9',\n",
    "    'LYS12',\n",
    "    'LYS14',\n",
    "    'LYS20',\n",
    "    'LYS21'\n",
    "]\n",
    "proteomics_rtg = proteomics.reindex(rtg_proteins).dropna(axis=0)\n",
    "\n",
    "sample_hex_mod = {\n",
    "    'WT': '#AAAAAA',\n",
    "    'mct1': '#464646',\n",
    "}\n",
    "\n",
    "sns.set(font_scale=1)\n",
    "sns.clustermap(\n",
    "    proteomics_rtg,\n",
    "    z_score=0,\n",
    "    xticklabels=False,\n",
    "    row_cluster=False,\n",
    "    col_cluster=False,\n",
    "    center=0,\n",
    "    cbar_kws={'label': 'Z-score'},\n",
    "    col_colors=proteomics_labels,\n",
    "    figsize=(3.5,3),\n",
    "    cmap=jakes_cmap)\n",
    "\n",
    "# Label legends\n",
    "g = lambda m,c: plt.plot([],[],marker='o', color=c, ls=\"none\")[0]\n",
    "handles_g = [f(\"s\", list(sample_hex_mod.values())[i]) for i in range(len(list(sample_hex_mod.values())))]\n",
    "plt.legend(handles_g, list(sample_hex_mod.keys()), bbox_to_anchor=(6.7, 1), loc=2, borderaxespad=0., title='Samples')\n",
    "\n",
    "#Save and show figure\n",
    "plt.savefig(\n",
    "    os.path.join(plots_url, \"lys_gene_list_protein.pdf\"),\n",
    "    dpi=600,\n",
    "    bbox_inches='tight')\n",
    "plt.show()"
   ]
  },
  {
   "cell_type": "code",
   "execution_count": null,
   "metadata": {},
   "outputs": [],
   "source": []
  },
  {
   "cell_type": "code",
   "execution_count": null,
   "metadata": {},
   "outputs": [],
   "source": []
  },
  {
   "cell_type": "code",
   "execution_count": null,
   "metadata": {},
   "outputs": [],
   "source": []
  },
  {
   "cell_type": "markdown",
   "metadata": {},
   "source": [
    "MDH1: catalyzes interconversion of malate and oxaloacetate    \n",
    "MAE1: catalyzes the oxidative decarboxylation of malate to pyruvate\n",
    "    \n",
    "CIT1: catalyzes condensation of acetyl coenzyme A and oxaloacetate to form citrate    \n",
    "CIT3: Dual specificity mitochondrial citrate and methylcitrate synthase; \n",
    "    catalyzes the condensation of acetyl-CoA and oxaloacetate to form citrate \n",
    "    and that of propionyl-CoA and oxaloacetate to form 2-methylcitrate"
   ]
  },
  {
   "cell_type": "markdown",
   "metadata": {},
   "source": [
    "# Metabolomics"
   ]
  },
  {
   "cell_type": "code",
   "execution_count": 33,
   "metadata": {},
   "outputs": [],
   "source": [
    "mct1_metabolomics_source_url = os.path.join (os.getcwd(), \"..\", \"data\", \"mct1_metabolomics_data\")  \n",
    "\n",
    "mct1_url = os.path.join (mct1_metabolomics_source_url, \"mct1_metabolomics_allValues.txt\")\n",
    "mct1_metadata_url = os.path.join (mct1_metabolomics_source_url, \"mct1_metabolomics_metadata.txt\")\n",
    "\n",
    "metabolite_url = os.path.join (genelist_source_url, \"metabolite_list.txt\")"
   ]
  },
  {
   "cell_type": "code",
   "execution_count": 34,
   "metadata": {},
   "outputs": [],
   "source": [
    "mct1_metabolomics = pd.read_csv(\n",
    "    mct1_url,\n",
    "    sep=\"\\t\",\n",
    "    index_col=0)\n",
    "mct1_metadata = pd.read_csv(\n",
    "    mct1_metadata_url,\n",
    "    sep=\"\\t\",\n",
    "    index_col=0)\n",
    "\n",
    "metabolite_list = pd.read_csv(\n",
    "    metabolite_url,\n",
    "    sep=\"\\t\",\n",
    "    index_col=0)"
   ]
  },
  {
   "cell_type": "code",
   "execution_count": 35,
   "metadata": {},
   "outputs": [],
   "source": [
    "# Sort data by condition params\n",
    "metabolomics_mct1Set = mct1_metabolomics.copy()\n",
    "metabolomics_mct1Set = metabolomics_mct1Set.reindex(metabolite_list.index.tolist(), axis=0)"
   ]
  },
  {
   "cell_type": "code",
   "execution_count": 36,
   "metadata": {},
   "outputs": [],
   "source": [
    "# Set labels and set color-codes for rows\n",
    "metabolite_hex = {\n",
    "    'amino acid':'#1b9e77', \n",
    "    'nucleotides':'#d95f02'}\n",
    "\n",
    "metabolite_colors = metabolite_list.copy()\n",
    "metabolite_colors['label'] = metabolite_colors['label'].map(metabolite_hex)"
   ]
  },
  {
   "cell_type": "code",
   "execution_count": 37,
   "metadata": {},
   "outputs": [],
   "source": [
    "# Sort data by condition params\n",
    "mct1_metadata = mct1_metadata.sort_values([\"Condition\", \"Time\"], ascending = (True, True))\n",
    "metabolomics_mct1Set = metabolomics_mct1Set[mct1_metadata.index.tolist()]"
   ]
  },
  {
   "cell_type": "code",
   "execution_count": 38,
   "metadata": {},
   "outputs": [],
   "source": [
    "# Set labels and set color-codes for cols\n",
    "mct1_condition_hex = {\n",
    "    'WT':'#AAAAAA', \n",
    "    'mct1':'#464646'}\n",
    "mct1_time_hex = {\n",
    "    '000min':'#a2cffe',\n",
    "    '015min':'#047495',\n",
    "    '030min':'#1f3b4d',\n",
    "    '060min':'#152238',\n",
    "    '180min':'#000000'}\n",
    "\n",
    "mct1_colors = mct1_metadata.copy()\n",
    "\n",
    "mct1_colors['Condition'] = mct1_colors['Condition'].map(mct1_condition_hex)\n",
    "mct1_colors['Time'] = mct1_colors['Time'].map(mct1_time_hex)\n",
    "\n",
    "mct1_colors1 = mct1_colors.copy()[['Condition']]\n",
    "mct1_colors1.columns = ['label']\n",
    "mct1_colors2 = mct1_colors.copy()[['Time']]\n",
    "mct1_colors2.columns = ['label']"
   ]
  },
  {
   "cell_type": "code",
   "execution_count": 39,
   "metadata": {},
   "outputs": [
    {
     "name": "stderr",
     "output_type": "stream",
     "text": [
      "<ipython-input-39-528543d69416>:40: UserWarning:\n",
      "\n",
      "Matplotlib is currently using agg, which is a non-GUI backend, so cannot show the figure.\n",
      "\n"
     ]
    }
   ],
   "source": [
    "sns.set(font_scale=1.5)\n",
    "sns.clustermap(\n",
    "    metabolomics_mct1Set,\n",
    "    z_score=0,\n",
    "    xticklabels=False,\n",
    "    row_cluster=True,\n",
    "    col_cluster=False,\n",
    "    center=0,\n",
    "    figsize=(30,14),\n",
    "    cbar_kws={'label': 'Z-score'},\n",
    "    row_colors=metabolite_colors,\n",
    "    col_colors=[mct1_colors1.label, mct1_colors2.label],\n",
    "    cmap=jakes_cmap)\n",
    "\n",
    "# Label legends\n",
    "f = lambda m,c: plt.plot([],[],marker='o', color=c, ls=\"none\")[0]\n",
    "handles = [f(\"s\", list(metabolite_hex.values())[i]) for i in range(len(list(metabolite_hex.values())))]\n",
    "first_legend = plt.legend(handles, list(metabolite_hex.keys()), bbox_to_anchor=(6, 1), loc=2, borderaxespad=0., title='Metabolite Groups')\n",
    "\n",
    "# Add the legend manually to the current Axes.\n",
    "ax = plt.gca().add_artist(first_legend)\n",
    "\n",
    "ff = lambda m,c: plt.plot([],[],marker='o', color=c, ls=\"none\")[0]\n",
    "handles = [ff(\"s\", list(mct1_time_hex.values())[i]) for i in range(len(list(mct1_time_hex.values())))]\n",
    "second_legend = plt.legend(handles, list(mct1_time_hex.keys()), bbox_to_anchor=(5, 1), loc=2, borderaxespad=0., title='Time')\n",
    "\n",
    "# Add the legend manually to the current Axes.\n",
    "ax = plt.gca().add_artist(second_legend)\n",
    "\n",
    "g = lambda m,c: plt.plot([],[],marker='o', color=c, ls=\"none\")[0]\n",
    "handles_g = [f(\"s\", list(mct1_condition_hex.values())[i]) for i in range(len(list(mct1_condition_hex.values())))]\n",
    "plt.legend(handles_g, list(mct1_condition_hex.keys()), bbox_to_anchor=(4, 1), loc=2, borderaxespad=0., title='Samples')\n",
    "\n",
    "\n",
    "#Save and show figure\n",
    "plt.savefig(\n",
    "    os.path.join(plots_url, \"aa_nt_list_mct1_metabolomics.pdf\"),\n",
    "    dpi=600,\n",
    "    bbox_inches='tight')\n",
    "plt.show()"
   ]
  },
  {
   "cell_type": "code",
   "execution_count": 40,
   "metadata": {},
   "outputs": [],
   "source": [
    "metabolomics_mct1Set2 = mct1_metabolomics.copy()\n",
    "metabolomics_mct1Set2 = metabolomics_mct1Set2.reindex(\n",
    "    metabolite_list[metabolite_list['label'] == 'amino acid'].index.tolist(), \n",
    "    axis=0)\n",
    "metabolomics_mct1Set2 = metabolomics_mct1Set2[mct1_metadata.index.tolist()]"
   ]
  },
  {
   "cell_type": "code",
   "execution_count": 41,
   "metadata": {
    "scrolled": true
   },
   "outputs": [
    {
     "name": "stderr",
     "output_type": "stream",
     "text": [
      "<ipython-input-41-90b95e8e56ee>:45: UserWarning:\n",
      "\n",
      "Matplotlib is currently using agg, which is a non-GUI backend, so cannot show the figure.\n",
      "\n"
     ]
    }
   ],
   "source": [
    "sns.set(font_scale=1)\n",
    "sns.clustermap(\n",
    "    metabolomics_mct1Set2[[\n",
    "         'WT at 3hr minR+Leu 1',\n",
    "         'WT at 3hr minR+Leu 2',\n",
    "         'WT at 3hr minR+Leu 3',\n",
    "         'WT at 3hr minR+Leu 4',\n",
    "         'WT at 3hr minR+Leu 5',\n",
    "         'mct1KO at 3hr minR+Leu 1',\n",
    "         'mct1KO at 3hr minR+Leu 2',\n",
    "         'mct1KO at 3hr minR+Leu 3',\n",
    "         'mct1KO at 3hr minR+Leu 4',\n",
    "         'mct1KO at 3hr minR+Leu 5',\n",
    "         'mct1KO at 3hr minR+Leu 6'\n",
    "    ]],\n",
    "    z_score=0,\n",
    "    xticklabels=False,\n",
    "    row_cluster=True,\n",
    "    col_cluster=False,\n",
    "    center=0,\n",
    "    figsize=(6,6),\n",
    "    cbar_kws={'label': 'Z-score'},\n",
    "    row_colors=metabolite_colors,\n",
    "    col_colors=mct1_colors1,\n",
    "    cmap=jakes_cmap)\n",
    "\n",
    "# Label legends\n",
    "f = lambda m,c: plt.plot([],[],marker='o', color=c, ls=\"none\")[0]\n",
    "handles = [f(\"s\", list(metabolite_hex.values())[i]) for i in range(len(list(metabolite_hex.values())))]\n",
    "first_legend = plt.legend(handles, list(metabolite_hex.keys()), bbox_to_anchor=(9.7, 0.75), loc=2, borderaxespad=0., title='Metabolite Groups')\n",
    "\n",
    "# Add the legend manually to the current Axes.\n",
    "ax = plt.gca().add_artist(first_legend)\n",
    "\n",
    "g = lambda m,c: plt.plot([],[],marker='o', color=c, ls=\"none\")[0]\n",
    "handles_g = [f(\"s\", list(mct1_condition_hex.values())[i]) for i in range(len(list(mct1_condition_hex.values())))]\n",
    "plt.legend(handles_g, list(mct1_condition_hex.keys()), bbox_to_anchor=(6.3, 0.75), loc=2, borderaxespad=0., title='Samples')\n",
    "\n",
    "\n",
    "#Save and show figure\n",
    "plt.savefig(\n",
    "    os.path.join(plots_url, \"aa_list_mct1_metabolomics_3hr.pdf\"),\n",
    "    dpi=600,\n",
    "    bbox_inches='tight')\n",
    "plt.show()"
   ]
  },
  {
   "cell_type": "code",
   "execution_count": null,
   "metadata": {},
   "outputs": [],
   "source": []
  },
  {
   "cell_type": "code",
   "execution_count": null,
   "metadata": {},
   "outputs": [],
   "source": []
  },
  {
   "cell_type": "code",
   "execution_count": 42,
   "metadata": {},
   "outputs": [],
   "source": [
    "glyoxylate_metabolites = [\n",
    "    ' Citric acid ',\n",
    "    ' cis-Aconitic acid',\n",
    "    ' Isocitric acid ',\n",
    "    ' Succinic acid ',\n",
    "    \" Glyoxylic acid \",\n",
    "    ' D-Malic acid ',\n",
    "]"
   ]
  },
  {
   "cell_type": "code",
   "execution_count": 43,
   "metadata": {},
   "outputs": [],
   "source": [
    "metabolomics_mct1_glyoxylate = mct1_metabolomics.copy()\n",
    "metabolomics_mct1_glyoxylate = metabolomics_mct1_glyoxylate.reindex(glyoxylate_metabolites, axis=0)"
   ]
  },
  {
   "cell_type": "code",
   "execution_count": 44,
   "metadata": {},
   "outputs": [
    {
     "name": "stderr",
     "output_type": "stream",
     "text": [
      "<ipython-input-44-d53ba2fe5712>:33: UserWarning:\n",
      "\n",
      "Matplotlib is currently using agg, which is a non-GUI backend, so cannot show the figure.\n",
      "\n"
     ]
    }
   ],
   "source": [
    "sns.set(font_scale=0.75)\n",
    "sns.clustermap(\n",
    "    metabolomics_mct1_glyoxylate,\n",
    "    z_score=0,\n",
    "    xticklabels=False,\n",
    "    row_cluster=True,\n",
    "    col_cluster=False,\n",
    "    center=0,\n",
    "    figsize=(30,3),\n",
    "    cbar_kws={'label': 'Z-score'},\n",
    "    col_colors=[mct1_colors1.label, mct1_colors2.label],\n",
    "    cmap=jakes_cmap)\n",
    "\n",
    "# Label legends\n",
    "\n",
    "ff = lambda m,c: plt.plot([],[],marker='o', color=c, ls=\"none\")[0]\n",
    "handles = [ff(\"s\", list(mct1_time_hex.values())[i]) for i in range(len(list(mct1_time_hex.values())))]\n",
    "second_legend = plt.legend(handles, list(mct1_time_hex.keys()), bbox_to_anchor=(5, 1), loc=2, borderaxespad=0., title='Time')\n",
    "\n",
    "# Add the legend manually to the current Axes.\n",
    "ax = plt.gca().add_artist(second_legend)\n",
    "\n",
    "g = lambda m,c: plt.plot([],[],marker='o', color=c, ls=\"none\")[0]\n",
    "handles_g = [f(\"s\", list(mct1_condition_hex.values())[i]) for i in range(len(list(mct1_condition_hex.values())))]\n",
    "plt.legend(handles_g, list(mct1_condition_hex.keys()), bbox_to_anchor=(4, 1), loc=2, borderaxespad=0., title='Samples')\n",
    "\n",
    "\n",
    "#Save and show figure\n",
    "plt.savefig(\n",
    "    os.path.join(plots_url, \"glyoxylatet_mct1_metabolomics.pdf\"),\n",
    "    dpi=600,\n",
    "    bbox_inches='tight')\n",
    "plt.show()"
   ]
  },
  {
   "cell_type": "code",
   "execution_count": 45,
   "metadata": {},
   "outputs": [],
   "source": [
    "tca_metabolites = [\n",
    "    ' Pyruvic acid ',\n",
    "    ' Citric acid ',\n",
    "    ' cis-Aconitic acid',\n",
    "    ' Isocitric acid ',\n",
    "    ' Succinic acid ',\n",
    "    ' Fumaric acid ',\n",
    "    ' D-Malic acid ',\n",
    "    ' Glutamic acid ',\n",
    "    ' L-Glutamic acid'\n",
    "    \n",
    "]"
   ]
  },
  {
   "cell_type": "code",
   "execution_count": 46,
   "metadata": {},
   "outputs": [],
   "source": [
    "metabolomics_mct1_tca = mct1_metabolomics.copy()\n",
    "metabolomics_mct1_tca = metabolomics_mct1_tca.reindex(tca_metabolites, axis=0)"
   ]
  },
  {
   "cell_type": "code",
   "execution_count": 47,
   "metadata": {},
   "outputs": [
    {
     "name": "stderr",
     "output_type": "stream",
     "text": [
      "<ipython-input-47-b951a57c9ca5>:33: UserWarning:\n",
      "\n",
      "Matplotlib is currently using agg, which is a non-GUI backend, so cannot show the figure.\n",
      "\n"
     ]
    }
   ],
   "source": [
    "sns.set(font_scale=0.75)\n",
    "sns.clustermap(\n",
    "    metabolomics_mct1_tca,\n",
    "    z_score=0,\n",
    "    xticklabels=False,\n",
    "    row_cluster=True,\n",
    "    col_cluster=False,\n",
    "    center=0,\n",
    "    figsize=(30,3),\n",
    "    cbar_kws={'label': 'Z-score'},\n",
    "    col_colors=[mct1_colors1.label, mct1_colors2.label],\n",
    "    cmap=jakes_cmap)\n",
    "\n",
    "# Label legends\n",
    "\n",
    "ff = lambda m,c: plt.plot([],[],marker='o', color=c, ls=\"none\")[0]\n",
    "handles = [ff(\"s\", list(mct1_time_hex.values())[i]) for i in range(len(list(mct1_time_hex.values())))]\n",
    "second_legend = plt.legend(handles, list(mct1_time_hex.keys()), bbox_to_anchor=(5, 1), loc=2, borderaxespad=0., title='Time')\n",
    "\n",
    "# Add the legend manually to the current Axes.\n",
    "ax = plt.gca().add_artist(second_legend)\n",
    "\n",
    "g = lambda m,c: plt.plot([],[],marker='o', color=c, ls=\"none\")[0]\n",
    "handles_g = [f(\"s\", list(mct1_condition_hex.values())[i]) for i in range(len(list(mct1_condition_hex.values())))]\n",
    "plt.legend(handles_g, list(mct1_condition_hex.keys()), bbox_to_anchor=(4, 1), loc=2, borderaxespad=0., title='Samples')\n",
    "\n",
    "\n",
    "#Save and show figure\n",
    "plt.savefig(\n",
    "    os.path.join(plots_url, \"tca_mct1_metabolomics.pdf\"),\n",
    "    dpi=600,\n",
    "    bbox_inches='tight')\n",
    "plt.show()"
   ]
  },
  {
   "cell_type": "code",
   "execution_count": 48,
   "metadata": {},
   "outputs": [
    {
     "name": "stderr",
     "output_type": "stream",
     "text": [
      "<ipython-input-48-b190ac88c822>:45: UserWarning:\n",
      "\n",
      "Matplotlib is currently using agg, which is a non-GUI backend, so cannot show the figure.\n",
      "\n"
     ]
    }
   ],
   "source": [
    "sns.set(font_scale=0.75)\n",
    "sns.clustermap(\n",
    "    metabolomics_mct1_tca[[\n",
    "         'WT at 3hr minR+Leu 1',\n",
    "         'WT at 3hr minR+Leu 2',\n",
    "         'WT at 3hr minR+Leu 3',\n",
    "         'WT at 3hr minR+Leu 4',\n",
    "         'WT at 3hr minR+Leu 5',\n",
    "         'mct1KO at 3hr minR+Leu 1',\n",
    "         'mct1KO at 3hr minR+Leu 2',\n",
    "         'mct1KO at 3hr minR+Leu 3',\n",
    "         'mct1KO at 3hr minR+Leu 4',\n",
    "         'mct1KO at 3hr minR+Leu 5',\n",
    "         'mct1KO at 3hr minR+Leu 6'\n",
    "    ]],\n",
    "    z_score=0,\n",
    "    xticklabels=False,\n",
    "    row_cluster=False,\n",
    "    col_cluster=False,\n",
    "    center=0,\n",
    "    figsize=(6,3),\n",
    "    cbar_kws={'label': 'Z-score'},\n",
    "    col_colors=mct1_colors1,\n",
    "    cmap=jakes_cmap)\n",
    "\n",
    "# Label legends\n",
    "\n",
    "ff = lambda m,c: plt.plot([],[],marker='o', color=c, ls=\"none\")[0]\n",
    "handles = [ff(\"s\", list(mct1_time_hex.values())[i]) for i in range(len(list(mct1_time_hex.values())))]\n",
    "second_legend = plt.legend(handles, list(mct1_time_hex.keys()), bbox_to_anchor=(8, 2), loc=2, borderaxespad=0., title='Time')\n",
    "\n",
    "# Add the legend manually to the current Axes.\n",
    "ax = plt.gca().add_artist(second_legend)\n",
    "\n",
    "g = lambda m,c: plt.plot([],[],marker='o', color=c, ls=\"none\")[0]\n",
    "handles_g = [f(\"s\", list(mct1_condition_hex.values())[i]) for i in range(len(list(mct1_condition_hex.values())))]\n",
    "plt.legend(handles_g, list(mct1_condition_hex.keys()), bbox_to_anchor=(4, 1), loc=2, borderaxespad=0., title='Samples')\n",
    "\n",
    "\n",
    "#Save and show figure\n",
    "plt.savefig(\n",
    "    os.path.join(plots_url, \"tca_mct1_metabolomics_3hr.pdf\"),\n",
    "    dpi=600,\n",
    "    bbox_inches='tight')\n",
    "plt.show()"
   ]
  },
  {
   "cell_type": "code",
   "execution_count": null,
   "metadata": {},
   "outputs": [],
   "source": []
  },
  {
   "cell_type": "code",
   "execution_count": null,
   "metadata": {},
   "outputs": [],
   "source": []
  },
  {
   "cell_type": "code",
   "execution_count": 49,
   "metadata": {},
   "outputs": [],
   "source": [
    "final_mct1_metabolites = [\n",
    "    ' Pyruvic acid ',\n",
    "    ' Citric acid ',\n",
    "    ' cis-Aconitic acid',\n",
    "    ' Isocitric acid ',\n",
    "    ' Glutamic acid ',\n",
    "    ' L-Glutamic acid',\n",
    "    ' Succinic acid ',\n",
    "    ' Fumaric acid ',\n",
    "    ' D-Malic acid ',\n",
    "]\n",
    "metabolomics_mct1_final = mct1_metabolomics.copy()\n",
    "metabolomics_mct1_final = metabolomics_mct1_final.reindex(final_mct1_metabolites, axis=0)"
   ]
  },
  {
   "cell_type": "code",
   "execution_count": 50,
   "metadata": {},
   "outputs": [
    {
     "name": "stderr",
     "output_type": "stream",
     "text": [
      "<ipython-input-50-0952929c2d38>:33: UserWarning:\n",
      "\n",
      "Matplotlib is currently using agg, which is a non-GUI backend, so cannot show the figure.\n",
      "\n"
     ]
    }
   ],
   "source": [
    "sns.set(font_scale=0.75)\n",
    "sns.clustermap(\n",
    "    metabolomics_mct1_final,\n",
    "    z_score=0,\n",
    "    xticklabels=False,\n",
    "    row_cluster=False,\n",
    "    col_cluster=False,\n",
    "    center=0,\n",
    "    figsize=(9,3),\n",
    "    cbar_kws={'label': 'Z-score'},\n",
    "    col_colors=[mct1_colors1.label, mct1_colors2.label],\n",
    "    cmap=jakes_cmap)\n",
    "\n",
    "# Label legends\n",
    "\n",
    "ff = lambda m,c: plt.plot([],[],marker='o', color=c, ls=\"none\")[0]\n",
    "handles = [ff(\"s\", list(mct1_time_hex.values())[i]) for i in range(len(list(mct1_time_hex.values())))]\n",
    "second_legend = plt.legend(handles, list(mct1_time_hex.keys()), bbox_to_anchor=(6, 2), loc=2, borderaxespad=0., title='Time')\n",
    "\n",
    "# Add the legend manually to the current Axes.\n",
    "ax = plt.gca().add_artist(second_legend)\n",
    "\n",
    "g = lambda m,c: plt.plot([],[],marker='o', color=c, ls=\"none\")[0]\n",
    "handles_g = [f(\"s\", list(mct1_condition_hex.values())[i]) for i in range(len(list(mct1_condition_hex.values())))]\n",
    "plt.legend(handles_g, list(mct1_condition_hex.keys()), bbox_to_anchor=(4, 1), loc=2, borderaxespad=0., title='Samples')\n",
    "\n",
    "\n",
    "#Save and show figure\n",
    "plt.savefig(\n",
    "    os.path.join(plots_url, \"final_mct1_metabolomics.pdf\"),\n",
    "    dpi=600,\n",
    "    bbox_inches='tight')\n",
    "plt.show()"
   ]
  },
  {
   "cell_type": "markdown",
   "metadata": {},
   "source": [
    "### CTP1 metabolomics"
   ]
  },
  {
   "cell_type": "code",
   "execution_count": 51,
   "metadata": {},
   "outputs": [],
   "source": [
    "ctp1_metabolomics_source_url = os.path.join (os.getcwd(), \"..\", \"data\", \"ctp1_metabolomics_data\")  \n",
    "\n",
    "ctp1_url = os.path.join(ctp1_metabolomics_source_url, \"ctp1_metabolomics_allValues.txt\")\n",
    "ctp1_metadata_url = os.path.join(ctp1_metabolomics_source_url, \"ctp1_metabolomics_metadata.txt\")\n",
    "\n",
    "ctp1_metabolite_url = os.path.join(genelist_source_url, \"ctp1_metabolite_list.txt\")"
   ]
  },
  {
   "cell_type": "code",
   "execution_count": 52,
   "metadata": {},
   "outputs": [],
   "source": [
    "ctp1_metabolomics = pd.read_csv(\n",
    "    ctp1_url,\n",
    "    sep=\"\\t\",\n",
    "    index_col=0)\n",
    "ctp1_metadata = pd.read_csv(\n",
    "    ctp1_metadata_url,\n",
    "    sep=\"\\t\",\n",
    "    index_col=0)\n",
    "\n",
    "ctp1_metabolite_list = pd.read_csv(\n",
    "    ctp1_metabolite_url,\n",
    "    sep=\"\\t\",\n",
    "    index_col=0)"
   ]
  },
  {
   "cell_type": "code",
   "execution_count": 53,
   "metadata": {},
   "outputs": [],
   "source": [
    "# Sort data by condition params\n",
    "metabolomics_ctp1Set = ctp1_metabolomics.copy()\n",
    "metabolomics_ctp1Set = metabolomics_ctp1Set.reindex(ctp1_metabolite_list.index.tolist(), axis=0)"
   ]
  },
  {
   "cell_type": "code",
   "execution_count": 54,
   "metadata": {},
   "outputs": [],
   "source": [
    "# Set labels and set color-codes for rows\n",
    "metabolite_hex = {\n",
    "    'amino acid':'#1b9e77', \n",
    "    'nucleotides':'#d95f02'}\n",
    "\n",
    "ctp1_metabolite_colors = ctp1_metabolite_list.copy()\n",
    "ctp1_metabolite_colors['label'] = ctp1_metabolite_colors['label'].map(metabolite_hex)"
   ]
  },
  {
   "cell_type": "code",
   "execution_count": 55,
   "metadata": {},
   "outputs": [],
   "source": [
    "# Sort data by condition params\n",
    "ctp1_metadata = ctp1_metadata.sort_values([\"Condition\", \"Media\"], ascending = (False, True))\n",
    "metabolomics_ctp1Set = metabolomics_ctp1Set[ctp1_metadata.index.tolist()]"
   ]
  },
  {
   "cell_type": "code",
   "execution_count": 56,
   "metadata": {},
   "outputs": [],
   "source": [
    "# Set labels and set color-codes for cols\n",
    "ctp1_condition_hex = {\n",
    "    'WT + EV':'#008080',\n",
    "    'WT + CTP1':'#000080',\n",
    "    'mct1 + EV':'#cc0033',\n",
    "    'mct1 + CTP1':'#660033'}\n",
    "ctp1_media_hex = {\n",
    "    'SD':'#a2cffe',\n",
    "    'SR':'#1f3b4d'}\n",
    "\n",
    "ctp1_colors = ctp1_metadata.copy()\n",
    "#ctp1_colors = ctp1_colors.loc[[x for x in ctp1_colors.index.tolist() if 'MCT' in x]]\n",
    "\n",
    "ctp1_colors['Condition'] = ctp1_colors['Condition'].map(ctp1_condition_hex)\n",
    "ctp1_colors['Media'] = ctp1_colors['Media'].map(ctp1_media_hex)\n",
    "\n",
    "ctp1_colors = ctp1_colors.loc[[\n",
    "\n",
    "         'WT_SR_EV1',\n",
    "         'WT_SR_EV2',\n",
    "         'WT_SR_EV3',\n",
    "         'WT_SR_A1',\n",
    "         'WT_SR_A2',\n",
    "         'WT_SR_A3',\n",
    "         'MCT_SR_EV1',\n",
    "         'MCT_SR_EV2',\n",
    "         'MCT_SR_EV3',\n",
    "         'MCT_SR_A1',\n",
    "         'MCT_SR_A2',\n",
    "         'MCT_SR_A3',\n",
    "    ]]\n",
    "\n",
    "ctp1_colors1 = ctp1_colors.copy()[['Condition']]\n",
    "ctp1_colors1.columns = ['label']\n",
    "ctp1_colors2 = ctp1_colors.copy()[['Media']]\n",
    "ctp1_colors2.columns = ['label']"
   ]
  },
  {
   "cell_type": "code",
   "execution_count": 57,
   "metadata": {},
   "outputs": [
    {
     "name": "stderr",
     "output_type": "stream",
     "text": [
      "<ipython-input-57-4e07ca584bfd>:45: UserWarning:\n",
      "\n",
      "Matplotlib is currently using agg, which is a non-GUI backend, so cannot show the figure.\n",
      "\n"
     ]
    }
   ],
   "source": [
    "sns.set(font_scale=0.8)\n",
    "sns.clustermap(\n",
    "    metabolomics_ctp1Set[[\n",
    "         'WT_SR_EV1',\n",
    "         'WT_SR_EV2',\n",
    "         'WT_SR_EV3',\n",
    "         'WT_SR_A1',\n",
    "         'WT_SR_A2',\n",
    "         'WT_SR_A3',\n",
    "         'MCT_SR_EV1',\n",
    "         'MCT_SR_EV2',\n",
    "         'MCT_SR_EV3',\n",
    "         'MCT_SR_A1',\n",
    "         'MCT_SR_A2',\n",
    "         'MCT_SR_A3',\n",
    "    ]].apply(pd.to_numeric),\n",
    "    z_score=0,\n",
    "    xticklabels=True,\n",
    "    row_cluster=True,\n",
    "    col_cluster=False,\n",
    "    center=0,\n",
    "    figsize=(5,4),\n",
    "    cbar_kws={'label': 'Z-score'},\n",
    "    col_colors=ctp1_colors1,\n",
    "    cmap=jakes_cmap)\n",
    "\n",
    "# Label legends\n",
    "f = lambda m,c: plt.plot([],[],marker='o', color=c, ls=\"none\")[0]\n",
    "handles = [f(\"s\", list(metabolite_hex.values())[i]) for i in range(len(list(metabolite_hex.values())))]\n",
    "first_legend = plt.legend(handles, list(metabolite_hex.keys()), bbox_to_anchor=(9, 1.2), loc=2, borderaxespad=0., title='Metabolite Groups')\n",
    "\n",
    "# Add the legend manually to the current Axes.\n",
    "ax = plt.gca().add_artist(first_legend)\n",
    "\n",
    "g = lambda m,c: plt.plot([],[],marker='o', color=c, ls=\"none\")[0]\n",
    "handles_g = [f(\"s\", list(ctp1_condition_hex.values())[i]) for i in range(len(list(ctp1_condition_hex.values())))]\n",
    "plt.legend(handles_g, list(ctp1_condition_hex.keys()), bbox_to_anchor=(4, 1.5), loc=2, borderaxespad=0., title='Samples')\n",
    "\n",
    "\n",
    "#Save and show figure\n",
    "plt.savefig(\n",
    "    os.path.join(plots_url, \"aa_nt_list_ctp1_metabolomics.pdf\"),\n",
    "    dpi=600,\n",
    "    bbox_inches='tight')\n",
    "plt.show()"
   ]
  },
  {
   "cell_type": "code",
   "execution_count": 58,
   "metadata": {},
   "outputs": [],
   "source": [
    "aa_nt_up = [\n",
    "    'ATP',\n",
    "    'Inosine',\n",
    "    'Adenine',\n",
    "    'Aspartate',\n",
    "    'Alanine',\n",
    "    'Uracil',\n",
    "    'Leucine',\n",
    "    'Valine'\n",
    "]\n",
    "\n",
    "metabolomics_ctp1Set_up = metabolomics_ctp1Set.copy()\n",
    "metabolomics_ctp1Set_up = metabolomics_ctp1Set_up.loc[aa_nt_up]"
   ]
  },
  {
   "cell_type": "code",
   "execution_count": 59,
   "metadata": {},
   "outputs": [
    {
     "name": "stderr",
     "output_type": "stream",
     "text": [
      "<ipython-input-59-1f07c7b94121>:44: UserWarning:\n",
      "\n",
      "Matplotlib is currently using agg, which is a non-GUI backend, so cannot show the figure.\n",
      "\n"
     ]
    }
   ],
   "source": [
    "sns.set(font_scale=0.8)\n",
    "sns.clustermap(\n",
    "    metabolomics_ctp1Set_up[[\n",
    "         'WT_SR_EV1',\n",
    "         'WT_SR_EV2',\n",
    "         'WT_SR_EV3',\n",
    "         'WT_SR_A1',\n",
    "         'WT_SR_A2',\n",
    "         'WT_SR_A3',\n",
    "         'MCT_SR_EV1',\n",
    "         'MCT_SR_EV2',\n",
    "         'MCT_SR_EV3',\n",
    "         'MCT_SR_A1',\n",
    "         'MCT_SR_A2',\n",
    "         'MCT_SR_A3',\n",
    "    ]].apply(pd.to_numeric),\n",
    "    z_score=0,\n",
    "    xticklabels=True,\n",
    "    row_cluster=True,\n",
    "    col_cluster=False,\n",
    "    center=0,\n",
    "    figsize=(5,4),\n",
    "    cbar_kws={'label': 'Z-score'},\n",
    "    col_colors=ctp1_colors1,\n",
    "    cmap=jakes_cmap)\n",
    "\n",
    "# Label legends\n",
    "f = lambda m,c: plt.plot([],[],marker='o', color=c, ls=\"none\")[0]\n",
    "handles = [f(\"s\", list(metabolite_hex.values())[i]) for i in range(len(list(metabolite_hex.values())))]\n",
    "first_legend = plt.legend(handles, list(metabolite_hex.keys()), bbox_to_anchor=(9, 1.2), loc=2, borderaxespad=0., title='Metabolite Groups')\n",
    "\n",
    "# Add the legend manually to the current Axes.\n",
    "ax = plt.gca().add_artist(first_legend)\n",
    "\n",
    "g = lambda m,c: plt.plot([],[],marker='o', color=c, ls=\"none\")[0]\n",
    "handles_g = [f(\"s\", list(ctp1_condition_hex.values())[i]) for i in range(len(list(ctp1_condition_hex.values())))]\n",
    "plt.legend(handles_g, list(ctp1_condition_hex.keys()), bbox_to_anchor=(4, 1.5), loc=2, borderaxespad=0., title='Samples')\n",
    "\n",
    "#Save and show figure\n",
    "plt.savefig(\n",
    "    os.path.join(plots_url, \"ctp1_metabolomics_aa_nt_up.pdf\"),\n",
    "    dpi=600,\n",
    "    bbox_inches='tight')\n",
    "plt.show()"
   ]
  },
  {
   "cell_type": "code",
   "execution_count": 60,
   "metadata": {},
   "outputs": [],
   "source": [
    "raff_set = ctp1_metabolomics[[\n",
    "\n",
    "         'WT_SR_EV1',\n",
    "         'WT_SR_EV2',\n",
    "         'WT_SR_EV3',\n",
    "         'WT_SR_A1',\n",
    "         'WT_SR_A2',\n",
    "         'WT_SR_A3',\n",
    "         'MCT_SR_EV1',\n",
    "         'MCT_SR_EV2',\n",
    "         'MCT_SR_EV3',\n",
    "         'MCT_SR_A1',\n",
    "         'MCT_SR_A2',\n",
    "         'MCT_SR_A3',\n",
    "    ]]\n",
    "\n",
    "raff_meta = ctp1_metadata.loc[[\n",
    "         'WT_SR_EV1',\n",
    "         'WT_SR_EV2',\n",
    "         'WT_SR_EV3',\n",
    "         'WT_SR_A1',\n",
    "         'WT_SR_A2',\n",
    "         'WT_SR_A3',\n",
    "         'MCT_SR_EV1',\n",
    "         'MCT_SR_EV2',\n",
    "         'MCT_SR_EV3',\n",
    "         'MCT_SR_A1',\n",
    "         'MCT_SR_A2',\n",
    "         'MCT_SR_A3',\n",
    "    ]]\n",
    "raff_meta['index'] = raff_meta.index.tolist()\n",
    "raff_meta = raff_meta[['index', 'Condition']]\n",
    "raff_meta.columns = [0,1]"
   ]
  },
  {
   "cell_type": "code",
   "execution_count": 61,
   "metadata": {},
   "outputs": [
    {
     "name": "stderr",
     "output_type": "stream",
     "text": [
      "C:\\Users\\jorda\\miniconda3\\lib\\site-packages\\xpressplot\\analyze.py:216: UserWarning:\n",
      "\n",
      "Matplotlib is currently using agg, which is a non-GUI backend, so cannot show the figure.\n",
      "\n",
      "C:\\Users\\jorda\\miniconda3\\lib\\site-packages\\xpressplot\\analyze.py:216: UserWarning:\n",
      "\n",
      "Matplotlib is currently using agg, which is a non-GUI backend, so cannot show the figure.\n",
      "\n",
      "C:\\Users\\jorda\\miniconda3\\lib\\site-packages\\xpressplot\\analyze.py:216: UserWarning:\n",
      "\n",
      "Matplotlib is currently using agg, which is a non-GUI backend, so cannot show the figure.\n",
      "\n",
      "C:\\Users\\jorda\\miniconda3\\lib\\site-packages\\xpressplot\\analyze.py:216: UserWarning:\n",
      "\n",
      "Matplotlib is currently using agg, which is a non-GUI backend, so cannot show the figure.\n",
      "\n",
      "C:\\Users\\jorda\\miniconda3\\lib\\site-packages\\xpressplot\\analyze.py:216: UserWarning:\n",
      "\n",
      "Matplotlib is currently using agg, which is a non-GUI backend, so cannot show the figure.\n",
      "\n",
      "C:\\Users\\jorda\\miniconda3\\lib\\site-packages\\xpressplot\\analyze.py:216: UserWarning:\n",
      "\n",
      "Matplotlib is currently using agg, which is a non-GUI backend, so cannot show the figure.\n",
      "\n",
      "C:\\Users\\jorda\\miniconda3\\lib\\site-packages\\xpressplot\\analyze.py:216: UserWarning:\n",
      "\n",
      "Matplotlib is currently using agg, which is a non-GUI backend, so cannot show the figure.\n",
      "\n",
      "C:\\Users\\jorda\\miniconda3\\lib\\site-packages\\xpressplot\\analyze.py:216: UserWarning:\n",
      "\n",
      "Matplotlib is currently using agg, which is a non-GUI backend, so cannot show the figure.\n",
      "\n"
     ]
    }
   ],
   "source": [
    "for x in aa_nt_up:\n",
    "\n",
    "    xp.gene_overview(\n",
    "        raff_set, \n",
    "        raff_meta, \n",
    "        gene_name=x, \n",
    "        palette=ctp1_condition_hex,\n",
    "        order=['WT + EV','WT + CTP1','mct1 + EV', 'mct1 + CTP1'],\n",
    "        save_fig=os.path.join(plots_url, \"ctp1_metabolomics_boxplot_\" + x + \".pdf\"),\n",
    "        dpi=600\n",
    "    )"
   ]
  },
  {
   "cell_type": "code",
   "execution_count": 62,
   "metadata": {},
   "outputs": [
    {
     "name": "stderr",
     "output_type": "stream",
     "text": [
      "<ipython-input-62-d3d93971f9a1>:46: UserWarning:\n",
      "\n",
      "Matplotlib is currently using agg, which is a non-GUI backend, so cannot show the figure.\n",
      "\n"
     ]
    }
   ],
   "source": [
    "sns.set(font_scale=0.8)\n",
    "sns.clustermap(\n",
    "    ctp1_metabolomics[[\n",
    "         'WT_SR_EV1',\n",
    "         'WT_SR_EV2',\n",
    "         'WT_SR_EV3',\n",
    "         'WT_SR_A1',\n",
    "         'WT_SR_A2',\n",
    "         'WT_SR_A3',\n",
    "         'MCT_SR_EV1',\n",
    "         'MCT_SR_EV2',\n",
    "         'MCT_SR_EV3',\n",
    "         'MCT_SR_A1',\n",
    "         'MCT_SR_A2',\n",
    "         'MCT_SR_A3',\n",
    "    ]].apply(pd.to_numeric),\n",
    "    z_score=0,\n",
    "    xticklabels=True,\n",
    "    row_cluster=True,\n",
    "    col_cluster=False,\n",
    "    center=0,\n",
    "    figsize=(10,8),\n",
    "    cbar_kws={'label': 'Z-score'},\n",
    "    \n",
    "    cmap=jakes_cmap)\n",
    "\n",
    "# Label legends\n",
    "\n",
    "ff = lambda m,c: plt.plot([],[],marker='o', color=c, ls=\"none\")[0]\n",
    "handles = [ff(\"s\", list(ctp1_media_hex.values())[i]) for i in range(len(list(ctp1_media_hex.values())))]\n",
    "second_legend = plt.legend(handles, list(ctp1_media_hex.keys()), bbox_to_anchor=(6.85, 0.5), loc=2, borderaxespad=0., title='Media')\n",
    "\n",
    "# Add the legend manually to the current Axes.\n",
    "ax = plt.gca().add_artist(second_legend)\n",
    "\n",
    "g = lambda m,c: plt.plot([],[],marker='o', color=c, ls=\"none\")[0]\n",
    "handles_g = [f(\"s\", list(ctp1_condition_hex.values())[i]) for i in range(len(list(ctp1_condition_hex.values())))]\n",
    "plt.legend(handles_g, list(ctp1_condition_hex.keys()), bbox_to_anchor=(4.3, 0.77), loc=2, borderaxespad=0., title='Samples')\n",
    "\n",
    "\n",
    "#Save and show figure\n",
    "plt.savefig(\n",
    "    os.path.join(plots_url, \"all_ctp1_metabolomics.pdf\"),\n",
    "    dpi=600,\n",
    "    bbox_inches='tight')\n",
    "plt.show()"
   ]
  },
  {
   "cell_type": "code",
   "execution_count": 63,
   "metadata": {},
   "outputs": [],
   "source": [
    "# Set labels and set color-codes for cols\n",
    "ctp1_condition_hex = {\n",
    "    'WT + EV':'#047495',\n",
    "    'WT + CTP1':'#152238',\n",
    "    'mct1 + EV':'#cc0033',\n",
    "    'mct1 + CTP1':'#660033'}\n",
    "ctp1_media_hex = {\n",
    "    'SD':'#a2cffe',\n",
    "    'SR':'#1f3b4d'}\n",
    "\n",
    "ctp1_colors = ctp1_metadata.copy()\n",
    "\n",
    "ctp1_colors['Condition'] = ctp1_colors['Condition'].map(ctp1_condition_hex)\n",
    "ctp1_colors['Media'] = ctp1_colors['Media'].map(ctp1_media_hex)\n",
    "\n",
    "ctp1_colors = ctp1_colors.loc[[\n",
    "         'WT_SR_EV1',\n",
    "         'WT_SR_EV2',\n",
    "         'WT_SR_EV3',\n",
    "         'WT_SR_A1',\n",
    "         'WT_SR_A2',\n",
    "         'WT_SR_A3',\n",
    "         'MCT_SR_EV1',\n",
    "         'MCT_SR_EV2',\n",
    "         'MCT_SR_EV3',\n",
    "         'MCT_SR_A1',\n",
    "         'MCT_SR_A2',\n",
    "         'MCT_SR_A3',\n",
    "    ]]\n",
    "\n",
    "ctp1_colors1 = ctp1_colors.copy()[['Condition']]\n",
    "ctp1_colors1.columns = ['label']\n",
    "ctp1_colors2 = ctp1_colors.copy()[['Media']]\n",
    "ctp1_colors2.columns = ['label']"
   ]
  },
  {
   "cell_type": "code",
   "execution_count": 64,
   "metadata": {},
   "outputs": [],
   "source": [
    "# Sort data by condition params\n",
    "ctp1_metadata = ctp1_metadata.sort_values([\"Condition\", \"Media\"], ascending = (False, True))\n",
    "metabolomics_ctp1Set = metabolomics_ctp1Set[ctp1_metadata.index.tolist()]"
   ]
  },
  {
   "cell_type": "code",
   "execution_count": 65,
   "metadata": {},
   "outputs": [],
   "source": [
    "final_ctp1_metabolites = [\n",
    "    'Glucose',\n",
    "    'F6P', \n",
    "    'F16BP', \n",
    "    'Pyruvate',\n",
    "    'CoA',\n",
    "    'Citrate',\n",
    "    'a-KG',\n",
    "    'Glutamine',\n",
    "    'Glutamate',\n",
    "    'Succinate',\n",
    "    'Fumarate',\n",
    "    'Malate',\n",
    "]\n",
    "final_ctp1_metabolomics = ctp1_metabolomics.copy()\n",
    "final_ctp1_metabolomics = final_ctp1_metabolomics.reindex(final_ctp1_metabolites, axis=0)"
   ]
  },
  {
   "cell_type": "code",
   "execution_count": 66,
   "metadata": {},
   "outputs": [
    {
     "name": "stderr",
     "output_type": "stream",
     "text": [
      "<ipython-input-66-c1c1ac2a7e79>:39: UserWarning:\n",
      "\n",
      "Matplotlib is currently using agg, which is a non-GUI backend, so cannot show the figure.\n",
      "\n"
     ]
    }
   ],
   "source": [
    "sns.set(font_scale=1.2)\n",
    "sns.clustermap(\n",
    "    final_ctp1_metabolomics[[\n",
    "         'WT_SR_EV1',\n",
    "         'WT_SR_EV2',\n",
    "         'WT_SR_EV3',\n",
    "         'WT_SR_A1',\n",
    "         'WT_SR_A2',\n",
    "         'WT_SR_A3',\n",
    "         'MCT_SR_EV1',\n",
    "         'MCT_SR_EV2',\n",
    "         'MCT_SR_EV3',\n",
    "         'MCT_SR_A1',\n",
    "         'MCT_SR_A2',\n",
    "         'MCT_SR_A3',\n",
    "    ]].apply(pd.to_numeric),\n",
    "    z_score=0,\n",
    "    xticklabels=True,\n",
    "    row_cluster=False,\n",
    "    col_cluster=False,\n",
    "    center=0,\n",
    "    figsize=(8,6),\n",
    "    cbar_kws={'label': 'Z-score'},\n",
    "    col_colors=ctp1_colors['Condition'],\n",
    "    cmap=jakes_cmap)\n",
    "\n",
    "# Label legends\n",
    "\n",
    "g = lambda m,c: plt.plot([],[],marker='o', color=c, ls=\"none\")[0]\n",
    "handles_g = [f(\"s\", list(ctp1_condition_hex.values())[i]) for i in range(len(list(ctp1_condition_hex.values())))]\n",
    "plt.legend(handles_g, list(ctp1_condition_hex.keys()), bbox_to_anchor=(4.3, 2), loc=2, borderaxespad=0., title='Samples')\n",
    "\n",
    "\n",
    "#Save and show figure\n",
    "plt.savefig(\n",
    "    os.path.join(plots_url, \"final_ctp1_metabolomics.pdf\"),\n",
    "    dpi=600,\n",
    "    bbox_inches='tight')\n",
    "plt.show()"
   ]
  },
  {
   "cell_type": "markdown",
   "metadata": {},
   "source": [
    "# CTP1 boxplots"
   ]
  },
  {
   "cell_type": "code",
   "execution_count": 67,
   "metadata": {},
   "outputs": [
    {
     "name": "stderr",
     "output_type": "stream",
     "text": [
      "C:\\Users\\jorda\\miniconda3\\lib\\site-packages\\xpressplot\\analyze.py:216: UserWarning:\n",
      "\n",
      "Matplotlib is currently using agg, which is a non-GUI backend, so cannot show the figure.\n",
      "\n",
      "C:\\Users\\jorda\\miniconda3\\lib\\site-packages\\xpressplot\\analyze.py:216: UserWarning:\n",
      "\n",
      "Matplotlib is currently using agg, which is a non-GUI backend, so cannot show the figure.\n",
      "\n",
      "C:\\Users\\jorda\\miniconda3\\lib\\site-packages\\xpressplot\\analyze.py:216: UserWarning:\n",
      "\n",
      "Matplotlib is currently using agg, which is a non-GUI backend, so cannot show the figure.\n",
      "\n",
      "C:\\Users\\jorda\\miniconda3\\lib\\site-packages\\xpressplot\\analyze.py:216: UserWarning:\n",
      "\n",
      "Matplotlib is currently using agg, which is a non-GUI backend, so cannot show the figure.\n",
      "\n",
      "C:\\Users\\jorda\\miniconda3\\lib\\site-packages\\xpressplot\\analyze.py:216: UserWarning:\n",
      "\n",
      "Matplotlib is currently using agg, which is a non-GUI backend, so cannot show the figure.\n",
      "\n",
      "C:\\Users\\jorda\\miniconda3\\lib\\site-packages\\xpressplot\\analyze.py:216: UserWarning:\n",
      "\n",
      "Matplotlib is currently using agg, which is a non-GUI backend, so cannot show the figure.\n",
      "\n",
      "C:\\Users\\jorda\\miniconda3\\lib\\site-packages\\xpressplot\\analyze.py:216: UserWarning:\n",
      "\n",
      "Matplotlib is currently using agg, which is a non-GUI backend, so cannot show the figure.\n",
      "\n",
      "C:\\Users\\jorda\\miniconda3\\lib\\site-packages\\xpressplot\\analyze.py:216: UserWarning:\n",
      "\n",
      "Matplotlib is currently using agg, which is a non-GUI backend, so cannot show the figure.\n",
      "\n",
      "C:\\Users\\jorda\\miniconda3\\lib\\site-packages\\xpressplot\\analyze.py:216: UserWarning:\n",
      "\n",
      "Matplotlib is currently using agg, which is a non-GUI backend, so cannot show the figure.\n",
      "\n",
      "C:\\Users\\jorda\\miniconda3\\lib\\site-packages\\xpressplot\\analyze.py:216: UserWarning:\n",
      "\n",
      "Matplotlib is currently using agg, which is a non-GUI backend, so cannot show the figure.\n",
      "\n",
      "C:\\Users\\jorda\\miniconda3\\lib\\site-packages\\xpressplot\\analyze.py:216: UserWarning:\n",
      "\n",
      "Matplotlib is currently using agg, which is a non-GUI backend, so cannot show the figure.\n",
      "\n",
      "C:\\Users\\jorda\\miniconda3\\lib\\site-packages\\xpressplot\\analyze.py:216: UserWarning:\n",
      "\n",
      "Matplotlib is currently using agg, which is a non-GUI backend, so cannot show the figure.\n",
      "\n"
     ]
    }
   ],
   "source": [
    "for x in final_ctp1_metabolites:\n",
    "\n",
    "    xp.gene_overview(\n",
    "        raff_set, \n",
    "        raff_meta, \n",
    "        gene_name=x, \n",
    "        palette=ctp1_condition_hex,\n",
    "        order=['WT + EV','WT + CTP1','mct1 + EV', 'mct1 + CTP1'],\n",
    "        save_fig=os.path.join(plots_url, \"ctp1_metabolomics_boxplot_\" + x + \".pdf\"),\n",
    "        dpi=600\n",
    "    )"
   ]
  },
  {
   "cell_type": "code",
   "execution_count": 68,
   "metadata": {},
   "outputs": [
    {
     "name": "stderr",
     "output_type": "stream",
     "text": [
      "C:\\Users\\jorda\\miniconda3\\lib\\site-packages\\xpressplot\\analyze.py:216: UserWarning:\n",
      "\n",
      "Matplotlib is currently using agg, which is a non-GUI backend, so cannot show the figure.\n",
      "\n"
     ]
    }
   ],
   "source": [
    "x = \"Aspartate\"\n",
    "xp.gene_overview(\n",
    "        raff_set, \n",
    "        raff_meta, \n",
    "        gene_name=x, \n",
    "        palette=ctp1_condition_hex,\n",
    "        order=['WT + EV','WT + CTP1','mct1 + EV', 'mct1 + CTP1'],\n",
    "        save_fig=os.path.join(plots_url, \"ctp1_metabolomics_boxplot_\" + x + \".pdf\"),\n",
    "        dpi=600\n",
    "    )"
   ]
  },
  {
   "cell_type": "code",
   "execution_count": 69,
   "metadata": {},
   "outputs": [
    {
     "name": "stderr",
     "output_type": "stream",
     "text": [
      "C:\\Users\\jorda\\miniconda3\\lib\\site-packages\\xpressplot\\analyze.py:216: UserWarning:\n",
      "\n",
      "Matplotlib is currently using agg, which is a non-GUI backend, so cannot show the figure.\n",
      "\n"
     ]
    }
   ],
   "source": [
    "x = \"Asparagine \"\n",
    "xp.gene_overview(\n",
    "        raff_set, \n",
    "        raff_meta, \n",
    "        gene_name=x, \n",
    "        palette=ctp1_condition_hex,\n",
    "        order=['WT + EV','WT + CTP1','mct1 + EV', 'mct1 + CTP1'],\n",
    "        save_fig=os.path.join(plots_url, \"ctp1_metabolomics_boxplot_\" + x + \".pdf\"),\n",
    "        dpi=600\n",
    "    )"
   ]
  },
  {
   "cell_type": "code",
   "execution_count": 70,
   "metadata": {},
   "outputs": [
    {
     "name": "stderr",
     "output_type": "stream",
     "text": [
      "C:\\Users\\jorda\\miniconda3\\lib\\site-packages\\xpressplot\\analyze.py:216: UserWarning:\n",
      "\n",
      "Matplotlib is currently using agg, which is a non-GUI backend, so cannot show the figure.\n",
      "\n"
     ]
    }
   ],
   "source": [
    "x = \"Arginine\"\n",
    "xp.gene_overview(\n",
    "        raff_set, \n",
    "        raff_meta, \n",
    "        gene_name=x, \n",
    "        palette=ctp1_condition_hex,\n",
    "        order=['WT + EV','WT + CTP1','mct1 + EV', 'mct1 + CTP1'],\n",
    "        save_fig=os.path.join(plots_url, \"ctp1_metabolomics_boxplot_\" + x + \".pdf\"),\n",
    "        dpi=600\n",
    "    )"
   ]
  },
  {
   "cell_type": "code",
   "execution_count": 71,
   "metadata": {},
   "outputs": [],
   "source": [
    "final_metabolites = [\n",
    "    'Glucose',\n",
    "    'F6P', \n",
    "    'F16BP', \n",
    "    'Pyruvate',\n",
    "    \n",
    "    'CoA',\n",
    "    'Citrate',\n",
    "    'a-KG',\n",
    "    'Glutamine',\n",
    "    \n",
    "    'Glutamate',\n",
    "    'Succinate',\n",
    "    'Fumarate',\n",
    "    'Malate'   \n",
    "]\n",
    "\n",
    "biosyn = [\n",
    "    'Adenine',\n",
    "    'Alanine',\n",
    "    'Arginine',\n",
    "    'Asparagine ',\n",
    "    \n",
    "    'Aspartate',\n",
    "    'ATP',\n",
    "    'Inosine',\n",
    "    'Leucine',\n",
    "    \n",
    "    'Uracil',\n",
    "    'Valine'\n",
    "]\n",
    "\n",
    "alp = 'abcdefghijklmnopqrstuvwxyz'"
   ]
  },
  {
   "cell_type": "code",
   "execution_count": 78,
   "metadata": {},
   "outputs": [],
   "source": [
    "from xpressplot import analysis_prep\n",
    "%matplotlib inline"
   ]
  },
  {
   "cell_type": "code",
   "execution_count": 83,
   "metadata": {},
   "outputs": [
    {
     "data": {
      "image/png": "[encoded data removed]",
      "text/plain": [
       "<Figure size 1800x2880 with 24 Axes>"
      ]
     },
     "metadata": {},
     "output_type": "display_data"
    }
   ],
   "source": [
    "fig, axes = plt.subplots(6, 4, sharex=True, sharey=False, figsize=(25,40))\n",
    "plt.subplots_adjust(wspace = 0.3, hspace = 0.4)\n",
    "kw = dict(ha=\"center\", va=\"center\", fontsize=24, color=\"black\")\n",
    "sns.set_style(\"whitegrid\")\n",
    "data_c = analysis_prep(raff_set).T\n",
    "\n",
    "# Prep data_scaled by adding labels from info to column (samples are rows)\n",
    "labels = pd.Series(raff_meta[1].values,index=raff_meta[0]).to_dict()\n",
    "data_c['label'] = data_c.index.to_series().map(labels)\n",
    "    \n",
    "x = 0\n",
    "y = 0\n",
    "tot = 0\n",
    "\n",
    "for m in final_metabolites + biosyn:\n",
    "    \n",
    "    gene_df = data_c[[str(m), 'label']]\n",
    "    gene_df[[str(m)]] = gene_df[[str(m)]].apply(pd.to_numeric, errors='coerce')\n",
    "    \n",
    "    # Swarm plot\n",
    "    sns.swarmplot(\n",
    "        x = 'label',\n",
    "        y = str(m),\n",
    "        data = gene_df,\n",
    "        color = 'black',\n",
    "        order=['WT + EV','WT + CTP1','mct1 + EV', 'mct1 + CTP1'],\n",
    "        ax=axes[y, x])\n",
    "\n",
    "    #Boxplot, fliersize=0 removes outlier diamonds from sns\n",
    "    sns.boxplot(\n",
    "        x = 'label',\n",
    "        y = str(m),\n",
    "        data = gene_df,\n",
    "        width = 0.3,\n",
    "        fliersize = 0,\n",
    "        palette=ctp1_condition_hex,\n",
    "        order=['WT + EV','WT + CTP1','mct1 + EV', 'mct1 + CTP1'],\n",
    "        ax=axes[y, x])\n",
    "    axes[y, x].set_xticklabels(axes[y, x].get_xticklabels(),rotation=90)\n",
    "    axes[y, x].text(-0.15, 1.1, alp[tot], transform=axes[y, x].transAxes, **kw)\n",
    "    axes[y, x].set_xlabel('')\n",
    "    axes[y, x].grid(False)\n",
    "    \n",
    "    tot += 1\n",
    "    x += 1\n",
    "    if x >= 4:\n",
    "        x = 0\n",
    "        y += 1\n",
    "\n",
    "axes[-1, -2].axis('off')\n",
    "axes[-1, -1].axis('off')\n",
    "axes[4,2].tick_params(axis='both', which='both', labelsize=kw['fontsize']/2, labelbottom=True)\n",
    "axes[4,3].tick_params(axis='both', which='both', labelsize=kw['fontsize']/2, labelbottom=True)\n",
    "        \n",
    "plt.savefig(\n",
    "    os.path.join(plots_url, \"ctp1_metabolomics_boxplot_glycolysis-TCA-biosynthesis.pdf\"), \n",
    "    dpi=600)\n",
    "plt.savefig(\n",
    "    os.path.join(plots_url, \"ctp1_metabolomics_boxplot_glycolysis-TCA-biosynthesis.png\"), \n",
    "    dpi=600)\n",
    "plt.show()"
   ]
  },
  {
   "cell_type": "code",
   "execution_count": null,
   "metadata": {},
   "outputs": [],
   "source": []
  },
  {
   "cell_type": "code",
   "execution_count": null,
   "metadata": {},
   "outputs": [],
   "source": [
    "fig, axes = plt.subplots(3, 4, sharex=True, sharey=False, figsize=(25,20))\n",
    "plt.subplots_adjust(wspace = 0.3, hspace = 0.4)\n",
    "kw = dict(ha=\"center\", va=\"center\", fontsize=24, color=\"black\")\n",
    "sns.set_style(\"whitegrid\")\n",
    "data_c = analysis_prep(raff_set).T\n",
    "\n",
    "# Prep data_scaled by adding labels from info to column (samples are rows)\n",
    "labels = pd.Series(raff_meta[1].values,index=raff_meta[0]).to_dict()\n",
    "data_c['label'] = data_c.index.to_series().map(labels)\n",
    "    \n",
    "x = 0\n",
    "y = 0\n",
    "tot = 0\n",
    "\n",
    "alp = 'abcdefghijklmnop'\n",
    "\n",
    "for m in biosyn:\n",
    "    \n",
    "    gene_df = data_c[[str(m), 'label']]\n",
    "    gene_df[[str(m)]] = gene_df[[str(m)]].apply(pd.to_numeric, errors='coerce')\n",
    "    \n",
    "    # Swarm plot\n",
    "    sns.swarmplot(\n",
    "        x = 'label',\n",
    "        y = str(m),\n",
    "        data = gene_df,\n",
    "        color = 'black',\n",
    "        order=['WT + EV','WT + CTP1','mct1 + EV', 'mct1 + CTP1'],\n",
    "        ax=axes[y, x])\n",
    "\n",
    "    #Boxplot, fliersize=0 removes outlier diamonds from sns\n",
    "    sns.boxplot(\n",
    "        x = 'label',\n",
    "        y = str(m),\n",
    "        data = gene_df,\n",
    "        width = 0.3,\n",
    "        fliersize = 0,\n",
    "        palette=ctp1_condition_hex,\n",
    "        order=['WT + EV','WT + CTP1','mct1 + EV', 'mct1 + CTP1'],\n",
    "        ax=axes[y, x])\n",
    "    axes[y, x].set_xticklabels(axes[y, x].get_xticklabels(),rotation=90)\n",
    "    axes[y, x].text(-0.15, 1.1, alp[tot], transform=axes[y, x].transAxes, **kw)\n",
    "    axes[y, x].set_xlabel('')\n",
    "    axes[y, x].grid(False)\n",
    "    \n",
    "    tot += 1\n",
    "    x += 1\n",
    "    if x >= 4:\n",
    "        x = 0\n",
    "        y += 1\n",
    "\n",
    "axes[-1, -2].axis('off')\n",
    "axes[-1, -1].axis('off')\n",
    "axes[1,2].tick_params(axis='both', which='both', labelsize=kw['fontsize']/2, labelbottom=True)\n",
    "axes[1,3].tick_params(axis='both', which='both', labelsize=kw['fontsize']/2, labelbottom=True)\n",
    "plt.savefig(\n",
    "    os.path.join(plots_url, \"ctp1_metabolomics_boxplot_biosynthesis.pdf\"), \n",
    "    dpi=600)"
   ]
  },
  {
   "cell_type": "code",
   "execution_count": null,
   "metadata": {},
   "outputs": [],
   "source": []
  },
  {
   "cell_type": "code",
   "execution_count": null,
   "metadata": {},
   "outputs": [],
   "source": []
  }
 ],
 "metadata": {
  "kernelspec": {
   "display_name": "Python 3",
   "language": "python",
   "name": "python3"
  },
  "language_info": {
   "codemirror_mode": {
    "name": "ipython",
    "version": 3
   },
   "file_extension": ".py",
   "mimetype": "text/x-python",
   "name": "python",
   "nbconvert_exporter": "python",
   "pygments_lexer": "ipython3",
   "version": "3.9.1"
  }
 },
 "nbformat": 4,
 "nbformat_minor": 4
}
