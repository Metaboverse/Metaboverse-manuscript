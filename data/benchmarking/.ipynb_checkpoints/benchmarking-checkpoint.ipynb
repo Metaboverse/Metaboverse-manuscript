{
 "cells": [
  {
   "cell_type": "code",
   "execution_count": 19,
   "id": "defdf230",
   "metadata": {},
   "outputs": [],
   "source": [
    "import pandas as pd\n",
    "import numpy as np\n",
    "import matplotlib\n",
    "import matplotlib.pyplot as plt\n",
    "import seaborn as sns\n",
    "from matplotlib import gridspec"
   ]
  },
  {
   "cell_type": "code",
   "execution_count": 20,
   "id": "71ad3643",
   "metadata": {},
   "outputs": [],
   "source": [
    "my_colors = [\"black\", \"gray\", ]"
   ]
  },
  {
   "cell_type": "code",
   "execution_count": 21,
   "id": "596611da",
   "metadata": {},
   "outputs": [],
   "source": [
    "d_luad = {\n",
    "    \"SMS\": {\n",
    "        \"Metaboverse\":1,\n",
    "        \"MNS\": 27\n",
    "        \n",
    "    },\n",
    "    \"GLYCTK\": {\n",
    "        \"Metaboverse\":2,\n",
    "        \"MNS\": 125\n",
    "    },\n",
    "    \"UPP1,2\": {\n",
    "        \"Metaboverse\":4,\n",
    "        \"MNS\": 23  \n",
    "    },\n",
    "    \"XDH\": {\n",
    "        \"Metaboverse\":11,\n",
    "        \"MNS\": 4\n",
    "        \n",
    "    }\n",
    "}\n",
    "data1 = pd.DataFrame(d_luad).T\n",
    "data1 = (data1 - 150) * -1\n",
    "data1 = data1.replace(np.nan, 5)"
   ]
  },
  {
   "cell_type": "code",
   "execution_count": 34,
   "id": "ac54d45f",
   "metadata": {},
   "outputs": [],
   "source": [
    "d_mct1 = {\n",
    "    \"LEU5\": {\n",
    "        \"Metaboverse\":1,\n",
    "        \"MNS\": np.nan,\n",
    "        \n",
    "    },\n",
    "    \"CAT2\": {\n",
    "        \"Metaboverse\":1,\n",
    "        \"MNS\": np.nan,\n",
    "        \n",
    "    },\n",
    "    \"KGD1,2;LPD1\": {\n",
    "        \"Metaboverse\":2,\n",
    "        \"MNS\": 24,\n",
    "        \n",
    "    },\n",
    "    \"FXN:NFS1:ISD11:ISCU\": {\n",
    "        \"Metaboverse\":3,\n",
    "        \"MNS\": 243,\n",
    "        \n",
    "    },\n",
    "    \"SDH\": {\n",
    "        \"Metaboverse\":4,\n",
    "        \"MNS\": 61,\n",
    "        \n",
    "    },\n",
    "    \"COQ\": {\n",
    "        \"Metaboverse\":4,\n",
    "        \"MNS\": 129,\n",
    "        \n",
    "    },\n",
    "    \"CTP1\": {\n",
    "        \"Metaboverse\":6,\n",
    "        \"MNS\": np.nan,\n",
    "        \n",
    "    },\n",
    "}\n",
    "data2 = pd.DataFrame(d_mct1).T\n",
    "data2 = (data2 - 300) * -1\n",
    "data2 = data2.replace(np.nan, 5)"
   ]
  },
  {
   "cell_type": "code",
   "execution_count": 35,
   "id": "186fca7f",
   "metadata": {},
   "outputs": [
    {
     "data": {
      "image/png": "[encoded data removed]",
      "text/plain": [
       "<Figure size 288x216 with 2 Axes>"
      ]
     },
     "metadata": {
      "needs_background": "light"
     },
     "output_type": "display_data"
    }
   ],
   "source": [
    "kw = dict(ha=\"center\", va=\"center\", fontsize=20, color=\"black\")\n",
    "\n",
    "plt.figure(figsize=(4, 3))\n",
    "gs = gridspec.GridSpec(1, 2, width_ratios=[1, 1.8]) \n",
    "\n",
    "ax1 = plt.subplot(gs[0])\n",
    "ax1 = data1.plot.bar(color=my_colors, ax=ax1)\n",
    "ax1.set_yticks(ticks=[149,139, 124, 99, 24, 5], labels=[1, 10, 25, 50, 125, \"not ranked\"])\n",
    "ax1.set_ylabel(\"Rank\")\n",
    "ax1.legend().set_visible(False)\n",
    "ax1.set_title(\"LUAD study\")\n",
    "ax1.text(-0.45, 1.1, \"a\", transform=ax1.transAxes, **kw)\n",
    "\n",
    "ax2 = plt.subplot(gs[1])\n",
    "data2.plot.bar(color=my_colors, ax=ax2)\n",
    "ax2.set_yticks(ticks=[299,275, 250, 200, 50, 5], labels=[1, 25, 50, 100, 250, \"not ranked\"])\n",
    "ax2.set_ylabel(\"Rank\")\n",
    "ax2.legend(loc=9, bbox_to_anchor=(1.2,1))\n",
    "ax2.set_title(\"$\\it{mct1 \\Delta}$ study\")\n",
    "ax2.text(-0.18, 1.1, \"b\", transform=ax2.transAxes, **kw)\n",
    "\n",
    "plt.subplots_adjust(left=0.1,\n",
    "                    bottom=0.1, \n",
    "                    right=2.3, \n",
    "                    top=0.9, \n",
    "                    wspace=0.4, \n",
    "                    hspace=0.4)\n",
    "\n",
    "plt.savefig(\"fig_6-benchmarking.png\", dpi=1200, bbox_inches='tight')"
   ]
  },
  {
   "cell_type": "markdown",
   "id": "a6f0ff92",
   "metadata": {},
   "source": [
    "### Identified as biomarkers in original study\n",
    "- 5′-Deoxy-5′-methylthioadenosine \n",
    "- Spermidine \n",
    "\n",
    "- Xanthine\n",
    "\n",
    "\n",
    "### Not identified\n",
    "- Glyceric acid \n",
    "- 3-Phosphoglycerate\n",
    "\n",
    "- uridine \n",
    "- Uracil \n",
    "\n",
    "### Other\n",
    "Spermidine discussed in context of MTAP and MTA, discussed in context of ornithine, no indication of a role of SMS or SRM; \"ornithine may be diverted away from citrulline and spermidine synthesis toward proline production\""
   ]
  },
  {
   "cell_type": "markdown",
   "id": "9b79c4d2",
   "metadata": {},
   "source": [
    "### MNS yeast\n",
    "\n",
    "Does not provide any other information about reaction pattern except for enzyme, does give delta from substrate to product, no directionality or statistical confidence used\n",
    "\n",
    "More diverse results\n",
    "\n",
    "citrate-related identified by other means (just using basic modreg/transreg patterns for those); CTP1 closer to mechanism?"
   ]
  },
  {
   "cell_type": "code",
   "execution_count": null,
   "id": "f92c9513",
   "metadata": {},
   "outputs": [],
   "source": [
    "LEU5: Mitochondrial carrier protein; involved in the accumulation of CoA in the mitochondrial matrix\n",
    "CAT2: Carnitine acetyl-CoA transferase"
   ]
  }
 ],
 "metadata": {
  "kernelspec": {
   "display_name": "Python 3 (ipykernel)",
   "language": "python",
   "name": "python3"
  },
  "language_info": {
   "codemirror_mode": {
    "name": "ipython",
    "version": 3
   },
   "file_extension": ".py",
   "mimetype": "text/x-python",
   "name": "python",
   "nbconvert_exporter": "python",
   "pygments_lexer": "ipython3",
   "version": "3.8.10"
  }
 },
 "nbformat": 4,
 "nbformat_minor": 5
}
