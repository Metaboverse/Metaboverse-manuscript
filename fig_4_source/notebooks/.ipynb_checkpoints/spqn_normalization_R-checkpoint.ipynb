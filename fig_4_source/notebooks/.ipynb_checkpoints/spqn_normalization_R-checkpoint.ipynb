{
 "cells": [
  {
   "cell_type": "markdown",
   "id": "7036d901",
   "metadata": {},
   "source": [
    "# SpQN RNA-seq co-expression ranking\n",
    "\n",
    "Purpose: Supplement script to correct for high-expression genes for downstream correlation analysis\n",
    "\n",
    "#### Table of contents:\n",
    "<ul>\n",
    "    <li><a href=\"#import\">Part 0: Import dependencies</a></li>\n",
    "    <li><a href=\"#data\">Part 1: Import data</a></li>\n",
    "    <li><a href=\"#SpQN\">Part 2: Perform SpQN normalization</a></li>\n",
    "    <ul>\n",
    "        <li>1. Pre-process data</li>\n",
    "        <li>2. Remove principle components</li>\n",
    "        <li>3. Perform base correlation of pre-processed data</li>\n",
    "        <li>4. Re-arrrange the correlation matrix into 10x10 bins and plot</li>\n",
    "        <li>5. Plot marginal relationship between IQR of correlation and expression level of the lower expression group for each bin</li>\n",
    "        <li>6. Q-Q plot of original data</li>\n",
    "        <li>7. SPQN normalization</li>\n",
    "        <li>8. Re-arrrange the corrected correlation matrix into 10x10 bins and plot</li>\n",
    "        <li>9. Q-Q plot of corrected data</li>\n",
    "        <li>10. Plot IQR-expression level relationship of corrected data</li>\n",
    "    </ul>\n",
    "    <li><a href=\"#export\">Part 3: Export corrected data</a></li>\n",
    "    <li><a href=\"#session\">Part 4: Print session info</a></li>\n",
    "</ul>"
   ]
  },
  {
   "cell_type": "markdown",
   "id": "b37e7509",
   "metadata": {},
   "source": [
    "<a id=\"import\"><h3>Part 0: Import dependencies</h3></a>"
   ]
  },
  {
   "cell_type": "code",
   "execution_count": 1,
   "id": "144ae522",
   "metadata": {},
   "outputs": [
    {
     "name": "stderr",
     "output_type": "stream",
     "text": [
      "Loading required package: ggplot2\n",
      "\n",
      "Warning message:\n",
      "\"package 'ggplot2' was built under R version 4.0.3\"\n",
      "Loading required package: ggridges\n",
      "\n",
      "Warning message:\n",
      "\"package 'ggridges' was built under R version 4.0.4\"\n",
      "Loading required package: SummarizedExperiment\n",
      "\n",
      "Loading required package: GenomicRanges\n",
      "\n",
      "Loading required package: stats4\n",
      "\n",
      "Loading required package: BiocGenerics\n",
      "\n",
      "Loading required package: parallel\n",
      "\n",
      "\n",
      "Attaching package: 'BiocGenerics'\n",
      "\n",
      "\n",
      "The following objects are masked from 'package:parallel':\n",
      "\n",
      "    clusterApply, clusterApplyLB, clusterCall, clusterEvalQ,\n",
      "    clusterExport, clusterMap, parApply, parCapply, parLapply,\n",
      "    parLapplyLB, parRapply, parSapply, parSapplyLB\n",
      "\n",
      "\n",
      "The following objects are masked from 'package:stats':\n",
      "\n",
      "    IQR, mad, sd, var, xtabs\n",
      "\n",
      "\n",
      "The following objects are masked from 'package:base':\n",
      "\n",
      "    anyDuplicated, append, as.data.frame, basename, cbind, colnames,\n",
      "    dirname, do.call, duplicated, eval, evalq, Filter, Find, get, grep,\n",
      "    grepl, intersect, is.unsorted, lapply, Map, mapply, match, mget,\n",
      "    order, paste, pmax, pmax.int, pmin, pmin.int, Position, rank,\n",
      "    rbind, Reduce, rownames, sapply, setdiff, sort, table, tapply,\n",
      "    union, unique, unsplit, which, which.max, which.min\n",
      "\n",
      "\n",
      "Loading required package: S4Vectors\n",
      "\n",
      "\n",
      "Attaching package: 'S4Vectors'\n",
      "\n",
      "\n",
      "The following object is masked from 'package:base':\n",
      "\n",
      "    expand.grid\n",
      "\n",
      "\n",
      "Loading required package: IRanges\n",
      "\n",
      "\n",
      "Attaching package: 'IRanges'\n",
      "\n",
      "\n",
      "The following object is masked from 'package:grDevices':\n",
      "\n",
      "    windows\n",
      "\n",
      "\n",
      "Loading required package: GenomeInfoDb\n",
      "\n",
      "Loading required package: Biobase\n",
      "\n",
      "Welcome to Bioconductor\n",
      "\n",
      "    Vignettes contain introductory material; view with\n",
      "    'browseVignettes()'. To cite Bioconductor, see\n",
      "    'citation(\"Biobase\")', and for packages 'citation(\"pkgname\")'.\n",
      "\n",
      "\n",
      "Loading required package: DelayedArray\n",
      "\n",
      "Loading required package: matrixStats\n",
      "\n",
      "Warning message:\n",
      "\"package 'matrixStats' was built under R version 4.0.3\"\n",
      "\n",
      "Attaching package: 'matrixStats'\n",
      "\n",
      "\n",
      "The following objects are masked from 'package:Biobase':\n",
      "\n",
      "    anyMissing, rowMedians\n",
      "\n",
      "\n",
      "\n",
      "Attaching package: 'DelayedArray'\n",
      "\n",
      "\n",
      "The following objects are masked from 'package:matrixStats':\n",
      "\n",
      "    colMaxs, colMins, colRanges, rowMaxs, rowMins, rowRanges\n",
      "\n",
      "\n",
      "The following objects are masked from 'package:base':\n",
      "\n",
      "    aperm, apply, rowsum\n",
      "\n",
      "\n",
      "Warning message:\n",
      "\"package 'data.table' was built under R version 4.0.3\"\n",
      "\n",
      "Attaching package: 'data.table'\n",
      "\n",
      "\n",
      "The following object is masked from 'package:SummarizedExperiment':\n",
      "\n",
      "    shift\n",
      "\n",
      "\n",
      "The following object is masked from 'package:GenomicRanges':\n",
      "\n",
      "    shift\n",
      "\n",
      "\n",
      "The following object is masked from 'package:IRanges':\n",
      "\n",
      "    shift\n",
      "\n",
      "\n",
      "The following objects are masked from 'package:S4Vectors':\n",
      "\n",
      "    first, second\n",
      "\n",
      "\n",
      "Warning message:\n",
      "\"package 'WGCNA' was built under R version 4.0.4\"\n",
      "Loading required package: dynamicTreeCut\n",
      "\n",
      "Loading required package: fastcluster\n",
      "\n",
      "\n",
      "Attaching package: 'fastcluster'\n",
      "\n",
      "\n",
      "The following object is masked from 'package:stats':\n",
      "\n",
      "    hclust\n",
      "\n",
      "\n",
      "\n",
      "\n",
      "\n",
      "Attaching package: 'WGCNA'\n",
      "\n",
      "\n",
      "The following object is masked from 'package:IRanges':\n",
      "\n",
      "    cor\n",
      "\n",
      "\n",
      "The following object is masked from 'package:S4Vectors':\n",
      "\n",
      "    cor\n",
      "\n",
      "\n",
      "The following object is masked from 'package:stats':\n",
      "\n",
      "    cor\n",
      "\n",
      "\n",
      "Loading required package: mgcv\n",
      "\n",
      "Loading required package: nlme\n",
      "\n",
      "\n",
      "Attaching package: 'nlme'\n",
      "\n",
      "\n",
      "The following object is masked from 'package:IRanges':\n",
      "\n",
      "    collapse\n",
      "\n",
      "\n",
      "This is mgcv 1.8-31. For overview type 'help(\"mgcv-package\")'.\n",
      "\n",
      "Loading required package: genefilter\n",
      "\n",
      "\n",
      "Attaching package: 'genefilter'\n",
      "\n",
      "\n",
      "The following objects are masked from 'package:matrixStats':\n",
      "\n",
      "    rowSds, rowVars\n",
      "\n",
      "\n",
      "Loading required package: BiocParallel\n",
      "\n",
      "Warning message:\n",
      "\"package 'pamr' was built under R version 4.0.5\"\n",
      "Loading required package: cluster\n",
      "\n",
      "Loading required package: survival\n",
      "\n",
      "Warning message:\n",
      "\"package 'survival' was built under R version 4.0.5\"\n",
      "\n",
      "Attaching package: 'limma'\n",
      "\n",
      "\n",
      "The following object is masked from 'package:BiocGenerics':\n",
      "\n",
      "    plotMA\n",
      "\n",
      "\n"
     ]
    }
   ],
   "source": [
    "library(spqn)\n",
    "library(data.table)\n",
    "library(WGCNA)\n",
    "\n",
    "library(sva)\n",
    "library(bladderbatch)\n",
    "data(bladderdata)\n",
    "library(pamr)\n",
    "library(limma)\n",
    "\n",
    "setwd(\n",
    "  \"C:\\\\Users\\\\jorda\\\\Desktop\\\\projects\\\\Metaboverse-manuscript\\\\mct1_analysis\")"
   ]
  },
  {
   "cell_type": "code",
   "execution_count": 2,
   "id": "7b7c52ee",
   "metadata": {},
   "outputs": [],
   "source": [
    "n_comps <- 4"
   ]
  },
  {
   "cell_type": "markdown",
   "id": "03bab351",
   "metadata": {},
   "source": [
    "<a id=\"data\"><h3>Part 1: Import data</h3></a>\n",
    "1. Read data \n",
    "2. Previously removed gene rows where min value was not 25 or greater\n",
    "3. Previously performed TPM normalization of gene counts"
   ]
  },
  {
   "cell_type": "code",
   "execution_count": 3,
   "id": "12c9e031",
   "metadata": {},
   "outputs": [],
   "source": [
    "# Read data \n",
    "# Removed gene rows where min value was not 25 or greater\n",
    "# Performed TPM normalization of gene counts\n",
    "\n",
    "exp_name <- \"refine_bio_all\"\n",
    "#exp_name <- \"refine_bio_wt\"\n",
    "\n",
    "\n",
    "input_file <- paste(\"data/\", exp_name, \".tsv\", sep=\"\")\n",
    "output_file <- paste(\"data/\", exp_name, \"_spqn_cor.tsv\", sep=\"\")\n",
    "\n",
    "counts <- read.table(\n",
    "  input_file, \n",
    "  sep=\"\\t\", \n",
    "  header=TRUE, \n",
    "  row.names=\"X\")"
   ]
  },
  {
   "cell_type": "markdown",
   "id": "a01ad9ea",
   "metadata": {},
   "source": [
    "<a id=\"SpQN\"><h3>Part 2: Perform SpQN normalization</h3></a>"
   ]
  },
  {
   "cell_type": "markdown",
   "id": "6aafdc90",
   "metadata": {},
   "source": [
    "**1. Pre-process data**"
   ]
  },
  {
   "cell_type": "code",
   "execution_count": 4,
   "id": "1f325768",
   "metadata": {},
   "outputs": [],
   "source": [
    "log_data <- log2(counts + 0.5)\n",
    "ave_log_data <- rowMeans(log_data)\n",
    "log_data_centered <- log_data - ave_log_data # mean centering\n",
    "log_data_centered  <- log_data_centered / matrixStats::rowSds(\n",
    "  as.matrix(log_data_centered)) # variance scaling"
   ]
  },
  {
   "cell_type": "markdown",
   "id": "d4f65f98",
   "metadata": {},
   "source": [
    "**2. Remove principle components**"
   ]
  },
  {
   "cell_type": "code",
   "execution_count": 5,
   "id": "a95fd994",
   "metadata": {},
   "outputs": [],
   "source": [
    "# Remove PCs (4) from the gene expression matrix after scaling each gene to \n",
    "# have mean=0 and variance=1\n",
    "log_data_pc4 <- removePrincipalComponents(\n",
    "  t(scale(t(log_data_centered))), \n",
    "  n = n_comps)"
   ]
  },
  {
   "cell_type": "markdown",
   "id": "8ba2268f",
   "metadata": {},
   "source": [
    "**3. Perform base correlation of pre-processed data**"
   ]
  },
  {
   "cell_type": "code",
   "execution_count": 6,
   "id": "4e128219",
   "metadata": {},
   "outputs": [],
   "source": [
    "cor_m <- cor(t(log_data_pc4))"
   ]
  },
  {
   "cell_type": "markdown",
   "id": "ca3078b8",
   "metadata": {},
   "source": [
    "**4. Re-arrrange the correlation matrix into 10x10 bins and plot**"
   ]
  },
  {
   "cell_type": "code",
   "execution_count": 7,
   "id": "90a9079c",
   "metadata": {},
   "outputs": [
    {
     "name": "stderr",
     "output_type": "stream",
     "text": [
      "Picking joint bandwidth of 0.0101\n",
      "\n",
      "Warning message:\n",
      "\"Continuous limits supplied to discrete scale.\n",
      "Did you mean `limits = factor(...)` or `scale_*_continuous()`?\"\n",
      "Picking joint bandwidth of 0.0126\n",
      "\n"
     ]
    },
    {
     "data": {
      "image/png": "[encoded data removed]",
      "text/plain": [
       "plot without title"
      ]
     },
     "metadata": {
      "image/png": {
       "height": 420,
       "width": 420
      }
     },
     "output_type": "display_data"
    },
    {
     "data": {
      "image/png": "[encoded data removed]",
      "text/plain": [
       "plot without title"
      ]
     },
     "metadata": {
      "image/png": {
       "height": 420,
       "width": 420
      }
     },
     "output_type": "display_data"
    }
   ],
   "source": [
    "# we re-arrrange the correlation matrix by sortng the row and column by the \n",
    "# expression level, and partitioned the correlation matrix into same-size bins, \n",
    "# then used each bin to estimate the distribution of correlation for genes with \n",
    "# that expression level. Here we use 10 by 10 bins.\n",
    "# The second plot will show that high-expressed genes' correlation is \n",
    "# skewed high\n",
    "plot_signal_condition_exp(cor_m, ave_log_data, signal=0)\n",
    "plot_signal_condition_exp(cor_m, ave_log_data, signal=0.001)"
   ]
  },
  {
   "cell_type": "markdown",
   "id": "8729af06",
   "metadata": {},
   "source": [
    "**5. Plot marginal relationship between IQR of correlation and expression level of the lower expression group for each bin**"
   ]
  },
  {
   "cell_type": "code",
   "execution_count": 8,
   "id": "8a6bdc84",
   "metadata": {},
   "outputs": [
    {
     "data": {
      "image/png": "[encoded data removed]",
      "text/plain": [
       "plot without title"
      ]
     },
     "metadata": {
      "image/png": {
       "height": 420,
       "width": 420
      }
     },
     "output_type": "display_data"
    }
   ],
   "source": [
    "# We next plot the marginal relationship between IQR of correlation and the \n",
    "# expression level of the lower expression group for each bin, and we also see \n",
    "# a positive relationship.\n",
    "IQR_list <- get_IQR_condition_exp(cor_m, ave_log_data)\n",
    "IQR_unlist <- unlist(lapply(1:10, function(ii) IQR_list$IQR_cor_mat[ii, ii:10]))\n",
    "plot(rep(IQR_list$grp_mean, times = 1:10),\n",
    "     IQR_unlist,\n",
    "     xlab=\"min(average(log2TPM))\", ylab=\"IQR\", cex.lab=1.5, cex.axis=1.2, col=\"blue\")"
   ]
  },
  {
   "cell_type": "markdown",
   "id": "6d9dd3c3",
   "metadata": {},
   "source": [
    "**6. Q-Q plot of original data**"
   ]
  },
  {
   "cell_type": "code",
   "execution_count": 9,
   "id": "bb45d0cb",
   "metadata": {},
   "outputs": [
    {
     "data": {
      "image/png": "[encoded data removed]",
      "text/plain": [
       "plot without title"
      ]
     },
     "metadata": {
      "image/png": {
       "height": 420,
       "width": 420
      }
     },
     "output_type": "display_data"
    }
   ],
   "source": [
    "# We further examined the difference of the distributions using Q-Q plot. We \n",
    "# used the bins with the second highest expression level on the diagonal as \n",
    "# reference, and compared the distribution with other bins in the diagonal. We \n",
    "# observe both scale and shape difference in the distributions.\n",
    "par(mfrow = c(3,3))\n",
    "for(j in c(1:8,10)){\n",
    "  qqplot_condition_exp(cor_m, ave_log_data, j, j)\n",
    "}"
   ]
  },
  {
   "cell_type": "markdown",
   "id": "9755dd34",
   "metadata": {},
   "source": [
    "**7. SPQN normalization**"
   ]
  },
  {
   "cell_type": "code",
   "execution_count": 10,
   "id": "1164f76f",
   "metadata": {},
   "outputs": [],
   "source": [
    "cor_m_spqn <- normalize_correlation(\n",
    "  cor_m, \n",
    "  ave_exp=ave_log_data, \n",
    "  ngrp=20, \n",
    "  size_grp=300, \n",
    "  ref_grp=18)"
   ]
  },
  {
   "cell_type": "markdown",
   "id": "8c78b157",
   "metadata": {},
   "source": [
    "**8. Re-arrrange the corrected correlation matrix into 10x10 bins and plot**"
   ]
  },
  {
   "cell_type": "code",
   "execution_count": 11,
   "id": "0ea96e4b",
   "metadata": {},
   "outputs": [
    {
     "name": "stderr",
     "output_type": "stream",
     "text": [
      "Picking joint bandwidth of 0.012\n",
      "\n",
      "Warning message:\n",
      "\"Continuous limits supplied to discrete scale.\n",
      "Did you mean `limits = factor(...)` or `scale_*_continuous()`?\"\n",
      "Picking joint bandwidth of 0.0115\n",
      "\n"
     ]
    },
    {
     "data": {
      "image/png": "[encoded data removed]",
      "text/plain": [
       "plot without title"
      ]
     },
     "metadata": {
      "image/png": {
       "height": 420,
       "width": 420
      }
     },
     "output_type": "display_data"
    },
    {
     "data": {
      "image/png": "[encoded data removed]",
      "text/plain": [
       "plot without title"
      ]
     },
     "metadata": {
      "image/png": {
       "height": 420,
       "width": 420
      }
     },
     "output_type": "display_data"
    }
   ],
   "source": [
    "# Distribution of predicted signals and background correlations for bins on the \n",
    "# diagonal of the correlation matrix.\n",
    "# Note: Signal becomes more uniform\n",
    "plot_signal_condition_exp(cor_m_spqn, ave_log_data, signal=0)\n",
    "plot_signal_condition_exp(cor_m_spqn, ave_log_data, signal=0.001)\n",
    "\n",
    "IQR_spqn_list <- get_IQR_condition_exp(cor_m_spqn, ave_log_data)"
   ]
  },
  {
   "cell_type": "markdown",
   "id": "ceed5c02",
   "metadata": {},
   "source": [
    "**9. Q-Q plot of corrected data**"
   ]
  },
  {
   "cell_type": "code",
   "execution_count": 12,
   "id": "29ee92f3",
   "metadata": {},
   "outputs": [
    {
     "data": {
      "image/png": "[encoded data removed]",
      "text/plain": [
       "plot without title"
      ]
     },
     "metadata": {
      "image/png": {
       "height": 420,
       "width": 420
      }
     },
     "output_type": "display_data"
    }
   ],
   "source": [
    "# Q-Q plots\n",
    "par(mfrow = c(3,3))\n",
    "for(j in c(1:8,10)){\n",
    "  qqplot_condition_exp(cor_m_spqn, ave_log_data, j, j)\n",
    "}"
   ]
  },
  {
   "cell_type": "markdown",
   "id": "51dfe9d7",
   "metadata": {},
   "source": [
    "**10. Plot IQR-expression level relationship of corrected data**"
   ]
  },
  {
   "cell_type": "code",
   "execution_count": 13,
   "id": "ba2b3229",
   "metadata": {},
   "outputs": [
    {
     "data": {
      "image/png": "[encoded data removed]",
      "text/plain": [
       "plot without title"
      ]
     },
     "metadata": {
      "image/png": {
       "height": 420,
       "width": 420
      }
     },
     "output_type": "display_data"
    }
   ],
   "source": [
    "# Marginal relationship between IQR and the expression level of the lower \n",
    "# expressed group for each bin.\n",
    "IQR_unlist <- unlist(lapply(1:10, function(ii) IQR_spqn_list$IQR_cor_mat[ii, ii:10]))\n",
    "plot(rep(IQR_spqn_list$grp_mean, times = 1:10),\n",
    "     IQR_unlist,\n",
    "     xlab=\"min(average(log2TPM))\", ylab=\"IQR\", cex.lab=1.5, cex.axis=1.2, col=\"blue\")"
   ]
  },
  {
   "cell_type": "markdown",
   "id": "c525f0b3",
   "metadata": {},
   "source": [
    "<a id=\"export\"><h3>Part 3: Export corrected data</h3></a>"
   ]
  },
  {
   "cell_type": "code",
   "execution_count": 14,
   "id": "77fa97e3",
   "metadata": {},
   "outputs": [],
   "source": [
    "# Add gene names to row and col names\n",
    "row.names(cor_m_spqn) <- row.names(cor_m)\n",
    "colnames(cor_m_spqn) <- colnames(cor_m)"
   ]
  },
  {
   "cell_type": "code",
   "execution_count": 15,
   "id": "be4c0514",
   "metadata": {},
   "outputs": [],
   "source": [
    "# Output results\n",
    "write.table(\n",
    "  cor_m_spqn, \n",
    "  file=output_file, \n",
    "  row.names=TRUE, \n",
    "  col.names=TRUE,\n",
    "  sep=\"\\t\")"
   ]
  },
  {
   "cell_type": "markdown",
   "id": "a9f138c6",
   "metadata": {},
   "source": [
    "<a id=\"session\"><h3>Part 4: Print session info</h3></a>"
   ]
  },
  {
   "cell_type": "code",
   "execution_count": 16,
   "id": "fb131a90",
   "metadata": {},
   "outputs": [
    {
     "data": {
      "text/plain": [
       "R version 4.0.2 (2020-06-22)\n",
       "Platform: x86_64-w64-mingw32/x64 (64-bit)\n",
       "Running under: Windows 10 x64 (build 19042)\n",
       "\n",
       "Matrix products: default\n",
       "\n",
       "locale:\n",
       "[1] LC_COLLATE=English_United States.1252 \n",
       "[2] LC_CTYPE=English_United States.1252   \n",
       "[3] LC_MONETARY=English_United States.1252\n",
       "[4] LC_NUMERIC=C                          \n",
       "[5] LC_TIME=English_United States.1252    \n",
       "\n",
       "attached base packages:\n",
       "[1] parallel  stats4    stats     graphics  grDevices utils     datasets \n",
       "[8] methods   base     \n",
       "\n",
       "other attached packages:\n",
       " [1] limma_3.44.3                pamr_1.56.1                \n",
       " [3] survival_3.2-11             cluster_2.1.0              \n",
       " [5] bladderbatch_1.26.0         sva_3.36.0                 \n",
       " [7] BiocParallel_1.22.0         genefilter_1.70.0          \n",
       " [9] mgcv_1.8-31                 nlme_3.1-148               \n",
       "[11] WGCNA_1.70-3                fastcluster_1.1.25         \n",
       "[13] dynamicTreeCut_1.63-1       data.table_1.13.6          \n",
       "[15] spqn_1.0.0                  SummarizedExperiment_1.18.2\n",
       "[17] DelayedArray_0.14.1         matrixStats_0.58.0         \n",
       "[19] Biobase_2.48.0              GenomicRanges_1.40.0       \n",
       "[21] GenomeInfoDb_1.24.2         IRanges_2.22.2             \n",
       "[23] S4Vectors_0.26.1            BiocGenerics_0.34.0        \n",
       "[25] ggridges_0.5.3              ggplot2_3.3.3              \n",
       "\n",
       "loaded via a namespace (and not attached):\n",
       " [1] bitops_1.0-7           bit64_4.0.5            doParallel_1.0.16     \n",
       " [4] RColorBrewer_1.1-2     repr_1.1.3             tools_4.0.2           \n",
       " [7] backports_1.2.1        utf8_1.2.1             R6_2.5.0              \n",
       "[10] rpart_4.1-15           Hmisc_4.5-0            DBI_1.1.1             \n",
       "[13] colorspace_2.0-0       nnet_7.3-14            withr_2.4.2           \n",
       "[16] tidyselect_1.1.0       gridExtra_2.3          preprocessCore_1.50.0 \n",
       "[19] bit_4.0.4              compiler_4.0.2         htmlTable_2.1.0       \n",
       "[22] labeling_0.4.2         scales_1.1.1           checkmate_2.0.0       \n",
       "[25] pbdZMQ_0.3-5           stringr_1.4.0          digest_0.6.27         \n",
       "[28] foreign_0.8-80         XVector_0.28.0         base64enc_0.1-3       \n",
       "[31] jpeg_0.1-8.1           pkgconfig_2.0.3        htmltools_0.5.1.1     \n",
       "[34] fastmap_1.1.0          htmlwidgets_1.5.3      rlang_0.4.10          \n",
       "[37] rstudioapi_0.13        RSQLite_2.2.7          impute_1.62.0         \n",
       "[40] farver_2.1.0           generics_0.1.0         jsonlite_1.7.2        \n",
       "[43] dplyr_1.0.5            RCurl_1.98-1.3         magrittr_2.0.1        \n",
       "[46] GO.db_3.11.4           GenomeInfoDbData_1.2.3 Formula_1.2-4         \n",
       "[49] Matrix_1.3-4           Rcpp_1.0.7             IRkernel_1.1.1        \n",
       "[52] munsell_0.5.0          fansi_0.4.2            lifecycle_1.0.0       \n",
       "[55] edgeR_3.30.3           stringi_1.5.3          zlibbioc_1.34.0       \n",
       "[58] plyr_1.8.6             grid_4.0.2             blob_1.2.1            \n",
       "[61] crayon_1.4.1           lattice_0.20-41        IRdisplay_1.0         \n",
       "[64] splines_4.0.2          annotate_1.66.0        locfit_1.5-9.4        \n",
       "[67] knitr_1.33             pillar_1.6.0           uuid_0.1-4            \n",
       "[70] codetools_0.2-16       XML_3.99-0.6           glue_1.4.2            \n",
       "[73] evaluate_0.14          latticeExtra_0.6-29    vctrs_0.3.6           \n",
       "[76] png_0.1-7              foreach_1.5.1          gtable_0.3.0          \n",
       "[79] purrr_0.3.4            assertthat_0.2.1       cachem_1.0.4          \n",
       "[82] xfun_0.22              xtable_1.8-4           tibble_3.0.6          \n",
       "[85] iterators_1.0.13       AnnotationDbi_1.50.3   memoise_2.0.0         \n",
       "[88] ellipsis_0.3.1        "
      ]
     },
     "metadata": {},
     "output_type": "display_data"
    }
   ],
   "source": [
    "sessionInfo()"
   ]
  },
  {
   "cell_type": "code",
   "execution_count": null,
   "id": "b3022031",
   "metadata": {},
   "outputs": [],
   "source": []
  },
  {
   "cell_type": "code",
   "execution_count": null,
   "id": "056118c0",
   "metadata": {},
   "outputs": [],
   "source": []
  }
 ],
 "metadata": {
  "kernelspec": {
   "display_name": "R",
   "language": "R",
   "name": "ir"
  },
  "language_info": {
   "codemirror_mode": "r",
   "file_extension": ".r",
   "mimetype": "text/x-r-source",
   "name": "R",
   "pygments_lexer": "r",
   "version": "4.0.2"
  }
 },
 "nbformat": 4,
 "nbformat_minor": 5
}
