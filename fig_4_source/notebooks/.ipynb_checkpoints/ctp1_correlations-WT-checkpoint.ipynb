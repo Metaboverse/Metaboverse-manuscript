{
 "cells": [
  {
   "cell_type": "markdown",
   "id": "6623392c",
   "metadata": {},
   "source": [
    "# CTP1 correlation analysis\n",
    "Purpose: determine correlative effects between CTP1 and other genes\n",
    "\n",
    "## Table of Contents\n",
    "\n",
    "<h4>Import dependencies & custom functions</h4>\n",
    "<h4>Part 0: Read in gene lists for analysis</h4>"
   ]
  },
  {
   "cell_type": "markdown",
   "id": "58612e7d",
   "metadata": {},
   "source": [
    "### Import dependencies & custom functions"
   ]
  },
  {
   "cell_type": "code",
   "execution_count": 13,
   "id": "9d93c378",
   "metadata": {},
   "outputs": [],
   "source": [
    "import os\n",
    "import sys\n",
    "import ast\n",
    "\n",
    "import json\n",
    "import scipy\n",
    "import random\n",
    "import numpy as np\n",
    "import pandas as pd\n",
    "import matplotlib\n",
    "import matplotlib.pyplot as plt\n",
    "import seaborn as sns\n",
    "import xpressplot as xp\n",
    "import networkx as nx\n",
    "from networkx.readwrite import json_graph\n",
    "\n",
    "sns.set(font='arial')\n",
    "sns.set(font_scale=float(.1))\n",
    "jakes_cmap = sns.diverging_palette(212, 61, s=99, l=77, sep=1, n=16, center='dark') #Custom aesthetics\n",
    "\n",
    "from py_funcs import \\\n",
    "    read_table, \\\n",
    "    parse_genelist, \\\n",
    "    g_decompress, \\\n",
    "    make_gene_dict, \\\n",
    "    get_quantiles, \\\n",
    "    read_corr_data, \\\n",
    "    get_graph, \\\n",
    "    output_graph, \\\n",
    "    read_graph, \\\n",
    "    make_subgraph, \\\n",
    "    make_hist_gene, \\\n",
    "    make_clustermap\n",
    "\n",
    "from combat import combat\n",
    "\n",
    "__path__ = os.getcwd()\n",
    "\n",
    "%matplotlib inline"
   ]
  },
  {
   "cell_type": "code",
   "execution_count": 14,
   "id": "ca251788",
   "metadata": {},
   "outputs": [],
   "source": [
    "_seed = 4000\n",
    "random.seed(_seed)"
   ]
  },
  {
   "cell_type": "markdown",
   "id": "ed363e01",
   "metadata": {},
   "source": [
    "### Part 0: Read in custom gene lists for analysis"
   ]
  },
  {
   "cell_type": "code",
   "execution_count": 15,
   "id": "125ca850",
   "metadata": {},
   "outputs": [],
   "source": [
    "query_name = 'CTP1'\n",
    "query_id = 'YBR291C'\n",
    "\n",
    "query_name2 = 'MCT1'\n",
    "query_id2 = 'YOR221C'\n",
    "\n",
    "custom_list = {\n",
    "    query_name: query_id,\n",
    "    query_name2: query_id2,\n",
    "    \"Mae1\": \"YKL029C\",\n",
    "    \"Pyc1\": \"YGL062W\",\n",
    "    \"Pyc2\": \"YBR218C\",\n",
    "    \"Cit2\": \"YCR005C\",\n",
    "    \"Cit3\": \"YPR001W\",\n",
    "    \"GDH1\": \"GDH1\",\n",
    "    \"Gdh2\": \"YDL215C\",\n",
    "    \"DLD1\": \"DLD1\",\n",
    "    \"DLD3\": \"DLD3\",\n",
    "}"
   ]
  },
  {
   "cell_type": "code",
   "execution_count": 16,
   "id": "cd56f9df",
   "metadata": {},
   "outputs": [
    {
     "name": "stdout",
     "output_type": "stream",
     "text": [
      "Making gene dict\n"
     ]
    },
    {
     "ename": "TypeError",
     "evalue": "make_gene_dict() takes 0 positional arguments but 1 was given",
     "output_type": "error",
     "traceback": [
      "\u001b[1;31m---------------------------------------------------------------------------\u001b[0m",
      "\u001b[1;31mTypeError\u001b[0m                                 Traceback (most recent call last)",
      "\u001b[1;32m<ipython-input-16-cbd2937a8f4d>\u001b[0m in \u001b[0;36m<module>\u001b[1;34m\u001b[0m\n\u001b[0;32m      1\u001b[0m \u001b[0mprint\u001b[0m\u001b[1;33m(\u001b[0m\u001b[1;34m'Making gene dict'\u001b[0m\u001b[1;33m)\u001b[0m\u001b[1;33m\u001b[0m\u001b[1;33m\u001b[0m\u001b[0m\n\u001b[1;32m----> 2\u001b[1;33m \u001b[0mgene_dict\u001b[0m \u001b[1;33m=\u001b[0m \u001b[0mmake_gene_dict\u001b[0m\u001b[1;33m(\u001b[0m\u001b[0m__path__\u001b[0m\u001b[1;33m)\u001b[0m\u001b[1;33m\u001b[0m\u001b[1;33m\u001b[0m\u001b[0m\n\u001b[0m",
      "\u001b[1;31mTypeError\u001b[0m: make_gene_dict() takes 0 positional arguments but 1 was given"
     ]
    }
   ],
   "source": [
    "print('Making gene dict')\n",
    "gene_dict = make_gene_dict(__path__)"
   ]
  },
  {
   "cell_type": "markdown",
   "id": "06f065ac",
   "metadata": {},
   "source": [
    "### Part 1: Correlation analysis for mct1 RNA-seq data\n",
    "**1. Download and make `Saccharomyces_cerevisiae.R64-1-1.103.gtf.gz` accessible in the appropriate directory**"
   ]
  },
  {
   "cell_type": "code",
   "execution_count": null,
   "id": "bbb86019",
   "metadata": {},
   "outputs": [],
   "source": [
    "yeast_gtf = read_table(\n",
    "    url=os.path.join(\n",
    "        __path__,\n",
    "        \"..\",\n",
    "        \"data\",\n",
    "        \"analysis_lists\",\n",
    "        \"Saccharomyces_cerevisiae.R64-1-1.103.gtf.gz\"),\n",
    "    index_col=None,\n",
    "    header=None,\n",
    "    comment='#'\n",
    ")\n",
    "\n",
    "g_decompress(\n",
    "    path=os.path.join(\n",
    "        __path__,\n",
    "        \"..\",\n",
    "        \"data\",\n",
    "        \"analysis_lists\"),\n",
    "    file=\"Saccharomyces_cerevisiae.R64-1-1.103.gtf.gz\",\n",
    "    output=\"Saccharomyces_cerevisiae.R64-1-1.103.gtf\"\n",
    ")"
   ]
  },
  {
   "cell_type": "markdown",
   "id": "90f3413e",
   "metadata": {},
   "source": [
    "**2. Import WT data**"
   ]
  },
  {
   "cell_type": "code",
   "execution_count": null,
   "id": "f7b9030c",
   "metadata": {},
   "outputs": [],
   "source": [
    "# mct1-del vs WT\n",
    "mct1_rnaseq = read_table(\n",
    "    url=os.path.join(\n",
    "        __path__,\n",
    "        \"..\",\n",
    "        \"data\",\n",
    "        \"mct1_rnaseq_data\",\n",
    "        \"sce_mct1_deduped_count_table.tsv\")\n",
    ")\n",
    "mct1_metadata = read_table(\n",
    "    url=os.path.join(\n",
    "        __path__,\n",
    "        \"..\",\n",
    "        \"data\",\n",
    "        \"mct1_rnaseq_data\",\n",
    "        \"sce_mct1_metadata.txt\"),\n",
    "    index_col=False\n",
    ")\n",
    "\n",
    "# mct1-del vs sit4-del vs WT\n",
    "mct1_sit4_rnaseq = read_table(\n",
    "    url=os.path.join(\n",
    "        __path__,\n",
    "        \"..\",\n",
    "        \"data\",\n",
    "        \"mct1_rnaseq_data\",\n",
    "        \"mct1_sit4_counts_compiled.txt\")\n",
    ")\n",
    "mct1_sit4_metadata = read_table(\n",
    "    url=os.path.join(\n",
    "        __path__,\n",
    "        \"..\",\n",
    "        \"data\",\n",
    "        \"mct1_rnaseq_data\",\n",
    "        \"yeyun_18607R_metadata.txt\")\n",
    ")\n",
    "\n",
    "print(mct1_rnaseq.shape)\n",
    "print(mct1_sit4_rnaseq.shape)"
   ]
  },
  {
   "cell_type": "markdown",
   "id": "2e426a58",
   "metadata": {},
   "source": [
    "**3. Join counts tables and metadata**"
   ]
  },
  {
   "cell_type": "code",
   "execution_count": null,
   "id": "357518dd",
   "metadata": {},
   "outputs": [],
   "source": [
    "merged_df = pd.concat([mct1_rnaseq, mct1_sit4_rnaseq],axis=1)\n",
    "merged_df = merged_df.dropna()\n",
    "print(merged_df.shape)"
   ]
  },
  {
   "cell_type": "code",
   "execution_count": null,
   "id": "a7d24b53",
   "metadata": {},
   "outputs": [],
   "source": [
    "mct1_metadata['Sample'] = mct1_metadata['Unnamed: 0']\n",
    "mct1_metadata['Batch'] = \"1\"\n",
    "\n",
    "mct1_sit4_metadata['Sample'] = mct1_sit4_metadata['ID']\n",
    "mct1_sit4_metadata['Batch'] = \"2\"\n",
    "\n",
    "merged_metadata = pd.concat([mct1_metadata[['Sample', 'Batch']], mct1_sit4_metadata[['Sample', 'Batch']]], axis=0)\n",
    "merged_metadata.index = merged_metadata[\"Sample\"]"
   ]
  },
  {
   "cell_type": "markdown",
   "id": "891fa10f",
   "metadata": {},
   "source": [
    "**4. Get sample IDs for non-mct1-del**"
   ]
  },
  {
   "cell_type": "code",
   "execution_count": null,
   "id": "39acfc1d",
   "metadata": {},
   "outputs": [],
   "source": [
    "mct1_names = mct1_metadata[['Unnamed: 0', 'Genotype']].loc[\n",
    "    ~mct1_metadata[['Unnamed: 0', 'Genotype']]['Genotype'].str.contains('mct1')]['Unnamed: 0'].tolist()\n",
    "mct1_sit4_names = mct1_sit4_metadata[['ID', 'Sample Name']].loc[\n",
    "~mct1_sit4_metadata[['ID', 'Sample Name']]['Sample Name'].str.contains('mct1')]['ID'].tolist()\n",
    "\n",
    "sample_ids = mct1_names + mct1_sit4_names\n",
    "\n",
    "merged_df = merged_df[sample_ids]\n",
    "print(merged_df.shape)\n",
    "\n",
    "merged_metadata = merged_metadata.loc[sample_ids]\n",
    "print(merged_metadata.shape)"
   ]
  },
  {
   "cell_type": "markdown",
   "id": "d80b512a",
   "metadata": {},
   "source": [
    "**5. Drop genes where min is less than 25**"
   ]
  },
  {
   "cell_type": "code",
   "execution_count": null,
   "id": "58bf40d5",
   "metadata": {},
   "outputs": [],
   "source": [
    "merged_df_cutoff = merged_df.loc[merged_df.min(axis=1) > 25]\n",
    "\n",
    "print(merged_df_cutoff.shape[0], 'genes,', merged_df_cutoff.shape[1], 'samples')"
   ]
  },
  {
   "cell_type": "markdown",
   "id": "d3c25d9b",
   "metadata": {},
   "source": [
    "**6. Normalize**"
   ]
  },
  {
   "cell_type": "code",
   "execution_count": null,
   "id": "4d8dc053",
   "metadata": {},
   "outputs": [],
   "source": [
    "rnaseq_norm = xp.tpm(\n",
    "    data=merged_df_cutoff,\n",
    "    gtf=os.path.join(\n",
    "        __path__,\n",
    "        \"..\",\n",
    "        \"data\",\n",
    "        \"analysis_lists\",\n",
    "        \"Saccharomyces_cerevisiae.R64-1-1.103.gtf\"),\n",
    "    identifier='gene_id'\n",
    ")"
   ]
  },
  {
   "cell_type": "markdown",
   "id": "844a02f3",
   "metadata": {},
   "source": [
    "**7. Convert gene IDs to names**"
   ]
  },
  {
   "cell_type": "code",
   "execution_count": null,
   "id": "ba43e6e5",
   "metadata": {},
   "outputs": [],
   "source": [
    "rnaseq_norm = xp.convert_names(\n",
    "    rnaseq_norm, \n",
    "    os.path.join(\n",
    "        __path__,\n",
    "        \"..\",\n",
    "        \"data\",\n",
    "        \"analysis_lists\",\n",
    "        \"Saccharomyces_cerevisiae.R64-1-1.103.gtf.gz\"),\n",
    "    orig_name_label='gene_id',\n",
    "    orig_name_location=0,\n",
    "    new_name_label='gene_name',\n",
    "    new_name_location=1,\n",
    "    refill='source \"sgd'\n",
    ")"
   ]
  },
  {
   "cell_type": "markdown",
   "id": "4a170a6e",
   "metadata": {},
   "source": [
    "**8. Correct batch effects between datasets**\n",
    "- dat is the expression/methylation data.\n",
    "- batch is a list containing the batch variable"
   ]
  },
  {
   "cell_type": "code",
   "execution_count": null,
   "id": "8c101564",
   "metadata": {},
   "outputs": [],
   "source": [
    "ebat = combat(\n",
    "    rnaseq_norm, \n",
    "    merged_metadata[\"Batch\"])"
   ]
  },
  {
   "cell_type": "markdown",
   "id": "d13c7eb5",
   "metadata": {},
   "source": [
    "**9. Export data**"
   ]
  },
  {
   "cell_type": "code",
   "execution_count": null,
   "id": "84ecbe7b",
   "metadata": {},
   "outputs": [],
   "source": [
    "# prevent negative numbers for downstream SpQN normalization\n",
    "(ebat + 50).to_csv(\n",
    "    os.path.join(\n",
    "        __path__,\n",
    "        \"..\",\n",
    "        \"data\",\n",
    "        \"mct1_mct1sit4_rnaseq_tpm25.tsv\"),\n",
    "    sep=\"\\t\"\n",
    ")"
   ]
  },
  {
   "cell_type": "markdown",
   "id": "97ab7528",
   "metadata": {},
   "source": [
    "### Part 2: CTP1 correlation analysis for lab WT data"
   ]
  },
  {
   "cell_type": "markdown",
   "id": "4943fd1b",
   "metadata": {},
   "source": [
    "**1. Demonstrate p-value inflation in transcriptomics datasets**"
   ]
  },
  {
   "cell_type": "code",
   "execution_count": null,
   "id": "1f6c9450",
   "metadata": {},
   "outputs": [],
   "source": [
    "mct1_rnaseq_norm_c = ebat.copy()\n",
    "\n",
    "for i in mct1_rnaseq_norm_c.index.tolist():\n",
    "    r, p = scipy.stats.pearsonr(\n",
    "        x=ebat.loc[query_name].values,\n",
    "        y=ebat.loc[i].values)\n",
    "    \n",
    "    mct1_rnaseq_norm_c.at[i, \"pearson_r_ctp1\"] = r\n",
    "    mct1_rnaseq_norm_c.at[i, \"pearson_p_ctp1\"] = p\n",
    "    \n",
    "ax = mct1_rnaseq_norm_c['pearson_p_ctp1'].hist(bins=50)"
   ]
  },
  {
   "cell_type": "markdown",
   "id": "c60a0140",
   "metadata": {},
   "source": [
    "**2. CTP1 and anaplerotic gene correlations**"
   ]
  },
  {
   "cell_type": "code",
   "execution_count": null,
   "id": "e8f7fc65",
   "metadata": {},
   "outputs": [],
   "source": [
    "sns.set(font='arial')\n",
    "sns.set_style(\"whitegrid\")\n",
    "\n",
    "f, axes = plt.subplots(2, len(custom_list.keys()) + 1, figsize=(65,10), sharey=True)\n",
    "plt.gca().set_aspect('equal')\n",
    "\n",
    "counter = 0\n",
    "for k, v in custom_list.items():\n",
    "    sns.regplot(\n",
    "        x=ebat.T[k.upper()], \n",
    "        y=ebat.T[query_name], \n",
    "        seed=_seed, \n",
    "        ax=axes[0, counter],\n",
    "        scatter_kws={'alpha': 1, 'color': 'black'},\n",
    "        line_kws={\"color\": \"red\"}\n",
    "    )\n",
    "     \n",
    "    if counter == 0:\n",
    "        axes[0, counter].set_ylabel(query_name, fontsize = 20) # Y label\n",
    "    else:\n",
    "        axes[0, counter].set_ylabel(\"\", fontsize = 20) # Y label\n",
    "    axes[0, counter].set_xlabel(k.upper(), fontsize = 20) # X label\n",
    "    \n",
    "    axes[0, counter].tick_params(axis='both', which='major', labelsize=10)\n",
    "    axes[0, counter].tick_params(axis='both', which='minor', labelsize=8)\n",
    "    axes[0, counter].grid(False)\n",
    "    \n",
    "    counter += 1\n",
    "    \n",
    "f.savefig(\n",
    "    os.path.join(\n",
    "        __path__,\n",
    "        \"..\",\n",
    "        \"data\",\n",
    "        \"ctp1_anaplerotic_hits_lab-wt.svg\"),\n",
    "    bbox_inches=\"tight\")"
   ]
  },
  {
   "cell_type": "markdown",
   "id": "eecf6317",
   "metadata": {},
   "source": [
    "**3. Plot correlations of SpQN normalized lab yeast WT data**"
   ]
  },
  {
   "cell_type": "code",
   "execution_count": null,
   "id": "fafea9bd",
   "metadata": {},
   "outputs": [],
   "source": [
    "file_name = \"mct1_mct1sit4_rnaseq_tpm25_spqn_cor.tsv\"\n",
    "\n",
    "yeast_data = pd.read_csv(\n",
    "    os.path.join(\n",
    "        __path__,\n",
    "        \"..\",\n",
    "        \"data\",\n",
    "        file_name), \n",
    "    sep='\\t'\n",
    ")"
   ]
  },
  {
   "cell_type": "code",
   "execution_count": null,
   "id": "fad50ab6",
   "metadata": {},
   "outputs": [],
   "source": [
    "ctp1_yeast_list = yeast_data.loc[\"CTP1\"].loc[yeast_data.loc[\"CTP1\"] > 0.75].sort_values(ascending=False)"
   ]
  },
  {
   "cell_type": "code",
   "execution_count": null,
   "id": "84ecbc73",
   "metadata": {},
   "outputs": [],
   "source": [
    "for x in ctp1_yeast_list.index.tolist():\n",
    "    print(x)"
   ]
  },
  {
   "cell_type": "code",
   "execution_count": null,
   "id": "68360214",
   "metadata": {},
   "outputs": [],
   "source": [
    "sns.set(font='arial')\n",
    "sns.set_style(\"whitegrid\")\n",
    "\n",
    "f, axes = plt.subplots(4, 8, figsize=(35,20), sharey=True)\n",
    "plt.gca().set_aspect('equal')\n",
    "f.tight_layout()\n",
    "\n",
    "plt.subplots_adjust(hspace = 0.3)\n",
    "\n",
    "counter = 0\n",
    "y_counter = 0\n",
    "for k in ctp1_yeast_list.index.tolist():\n",
    "    sns.regplot(\n",
    "        x=ebat.T[k], \n",
    "        y=ebat.T[\"CTP1\"], \n",
    "        seed=_seed, ax=axes[y_counter, counter], \n",
    "        scatter_kws={'alpha': 1, 'color': 'black'},\n",
    "        line_kws={\"color\": \"red\"})\n",
    "     \n",
    "    if counter == 0:\n",
    "        axes[y_counter, counter].set_ylabel(\"CTP1\", fontsize = 20) # Y label\n",
    "    else:\n",
    "        axes[y_counter, counter].set_ylabel(\"\", fontsize = 20) # Y label\n",
    "    axes[y_counter, counter].set_xlabel(k, fontsize = 20) # X label\n",
    "    \n",
    "    axes[y_counter, counter].tick_params(axis='both', which='major', labelsize=10)\n",
    "    axes[y_counter, counter].tick_params(axis='both', which='minor', labelsize=8)\n",
    "    axes[y_counter, counter].grid(False)\n",
    "    \n",
    "    counter += 1\n",
    "    \n",
    "    if counter == 8:\n",
    "        counter = 0 \n",
    "        y_counter += 1\n",
    "        \n",
    "f.savefig(\n",
    "    os.path.join(\n",
    "        __path__,\n",
    "        \"..\",\n",
    "        \"data\",\n",
    "        \"ctp1_coexpression_hits_lab-wt.svg\"),\n",
    "    bbox_inches=\"tight\")"
   ]
  },
  {
   "cell_type": "code",
   "execution_count": null,
   "id": "a3433ea7",
   "metadata": {},
   "outputs": [],
   "source": []
  },
  {
   "cell_type": "code",
   "execution_count": null,
   "id": "fc09ab9c",
   "metadata": {},
   "outputs": [],
   "source": []
  },
  {
   "cell_type": "markdown",
   "id": "52d3fa4c",
   "metadata": {},
   "source": [
    "## refine.bio yeast data analysis"
   ]
  },
  {
   "cell_type": "code",
   "execution_count": null,
   "id": "812ef22f",
   "metadata": {},
   "outputs": [],
   "source": [
    "refine_path = os.path.join(\n",
    "    __path__,\n",
    "    \"..\",\n",
    "    \"data\",\n",
    "    \"refine.bio.yeast.all\")\n",
    "with open(\n",
    "        os.path.join(refine_path, 'aggregated_metadata.json'), 'r') as jsonfile:\n",
    "    metadata = json.load(jsonfile)"
   ]
  },
  {
   "cell_type": "code",
   "execution_count": null,
   "id": "427bea51",
   "metadata": {},
   "outputs": [],
   "source": [
    "tables = []\n",
    "for k in metadata['experiments'].keys():\n",
    "    file = os.path.join(refine_path, k, k + \".tsv\")\n",
    "    data = pd.read_csv(\n",
    "        file,\n",
    "        sep='\\t',\n",
    "        index_col=0\n",
    "    )\n",
    "    data.index.name = None\n",
    "    tables.append(data)\n",
    "agg_data = pd.concat(tables, axis=1)\n",
    "\n",
    "agg_data.to_csv(\n",
    "    os.path.join(\n",
    "        __path__,\n",
    "        \"..\",\n",
    "        \"data\",\n",
    "        \"refine_bio_all.tsv\"), \n",
    "    sep=\"\\t\")\n",
    "\n",
    "print(\"Data dimensions:\", agg_data.shape)"
   ]
  },
  {
   "cell_type": "code",
   "execution_count": null,
   "id": "97a4acb4",
   "metadata": {},
   "outputs": [],
   "source": []
  },
  {
   "cell_type": "code",
   "execution_count": null,
   "id": "bbd5e197",
   "metadata": {},
   "outputs": [],
   "source": []
  },
  {
   "cell_type": "code",
   "execution_count": null,
   "id": "1fa0ff56",
   "metadata": {},
   "outputs": [],
   "source": [
    "# WT strains cross-referenced with SGD, GEO, and EBI\n",
    "include_terms = [\n",
    "    'by4716',\n",
    "    'by4741',\n",
    "    'by4741 wild type',\n",
    "    'by4742',\n",
    "    'by4743',\n",
    "    'cbs7960',\n",
    "    'clib215',\n",
    "    'clib324',\n",
    "    'ec1118',\n",
    "    'pw5',\n",
    "    's288c',\n",
    "    'sk1',\n",
    "    'sls045 (diploid, s288c background)',\n",
    "    't7',\n",
    "    't73',\n",
    "    'w303',\n",
    "    'w303 wild-type',\n",
    "    'w303a',\n",
    "    'wide type',\n",
    "    'wild-type',\n",
    "    'wildtype',\n",
    "    'wt',\n",
    "    'wt by4742 (mata his3-delta-1 leu2-delta-0 lys2-delta-0 ura3-delta-0)',\n",
    "    'ztw1, a wild type strain'\n",
    "]\n",
    "\n",
    "s = []\n",
    "\n",
    "for k,v in metadata[\"samples\"].items():\n",
    "    if v[\"refinebio_cell_line\"] in include_terms:\n",
    "        s.append(k)\n",
    "        \n",
    "print(len(s), \"wild-type samples found\")\n",
    "\n",
    "agg_data_wt = agg_data[s]\n",
    "print(\"Data dimensions:\", agg_data_wt.shape)\n",
    "\n",
    "agg_data_wt.to_csv(\n",
    "    os.path.join(\n",
    "        __path__,\n",
    "        \"..\",\n",
    "        \"data\",\n",
    "        \"refine_bio_wt.tsv\"), \n",
    "    sep=\"\\t\")"
   ]
  },
  {
   "cell_type": "code",
   "execution_count": null,
   "id": "52422168",
   "metadata": {},
   "outputs": [],
   "source": []
  },
  {
   "cell_type": "code",
   "execution_count": null,
   "id": "8541094f",
   "metadata": {},
   "outputs": [],
   "source": []
  },
  {
   "cell_type": "markdown",
   "id": "4462f010",
   "metadata": {},
   "source": [
    "### Read corrected data "
   ]
  },
  {
   "cell_type": "markdown",
   "id": "3f1de2b9",
   "metadata": {},
   "source": [
    "#### WT data"
   ]
  },
  {
   "cell_type": "code",
   "execution_count": null,
   "id": "ed2f79d1",
   "metadata": {},
   "outputs": [],
   "source": [
    "file_name = \"refine_bio_wt_spqn_cor.tsv\"\n",
    "\n",
    "data = pd.read_csv(\n",
    "    os.path.join(\n",
    "        __path__,\n",
    "        \"..\",\n",
    "        \"data\",\n",
    "        file_name), \n",
    "    sep='\\t'\n",
    ")"
   ]
  },
  {
   "cell_type": "code",
   "execution_count": null,
   "id": "bc51357f",
   "metadata": {},
   "outputs": [],
   "source": [
    "ctp1_list = data.loc[\"YBR291C\"].loc[data.loc[\"YBR291C\"] > 0.5].sort_values(ascending=False)\n",
    "print(len(ctp1_list.index.tolist()), \"genes\\n\")\n",
    "for x in ctp1_list.index.tolist():\n",
    "    print(gene_dict[x])"
   ]
  },
  {
   "cell_type": "code",
   "execution_count": null,
   "id": "273efce8",
   "metadata": {},
   "outputs": [],
   "source": [
    "x_plots = 6\n",
    "y_plots = 7\n",
    "_figsize = (30,30)\n",
    "\n",
    "sns.set(font='arial')\n",
    "sns.set_style(\"whitegrid\")\n",
    "\n",
    "f, axes = plt.subplots(x_plots, y_plots, figsize=_figsize, sharey=True)\n",
    "plt.gca().set_aspect('equal')\n",
    "f.tight_layout()\n",
    "\n",
    "plt.subplots_adjust(hspace = 0.3)\n",
    "\n",
    "counter = 0\n",
    "y_counter = 0\n",
    "for k in ctp1_list.index.tolist()[0:47]:\n",
    "    sns.regplot(\n",
    "        x=agg_data_wt.T[k], \n",
    "        y=agg_data_wt.T[\"YBR291C\"], \n",
    "        seed=_seed, \n",
    "        ax=axes[y_counter, counter], \n",
    "        scatter_kws={'alpha': 0.1, 'color': 'black'},\n",
    "        line_kws={\"color\": \"red\"}\n",
    "    )\n",
    "    \n",
    "    \n",
    "    #agg_data_wt.T.plot.hexbin(\n",
    "    #    x=k, \n",
    "    #    y=\"YBR291C\", \n",
    "    #    gridsize=30, \n",
    "    #    ax=axes[y_counter, counter], \n",
    "    #    cmap=\"inferno\")\n",
    "\n",
    "    if counter == 0:\n",
    "        axes[y_counter, counter].set_ylabel(\"CTP1\", fontsize = 20) # Y label\n",
    "    else:\n",
    "        axes[y_counter, counter].set_ylabel(\"\", fontsize = 20) # Y label\n",
    "    axes[y_counter, counter].set_xlabel(gene_dict[k], fontsize = 20) # X label\n",
    "    \n",
    "    axes[y_counter, counter].tick_params(axis='both', which='major', labelsize=10)\n",
    "    axes[y_counter, counter].tick_params(axis='both', which='minor', labelsize=8)\n",
    "    axes[y_counter, counter].grid(False)\n",
    "    \n",
    "    counter += 1\n",
    "    \n",
    "    if counter == y_plots:\n",
    "        counter = 0 \n",
    "        y_counter += 1\n",
    "        \n",
    "f.savefig(\n",
    "    os.path.join(\n",
    "        __path__,\n",
    "        \"..\",\n",
    "        \"data\",\n",
    "        \"ctp1_coexpression_hits_wt.svg\"),\n",
    "    bbox_inches=\"tight\")"
   ]
  },
  {
   "cell_type": "code",
   "execution_count": null,
   "id": "a060cb47",
   "metadata": {},
   "outputs": [],
   "source": []
  },
  {
   "cell_type": "code",
   "execution_count": null,
   "id": "3bee8578",
   "metadata": {},
   "outputs": [],
   "source": []
  },
  {
   "cell_type": "markdown",
   "id": "258743b6",
   "metadata": {},
   "source": [
    "#### All data"
   ]
  },
  {
   "cell_type": "code",
   "execution_count": null,
   "id": "9f058ed3",
   "metadata": {},
   "outputs": [],
   "source": [
    "file_name = \"refine_bio_all_spqn_cor.tsv\"\n",
    "\n",
    "data = pd.read_csv(\n",
    "    os.path.join(\n",
    "        __path__,\n",
    "        \"..\",\n",
    "        \"data\",\n",
    "        file_name), \n",
    "    sep='\\t'\n",
    ")"
   ]
  },
  {
   "cell_type": "code",
   "execution_count": null,
   "id": "01670e91",
   "metadata": {},
   "outputs": [],
   "source": [
    "ctp1_list = data.loc[\"YBR291C\"].loc[data.loc[\"YBR291C\"] > 0.5].sort_values(ascending=False)\n",
    "print(len(ctp1_list.index.tolist()), \"genes\\n\")\n",
    "for x in ctp1_list.index.tolist():\n",
    "    print(gene_dict[x])"
   ]
  },
  {
   "cell_type": "code",
   "execution_count": null,
   "id": "7530eb4c",
   "metadata": {},
   "outputs": [],
   "source": [
    "x_plots = 6\n",
    "y_plots = 8\n",
    "_figsize = (35,30)\n",
    "\n",
    "sns.set(font='arial')\n",
    "sns.set_style(\"whitegrid\")\n",
    "\n",
    "f, axes = plt.subplots(x_plots, y_plots, figsize=_figsize, sharey=True)\n",
    "plt.gca().set_aspect('equal')\n",
    "f.tight_layout()\n",
    "\n",
    "plt.subplots_adjust(hspace = 0.3)\n",
    "\n",
    "counter = 0\n",
    "y_counter = 0\n",
    "for k in ctp1_list.index.tolist()[0:47]:\n",
    "    sns.regplot(\n",
    "        x=agg_data.T[k], \n",
    "        y=agg_data.T[\"YBR291C\"], \n",
    "        seed=_seed, \n",
    "        ax=axes[y_counter, counter], \n",
    "        scatter_kws={'alpha': 0.1, 'color': 'black'},\n",
    "        line_kws={\"color\": \"red\"})\n",
    "     \n",
    "    if counter == 0:\n",
    "        axes[y_counter, counter].set_ylabel(\"CTP1\", fontsize = 20) # Y label\n",
    "    else:\n",
    "        axes[y_counter, counter].set_ylabel(\"\", fontsize = 20) # Y label\n",
    "    axes[y_counter, counter].set_xlabel(gene_dict[k], fontsize = 20) # X label\n",
    "    \n",
    "    axes[y_counter, counter].tick_params(axis='both', which='major', labelsize=10)\n",
    "    axes[y_counter, counter].tick_params(axis='both', which='minor', labelsize=8)\n",
    "    axes[y_counter, counter].grid(False)\n",
    "    \n",
    "    counter += 1\n",
    "    \n",
    "    if counter == y_plots:\n",
    "        counter = 0 \n",
    "        y_counter += 1\n",
    "        \n",
    "f.savefig(\n",
    "    os.path.join(\n",
    "        __path__,\n",
    "        \"..\",\n",
    "        \"data\",\n",
    "        \"ctp1_coexpression_hits_all.svg\"),\n",
    "    bbox_inches=\"tight\")"
   ]
  },
  {
   "cell_type": "code",
   "execution_count": null,
   "id": "04533f5b",
   "metadata": {},
   "outputs": [],
   "source": []
  },
  {
   "cell_type": "code",
   "execution_count": null,
   "id": "52564c0c",
   "metadata": {},
   "outputs": [],
   "source": []
  },
  {
   "cell_type": "markdown",
   "id": "fd994f0c",
   "metadata": {},
   "source": [
    "#### GO enrichment"
   ]
  },
  {
   "cell_type": "code",
   "execution_count": null,
   "id": "0d685283",
   "metadata": {},
   "outputs": [],
   "source": [
    "ctp1_go = \"analysis-ctp1-lab-wt.txt\"\n",
    "\n",
    "ctp1_go_data = pd.read_csv(\n",
    "    os.path.join(\n",
    "        __path__,\n",
    "        \"..\",\n",
    "        \"data\",\n",
    "        ctp1_go),\n",
    "    sep=\"\\t\",\n",
    "    skiprows=11)\n"
   ]
  },
  {
   "cell_type": "code",
   "execution_count": null,
   "id": "2c98d44c",
   "metadata": {},
   "outputs": [],
   "source": [
    "# Manually remove redundant GO terms"
   ]
  },
  {
   "cell_type": "code",
   "execution_count": null,
   "id": "156d2be9",
   "metadata": {},
   "outputs": [],
   "source": [
    "ctp1_go_data['GO biological process complete'].tolist()"
   ]
  },
  {
   "cell_type": "code",
   "execution_count": null,
   "id": "181c5665",
   "metadata": {},
   "outputs": [],
   "source": [
    "this_list = [\n",
    "    'lysine biosynthetic process via aminoadipic acid (GO:0019878)',\n",
    "    'purine nucleobase metabolic process (GO:0006144)',\n",
    "    'aspartate family amino acid biosynthetic process (GO:0009067)',\n",
    "    'alpha-amino acid biosynthetic process (GO:1901607)',\n",
    "    'carboxylic acid biosynthetic process (GO:0046394)',\n",
    "    'small molecule biosynthetic process (GO:0044283)',\n",
    "    'oxoacid metabolic process (GO:0043436)'\n",
    "]"
   ]
  },
  {
   "cell_type": "code",
   "execution_count": null,
   "id": "be32b3fd",
   "metadata": {},
   "outputs": [],
   "source": [
    "ctp1_go_data = ctp1_go_data.loc[ctp1_go_data['GO biological process complete'].isin(this_list)]\n",
    "ctp1_go_data = ctp1_go_data[[\"GO biological process complete\", \"upload_1 (fold Enrichment)\", \"upload_1 (FDR)\"]]\n",
    "\n",
    "fold_sym = r'Fold Change'\n",
    "abs_sym = r'| Fold Change |'\n",
    "\n",
    "ctp1_go_data[fold_sym] = ctp1_go_data['upload_1 (fold Enrichment)'] #np.log2(ctp1_go_data['upload_1 (fold Enrichment)'])\n",
    "ctp1_go_data[abs_sym] = abs(ctp1_go_data[fold_sym])\n",
    "ctp1_go_data['-log10fdr'] = -1 * np.log10(ctp1_go_data['upload_1 (FDR)'])\n",
    "\n",
    "ctp1_go_data = ctp1_go_data.sort_values(by=\"-log10fdr\", ascending=False)\n",
    "ctp1_go_data = ctp1_go_data.reindex(index=ctp1_go_data.index[::-1]).reset_index().drop(\"index\", axis=1)\n",
    "ctp1_go_data['index'] = ctp1_go_data.index + 1"
   ]
  },
  {
   "cell_type": "code",
   "execution_count": null,
   "id": "4400dc28",
   "metadata": {},
   "outputs": [],
   "source": [
    "sns.set_style(\"whitegrid\", {'axes.grid' : False})"
   ]
  },
  {
   "cell_type": "code",
   "execution_count": null,
   "id": "3dfd788d",
   "metadata": {},
   "outputs": [],
   "source": [
    "fig, ax = plt.subplots()\n",
    "fig.set_size_inches(5, 5)\n",
    "plt.xlim((0,ctp1_go_data[\"-log10fdr\"].max() + 2))\n",
    "\n",
    "# use the scatterplot function to build the bubble map\n",
    "sns.scatterplot(\n",
    "    data=ctp1_go_data.round(decimals=2), \n",
    "    x=\"-log10fdr\", \n",
    "    y=\"index\", \n",
    "    size=abs_sym, \n",
    "    hue=fold_sym, \n",
    "    legend=True, \n",
    "    sizes=(1, 500),\n",
    "    palette=\"dark:salmon_r\",\n",
    "    size_norm=(0, ctp1_go_data[abs_sym].max() + 1),\n",
    "    hue_norm=(0, ctp1_go_data[abs_sym].max()))\n",
    "\n",
    "ax.set_xlabel(\"-log$_1$$_0$(FDR)\")\n",
    "ax.set_ylabel(\"\")\n",
    "ax.get_yaxis().set_ticks([])\n",
    "ax.set_title(\"CTP1 Correlation GO Terms\", pad=15, fontsize=20)\n",
    "\n",
    "for index, row in ctp1_go_data.iterrows():\n",
    "    ax.text(s=row[\"GO biological process complete\"], x=-0.5, y=row[\"index\"], ha='right')\n",
    "\n",
    "ax.legend(bbox_to_anchor=(1.05, 1.01), borderpad=1)\n",
    "\n",
    "# show the graph\n",
    "fig.savefig(\n",
    "    os.path.join(\n",
    "        __path__,\n",
    "        \"..\",\n",
    "        \"data\",\n",
    "        \"ctp1_go_enrichment_bubble-lab-wt.svg\"),\n",
    "    bbox_inches=\"tight\")"
   ]
  },
  {
   "cell_type": "code",
   "execution_count": null,
   "id": "82a1e936",
   "metadata": {},
   "outputs": [],
   "source": []
  },
  {
   "cell_type": "code",
   "execution_count": null,
   "id": "a73196b9",
   "metadata": {},
   "outputs": [],
   "source": []
  },
  {
   "cell_type": "code",
   "execution_count": null,
   "id": "a2bdd66b",
   "metadata": {},
   "outputs": [],
   "source": [
    "ctp1_go = \"analysis-ctp1-wt.txt\"\n",
    "\n",
    "ctp1_go_data = pd.read_csv(\n",
    "    os.path.join(\n",
    "        __path__,\n",
    "        \"..\",\n",
    "        \"data\",\n",
    "        ctp1_go),\n",
    "    sep=\"\\t\",\n",
    "    skiprows=11)\n"
   ]
  },
  {
   "cell_type": "code",
   "execution_count": null,
   "id": "be398784",
   "metadata": {},
   "outputs": [],
   "source": [
    "# Manually remove redundant GO terms"
   ]
  },
  {
   "cell_type": "code",
   "execution_count": null,
   "id": "e5294f98",
   "metadata": {},
   "outputs": [],
   "source": [
    "ctp1_go_data['GO biological process complete'].tolist()"
   ]
  },
  {
   "cell_type": "code",
   "execution_count": null,
   "id": "f6337674",
   "metadata": {},
   "outputs": [],
   "source": [
    "this_list = [\n",
    "    'lysine biosynthetic process via aminoadipic acid (GO:0019878)',\n",
    "    'aspartate family amino acid biosynthetic process (GO:0009067)',\n",
    "    'serine family amino acid metabolic process (GO:0009069)',\n",
    "    'alpha-amino acid biosynthetic process (GO:1901607)',\n",
    "    'carboxylic acid transmembrane transport (GO:1905039)',\n",
    "    'carboxylic acid biosynthetic process (GO:0046394)',\n",
    "    'small molecule biosynthetic process (GO:0044283)',\n",
    "    'oxoacid metabolic process (GO:0043436)'\n",
    "]"
   ]
  },
  {
   "cell_type": "code",
   "execution_count": null,
   "id": "1e95ad9a",
   "metadata": {},
   "outputs": [],
   "source": [
    "ctp1_go_data = ctp1_go_data.loc[ctp1_go_data['GO biological process complete'].isin(this_list)]\n",
    "ctp1_go_data = ctp1_go_data[[\"GO biological process complete\", \"upload_1 (fold Enrichment)\", \"upload_1 (FDR)\"]]\n",
    "\n",
    "fold_sym = r'Fold Change'\n",
    "abs_sym = r'| Fold Change |'\n",
    "\n",
    "ctp1_go_data[fold_sym] = ctp1_go_data['upload_1 (fold Enrichment)'] #np.log2(ctp1_go_data['upload_1 (fold Enrichment)'])\n",
    "ctp1_go_data[abs_sym] = abs(ctp1_go_data[fold_sym])\n",
    "ctp1_go_data['-log10fdr'] = -1 * np.log10(ctp1_go_data['upload_1 (FDR)'])\n",
    "\n",
    "ctp1_go_data = ctp1_go_data.sort_values(by=\"-log10fdr\", ascending=False)\n",
    "ctp1_go_data = ctp1_go_data.reindex(index=ctp1_go_data.index[::-1]).reset_index().drop(\"index\", axis=1)\n",
    "ctp1_go_data['index'] = ctp1_go_data.index + 1"
   ]
  },
  {
   "cell_type": "code",
   "execution_count": null,
   "id": "681f25da",
   "metadata": {},
   "outputs": [],
   "source": [
    "sns.set_style(\"whitegrid\", {'axes.grid' : False})"
   ]
  },
  {
   "cell_type": "code",
   "execution_count": null,
   "id": "332d5011",
   "metadata": {},
   "outputs": [],
   "source": [
    "fig, ax = plt.subplots()\n",
    "fig.set_size_inches(5, 3.5)\n",
    "plt.xlim((0,ctp1_go_data[\"-log10fdr\"].max() + 2))\n",
    "\n",
    "# use the scatterplot function to build the bubble map\n",
    "sns.scatterplot(\n",
    "    data=ctp1_go_data.round(decimals=2), \n",
    "    x=\"-log10fdr\", \n",
    "    y=\"index\", \n",
    "    size=abs_sym, \n",
    "    hue=fold_sym, \n",
    "    legend=True, \n",
    "    sizes=(1, 500),\n",
    "    palette=\"dark:salmon_r\",\n",
    "    size_norm=(0, ctp1_go_data[abs_sym].max() + 1),\n",
    "    hue_norm=(0, ctp1_go_data[abs_sym].max()))\n",
    "\n",
    "ax.set_xlabel(\"-log$_1$$_0$(FDR)\")\n",
    "ax.set_ylabel(\"\")\n",
    "ax.get_yaxis().set_ticks([])\n",
    "ax.set_title(\"CTP1 Correlation GO Terms\", pad=15, fontsize=20)\n",
    "\n",
    "for index, row in ctp1_go_data.iterrows():\n",
    "    ax.text(s=row[\"GO biological process complete\"], x=-0.5, y=row[\"index\"], ha='right')\n",
    "\n",
    "ax.legend(bbox_to_anchor=(1.05, 1.01), borderpad=1)\n",
    "\n",
    "# show the graph\n",
    "fig.savefig(\n",
    "    os.path.join(\n",
    "        __path__,\n",
    "        \"..\",\n",
    "        \"data\",\n",
    "        \"ctp1_go_enrichment_bubble-wt.svg\"),\n",
    "    bbox_inches=\"tight\")"
   ]
  },
  {
   "cell_type": "code",
   "execution_count": null,
   "id": "10382480",
   "metadata": {},
   "outputs": [],
   "source": []
  },
  {
   "cell_type": "code",
   "execution_count": null,
   "id": "eec98dd0",
   "metadata": {},
   "outputs": [],
   "source": []
  },
  {
   "cell_type": "code",
   "execution_count": null,
   "id": "53305765",
   "metadata": {},
   "outputs": [],
   "source": [
    "ctp1_go = \"analysis-ctp1-all.txt\"\n",
    "\n",
    "ctp1_go_data = pd.read_csv(\n",
    "    os.path.join(\n",
    "        __path__,\n",
    "        \"..\",\n",
    "        \"data\",\n",
    "        ctp1_go),\n",
    "    sep=\"\\t\",\n",
    "    skiprows=11)\n"
   ]
  },
  {
   "cell_type": "code",
   "execution_count": null,
   "id": "9ddc08d8",
   "metadata": {},
   "outputs": [],
   "source": [
    "ctp1_go_data = ctp1_go_data.iloc[0:40]"
   ]
  },
  {
   "cell_type": "code",
   "execution_count": null,
   "id": "309df4d0",
   "metadata": {},
   "outputs": [],
   "source": [
    "# Manually remove redundant GO terms"
   ]
  },
  {
   "cell_type": "code",
   "execution_count": null,
   "id": "f5817584",
   "metadata": {},
   "outputs": [],
   "source": [
    "ctp1_go_data['GO biological process complete'].tolist()"
   ]
  },
  {
   "cell_type": "code",
   "execution_count": null,
   "id": "33328825",
   "metadata": {},
   "outputs": [],
   "source": [
    "this_list = [\n",
    "    'mitochondrial citrate transmembrane transport (GO:0006843)',\n",
    "    'tricarboxylic acid transport (GO:0006842)',\n",
    "    'citrulline biosynthetic process (GO:0019240)',\n",
    "    'purine nucleobase metabolic process (GO:0006144)',\n",
    "    'citrulline metabolic process (GO:0000052)',\n",
    "    'citrate transport (GO:0015746)',\n",
    "    'homoserine metabolic process (GO:0009092)',\n",
    "    'glutamine family amino acid metabolic process (GO:0009064)',\n",
    "    'ornithine metabolic process (GO:0006591)',\n",
    "    'serine family amino acid biosynthetic process (GO:0009070)',\n",
    "    'cysteine metabolic process (GO:0006534)',\n",
    "    'nucleobase metabolic process (GO:0009112)',\n",
    "    'sulfate reduction (GO:0019419)',\n",
    "    'arginine metabolic process (GO:0006525)',\n",
    "    'methionine biosynthetic process (GO:0009086)',\n",
    "    'hydrogen sulfide biosynthetic process (GO:0070814)',\n",
    "    'sulfur amino acid biosynthetic process (GO:0000097)',\n",
    "    'sulfate assimilation (GO:0000103)',\n",
    "    'lysine biosynthetic process via aminoadipic acid (GO:0019878)',\n",
    "    'cellular amino acid metabolic process (GO:0006520)',\n",
    "    'aspartate family amino acid biosynthetic process (GO:0009067)',\n",
    "    'carboxylic acid biosynthetic process (GO:0046394)'\n",
    "]"
   ]
  },
  {
   "cell_type": "code",
   "execution_count": null,
   "id": "5eca7d8d",
   "metadata": {},
   "outputs": [],
   "source": [
    "ctp1_go_data = ctp1_go_data.loc[ctp1_go_data['GO biological process complete'].isin(this_list)]\n",
    "\n",
    "ctp1_go_data = ctp1_go_data[[\"GO biological process complete\", \"upload_1 (fold Enrichment)\", \"upload_1 (FDR)\"]]\n",
    "\n",
    "fold_sym = r'Fold Change'\n",
    "abs_sym = r'| Fold Change |'\n",
    "\n",
    "ctp1_go_data[fold_sym] = ctp1_go_data['upload_1 (fold Enrichment)'] #np.log2(ctp1_go_data['upload_1 (fold Enrichment)'])\n",
    "ctp1_go_data[abs_sym] = abs(ctp1_go_data[fold_sym])\n",
    "ctp1_go_data['-log10fdr'] = -1 * np.log10(ctp1_go_data['upload_1 (FDR)'])\n",
    "\n",
    "ctp1_go_data = ctp1_go_data.sort_values(by=\"-log10fdr\", ascending=False)\n",
    "ctp1_go_data = ctp1_go_data.reindex(index=ctp1_go_data.index[::-1]).reset_index().drop(\"index\", axis=1)\n",
    "ctp1_go_data['index'] = ctp1_go_data.index + 1"
   ]
  },
  {
   "cell_type": "code",
   "execution_count": null,
   "id": "d3590869",
   "metadata": {},
   "outputs": [],
   "source": [
    "sns.set_style(\"whitegrid\", {'axes.grid' : False})"
   ]
  },
  {
   "cell_type": "code",
   "execution_count": null,
   "id": "85bddb44",
   "metadata": {},
   "outputs": [],
   "source": [
    "fig, ax = plt.subplots()\n",
    "fig.set_size_inches(5, 10)\n",
    "plt.xlim((0,ctp1_go_data[\"-log10fdr\"].max() + 2))\n",
    "\n",
    "# use the scatterplot function to build the bubble map\n",
    "sns.scatterplot(\n",
    "    data=ctp1_go_data.round(decimals=2), \n",
    "    x=\"-log10fdr\", \n",
    "    y=\"index\", \n",
    "    size=abs_sym, \n",
    "    hue=fold_sym, \n",
    "    legend=True, \n",
    "    sizes=(1, 500),\n",
    "    palette=\"dark:salmon_r\",\n",
    "    size_norm=(0, ctp1_go_data[abs_sym].max() + 1),\n",
    "    hue_norm=(0, ctp1_go_data[abs_sym].max()))\n",
    "\n",
    "ax.set_xlabel(\"-log$_1$$_0$(FDR)\")\n",
    "ax.set_ylabel(\"\")\n",
    "ax.get_yaxis().set_ticks([])\n",
    "ax.set_title(\"CTP1 Correlation GO Terms\", pad=15, fontsize=20)\n",
    "\n",
    "for index, row in ctp1_go_data.iterrows():\n",
    "    ax.text(s=row[\"GO biological process complete\"], x=-0.5, y=row[\"index\"], ha='right')\n",
    "\n",
    "ax.legend(bbox_to_anchor=(1.05, 1.01), borderpad=1)\n",
    "\n",
    "# show the graph\n",
    "fig.savefig(\n",
    "    os.path.join(\n",
    "        __path__,\n",
    "        \"..\",\n",
    "        \"data\",\n",
    "        \"ctp1_go_enrichment_bubble-all.svg\"),\n",
    "    bbox_inches=\"tight\")"
   ]
  },
  {
   "cell_type": "code",
   "execution_count": null,
   "id": "1ed62d79",
   "metadata": {},
   "outputs": [],
   "source": []
  },
  {
   "cell_type": "code",
   "execution_count": null,
   "id": "cfe94e5f",
   "metadata": {},
   "outputs": [],
   "source": []
  },
  {
   "cell_type": "markdown",
   "id": "1f10f962",
   "metadata": {},
   "source": [
    "### Clean-up"
   ]
  },
  {
   "cell_type": "code",
   "execution_count": null,
   "id": "d30e01da",
   "metadata": {},
   "outputs": [],
   "source": [
    "# close GTF\n",
    "os.remove(os.path.join(\n",
    "    __path__,\n",
    "    \"..\",\n",
    "    \"data\",\n",
    "    \"analysis_lists\",\n",
    "    \"Saccharomyces_cerevisiae.R64-1-1.103.gtf\")\n",
    ")"
   ]
  },
  {
   "cell_type": "code",
   "execution_count": null,
   "id": "2defc06b",
   "metadata": {},
   "outputs": [],
   "source": []
  }
 ],
 "metadata": {
  "kernelspec": {
   "display_name": "Python 3",
   "language": "python",
   "name": "python3"
  },
  "language_info": {
   "codemirror_mode": {
    "name": "ipython",
    "version": 3
   },
   "file_extension": ".py",
   "mimetype": "text/x-python",
   "name": "python",
   "nbconvert_exporter": "python",
   "pygments_lexer": "ipython3",
   "version": "3.9.4"
  }
 },
 "nbformat": 4,
 "nbformat_minor": 5
}
