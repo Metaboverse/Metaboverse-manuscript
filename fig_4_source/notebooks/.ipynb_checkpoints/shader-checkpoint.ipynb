{
 "cells": [
  {
   "cell_type": "markdown",
   "id": "17284ab0",
   "metadata": {},
   "source": [
    "# Shader \n",
    "Determine hex values for CCM overview figures"
   ]
  },
  {
   "cell_type": "code",
   "execution_count": 129,
   "id": "6241b00b",
   "metadata": {},
   "outputs": [
    {
     "name": "stdout",
     "output_type": "stream",
     "text": [
      "C:\\Users\\jorda\\Desktop\\projects\\Metaboverse-manuscript\\data\\sce_mct1_omics\n"
     ]
    }
   ],
   "source": [
    "import os\n",
    "import sys\n",
    "import pandas as pd\n",
    "from scipy.stats import ttest_ind\n",
    "import matplotlib.pyplot as plt\n",
    "import numpy as np\n",
    "import matplotlib.colors\n",
    "import matplotlib.cm as cm\n",
    "\n",
    "__path__ = os.getcwd()\n",
    "data_url = os.path.abspath(os.path.join(__path__, \"..\", \"..\", \"data\", \"sce_mct1_omics\"))\n",
    "\n",
    "print(data_url)"
   ]
  },
  {
   "cell_type": "markdown",
   "id": "0429f050",
   "metadata": {},
   "source": [
    "### Generate colormap"
   ]
  },
  {
   "cell_type": "code",
   "execution_count": 148,
   "id": "daa7cb76",
   "metadata": {},
   "outputs": [
    {
     "data": {
      "image/png": "[encoded data removed]",
      "text/plain": [
       "<Figure size 432x288 with 2 Axes>"
      ]
     },
     "metadata": {
      "needs_background": "light"
     },
     "output_type": "display_data"
    }
   ],
   "source": [
    "norm = matplotlib.colors.Normalize(-1,1)\n",
    "colors = [[norm(-1.0), \"#2e3192\"],\n",
    "          [norm(-0.5), \"#00aeef\"],\n",
    "          [norm(-0.2), \"#d1d2d4\"],\n",
    "          [norm( 0.0), \"#d1d2d4\"],\n",
    "          [norm( 0.2), \"#d1d2d4\"],\n",
    "          [norm( 0.5), \"#fcb040\"],\n",
    "          [norm( 1.0), \"#f1592a\"]]\n",
    "\n",
    "cmap = matplotlib.colors.LinearSegmentedColormap.from_list(\"\", colors)\n",
    "m = cm.ScalarMappable(norm=norm, cmap=cmap)\n",
    "\n",
    "fig, ax=plt.subplots()\n",
    "x = np.arange(10)\n",
    "y = np.linspace(-2,2,10)\n",
    "sc = ax.scatter(x,y, c=y, norm=norm, cmap=cmap)\n",
    "fig.colorbar(sc, orientation=\"horizontal\")\n",
    "plt.show()\n",
    "\n",
    "fig.savefig(os.path.join(__path__, \"colorbar.pdf\"))"
   ]
  },
  {
   "cell_type": "code",
   "execution_count": null,
   "id": "06301b32",
   "metadata": {},
   "outputs": [],
   "source": []
  },
  {
   "cell_type": "markdown",
   "id": "fedbffb0",
   "metadata": {},
   "source": [
    "### Gene mapper"
   ]
  },
  {
   "cell_type": "code",
   "execution_count": 98,
   "id": "5d9076d6",
   "metadata": {},
   "outputs": [],
   "source": [
    "gtf = pd.read_csv(\n",
    "    os.path.join(\n",
    "        __path__,\n",
    "        \"..\",\n",
    "        \"data\",\n",
    "        \"analysis_lists\",\n",
    "        \"Saccharomyces_cerevisiae.R64-1-1.103.gtf.gz\"),\n",
    "    sep='\\t',\n",
    "    comment='#',\n",
    "    low_memory=False,\n",
    "    header=None)"
   ]
  },
  {
   "cell_type": "code",
   "execution_count": 99,
   "id": "5a005af5",
   "metadata": {},
   "outputs": [
    {
     "name": "stderr",
     "output_type": "stream",
     "text": [
      "C:\\Users\\jorda\\AppData\\Local\\Temp/ipykernel_46632/1726529972.py:6: SettingWithCopyWarning: \n",
      "A value is trying to be set on a copy of a slice from a DataFrame.\n",
      "Try using .loc[row_indexer,col_indexer] = value instead\n",
      "\n",
      "See the caveats in the documentation: https://pandas.pydata.org/pandas-docs/stable/user_guide/indexing.html#returning-a-view-versus-a-copy\n",
      "  gtf_genes['original'] = gtf[8].str.split(';').str[orig_name_location]\n",
      "C:\\Users\\jorda\\AppData\\Local\\Temp/ipykernel_46632/1726529972.py:7: SettingWithCopyWarning: \n",
      "A value is trying to be set on a copy of a slice from a DataFrame.\n",
      "Try using .loc[row_indexer,col_indexer] = value instead\n",
      "\n",
      "See the caveats in the documentation: https://pandas.pydata.org/pandas-docs/stable/user_guide/indexing.html#returning-a-view-versus-a-copy\n",
      "  gtf_genes['new'] = gtf[8].str.split(';').str[new_name_location]\n",
      "C:\\Users\\jorda\\AppData\\Local\\Temp/ipykernel_46632/1726529972.py:8: SettingWithCopyWarning: \n",
      "A value is trying to be set on a copy of a slice from a DataFrame.\n",
      "Try using .loc[row_indexer,col_indexer] = value instead\n",
      "\n",
      "See the caveats in the documentation: https://pandas.pydata.org/pandas-docs/stable/user_guide/indexing.html#returning-a-view-versus-a-copy\n",
      "  gtf_genes['original'] = gtf_genes['original'].map(lambda x: x.lstrip(str(orig_name_label)).rstrip('\"').lstrip('\"').rstrip(' '))\n",
      "C:\\Users\\jorda\\AppData\\Local\\Temp/ipykernel_46632/1726529972.py:9: SettingWithCopyWarning: \n",
      "A value is trying to be set on a copy of a slice from a DataFrame.\n",
      "Try using .loc[row_indexer,col_indexer] = value instead\n",
      "\n",
      "See the caveats in the documentation: https://pandas.pydata.org/pandas-docs/stable/user_guide/indexing.html#returning-a-view-versus-a-copy\n",
      "  gtf_genes['new'] = gtf_genes['new'].map(lambda x: x.lstrip(str(new_name_label)).rstrip('\"').rstrip(' '))\n"
     ]
    }
   ],
   "source": [
    "orig_name_label='gene_id \"'\n",
    "orig_name_location=0\n",
    "new_name_label='gene_name \"'\n",
    "new_name_location=1\n",
    "gtf_genes = gtf.loc[gtf[2] == 'gene']\n",
    "gtf_genes['original'] = gtf[8].str.split(';').str[orig_name_location]\n",
    "gtf_genes['new'] = gtf[8].str.split(';').str[new_name_location]\n",
    "gtf_genes['original'] = gtf_genes['original'].map(lambda x: x.lstrip(str(orig_name_label)).rstrip('\"').lstrip('\"').rstrip(' '))\n",
    "gtf_genes['new'] = gtf_genes['new'].map(lambda x: x.lstrip(str(new_name_label)).rstrip('\"').rstrip(' '))\n",
    "gtf_genes = gtf_genes[['original','new']].copy()"
   ]
  },
  {
   "cell_type": "code",
   "execution_count": 100,
   "id": "8a0db7b7",
   "metadata": {},
   "outputs": [],
   "source": [
    "gene_dict = {}\n",
    "for index, row in gtf_genes.iterrows():\n",
    "    if row[1] == 'source \"sgd':\n",
    "        gene_dict[row[0]] = row[0]\n",
    "    else:\n",
    "        gene_dict[row[0]] = row[1]"
   ]
  },
  {
   "cell_type": "markdown",
   "id": "f0fe4f49",
   "metadata": {},
   "source": [
    "### Selections"
   ]
  },
  {
   "cell_type": "code",
   "execution_count": 139,
   "id": "c97b9862",
   "metadata": {},
   "outputs": [],
   "source": [
    "genes = [\n",
    "    'GLK1',\n",
    "    'PGI1',\n",
    "    'PFK1', 'PFK2',\n",
    "    'FBP1',\n",
    "    'FBA1', 'TPI1',\n",
    "    'TDH1', 'TDH2', 'TDH3',\n",
    "    'PGK1',\n",
    "    'GPM1',\n",
    "    'ENO1', 'ENO2',\n",
    "    'PYK2', 'CDC19',\n",
    "    'PYC1', 'PYC2',\n",
    "    'CIT1', 'CIT2', 'CIT3',\n",
    "    'ACO1', 'ACO2',\n",
    "    'IDH1', 'IDH2',\n",
    "    'LPD1', 'KGD1', 'KGD2',\n",
    "    'LSC1', 'LSC2',\n",
    "    'SDH1', 'SDH2', 'SDH3', 'SDH4',\n",
    "    'FUM1',\n",
    "    'MDH1',\n",
    "    'GDH1', 'GDH2', 'GLN1',\n",
    "    'ALT1', 'ALT2',\n",
    "    'DLD1', 'DLD2', 'DLD3',\n",
    "    'MAE1',\n",
    "    'AAT1',\n",
    "    'CTP1', 'DIC1'\n",
    "]\n",
    "\n",
    "gc_metabolomics = [\n",
    "    'Glucose 6-phosphate',\n",
    "    'Fructose-6-phosphate',\n",
    "    'fructose-1,6-diphosphate',\n",
    "    '3-Phosphoglyceric acid',\n",
    "    'Phosphoenolpyruvate',\n",
    "    'Pyruvic acid',\n",
    "    'Glyoxylic acid',\n",
    "    'Citric acid',\n",
    "    'Isocitric acid',\n",
    "    'Succinic acid',\n",
    "    'Fumaric acid',\n",
    "    'D-Malic acid',\n",
    "    'L-Alanine',\n",
    "    'L-Lactic acid',\n",
    "    'L-Aspartic acid',\n",
    "    'L-Glutamic acid',\n",
    "    '2-Hydroxyglutaric acid',\n",
    "]\n",
    "\n",
    "lc_metabolomics = [\n",
    "    'Glucose',\n",
    "    'F6P',\n",
    "    'F16BP',\n",
    "    'Pyruvate',\n",
    "    'CoA',\n",
    "    'Citrate',\n",
    "    'a-KG',\n",
    "    'Succinate',\n",
    "    'Fumarate',\n",
    "    'Malate',\n",
    "    'Glutamate',\n",
    "    'Glutamine',\n",
    "    'Aspartate',\n",
    "    'Alanine'\n",
    "]"
   ]
  },
  {
   "cell_type": "markdown",
   "id": "95a94970",
   "metadata": {},
   "source": [
    "### 3 hr mct1-del vs WT"
   ]
  },
  {
   "cell_type": "code",
   "execution_count": 107,
   "id": "2a7a0d3e",
   "metadata": {},
   "outputs": [],
   "source": [
    "transcriptomics_3hr = os.path.abspath(os.path.join(data_url, \"sce_mct1_03hr_counts_diffx.txt\"))\n",
    "metabolomics_3hr = os.path.abspath(os.path.join(data_url, \"metabolomics_timecourse_mct1.txt\"))"
   ]
  },
  {
   "cell_type": "code",
   "execution_count": 108,
   "id": "37749a7d",
   "metadata": {},
   "outputs": [],
   "source": [
    "mct1_3hr_transcriptomics = pd.read_csv(\n",
    "    transcriptomics_3hr,\n",
    "    sep='\\t',\n",
    "    index_col=0)\n",
    "\n",
    "mct1_3hr_metabolomics = pd.read_csv(\n",
    "    metabolomics_3hr,\n",
    "    sep='\\t',\n",
    "    index_col=0)"
   ]
  },
  {
   "cell_type": "code",
   "execution_count": 109,
   "id": "73ca2b95",
   "metadata": {},
   "outputs": [],
   "source": [
    "mct1_3hr_transcriptomics_renamed = mct1_3hr_transcriptomics.copy()\n",
    "mct1_3hr_transcriptomics_renamed['new'] = mct1_3hr_transcriptomics_renamed.index.to_series().map(gene_dict).fillna(\n",
    "    mct1_3hr_transcriptomics_renamed.index.to_series())\n",
    "mct1_3hr_transcriptomics_renamed = mct1_3hr_transcriptomics_renamed.set_index('new')\n",
    "mct1_3hr_transcriptomics_renamed.index.name = None"
   ]
  },
  {
   "cell_type": "code",
   "execution_count": 119,
   "id": "16cb7f74",
   "metadata": {},
   "outputs": [
    {
     "name": "stdout",
     "output_type": "stream",
     "text": [
      "GLK1\t-0.0\t#d1d2d4\t\t0.981976543\n",
      "PGI1\t-0.1\t#d1d2d4\t\t0.326110216\n",
      "PFK1\t-0.1\t#d1d2d4\t\t0.481721105\n",
      "PFK2\t-0.1\t#d1d2d4\t\t0.828509288\n",
      "FBP1\t-0.2\t#d1d2d4\t\t* 0.053250244\n",
      "FBA1\t-0.1\t#d1d2d4\t\t0.802863827\n",
      "TPI1\t-0.1\t#d1d2d4\t\t0.531169334\n",
      "TDH1\t-0.1\t#d1d2d4\t\t0.311551329\n",
      "TDH2\t-0.1\t#d1d2d4\t\t0.392266667\n",
      "TDH3\t-0.0\t#d1d2d4\t\t0.881038177\n",
      "PGK1\t-0.1\t#d1d2d4\t\t0.696111097\n",
      "GPM1\t-0.1\t#d1d2d4\t\t0.732199812\n",
      "ENO1\t-0.1\t#d1d2d4\t\t0.306261994\n",
      "ENO2\t-0.1\t#d1d2d4\t\t** 0.010753632\n",
      "PYK2\t-0.0\t#d1d2d4\t\t0.975115575\n",
      "CDC19\t-0.1\t#d1d2d4\t\t0.240368004\n",
      "PYC1\t0.1\t#d1d2d4\t\t0.174006531\n",
      "PYC2\t-0.2\t#d1d2d4\t\t** 0.011950815\n",
      "CIT1\t0.0\t#d1d2d4\t\t0.998926995\n",
      "CIT2\t0.4\t#eebb6f\t\t*** 0.000671371\n",
      "CIT3\t0.7\t#f88d37\t\t*** 3.99e-44\n",
      "ACO1\t0.1\t#d1d2d4\t\t0.447458383\n",
      "ACO2\t0.0\t#d1d2d4\t\t0.918729624\n",
      "IDH1\t0.1\t#d1d2d4\t\t0.295118242\n",
      "IDH2\t0.1\t#d1d2d4\t\t0.491803054\n",
      "LPD1\t-0.1\t#d1d2d4\t\t* 0.077265822\n",
      "KGD1\t-0.2\t#d1d2d4\t\t*** 0.000250432\n",
      "KGD2\t-0.1\t#d1d2d4\t\t*** 4.99e-05\n",
      "LSC1\t-0.0\t#d1d2d4\t\t0.859515689\n",
      "LSC2\t0.0\t#d1d2d4\t\t0.979740767\n",
      "SDH1\t-0.2\t#d1d2d4\t\t*** 0.000174258\n",
      "SDH2\t-0.1\t#d1d2d4\t\t0.44959273\n",
      "SDH3\t-0.1\t#d1d2d4\t\t0.659538054\n",
      "SDH4\t-0.1\t#d1d2d4\t\t0.475425695\n",
      "FUM1\t-0.0\t#d1d2d4\t\t0.942269428\n",
      "MDH1\t-0.1\t#d1d2d4\t\t** 0.029679077\n",
      "GDH1\t-0.3\t#8ac6dd\t\t** 0.011241695\n",
      "GDH2\t0.0\t#d1d2d4\t\t0.783263985\n",
      "GLN1\t0.1\t#d1d2d4\t\t0.732024864\n",
      "ALT1\t0.2\t#d1d2d4\t\t* 0.057189509\n",
      "ALT2\t0.4\t#eebb6f\t\t*** 6.740000000000001e-22\n",
      "DLD1\t0.2\t#d1d2d4\t\t* 0.086053724\n",
      "DLD2\t-0.0\t#d1d2d4\t\t0.854418529\n",
      "DLD3\t0.5\t#fcaf40\t\t*** 8.09e-25\n",
      "MAE1\t0.2\t#d1d2d4\t\t0.138640604\n",
      "AAT1\t0.4\t#eebb6f\t\t*** 0.000195861\n",
      "CTP1\t0.1\t#d1d2d4\t\t0.130633897\n",
      "DIC1\t0.3\t#e0c6a2\t\t*** 1.25e-07\n"
     ]
    }
   ],
   "source": [
    "for x in genes:\n",
    "    if x in mct1_3hr_transcriptomics_renamed.index:\n",
    "        _hex = \"\"\n",
    "        _value = 0.\n",
    "        if mct1_3hr_transcriptomics_renamed.loc[x][0] < -2:\n",
    "            _value = -1.0\n",
    "        elif mct1_3hr_transcriptomics_renamed.loc[x][0] > 2:\n",
    "            _value = 1.0\n",
    "        else:\n",
    "            _value = round(mct1_3hr_transcriptomics_renamed.loc[x][0] / 2, 1)\n",
    "        _rgba = m.to_rgba(_value)\n",
    "        _hex = matplotlib.colors.rgb2hex(_rgba)\n",
    "        \n",
    "        _stat = \"\"\n",
    "        if mct1_3hr_transcriptomics_renamed.loc[x][1] < 0.1:\n",
    "            _stat = \"* \"\n",
    "        if mct1_3hr_transcriptomics_renamed.loc[x][1] < 0.05:\n",
    "            _stat = \"** \"\n",
    "        if mct1_3hr_transcriptomics_renamed.loc[x][1] < 0.01:\n",
    "            _stat = \"*** \"\n",
    "        \n",
    "        print(str(x) + \"\\t\" + str(_value) + \"\\t\" + str(_hex) + \"\\t\\t\" + str(_stat) + str(mct1_3hr_transcriptomics_renamed.loc[x][1]))\n",
    "    else:\n",
    "        print(x)"
   ]
  },
  {
   "cell_type": "code",
   "execution_count": 120,
   "id": "d025a3b2",
   "metadata": {},
   "outputs": [
    {
     "name": "stdout",
     "output_type": "stream",
     "text": [
      "Glucose 6-phosphate\t-0.1\t#d1d2d4\t\t0.123194323\n",
      "Fructose-6-phosphate\t0.0\t#d1d2d4\t\t0.609531159\n",
      "fructose-1,6-diphosphate\t0.6\t#fa9f3c\t\t0.118707906\n",
      "3-Phosphoglyceric acid\t-0.4\t#43bae6\t\t* 0.067758917\n",
      "Phosphoenolpyruvate\t-0.4\t#43bae6\t\t*** 0.005212245\n",
      "Pyruvic acid\t-0.0\t#d1d2d4\t\t0.302827087\n",
      "Glyoxylic acid\t0.4\t#eebb6f\t\t0.298275633\n",
      "Citric acid\t-1.0\t#2e3192\t\t*** 0.000794148\n",
      "Isocitric acid\t0.4\t#eebb6f\t\t0.231108824\n",
      "Succinic acid\t0.2\t#d1d2d4\t\t0.747466905\n",
      "Fumaric acid\t0.8\t#f57b33\t\t*** 3.51e-05\n",
      "D-Malic acid\t1.0\t#f1592a\t\t*** 0.000147372\n",
      "L-Alanine\t1.0\t#f1592a\t\t*** 4.17e-05\n",
      "L-Lactic acid\t0.3\t#e0c6a2\t\t0.439740985\n",
      "L-Aspartic acid\t0.6\t#fa9f3c\t\t*** 0.009430318\n",
      "L-Glutamic acid\t-0.6\t#0995dc\t\t*** 0.001854925\n",
      "2-Hydroxyglutaric acid\t1.0\t#f1592a\t\t** 0.011745302\n"
     ]
    }
   ],
   "source": [
    "for x in gc_metabolomics:\n",
    "    if x in mct1_3hr_metabolomics[[\"180min_mct1_lfc\", \"180min_mct1_bh\"]].index:\n",
    "        _hex = \"\"\n",
    "        _value = 0.\n",
    "        if mct1_3hr_metabolomics[[\"180min_mct1_lfc\", \"180min_mct1_bh\"]].loc[x][0] < -2:\n",
    "            _value = -1.0\n",
    "        elif mct1_3hr_metabolomics[[\"180min_mct1_lfc\", \"180min_mct1_bh\"]].loc[x][0] > 2:\n",
    "            _value = 1.0\n",
    "        else:\n",
    "            _value = round(mct1_3hr_metabolomics[[\"180min_mct1_lfc\", \"180min_mct1_bh\"]].loc[x][0] / 2, 1)\n",
    "        _rgba = m.to_rgba(_value)\n",
    "        _hex = matplotlib.colors.rgb2hex(_rgba)\n",
    "        \n",
    "        _stat = \"\"\n",
    "        if mct1_3hr_metabolomics[[\"180min_mct1_lfc\", \"180min_mct1_bh\"]].loc[x][1] < 0.1:\n",
    "            _stat = \"* \"\n",
    "        if mct1_3hr_metabolomics[[\"180min_mct1_lfc\", \"180min_mct1_bh\"]].loc[x][1] < 0.05:\n",
    "            _stat = \"** \"\n",
    "        if mct1_3hr_metabolomics[[\"180min_mct1_lfc\", \"180min_mct1_bh\"]].loc[x][1] < 0.01:\n",
    "            _stat = \"*** \"\n",
    "        \n",
    "        print(str(x) + \"\\t\" + str(_value) + \"\\t\" + str(_hex) + \"\\t\\t\" + str(_stat) + str(mct1_3hr_metabolomics[[\"180min_mct1_lfc\", \"180min_mct1_bh\"]].loc[x][1]))\n",
    "    else:\n",
    "        print(x)"
   ]
  },
  {
   "cell_type": "markdown",
   "id": "58a5c788",
   "metadata": {},
   "source": [
    "### 12 hr mct1-del vs WT"
   ]
  },
  {
   "cell_type": "code",
   "execution_count": 123,
   "id": "bdd56e0e",
   "metadata": {},
   "outputs": [],
   "source": [
    "proteomics_12hr = os.path.abspath(os.path.join(data_url, \"proteomics_mct1_12hr.txt\"))\n",
    "metabolomics_12hr_mct1 = os.path.abspath(os.path.join(data_url, \"mct1_12hr_metabolomics.txt\"))"
   ]
  },
  {
   "cell_type": "code",
   "execution_count": 124,
   "id": "57080365",
   "metadata": {},
   "outputs": [],
   "source": [
    "mct1_12hr_proteomics = pd.read_csv(\n",
    "    proteomics_12hr,\n",
    "    sep='\\t',\n",
    "    index_col=0)\n",
    "\n",
    "mct1_12hr_metabolomics = pd.read_csv(\n",
    "    metabolomics_12hr_mct1,\n",
    "    sep='\\t',\n",
    "    index_col=0)"
   ]
  },
  {
   "cell_type": "code",
   "execution_count": 125,
   "id": "e88ddee3",
   "metadata": {},
   "outputs": [
    {
     "name": "stdout",
     "output_type": "stream",
     "text": [
      "GLK1\t0.0\t#d1d2d4\t\t0.625266003\n",
      "PGI1\t0.2\t#d1d2d4\t\t* 0.084813715\n",
      "PFK1\t0.1\t#d1d2d4\t\t** 0.033560238\n",
      "PFK2\t0.1\t#d1d2d4\t\t*** 0.000314993\n",
      "FBP1\t-1.0\t#2e3192\t\t*** 0.000745809\n",
      "FBA1\t0.2\t#d1d2d4\t\t** 0.033201477\n",
      "TPI1\t0.1\t#d1d2d4\t\t0.408392415\n",
      "TDH1\t0.2\t#d1d2d4\t\t*** 0.004366443\n",
      "TDH2\t0.4\t#eebb6f\t\t*** 0.001813656\n",
      "TDH3\t0.2\t#d1d2d4\t\t* 0.080430798\n",
      "PGK1\t0.2\t#d1d2d4\t\t0.186975526\n",
      "GPM1\t0.1\t#d1d2d4\t\t0.423053126\n",
      "ENO1\t0.3\t#e0c6a2\t\t*** 0.000445117\n",
      "ENO2\t0.3\t#e0c6a2\t\t*** 0.000174858\n",
      "PYK2\t0.4\t#eebb6f\t\t*** 6.55e-07\n",
      "CDC19\t0.1\t#d1d2d4\t\t0.27499189\n",
      "PYC1\t0.9\t#f3692e\t\t*** 0.002713856\n",
      "PYC2\t0.5\t#fcaf40\t\t*** 8.18e-05\n",
      "CIT1\t-0.7\t#137cc9\t\t** 0.040933443\n",
      "CIT2\t1.0\t#f1592a\t\t*** 1.65e-05\n",
      "CIT3\t0.9\t#f3692e\t\t*** 0.001484991\n",
      "ACO1\t-0.2\t#d1d2d4\t\t* 0.070594091\n",
      "ACO2\t-0.1\t#d1d2d4\t\t** 0.019784834\n",
      "IDH1\t-0.0\t#d1d2d4\t\t0.516701546\n",
      "IDH2\t-0.1\t#d1d2d4\t\t0.124753781\n",
      "LPD1\t-0.5\t#01aeef\t\t*** 7.63e-06\n",
      "KGD1\t-1.0\t#2e3192\t\t*** 3.77e-06\n",
      "KGD2\t-0.8\t#1c62b6\t\t*** 6.31e-05\n",
      "LSC1\t-0.3\t#8ac6dd\t\t*** 0.005396886\n",
      "LSC2\t-0.2\t#d1d2d4\t\t*** 0.002475851\n",
      "SDH1\t-1.0\t#2e3192\t\t*** 2.1e-08\n",
      "SDH2\t-1.0\t#2e3192\t\t*** 0.004179225\n",
      "SDH3\t-0.6\t#0995dc\t\t*** 1.24e-05\n",
      "SDH4\t-1.0\t#2e3192\t\t*** 1.33e-07\n",
      "FUM1\t-0.7\t#137cc9\t\t*** 0.00548277\n",
      "MDH1\t-0.9\t#2549a4\t\t** 0.016993533\n",
      "GDH1\t-1.0\t#2e3192\t\t*** 0.00010782\n",
      "GDH2\t0.5\t#fcaf40\t\t*** 2.35e-05\n",
      "GLN1\t0.4\t#eebb6f\t\t** 0.030856243\n",
      "ALT1\t0.3\t#e0c6a2\t\t** 0.047403181\n",
      "ALT2\t0.4\t#eebb6f\t\t* 0.050746438\n",
      "DLD1\t0.9\t#f3692e\t\t*** 0.003606147\n",
      "DLD2\t-0.2\t#d1d2d4\t\t*** 0.006030369\n",
      "DLD3\t1.0\t#f1592a\t\t*** 8.83e-06\n",
      "MAE1\t0.8\t#f57b33\t\t*** 0.001638704\n",
      "AAT1\t0.1\t#d1d2d4\t\t*** 0.003137596\n",
      "CTP1\t-0.3\t#8ac6dd\t\t*** 0.006062425\n",
      "DIC1\t1.0\t#f1592a\t\t*** 5.95e-06\n"
     ]
    }
   ],
   "source": [
    "for x in genes:\n",
    "    if x in mct1_12hr_proteomics.index:\n",
    "        _hex = \"\"\n",
    "        _value = 0.\n",
    "        if mct1_12hr_proteomics.loc[x][0] < -2:\n",
    "            _value = -1.0\n",
    "        elif mct1_12hr_proteomics.loc[x][0] > 2:\n",
    "            _value = 1.0\n",
    "        else:\n",
    "            _value = round(mct1_12hr_proteomics.loc[x][0] / 2, 1)\n",
    "        _rgba = m.to_rgba(_value)\n",
    "        _hex = matplotlib.colors.rgb2hex(_rgba)\n",
    "        \n",
    "        _stat = \"\"\n",
    "        if mct1_12hr_proteomics.loc[x][1] < 0.1:\n",
    "            _stat = \"* \"\n",
    "        if mct1_12hr_proteomics.loc[x][1] < 0.05:\n",
    "            _stat = \"** \"\n",
    "        if mct1_12hr_proteomics.loc[x][1] < 0.01:\n",
    "            _stat = \"*** \"\n",
    "        \n",
    "        print(str(x) + \"\\t\" + str(_value) + \"\\t\" + str(_hex) + \"\\t\\t\" + str(_stat) + str(mct1_12hr_proteomics.loc[x][1]))\n",
    "    else:\n",
    "        print(x)"
   ]
  },
  {
   "cell_type": "markdown",
   "id": "81606917",
   "metadata": {},
   "source": [
    "### 12 hr mct1-del + CTP-OE vs mct1-del"
   ]
  },
  {
   "cell_type": "code",
   "execution_count": 30,
   "id": "77ea71f3",
   "metadata": {},
   "outputs": [],
   "source": [
    "metabolomics_12hr_ctp1 = os.path.abspath(os.path.join(__path__, \"..\", \"data\", \"ctp1_metabolomics_data\", \"ctp1_metabolomics_allValues.txt\"))\n",
    "\n",
    "ctp1_metabolomics = pd.read_csv(\n",
    "    metabolomics_12hr_ctp1,\n",
    "    sep='\\t',\n",
    "    index_col=0)\n",
    "\n",
    "ctp1_sr_wt_ev = ctp1_metabolomics[[\n",
    "    'WT_SR_EV1',\n",
    "    'WT_SR_EV2',\n",
    "    'WT_SR_EV3']]\n",
    "\n",
    "ctp1_sr_wt_a1 = ctp1_metabolomics[[\n",
    "    'WT_SR_A1',\n",
    "    'WT_SR_A2',\n",
    "    'WT_SR_A3']]\n",
    "\n",
    "ctp1_sr_mct_ev = ctp1_metabolomics[[\n",
    "    'MCT_SR_EV1',\n",
    "    'MCT_SR_EV2',\n",
    "    'MCT_SR_EV3']]\n",
    "\n",
    "ctp1_sr_mct_a1 = ctp1_metabolomics[[\n",
    "    'MCT_SR_A1',\n",
    "    'MCT_SR_A2',\n",
    "    'MCT_SR_A3']]"
   ]
  },
  {
   "cell_type": "code",
   "execution_count": null,
   "id": "28c374fb",
   "metadata": {},
   "outputs": [],
   "source": [
    "#### mct1-del vs WT"
   ]
  },
  {
   "cell_type": "code",
   "execution_count": 140,
   "id": "e97dd107",
   "metadata": {},
   "outputs": [
    {
     "name": "stdout",
     "output_type": "stream",
     "text": [
      "Glucose\t\t0.3\t#e0c6a2\t\t0.33\n",
      "F6P\t\t-0.1\t#d1d2d4\t\t0.55\n",
      "F16BP\t\t-0.3\t#8ac6dd\t\t* 0.07\n",
      "Pyruvate\t\t-0.0\t#d1d2d4\t\t0.69\n",
      "CoA\t\t-0.6\t#0995dc\t\t** 0.04\n",
      "Citrate\t\t0.7\t#f88d37\t\t** 0.01\n",
      "a-KG\t\t0.2\t#d1d2d4\t\t0.31\n",
      "Succinate\t\t0.8\t#f57b33\t\t** 0.04\n",
      "Fumarate\t\t0.6\t#fa9f3c\t\t*** 0.0\n",
      "Malate\t\t0.7\t#f88d37\t\t* 0.06\n",
      "Glutamate\t\t-0.3\t#8ac6dd\t\t** 0.02\n",
      "Glutamine\t\t-0.0\t#d1d2d4\t\t0.53\n",
      "Aspartate\t\t0.2\t#d1d2d4\t\t0.14\n",
      "Alanine\t\t0.2\t#d1d2d4\t\t** 0.03\n"
     ]
    }
   ],
   "source": [
    "for x in lc_metabolomics:\n",
    "    if x in ctp1_sr_mct_ev.index:\n",
    "        fc = np.log2(\n",
    "            (sum(ctp1_sr_mct_ev.loc[x].values))\n",
    "            / (sum(ctp1_sr_wt_ev.loc[x].values)))\n",
    "        p = ttest_ind(\n",
    "                ctp1_sr_mct_ev.loc[x].values,\n",
    "                ctp1_sr_wt_ev.loc[x].values)[1]\n",
    "        \n",
    "        _hex = \"\"\n",
    "        _value = 0.\n",
    "        if fc < -2:\n",
    "            _value = -1.0\n",
    "        elif fc > 2:\n",
    "            _value = 1.0\n",
    "        else:\n",
    "            _value = round(fc / 2, 1)\n",
    "        _rgba = m.to_rgba(_value)\n",
    "        _hex = matplotlib.colors.rgb2hex(_rgba)\n",
    "        \n",
    "        _stat = \"\"\n",
    "        if p < 0.1:\n",
    "            _stat = \"* \"\n",
    "        if p < 0.05:\n",
    "            _stat = \"** \"\n",
    "        if p < 0.01:\n",
    "            _stat = \"*** \"\n",
    "\n",
    "        print(str(x) + \"\\t\\t\" + str(_value) + \"\\t\" + str(_hex) + \"\\t\\t\" + str(_stat) + str(round(p, 2)))\n",
    "    else:\n",
    "        print(x)"
   ]
  },
  {
   "cell_type": "code",
   "execution_count": 141,
   "id": "c9ea9426",
   "metadata": {},
   "outputs": [],
   "source": [
    "#### mct1-del+CTP-OE vs mct1-del"
   ]
  },
  {
   "cell_type": "code",
   "execution_count": 142,
   "id": "fe3e5079",
   "metadata": {},
   "outputs": [
    {
     "name": "stdout",
     "output_type": "stream",
     "text": [
      "Glucose\t\t-0.1\t#d1d2d4\t\t0.7\n",
      "F6P\t\t0.1\t#d1d2d4\t\t0.55\n",
      "F16BP\t\t0.3\t#e0c6a2\t\t* 0.07\n",
      "Pyruvate\t\t-0.1\t#d1d2d4\t\t0.12\n",
      "CoA\t\t-0.1\t#d1d2d4\t\t0.56\n",
      "Citrate\t\t0.2\t#d1d2d4\t\t* 0.05\n",
      "a-KG\t\t-0.4\t#43bae6\t\t0.34\n",
      "Succinate\t\t-0.5\t#01aeef\t\t0.1\n",
      "Fumarate\t\t-0.0\t#d1d2d4\t\t0.58\n",
      "Malate\t\t-0.0\t#d1d2d4\t\t0.85\n",
      "Glutamate\t\t-0.1\t#d1d2d4\t\t0.29\n",
      "Glutamine\t\t-0.2\t#d1d2d4\t\t0.27\n",
      "Aspartate\t\t0.0\t#d1d2d4\t\t0.85\n",
      "Alanine\t\t-0.1\t#d1d2d4\t\t0.27\n"
     ]
    }
   ],
   "source": [
    "for x in lc_metabolomics:\n",
    "    if x in ctp1_sr_mct_ev.index:\n",
    "        fc = np.log2(\n",
    "            (sum(ctp1_sr_mct_a1.loc[x].values))\n",
    "            / (sum(ctp1_sr_mct_ev.loc[x].values)))\n",
    "        p = ttest_ind(\n",
    "                ctp1_sr_mct_a1.loc[x].values,\n",
    "                ctp1_sr_mct_ev.loc[x].values)[1]\n",
    "        \n",
    "        _hex = \"\"\n",
    "        _value = 0.\n",
    "        if fc < -2:\n",
    "            _value = -1.0\n",
    "        elif fc > 2:\n",
    "            _value = 1.0\n",
    "        else:\n",
    "            _value = round(fc / 2, 1)\n",
    "        _rgba = m.to_rgba(_value)\n",
    "        _hex = matplotlib.colors.rgb2hex(_rgba)\n",
    "        \n",
    "        _stat = \"\"\n",
    "        if p < 0.1:\n",
    "            _stat = \"* \"\n",
    "        if p < 0.05:\n",
    "            _stat = \"** \"\n",
    "        if p < 0.01:\n",
    "            _stat = \"*** \"\n",
    "\n",
    "        print(str(x) + \"\\t\\t\" + str(_value) + \"\\t\" + str(_hex) + \"\\t\\t\" + str(_stat) + str(round(p, 2)))\n",
    "    else:\n",
    "        print(x)"
   ]
  },
  {
   "cell_type": "code",
   "execution_count": 143,
   "id": "f03f7f5e",
   "metadata": {},
   "outputs": [
    {
     "name": "stdout",
     "output_type": "stream",
     "text": [
      "Glucose\t\t0.3\t#e0c6a2\t\t0.35\n",
      "F6P\t\t0.0\t#d1d2d4\t\t1.0\n",
      "F16BP\t\t0.0\t#d1d2d4\t\t1.0\n",
      "Pyruvate\t\t-0.1\t#d1d2d4\t\t0.19\n",
      "CoA\t\t-0.8\t#1c62b6\t\t** 0.03\n",
      "Citrate\t\t0.9\t#f3692e\t\t*** 0.0\n",
      "a-KG\t\t-0.1\t#d1d2d4\t\t0.74\n",
      "Succinate\t\t0.3\t#e0c6a2\t\t0.42\n",
      "Fumarate\t\t0.5\t#fcaf40\t\t*** 0.0\n",
      "Malate\t\t0.6\t#fa9f3c\t\t** 0.01\n",
      "Glutamate\t\t-0.5\t#01aeef\t\t*** 0.01\n",
      "Glutamine\t\t-0.2\t#d1d2d4\t\t0.2\n",
      "Aspartate\t\t0.2\t#d1d2d4\t\t** 0.03\n",
      "Alanine\t\t0.2\t#d1d2d4\t\t* 0.06\n"
     ]
    }
   ],
   "source": [
    "for x in lc_metabolomics:\n",
    "    if x in ctp1_sr_mct_ev.index:\n",
    "        fc = np.log2(\n",
    "            (sum(ctp1_sr_mct_a1.loc[x].values))\n",
    "            / (sum(ctp1_sr_wt_ev.loc[x].values)))\n",
    "        p = ttest_ind(\n",
    "                ctp1_sr_mct_a1.loc[x].values,\n",
    "                ctp1_sr_wt_ev.loc[x].values)[1]\n",
    "        \n",
    "        _hex = \"\"\n",
    "        _value = 0.\n",
    "        if fc < -2:\n",
    "            _value = -1.0\n",
    "        elif fc > 2:\n",
    "            _value = 1.0\n",
    "        else:\n",
    "            _value = round(fc / 2, 1)\n",
    "        _rgba = m.to_rgba(_value)\n",
    "        _hex = matplotlib.colors.rgb2hex(_rgba)\n",
    "        \n",
    "        _stat = \"\"\n",
    "        if p < 0.1:\n",
    "            _stat = \"* \"\n",
    "        if p < 0.05:\n",
    "            _stat = \"** \"\n",
    "        if p < 0.01:\n",
    "            _stat = \"*** \"\n",
    "\n",
    "        print(str(x) + \"\\t\\t\" + str(_value) + \"\\t\" + str(_hex) + \"\\t\\t\" + str(_stat) + str(round(p, 2)))\n",
    "    else:\n",
    "        print(x)"
   ]
  },
  {
   "cell_type": "code",
   "execution_count": null,
   "id": "0bbb0bbd",
   "metadata": {},
   "outputs": [],
   "source": []
  },
  {
   "cell_type": "code",
   "execution_count": null,
   "id": "1f3951e8",
   "metadata": {},
   "outputs": [],
   "source": []
  }
 ],
 "metadata": {
  "kernelspec": {
   "display_name": "Python 3 (ipykernel)",
   "language": "python",
   "name": "python3"
  },
  "language_info": {
   "codemirror_mode": {
    "name": "ipython",
    "version": 3
   },
   "file_extension": ".py",
   "mimetype": "text/x-python",
   "name": "python",
   "nbconvert_exporter": "python",
   "pygments_lexer": "ipython3",
   "version": "3.8.10"
  }
 },
 "nbformat": 4,
 "nbformat_minor": 5
}
