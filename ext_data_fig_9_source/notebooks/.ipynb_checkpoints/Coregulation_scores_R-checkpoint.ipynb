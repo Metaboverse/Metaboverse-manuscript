{
 "cells": [
  {
   "cell_type": "code",
   "execution_count": 1,
   "id": "87cf2131",
   "metadata": {},
   "outputs": [],
   "source": [
    "## This script creates co-regulation scores for protein pairs in ProteomeHD\n",
    "## Hyperparameters of treeClust and TOM's sigmoid funcion were previously optimised\n",
    "## Source: https://github.com/Rappsilber-Laboratory/ProteomeHD/blob/master/R%20scripts/Coregulation_scores.R"
   ]
  },
  {
   "cell_type": "code",
   "execution_count": 1,
   "id": "646dfafd",
   "metadata": {},
   "outputs": [
    {
     "name": "stderr",
     "output_type": "stream",
     "text": [
      "Warning message:\n",
      "\"package 'data.table' was built under R version 4.0.3\"\n",
      "Warning message:\n",
      "\"package 'treeClust' was built under R version 4.0.5\"\n",
      "Loading required package: rpart\n",
      "\n",
      "Loading required package: cluster\n",
      "\n",
      "Warning message:\n",
      "\"package 'WGCNA' was built under R version 4.0.4\"\n",
      "Loading required package: dynamicTreeCut\n",
      "\n",
      "Loading required package: fastcluster\n",
      "\n",
      "\n",
      "Attaching package: 'fastcluster'\n",
      "\n",
      "\n",
      "The following object is masked from 'package:stats':\n",
      "\n",
      "    hclust\n",
      "\n",
      "\n",
      "\n",
      "\n",
      "\n",
      "Attaching package: 'WGCNA'\n",
      "\n",
      "\n",
      "The following object is masked from 'package:stats':\n",
      "\n",
      "    cor\n",
      "\n",
      "\n",
      "Warning message:\n",
      "\"package 'ggplot2' was built under R version 4.0.3\"\n",
      "Warning message:\n",
      "\"package 'egg' was built under R version 4.0.5\"\n",
      "Loading required package: gridExtra\n",
      "\n",
      "Warning message:\n",
      "\"package 'dbscan' was built under R version 4.0.5\"\n",
      "Warning message:\n",
      "\"package 'Rtsne' was built under R version 4.0.5\"\n",
      "Warning message:\n",
      "\"package 'ggrepel' was built under R version 4.0.3\"\n"
     ]
    }
   ],
   "source": [
    "# Load required libraries\n",
    "library(data.table)\n",
    "library(treeClust)\n",
    "library(WGCNA)\n",
    "\n",
    "library(ggplot2)\n",
    "library(egg)\n",
    "library(dbscan)\n",
    "\n",
    "library(Rtsne)\n",
    "library(gridExtra)\n",
    "\n",
    "library(ggrepel)"
   ]
  },
  {
   "cell_type": "code",
   "execution_count": 2,
   "id": "902d99b3",
   "metadata": {},
   "outputs": [],
   "source": [
    "# Set seed to make results reproducible\n",
    "set.seed(42)"
   ]
  },
  {
   "cell_type": "code",
   "execution_count": 3,
   "id": "d32d46fa",
   "metadata": {},
   "outputs": [
    {
     "data": {
      "text/html": [
       "'C:/Users/jorda/Desktop/projects/manuscript/mct1_analysis/notebooks'"
      ],
      "text/latex": [
       "'C:/Users/jorda/Desktop/projects/manuscript/mct1\\_analysis/notebooks'"
      ],
      "text/markdown": [
       "'C:/Users/jorda/Desktop/projects/manuscript/mct1_analysis/notebooks'"
      ],
      "text/plain": [
       "[1] \"C:/Users/jorda/Desktop/projects/manuscript/mct1_analysis/notebooks\""
      ]
     },
     "metadata": {},
     "output_type": "display_data"
    }
   ],
   "source": [
    "# Make sure the working directory is set to the folder downloaded from Github. If it isn't, set it with setwd()\n",
    "getwd()"
   ]
  },
  {
   "cell_type": "code",
   "execution_count": 4,
   "id": "c2d42558",
   "metadata": {},
   "outputs": [],
   "source": [
    "## Load ProteomeHD\n",
    "input_file <- \"../data/refine_bio_all.tsv\"\n",
    "prohd <- read.table(\n",
    "  input_file, \n",
    "  sep=\"\\t\", \n",
    "  header=TRUE, \n",
    "  row.names=\"X\")"
   ]
  },
  {
   "cell_type": "code",
   "execution_count": 5,
   "id": "82a6cb30",
   "metadata": {},
   "outputs": [
    {
     "data": {
      "text/html": [
       "<table class=\"dataframe\">\n",
       "<caption>A data.frame: 6 × 6370</caption>\n",
       "<thead>\n",
       "\t<tr><th></th><th scope=col>ERR391753</th><th scope=col>ERR391754</th><th scope=col>ERR391755</th><th scope=col>ERR391756</th><th scope=col>ERR391757</th><th scope=col>ERR391758</th><th scope=col>ERR391759</th><th scope=col>ERR391760</th><th scope=col>ERR391761</th><th scope=col>ERR391762</th><th scope=col>...</th><th scope=col>SRR8552482</th><th scope=col>SRR8552483</th><th scope=col>SRR8552484</th><th scope=col>SRR8552485</th><th scope=col>SRR8697617</th><th scope=col>SRR8697618</th><th scope=col>SRR8697619</th><th scope=col>SRR8697620</th><th scope=col>SRR8697621</th><th scope=col>SRR8697622</th></tr>\n",
       "\t<tr><th></th><th scope=col>&lt;dbl&gt;</th><th scope=col>&lt;dbl&gt;</th><th scope=col>&lt;dbl&gt;</th><th scope=col>&lt;dbl&gt;</th><th scope=col>&lt;dbl&gt;</th><th scope=col>&lt;dbl&gt;</th><th scope=col>&lt;dbl&gt;</th><th scope=col>&lt;dbl&gt;</th><th scope=col>&lt;dbl&gt;</th><th scope=col>&lt;dbl&gt;</th><th scope=col>...</th><th scope=col>&lt;dbl&gt;</th><th scope=col>&lt;dbl&gt;</th><th scope=col>&lt;dbl&gt;</th><th scope=col>&lt;dbl&gt;</th><th scope=col>&lt;dbl&gt;</th><th scope=col>&lt;dbl&gt;</th><th scope=col>&lt;dbl&gt;</th><th scope=col>&lt;dbl&gt;</th><th scope=col>&lt;dbl&gt;</th><th scope=col>&lt;dbl&gt;</th></tr>\n",
       "</thead>\n",
       "<tbody>\n",
       "\t<tr><th scope=row>ETS1-1</th><td>11.0015989</td><td>8.9840484</td><td>10.5223520</td><td>10.9123072</td><td>10.5528997</td><td>10.3809679</td><td>10.5223520</td><td>10.5742625</td><td>10.5223520</td><td>9.3759277</td><td>...</td><td>2.7236718</td><td>2.5360562</td><td>2.3694753</td><td>2.6505604</td><td>4.5634635</td><td>4.5688646</td><td>5.2010014</td><td>3.3629801</td><td>3.1729300</td><td>4.3878727</td></tr>\n",
       "\t<tr><th scope=row>ETS2-1</th><td> 1.6166161</td><td>1.8567524</td><td> 1.9110932</td><td> 1.3080401</td><td> 2.6950541</td><td> 1.3291584</td><td> 1.5149234</td><td> 1.5211889</td><td> 1.8874428</td><td>1.9850591</td><td>...</td><td>0.6236009</td><td>0.6694817</td><td>0.4965910</td><td>0.7539824</td><td>0.4906032</td><td>0.6546719</td><td>0.6891570</td><td>0.5605995</td><td>0.5903220</td><td>0.6731400</td></tr>\n",
       "\t<tr><th scope=row>HRA1</th><td> 0.5641169</td><td>0.6523946</td><td> 0.2876299</td><td> 0.3110533</td><td> 0.3933324</td><td> 0.2522918</td><td> 0.2322343</td><td> 0.4954383</td><td> 0.2574531</td><td>0.3304458</td><td>...</td><td>0.6213353</td><td>0.5173087</td><td>0.5898436</td><td>0.2181837</td><td>0.4411859</td><td>0.4431127</td><td>0.4162547</td><td>0.4364768</td><td>0.0885980</td><td>0.3882463</td></tr>\n",
       "\t<tr><th scope=row>ICR1</th><td> 0.9353088</td><td>3.1468028</td><td> 1.0158532</td><td> 0.9535070</td><td> 1.2542729</td><td> 1.2494614</td><td> 1.2477749</td><td> 1.2817888</td><td> 0.9213007</td><td>1.1088046</td><td>...</td><td>0.8366717</td><td>0.8324920</td><td>0.8156728</td><td>0.8464497</td><td>0.9663717</td><td>0.9360832</td><td>1.0274157</td><td>0.9472164</td><td>0.9266650</td><td>0.9218396</td></tr>\n",
       "\t<tr><th scope=row>IRT1</th><td> 0.5641169</td><td>0.6523946</td><td> 1.1963040</td><td> 0.9948777</td><td> 1.2219753</td><td> 1.2320231</td><td> 1.2717796</td><td> 1.2306236</td><td> 1.5084672</td><td>1.1511536</td><td>...</td><td>1.0946528</td><td>1.1404753</td><td>1.2241680</td><td>1.0908392</td><td>0.8153761</td><td>0.8347214</td><td>0.8492898</td><td>0.8747526</td><td>0.8638605</td><td>0.8140307</td></tr>\n",
       "\t<tr><th scope=row>ITS1-1</th><td> 3.9772651</td><td>5.5906746</td><td> 1.9084716</td><td> 1.5429828</td><td> 2.2875136</td><td> 1.5571162</td><td> 1.4240490</td><td> 2.1107076</td><td> 1.8440852</td><td>1.5443866</td><td>...</td><td>0.6489282</td><td>0.6873612</td><td>0.7487599</td><td>0.7621945</td><td>1.0295505</td><td>1.1761658</td><td>1.3387953</td><td>1.6224289</td><td>1.1609904</td><td>1.6448703</td></tr>\n",
       "</tbody>\n",
       "</table>\n"
      ],
      "text/latex": [
       "A data.frame: 6 × 6370\n",
       "\\begin{tabular}{r|lllllllllllllllllllll}\n",
       "  & ERR391753 & ERR391754 & ERR391755 & ERR391756 & ERR391757 & ERR391758 & ERR391759 & ERR391760 & ERR391761 & ERR391762 & ... & SRR8552482 & SRR8552483 & SRR8552484 & SRR8552485 & SRR8697617 & SRR8697618 & SRR8697619 & SRR8697620 & SRR8697621 & SRR8697622\\\\\n",
       "  & <dbl> & <dbl> & <dbl> & <dbl> & <dbl> & <dbl> & <dbl> & <dbl> & <dbl> & <dbl> & ... & <dbl> & <dbl> & <dbl> & <dbl> & <dbl> & <dbl> & <dbl> & <dbl> & <dbl> & <dbl>\\\\\n",
       "\\hline\n",
       "\tETS1-1 & 11.0015989 & 8.9840484 & 10.5223520 & 10.9123072 & 10.5528997 & 10.3809679 & 10.5223520 & 10.5742625 & 10.5223520 & 9.3759277 & ... & 2.7236718 & 2.5360562 & 2.3694753 & 2.6505604 & 4.5634635 & 4.5688646 & 5.2010014 & 3.3629801 & 3.1729300 & 4.3878727\\\\\n",
       "\tETS2-1 &  1.6166161 & 1.8567524 &  1.9110932 &  1.3080401 &  2.6950541 &  1.3291584 &  1.5149234 &  1.5211889 &  1.8874428 & 1.9850591 & ... & 0.6236009 & 0.6694817 & 0.4965910 & 0.7539824 & 0.4906032 & 0.6546719 & 0.6891570 & 0.5605995 & 0.5903220 & 0.6731400\\\\\n",
       "\tHRA1 &  0.5641169 & 0.6523946 &  0.2876299 &  0.3110533 &  0.3933324 &  0.2522918 &  0.2322343 &  0.4954383 &  0.2574531 & 0.3304458 & ... & 0.6213353 & 0.5173087 & 0.5898436 & 0.2181837 & 0.4411859 & 0.4431127 & 0.4162547 & 0.4364768 & 0.0885980 & 0.3882463\\\\\n",
       "\tICR1 &  0.9353088 & 3.1468028 &  1.0158532 &  0.9535070 &  1.2542729 &  1.2494614 &  1.2477749 &  1.2817888 &  0.9213007 & 1.1088046 & ... & 0.8366717 & 0.8324920 & 0.8156728 & 0.8464497 & 0.9663717 & 0.9360832 & 1.0274157 & 0.9472164 & 0.9266650 & 0.9218396\\\\\n",
       "\tIRT1 &  0.5641169 & 0.6523946 &  1.1963040 &  0.9948777 &  1.2219753 &  1.2320231 &  1.2717796 &  1.2306236 &  1.5084672 & 1.1511536 & ... & 1.0946528 & 1.1404753 & 1.2241680 & 1.0908392 & 0.8153761 & 0.8347214 & 0.8492898 & 0.8747526 & 0.8638605 & 0.8140307\\\\\n",
       "\tITS1-1 &  3.9772651 & 5.5906746 &  1.9084716 &  1.5429828 &  2.2875136 &  1.5571162 &  1.4240490 &  2.1107076 &  1.8440852 & 1.5443866 & ... & 0.6489282 & 0.6873612 & 0.7487599 & 0.7621945 & 1.0295505 & 1.1761658 & 1.3387953 & 1.6224289 & 1.1609904 & 1.6448703\\\\\n",
       "\\end{tabular}\n"
      ],
      "text/markdown": [
       "\n",
       "A data.frame: 6 × 6370\n",
       "\n",
       "| <!--/--> | ERR391753 &lt;dbl&gt; | ERR391754 &lt;dbl&gt; | ERR391755 &lt;dbl&gt; | ERR391756 &lt;dbl&gt; | ERR391757 &lt;dbl&gt; | ERR391758 &lt;dbl&gt; | ERR391759 &lt;dbl&gt; | ERR391760 &lt;dbl&gt; | ERR391761 &lt;dbl&gt; | ERR391762 &lt;dbl&gt; | ... ... | SRR8552482 &lt;dbl&gt; | SRR8552483 &lt;dbl&gt; | SRR8552484 &lt;dbl&gt; | SRR8552485 &lt;dbl&gt; | SRR8697617 &lt;dbl&gt; | SRR8697618 &lt;dbl&gt; | SRR8697619 &lt;dbl&gt; | SRR8697620 &lt;dbl&gt; | SRR8697621 &lt;dbl&gt; | SRR8697622 &lt;dbl&gt; |\n",
       "|---|---|---|---|---|---|---|---|---|---|---|---|---|---|---|---|---|---|---|---|---|---|\n",
       "| ETS1-1 | 11.0015989 | 8.9840484 | 10.5223520 | 10.9123072 | 10.5528997 | 10.3809679 | 10.5223520 | 10.5742625 | 10.5223520 | 9.3759277 | ... | 2.7236718 | 2.5360562 | 2.3694753 | 2.6505604 | 4.5634635 | 4.5688646 | 5.2010014 | 3.3629801 | 3.1729300 | 4.3878727 |\n",
       "| ETS2-1 |  1.6166161 | 1.8567524 |  1.9110932 |  1.3080401 |  2.6950541 |  1.3291584 |  1.5149234 |  1.5211889 |  1.8874428 | 1.9850591 | ... | 0.6236009 | 0.6694817 | 0.4965910 | 0.7539824 | 0.4906032 | 0.6546719 | 0.6891570 | 0.5605995 | 0.5903220 | 0.6731400 |\n",
       "| HRA1 |  0.5641169 | 0.6523946 |  0.2876299 |  0.3110533 |  0.3933324 |  0.2522918 |  0.2322343 |  0.4954383 |  0.2574531 | 0.3304458 | ... | 0.6213353 | 0.5173087 | 0.5898436 | 0.2181837 | 0.4411859 | 0.4431127 | 0.4162547 | 0.4364768 | 0.0885980 | 0.3882463 |\n",
       "| ICR1 |  0.9353088 | 3.1468028 |  1.0158532 |  0.9535070 |  1.2542729 |  1.2494614 |  1.2477749 |  1.2817888 |  0.9213007 | 1.1088046 | ... | 0.8366717 | 0.8324920 | 0.8156728 | 0.8464497 | 0.9663717 | 0.9360832 | 1.0274157 | 0.9472164 | 0.9266650 | 0.9218396 |\n",
       "| IRT1 |  0.5641169 | 0.6523946 |  1.1963040 |  0.9948777 |  1.2219753 |  1.2320231 |  1.2717796 |  1.2306236 |  1.5084672 | 1.1511536 | ... | 1.0946528 | 1.1404753 | 1.2241680 | 1.0908392 | 0.8153761 | 0.8347214 | 0.8492898 | 0.8747526 | 0.8638605 | 0.8140307 |\n",
       "| ITS1-1 |  3.9772651 | 5.5906746 |  1.9084716 |  1.5429828 |  2.2875136 |  1.5571162 |  1.4240490 |  2.1107076 |  1.8440852 | 1.5443866 | ... | 0.6489282 | 0.6873612 | 0.7487599 | 0.7621945 | 1.0295505 | 1.1761658 | 1.3387953 | 1.6224289 | 1.1609904 | 1.6448703 |\n",
       "\n"
      ],
      "text/plain": [
       "       ERR391753  ERR391754 ERR391755  ERR391756  ERR391757  ERR391758 \n",
       "ETS1-1 11.0015989 8.9840484 10.5223520 10.9123072 10.5528997 10.3809679\n",
       "ETS2-1  1.6166161 1.8567524  1.9110932  1.3080401  2.6950541  1.3291584\n",
       "HRA1    0.5641169 0.6523946  0.2876299  0.3110533  0.3933324  0.2522918\n",
       "ICR1    0.9353088 3.1468028  1.0158532  0.9535070  1.2542729  1.2494614\n",
       "IRT1    0.5641169 0.6523946  1.1963040  0.9948777  1.2219753  1.2320231\n",
       "ITS1-1  3.9772651 5.5906746  1.9084716  1.5429828  2.2875136  1.5571162\n",
       "       ERR391759  ERR391760  ERR391761  ERR391762 ... SRR8552482 SRR8552483\n",
       "ETS1-1 10.5223520 10.5742625 10.5223520 9.3759277 ... 2.7236718  2.5360562 \n",
       "ETS2-1  1.5149234  1.5211889  1.8874428 1.9850591 ... 0.6236009  0.6694817 \n",
       "HRA1    0.2322343  0.4954383  0.2574531 0.3304458 ... 0.6213353  0.5173087 \n",
       "ICR1    1.2477749  1.2817888  0.9213007 1.1088046 ... 0.8366717  0.8324920 \n",
       "IRT1    1.2717796  1.2306236  1.5084672 1.1511536 ... 1.0946528  1.1404753 \n",
       "ITS1-1  1.4240490  2.1107076  1.8440852 1.5443866 ... 0.6489282  0.6873612 \n",
       "       SRR8552484 SRR8552485 SRR8697617 SRR8697618 SRR8697619 SRR8697620\n",
       "ETS1-1 2.3694753  2.6505604  4.5634635  4.5688646  5.2010014  3.3629801 \n",
       "ETS2-1 0.4965910  0.7539824  0.4906032  0.6546719  0.6891570  0.5605995 \n",
       "HRA1   0.5898436  0.2181837  0.4411859  0.4431127  0.4162547  0.4364768 \n",
       "ICR1   0.8156728  0.8464497  0.9663717  0.9360832  1.0274157  0.9472164 \n",
       "IRT1   1.2241680  1.0908392  0.8153761  0.8347214  0.8492898  0.8747526 \n",
       "ITS1-1 0.7487599  0.7621945  1.0295505  1.1761658  1.3387953  1.6224289 \n",
       "       SRR8697621 SRR8697622\n",
       "ETS1-1 3.1729300  4.3878727 \n",
       "ETS2-1 0.5903220  0.6731400 \n",
       "HRA1   0.0885980  0.3882463 \n",
       "ICR1   0.9266650  0.9218396 \n",
       "IRT1   0.8638605  0.8140307 \n",
       "ITS1-1 1.1609904  1.6448703 "
      ]
     },
     "metadata": {},
     "output_type": "display_data"
    }
   ],
   "source": [
    "head(prohd)"
   ]
  },
  {
   "cell_type": "code",
   "execution_count": null,
   "id": "96aec235",
   "metadata": {},
   "outputs": [],
   "source": [
    "## Obtain treeClust distances\n",
    "tc_distances <- treeClust.dist( \n",
    "    prohd,\n",
    "    d.num = 2,\n",
    "    verbose = TRUE,\n",
    "    rcontrol = rpart.control(cp = 0.105),\n",
    "    control = treeClust.control(serule = 1.8) )"
   ]
  },
  {
   "cell_type": "code",
   "execution_count": null,
   "id": "fdad5ec0",
   "metadata": {},
   "outputs": [],
   "source": [
    "## Turn the distance matrix into a similarity matrix\n",
    "tc_sim_symm <- 1-as.matrix(tc_distances)"
   ]
  },
  {
   "cell_type": "code",
   "execution_count": null,
   "id": "a72a0bf6",
   "metadata": {},
   "outputs": [],
   "source": [
    "## Calculate the adjacency matrix using the sigmoid function\n",
    "adj_mat <- sigmoidAdjacencyFunction(tc_sim_symm, mu = 0.91, alpha = 37)"
   ]
  },
  {
   "cell_type": "code",
   "execution_count": null,
   "id": "572c332e",
   "metadata": {},
   "outputs": [],
   "source": [
    "## Get the Topological Overlap Matrix\n",
    "tom_sim <- TOMsimilarity( adj_mat, TOMDenom = \"mean\" )\n",
    "colnames(tom_sim) <- colnames(tc_sim_symm)\n",
    "row.names(tom_sim) <- colnames(tc_sim_symm)"
   ]
  },
  {
   "cell_type": "code",
   "execution_count": null,
   "id": "dfb0d034",
   "metadata": {},
   "outputs": [],
   "source": [
    "## Test if network is scale-free\n",
    "connectivity <- colSums(adj_mat, na.rm = TRUE) - 1\n",
    "#png(\"ScaleFreeNess.png\")\n",
    "scaleFreePlot(connectivity)\n",
    "#dev.off()"
   ]
  },
  {
   "cell_type": "code",
   "execution_count": null,
   "id": "e26cedf4",
   "metadata": {},
   "outputs": [],
   "source": [
    "## Turn similarity matrices into long-format, remove duplicates and merge into final table\n",
    "tc_sim_dt <- as.data.table( melt( tc_sim_symm )) \n",
    "tc_sim_dt <- tc_sim_dt[, .( Protein_1 = as.character(Var1), Protein_2 = as.character(Var2), tc_sim = value ) ]\n",
    "tc_sim_dt <- tc_sim_dt[ Protein_1 > Protein_2 ]                  # Removes duplicate pairs (incl. self-comparisons)\n",
    "\n",
    "adj_mat_dt <- as.data.table( melt( adj_mat )) \n",
    "adj_mat_dt <- adj_mat_dt[, .( Protein_1 = as.character(Var1), Protein_2 = as.character(Var2), tc_adj = value ) ]\n",
    "adj_mat_dt <- adj_mat_dt[ Protein_1 > Protein_2 ]                # Removes duplicate pairs (incl. self-comparisons)\n",
    "\n",
    "tc_tom_dt <- as.data.table( melt( tom_sim )) \n",
    "tc_tom_dt <- tc_tom_dt[, .( Protein_1 = as.character(Var1), Protein_2 = as.character(Var2), tc_tom = value ) ]\n",
    "tc_tom_dt <- tc_tom_dt[ Protein_1 > Protein_2 ]                  # Removes duplicate pairs (incl. self-comparisons)\n",
    "\n",
    "tc_dt <- merge( tc_sim_dt, adj_mat_dt, by = c(\"Protein_1\", \"Protein_2\"))\n",
    "tc_dt <- merge( tc_dt, tc_tom_dt,      by = c(\"Protein_1\", \"Protein_2\"))"
   ]
  },
  {
   "cell_type": "code",
   "execution_count": null,
   "id": "e842123b",
   "metadata": {},
   "outputs": [],
   "source": [
    "## Write out the combined result file\n",
    "fwrite(tc_dt, \"treeClust_similarities_refine_bio_rnaseq.csv\")"
   ]
  },
  {
   "cell_type": "code",
   "execution_count": null,
   "id": "367c0116",
   "metadata": {},
   "outputs": [],
   "source": [
    "## Write out simplified result file containing only the final scores\n",
    "tc_dt_final <- tc_dt[, .(Protein_1, Protein_2, coregulation_score = tc_tom)]\n",
    "fwrite(tc_dt_final, \"coregulation_scores_refine_bio_rnaseq.csv\")"
   ]
  },
  {
   "cell_type": "code",
   "execution_count": null,
   "id": "475cd42a",
   "metadata": {},
   "outputs": [],
   "source": []
  },
  {
   "cell_type": "code",
   "execution_count": null,
   "id": "4f170c7a",
   "metadata": {},
   "outputs": [],
   "source": []
  },
  {
   "cell_type": "code",
   "execution_count": null,
   "id": "fb7ef83d",
   "metadata": {},
   "outputs": [],
   "source": []
  },
  {
   "cell_type": "code",
   "execution_count": null,
   "id": "bc48a4f1",
   "metadata": {},
   "outputs": [],
   "source": [
    "#### Co-regulation score distribution (incl. histogram plot) ####\n",
    "\n",
    "tC <- fread(\"coregulation_scores_refine_bio_rnaseq.csv\")                                # Load the coregulation score (treeClust + TOM)\n",
    "tC[, SimpleID_1 := gsub(\";.+\", \"\", Protein_1)][, SimpleID_1 := gsub(\"-.+\", \"\", SimpleID_1)]  # Simplify protein 1 IDs \n",
    "tC[, SimpleID_2 := gsub(\";.+\", \"\", Protein_2)][, SimpleID_2 := gsub(\"-.+\", \"\", SimpleID_2)]  # Simplify protein 2 IDs \n",
    "tC[ SimpleID_1 >= SimpleID_2 , .N] == tC[, .N]           # Test: are all protein pairs already sorted alphabetically?"
   ]
  },
  {
   "cell_type": "code",
   "execution_count": null,
   "id": "756a59b1",
   "metadata": {},
   "outputs": [],
   "source": [
    "# We arbitrarily define the highest scoring 0.5% of protein pairs as \"co-regulated\". \n",
    "n_coreg <- floor( tC[,.N] * 0.005 )                         # How many are these?\n",
    "score_cut_off <- tC[ order(-coregulation_score)             # What score cut-off does that correspond to?           \n",
    "                     ][ n_coreg , coregulation_score ]"
   ]
  },
  {
   "cell_type": "code",
   "execution_count": null,
   "id": "82b3a331",
   "metadata": {},
   "outputs": [],
   "source": [
    "# Plot a histogram\n",
    "p1 <- ggplot(tC, aes( coregulation_score) )+\n",
    "        geom_histogram( binwidth = 0.001 , boundary = score_cut_off, fill = \"grey80\", colour = NA )+\n",
    "        geom_histogram( data = tC[ coregulation_score >= score_cut_off ],\n",
    "                        binwidth = 0.001 , boundary = score_cut_off, fill = \"magenta\", colour = NA )+\n",
    "        xlab(\"Co-regulation score\")+\n",
    "        ylab(\"Protein pairs\")+\n",
    "        geom_vline( xintercept = score_cut_off, colour = \"magenta\" , size = 0.25)+\n",
    "        scale_x_continuous( breaks = seq(0,  0.4, 0.01))+\n",
    "        theme(panel.background=element_blank(), panel.grid.major=element_blank(), panel.border=element_rect(fill=NA, colour=\"black\", size=0.25),\n",
    "              axis.text=element_text(size=5), axis.title=element_text(size=6), axis.ticks = element_line(size=0.25))\n",
    "\n",
    "p1a <- p1 + coord_cartesian( xlim = c(0, 0.05) )+\n",
    "            scale_y_continuous( breaks = seq(0, 1e+8, 1e+6))\n",
    "  \n",
    "p1b <- p1 + coord_cartesian( xlim = c(0, 0.05), ylim = c( 0, 20000))+\n",
    "            scale_y_continuous( breaks = seq(0, 20000, 10000))\n",
    "\n",
    "p1c <- ggarrange(p1a, p1b, nrow = 2 , heights = c(2,1))\n",
    "\n",
    "ggsave(\"Score_distribution.pdf\", p1c, width = 4.5, height = 6, units=c(\"cm\"))"
   ]
  },
  {
   "cell_type": "code",
   "execution_count": null,
   "id": "3e7ffae3",
   "metadata": {},
   "outputs": [],
   "source": []
  },
  {
   "cell_type": "code",
   "execution_count": null,
   "id": "460efa3e",
   "metadata": {},
   "outputs": [],
   "source": []
  },
  {
   "cell_type": "code",
   "execution_count": null,
   "id": "d3f44eb7",
   "metadata": {},
   "outputs": [],
   "source": []
  },
  {
   "cell_type": "code",
   "execution_count": null,
   "id": "3a1db78b",
   "metadata": {},
   "outputs": [],
   "source": [
    "# Load the coregulation scores (treeClust + TOM)\n",
    "DT <- fread(\"coregulation_scores_refine_bio_rnaseq.csv\")    "
   ]
  },
  {
   "cell_type": "code",
   "execution_count": null,
   "id": "4a983c0e",
   "metadata": {},
   "outputs": [],
   "source": [
    "# Turn co-regulation score back into a \"distance\" metric and log2-transform for better tSNE performance\n",
    "DT[, coreg_distance := (1 - log2(coregulation_score)) ]"
   ]
  },
  {
   "cell_type": "code",
   "execution_count": null,
   "id": "be591582",
   "metadata": {},
   "outputs": [],
   "source": [
    "# Turn the melted pairwise table back into a dist object\n",
    "DTm <- dcast( data = rbind( DT[, .(Protein_1, Protein_2, coreg_distance)],                             # These steps create a \"redundant\" table...\n",
    "                            DT[, .(Protein_1 = Protein_2, Protein_2 = Protein_1, coreg_distance)]),    # ... containing both A <-> B and B <-> pairs\n",
    "               Protein_1 ~ Protein_2 , value.var = \"coreg_distance\")                      # And this casts them into a matrix-shaped data.table\n",
    "DTm <- as.data.frame(DTm)                 # Turn into data.frame\n",
    "rownames(DTm) <- DTm$Protein_1            # Create rownames\n",
    "print(dim(DTm))\n",
    "DTm$Protein_1 <- NULL                     # Drop original name column\n",
    "DTm <- as.dist( as.matrix( DTm ))         # Turn into numeric matrix then dist object\n",
    "protein_IDs <- attr(DTm, \"Labels\")        # Extract protein IDs from dist object"
   ]
  },
  {
   "cell_type": "code",
   "execution_count": null,
   "id": "fe8e70b1",
   "metadata": {},
   "outputs": [],
   "source": [
    "cor_m <- cor(t(scale(prohd)))"
   ]
  },
  {
   "cell_type": "code",
   "execution_count": null,
   "id": "68378cea",
   "metadata": {},
   "outputs": [],
   "source": [
    "#### Create tSNE map ####\n",
    "set.seed(123)\n",
    "SNE <- Rtsne(\n",
    "    DTm,\n",
    "    is_distance = TRUE,\n",
    "    theta = 0.0, \n",
    "    perplexity = 50, \n",
    "    max_iter = 1000,\n",
    "    num_threads=0,\n",
    "    verbose = TRUE)\n",
    "SNE <- as.data.table( SNE$Y )\n",
    "SNE[, ID := protein_IDs ]"
   ]
  },
  {
   "cell_type": "code",
   "execution_count": null,
   "id": "99f60d19",
   "metadata": {},
   "outputs": [],
   "source": [
    "targets = list(\n",
    "    'CTP1', \n",
    "    'PPQ1', 'YER130C', 'TCM62', 'CLU1', 'CAT5', 'SAL1', 'MMR1',\n",
    "    'MCT1',\n",
    "    'MAE1', 'PYC1', 'PYC2', 'CIT2', 'CIT3', 'GDH2', \n",
    "    'KGD1', 'SDH4', 'SDH3', 'SDH1', 'FUM1', 'SDH2',\n",
    "    'GDH1', 'PHD1', 'DLD1', 'DLD3'\n",
    "    \n",
    "    #'COX12', 'COX6', 'COX5A', 'COX3', 'COX16', 'COX9', 'COX15', 'COX4', 'COX7', 'COX2', 'COX1', 'COX8', 'COX13',  \n",
    "    #'ATP5', 'ATP7', 'ATP3', 'ATP25', 'ATP20', 'ATP18', 'ATP4', 'ATP12',  \n",
    "    #'COQ10', 'COQ5', 'COQ1', 'COQ9' \n",
    ")"
   ]
  },
  {
   "cell_type": "code",
   "execution_count": null,
   "id": "0dde839d",
   "metadata": {},
   "outputs": [],
   "source": [
    "targets = list(\n",
    "    'CTP1', \n",
    "    'PPQ1', 'YER130C', 'TCM62', 'CLU1', 'CAT5', 'SAL1', 'MMR1',\n",
    "    'MCT1',\n",
    "    'MAE1', 'PYC1', 'PYC2', 'CIT2', 'CIT3', 'GDH2', \n",
    "    'KGD1', 'SDH4', 'SDH3', 'SDH1', 'FUM1', 'SDH2',\n",
    "    'GDH1', 'PHD1', 'DLD1', 'DLD3'\n",
    "    \n",
    "    #'COX12', 'COX6', 'COX5A', 'COX3', 'COX16', 'COX9', 'COX15', 'COX4', 'COX7', 'COX2', 'COX1', 'COX8', 'COX13',  \n",
    "    #'ATP5', 'ATP7', 'ATP3', 'ATP25', 'ATP20', 'ATP18', 'ATP4', 'ATP12',  \n",
    "    #'COQ10', 'COQ5', 'COQ1', 'COQ9' \n",
    ")\n",
    "\n",
    "targets3 <- list(\n",
    "    'YBR291C', #CTp1\n",
    "    'YOR221C', #MCT1\n",
    "    'YKL029C', #MAE1\n",
    "    'YDL215C', #GDH2\n",
    "    'YGL062W', #PYC1\n",
    "    'YBR218C', #PYC2\n",
    "    'YCR005C', #CIT2\n",
    "    'YPR001W') #CIT3"
   ]
  },
  {
   "cell_type": "code",
   "execution_count": null,
   "id": "bf4198f4",
   "metadata": {},
   "outputs": [],
   "source": [
    "pSNE <- ggplot(\n",
    "    SNE, \n",
    "    aes(x = V1, y = V2))+\n",
    "        geom_point(shape = 16, size=1, alpha=1)+\n",
    "        geom_point(data = SNE[SNE$ID == 'YBR291C', ], shape = 16, size = 1, colour = \"#7fc97f\")+\n",
    "        geom_point(data = SNE[SNE$ID == 'MAE1', ], shape = 16, size = 1, colour = \"#beaed4\")+\n",
    "        geom_point(data = SNE[SNE$ID == 'PYC1', ], shape = 16, size = 1, colour = \"#fdc086\")+\n",
    "        geom_point(data = SNE[SNE$ID == 'PYC2', ], shape = 16, size = 1, colour = \"#ffff99\")+\n",
    "        geom_point(data = SNE[SNE$ID == 'CIT2', ], shape = 16, size = 1, colour = \"#386cb0\")+\n",
    "        geom_point(data = SNE[SNE$ID == 'CIT3', ], shape = 16, size = 1, colour = \"#f0027f\")+\n",
    "        geom_point(data = SNE[SNE$ID == 'GDH2', ], shape = 16, size = 1, colour = \"#bf5b17\")+\n",
    "        geom_point(data = SNE[SNE$ID == 'YOR221C', ], shape = 16, size = 1, colour = \"#666666\")+\n",
    "        theme(panel.background=element_blank(), \n",
    "    axis.text=element_blank(), \n",
    "    axis.ticks=element_blank(),\n",
    "    panel.border=element_rect(fill=NA, \n",
    "        colour=\"black\", \n",
    "        size=0.25), \n",
    "    panel.grid.major=element_blank(),\n",
    "    axis.title=element_blank(), \n",
    "    plot.margin = unit( c(0.5, 0.5, 0.5, 0.5), \"mm\")\n",
    ")\n",
    "#pSNE <- \n",
    "pSNE + \n",
    "  geom_label_repel(\n",
    "            aes(label = ifelse(ID %in% targets3 == TRUE, as.character(ID), '')),\n",
    "            box.padding   = 0.35, \n",
    "            point.padding = 0,\n",
    "            force = 7,\n",
    "            max.overlaps = 5000,\n",
    "            segment.color = 'grey50') +\n",
    "  theme_classic()"
   ]
  },
  {
   "cell_type": "code",
   "execution_count": 292,
   "id": "2e110f82",
   "metadata": {},
   "outputs": [],
   "source": [
    "ggsave(\"tSNE_map_rna.pdf\", pSNE, width=24, height=24, units=c(\"cm\"))"
   ]
  },
  {
   "cell_type": "code",
   "execution_count": 293,
   "id": "7de15ed7",
   "metadata": {},
   "outputs": [
    {
     "data": {
      "text/html": [
       "<table class=\"dataframe\">\n",
       "<caption>A data.table: 1 × 3</caption>\n",
       "<thead>\n",
       "\t<tr><th scope=col>V1</th><th scope=col>V2</th><th scope=col>ID</th></tr>\n",
       "\t<tr><th scope=col>&lt;dbl&gt;</th><th scope=col>&lt;dbl&gt;</th><th scope=col>&lt;chr&gt;</th></tr>\n",
       "</thead>\n",
       "<tbody>\n",
       "\t<tr><td>23.09623</td><td>10.78231</td><td>YBR291C</td></tr>\n",
       "</tbody>\n",
       "</table>\n"
      ],
      "text/latex": [
       "A data.table: 1 × 3\n",
       "\\begin{tabular}{lll}\n",
       " V1 & V2 & ID\\\\\n",
       " <dbl> & <dbl> & <chr>\\\\\n",
       "\\hline\n",
       "\t 23.09623 & 10.78231 & YBR291C\\\\\n",
       "\\end{tabular}\n"
      ],
      "text/markdown": [
       "\n",
       "A data.table: 1 × 3\n",
       "\n",
       "| V1 &lt;dbl&gt; | V2 &lt;dbl&gt; | ID &lt;chr&gt; |\n",
       "|---|---|---|\n",
       "| 23.09623 | 10.78231 | YBR291C |\n",
       "\n"
      ],
      "text/plain": [
       "  V1       V2       ID     \n",
       "1 23.09623 10.78231 YBR291C"
      ]
     },
     "metadata": {},
     "output_type": "display_data"
    }
   ],
   "source": [
    "SNE[SNE$ID == 'YBR291C', ]"
   ]
  },
  {
   "cell_type": "code",
   "execution_count": null,
   "id": "70e1eef3",
   "metadata": {},
   "outputs": [],
   "source": []
  },
  {
   "cell_type": "code",
   "execution_count": 167,
   "id": "4cb985bb",
   "metadata": {},
   "outputs": [],
   "source": [
    "targets2 = list(\n",
    "    'CTP1', \n",
    "    #'PPQ1', 'YER130C', 'TCM62', 'CLU1', 'CAT5', 'SAL1', 'MMR1',\n",
    "    'MCT1',\n",
    "    'MAE1', 'PYC1', 'PYC2', 'CIT2', 'CIT3', 'GDH2', \n",
    "    'KGD1', 'SDH4', 'SDH3', 'SDH1', 'FUM1', 'SDH2',\n",
    "    'GDH1', 'PHD1', 'DLD1', 'DLD3'\n",
    "    \n",
    "    #'COX12', 'COX6', 'COX5A', 'COX3', 'COX16', 'COX9', 'COX15', 'COX4', 'COX7', 'COX2', 'COX1', 'COX8', 'COX13',  \n",
    "    #'ATP5', 'ATP7', 'ATP3', 'ATP25', 'ATP20', 'ATP18', 'ATP4', 'ATP12',  \n",
    "    #'COQ10', 'COQ5', 'COQ1', 'COQ9' \n",
    ")"
   ]
  },
  {
   "cell_type": "code",
   "execution_count": 170,
   "id": "ad9baf26",
   "metadata": {},
   "outputs": [],
   "source": [
    "pPCA <- ggplot(\n",
    "    var_coord_id, \n",
    "    aes(x = PC1, y = PC2))+\n",
    "        geom_point(shape = 16, size=1, alpha=1)+\n",
    "        geom_point(data = var_coord_id[var_coord_id$ID == 'CTP1', ], shape = 16, size = 1, colour = \"#7fc97f\")+\n",
    "        geom_point(data = var_coord_id[var_coord_id$ID == 'MAE1', ], shape = 16, size = 1, colour = \"#beaed4\")+\n",
    "        geom_point(data = var_coord_id[var_coord_id$ID == 'PYC1', ], shape = 16, size = 1, colour = \"#fdc086\")+\n",
    "        geom_point(data = var_coord_id[var_coord_id$ID == 'PYC2', ], shape = 16, size = 1, colour = \"#ffff99\")+\n",
    "        geom_point(data = var_coord_id[var_coord_id$ID == 'CIT2', ], shape = 16, size = 1, colour = \"#386cb0\")+\n",
    "        geom_point(data = var_coord_id[var_coord_id$ID == 'CIT3', ], shape = 16, size = 1, colour = \"#f0027f\")+\n",
    "        geom_point(data = var_coord_id[var_coord_id$ID == 'GDH2', ], shape = 16, size = 1, colour = \"#bf5b17\")+\n",
    "        geom_point(data = var_coord_id[var_coord_id$ID == 'MCT1', ], shape = 16, size = 1, colour = \"#666666\")+\n",
    "        theme(panel.background=element_blank(), \n",
    "    axis.text=element_blank(), \n",
    "    axis.ticks=element_blank(),\n",
    "    panel.border=element_rect(fill=NA, \n",
    "        colour=\"black\", \n",
    "        size=0.25), \n",
    "    panel.grid.major=element_blank(),\n",
    "    axis.title=element_blank(), \n",
    "              axis.ticks.x=element_blank(),\n",
    "    plot.margin = unit( c(0.5, 0.5, 0.5, 0.5), \"mm\")\n",
    ")\n",
    "pPCA <- pPCA + \n",
    "  geom_label_repel(\n",
    "            aes(label = ifelse(ID %in% targets2 == TRUE, as.character(ID), '')),\n",
    "            box.padding   = 0.35, \n",
    "            point.padding = 0,\n",
    "            force = 7,\n",
    "            max.overlaps = 5000,\n",
    "            segment.color = 'grey50') +\n",
    "  theme_classic()"
   ]
  },
  {
   "cell_type": "code",
   "execution_count": 171,
   "id": "c0664d3e",
   "metadata": {},
   "outputs": [],
   "source": [
    "ggsave(\"pca_map.pdf\", pPCA, width=24, height=24, units=c(\"cm\"))"
   ]
  },
  {
   "cell_type": "code",
   "execution_count": null,
   "id": "aa9c637a",
   "metadata": {},
   "outputs": [],
   "source": []
  },
  {
   "cell_type": "code",
   "execution_count": null,
   "id": "b4f9c4b2",
   "metadata": {},
   "outputs": [],
   "source": []
  },
  {
   "cell_type": "code",
   "execution_count": null,
   "id": "ddf41eb0",
   "metadata": {},
   "outputs": [],
   "source": []
  },
  {
   "cell_type": "code",
   "execution_count": null,
   "id": "df18de53",
   "metadata": {},
   "outputs": [],
   "source": []
  },
  {
   "cell_type": "code",
   "execution_count": null,
   "id": "5f91145b",
   "metadata": {},
   "outputs": [],
   "source": [
    "#7fc97f\n",
    "#beaed4\n",
    "#fdc086\n",
    "#ffff99\n",
    "#386cb0\n",
    "#f0027f\n",
    "#bf5b17\n",
    "#666666"
   ]
  },
  {
   "cell_type": "code",
   "execution_count": null,
   "id": "afc0796e",
   "metadata": {},
   "outputs": [],
   "source": [
    "custom_list = {\n",
    "    \"Mae1\": \"YKL029C\",\n",
    "    \"Pyc1\": \"YGL062W\",\n",
    "    \"Pyc2\": \"YBR218C\",\n",
    "    \"Cit2\": \"YCR005C\",\n",
    "    \"Cit3\": \"YPR001W\",\n",
    "    \"Gdh2\": \"YDL215C\"\n",
    "}"
   ]
  },
  {
   "cell_type": "code",
   "execution_count": null,
   "id": "d5f0b919",
   "metadata": {},
   "outputs": [],
   "source": []
  },
  {
   "cell_type": "code",
   "execution_count": 104,
   "id": "b07e9405",
   "metadata": {},
   "outputs": [
    {
     "data": {
      "text/html": [
       "<table class=\"dataframe\">\n",
       "<caption>A data.table: 6 × 3</caption>\n",
       "<thead>\n",
       "\t<tr><th scope=col>V1</th><th scope=col>V2</th><th scope=col>ID</th></tr>\n",
       "\t<tr><th scope=col>&lt;dbl&gt;</th><th scope=col>&lt;dbl&gt;</th><th scope=col>&lt;chr&gt;</th></tr>\n",
       "</thead>\n",
       "<tbody>\n",
       "\t<tr><td>19.504573</td><td> 18.2870945</td><td>1-Oct</td></tr>\n",
       "\t<tr><td>14.681064</td><td>-16.8052186</td><td>AAC1 </td></tr>\n",
       "\t<tr><td>20.177820</td><td>-17.5730206</td><td>AAC3 </td></tr>\n",
       "\t<tr><td>19.065996</td><td>  0.4344192</td><td>AAH1 </td></tr>\n",
       "\t<tr><td>-1.045769</td><td> -3.1575090</td><td>AAP1 </td></tr>\n",
       "\t<tr><td>-2.418124</td><td> -1.7735171</td><td>AAR2 </td></tr>\n",
       "</tbody>\n",
       "</table>\n"
      ],
      "text/latex": [
       "A data.table: 6 × 3\n",
       "\\begin{tabular}{lll}\n",
       " V1 & V2 & ID\\\\\n",
       " <dbl> & <dbl> & <chr>\\\\\n",
       "\\hline\n",
       "\t 19.504573 &  18.2870945 & 1-Oct\\\\\n",
       "\t 14.681064 & -16.8052186 & AAC1 \\\\\n",
       "\t 20.177820 & -17.5730206 & AAC3 \\\\\n",
       "\t 19.065996 &   0.4344192 & AAH1 \\\\\n",
       "\t -1.045769 &  -3.1575090 & AAP1 \\\\\n",
       "\t -2.418124 &  -1.7735171 & AAR2 \\\\\n",
       "\\end{tabular}\n"
      ],
      "text/markdown": [
       "\n",
       "A data.table: 6 × 3\n",
       "\n",
       "| V1 &lt;dbl&gt; | V2 &lt;dbl&gt; | ID &lt;chr&gt; |\n",
       "|---|---|---|\n",
       "| 19.504573 |  18.2870945 | 1-Oct |\n",
       "| 14.681064 | -16.8052186 | AAC1  |\n",
       "| 20.177820 | -17.5730206 | AAC3  |\n",
       "| 19.065996 |   0.4344192 | AAH1  |\n",
       "| -1.045769 |  -3.1575090 | AAP1  |\n",
       "| -2.418124 |  -1.7735171 | AAR2  |\n",
       "\n"
      ],
      "text/plain": [
       "  V1        V2          ID   \n",
       "1 19.504573  18.2870945 1-Oct\n",
       "2 14.681064 -16.8052186 AAC1 \n",
       "3 20.177820 -17.5730206 AAC3 \n",
       "4 19.065996   0.4344192 AAH1 \n",
       "5 -1.045769  -3.1575090 AAP1 \n",
       "6 -2.418124  -1.7735171 AAR2 "
      ]
     },
     "metadata": {},
     "output_type": "display_data"
    }
   ],
   "source": [
    "head()"
   ]
  },
  {
   "cell_type": "code",
   "execution_count": 294,
   "id": "2fde8b1f",
   "metadata": {},
   "outputs": [],
   "source": [
    "write.csv(pSNE$data, \"output.csv\")"
   ]
  },
  {
   "cell_type": "code",
   "execution_count": null,
   "id": "72924770",
   "metadata": {},
   "outputs": [],
   "source": []
  },
  {
   "cell_type": "code",
   "execution_count": null,
   "id": "56ba8711",
   "metadata": {},
   "outputs": [],
   "source": []
  },
  {
   "cell_type": "code",
   "execution_count": null,
   "id": "caaf2b07",
   "metadata": {},
   "outputs": [],
   "source": []
  },
  {
   "cell_type": "code",
   "execution_count": 252,
   "id": "1a4b1640",
   "metadata": {},
   "outputs": [],
   "source": [
    "input_file <- \"../data/mct1_rnaseq_data/sce_mct1_deduped_tpm_threshold25.tsv\""
   ]
  },
  {
   "cell_type": "code",
   "execution_count": 253,
   "id": "10f88ab9",
   "metadata": {},
   "outputs": [],
   "source": [
    "rnaseq <- read.table(\n",
    "  input_file, \n",
    "  sep=\"\\t\", \n",
    "  header=TRUE, \n",
    "  row.names=\"X\")"
   ]
  },
  {
   "cell_type": "code",
   "execution_count": 255,
   "id": "76d36a49",
   "metadata": {},
   "outputs": [
    {
     "data": {
      "text/html": [
       "<style>\n",
       ".list-inline {list-style: none; margin:0; padding: 0}\n",
       ".list-inline>li {display: inline-block}\n",
       ".list-inline>li:not(:last-child)::after {content: \"\\00b7\"; padding: 0 .5ex}\n",
       "</style>\n",
       "<ol class=list-inline><li>5450</li><li>24</li></ol>\n"
      ],
      "text/latex": [
       "\\begin{enumerate*}\n",
       "\\item 5450\n",
       "\\item 24\n",
       "\\end{enumerate*}\n"
      ],
      "text/markdown": [
       "1. 5450\n",
       "2. 24\n",
       "\n",
       "\n"
      ],
      "text/plain": [
       "[1] 5450   24"
      ]
     },
     "metadata": {},
     "output_type": "display_data"
    }
   ],
   "source": [
    "dim(rnaseq)"
   ]
  },
  {
   "cell_type": "code",
   "execution_count": 256,
   "id": "79ec0fcc",
   "metadata": {},
   "outputs": [],
   "source": [
    "rnaseq_s <- scale(rnaseq)"
   ]
  },
  {
   "cell_type": "code",
   "execution_count": 257,
   "id": "289c3f0c",
   "metadata": {},
   "outputs": [],
   "source": [
    "rnaseq_st <- t(rnaseq_s)"
   ]
  },
  {
   "cell_type": "code",
   "execution_count": 258,
   "id": "4e01a30b",
   "metadata": {},
   "outputs": [
    {
     "data": {
      "text/html": [
       "<table class=\"dataframe\">\n",
       "<caption>A matrix: 6 × 5450 of type dbl</caption>\n",
       "<thead>\n",
       "\t<tr><th></th><th scope=col>ICR1</th><th scope=col>LSR1</th><th scope=col>NME1</th><th scope=col>RUF20</th><th scope=col>RUF21</th><th scope=col>SCR1</th><th scope=col>SRG1</th><th scope=col>YAL001C</th><th scope=col>YAL002W</th><th scope=col>YAL003W</th><th scope=col>...</th><th scope=col>snR63</th><th scope=col>snR69</th><th scope=col>snR70</th><th scope=col>snR76</th><th scope=col>snR8</th><th scope=col>snR82</th><th scope=col>snR83</th><th scope=col>snR84</th><th scope=col>snR86</th><th scope=col>snR9</th></tr>\n",
       "</thead>\n",
       "<tbody>\n",
       "\t<tr><th scope=row>X14251X1</th><td>-1.731426</td><td> 0.38964304</td><td>-0.57119579</td><td>-0.17718838</td><td>-1.830513</td><td> 1.5551068</td><td>0.4394970</td><td>-0.6252072</td><td>-1.0224432</td><td>1.550487</td><td>...</td><td>-0.65468877</td><td>1.3847528</td><td>1.2676861</td><td>1.2984695</td><td>-0.21322387</td><td>-0.26751525</td><td>-0.1494492</td><td>0.25380825</td><td>0.1993551</td><td>2.166556</td></tr>\n",
       "\t<tr><th scope=row>X14251X2</th><td>-1.786372</td><td>-0.49972984</td><td>-0.83225034</td><td> 0.40737755</td><td>-1.834909</td><td> 0.7152007</td><td>0.6179835</td><td>-0.5291303</td><td>-1.1702694</td><td>1.217540</td><td>...</td><td>-0.52121793</td><td>1.9221164</td><td>1.2093182</td><td>0.7631965</td><td>-0.40373820</td><td>-0.39396499</td><td>-0.4155076</td><td>0.49870223</td><td>0.6394497</td><td>2.752107</td></tr>\n",
       "\t<tr><th scope=row>X14251X3</th><td>-1.494628</td><td>-0.06081631</td><td>-0.08978704</td><td> 0.10888465</td><td>-1.485335</td><td> 1.0817792</td><td>0.3281574</td><td>-0.6686617</td><td>-0.9052178</td><td>1.890402</td><td>...</td><td>-0.06405718</td><td>0.5043434</td><td>0.6621524</td><td>0.9105616</td><td> 0.76254843</td><td>-0.07158412</td><td> 0.2927302</td><td>0.12213344</td><td>0.3562519</td><td>1.337518</td></tr>\n",
       "\t<tr><th scope=row>X14251X4</th><td>-1.835715</td><td>-0.38769413</td><td>-0.94998686</td><td>-0.41571712</td><td>-1.810288</td><td> 0.7070646</td><td>0.2837919</td><td>-0.6937246</td><td>-1.0519312</td><td>1.676101</td><td>...</td><td>-0.95630899</td><td>0.3331547</td><td>1.2394739</td><td>1.1514536</td><td> 0.05323499</td><td>-0.48828282</td><td>-0.5769813</td><td>0.07730142</td><td>0.1107705</td><td>2.089807</td></tr>\n",
       "\t<tr><th scope=row>X14251X5</th><td>-1.741690</td><td>-1.04909594</td><td>-0.88872648</td><td> 0.58747205</td><td>-1.664506</td><td>-0.8038092</td><td>0.8714409</td><td>-0.6337309</td><td>-1.1327953</td><td>1.426124</td><td>...</td><td>-0.08662254</td><td>1.4068803</td><td>1.1985383</td><td>1.2085178</td><td> 0.33109364</td><td>-0.34324899</td><td>-0.4163094</td><td>0.41821499</td><td>0.4473125</td><td>1.784040</td></tr>\n",
       "\t<tr><th scope=row>X14251X6</th><td>-1.712610</td><td>-0.46117604</td><td>-0.71164102</td><td>-0.08935962</td><td>-1.547295</td><td>-0.2232603</td><td>0.6436296</td><td>-0.7995573</td><td>-1.0367186</td><td>1.700006</td><td>...</td><td>-1.08950299</td><td>1.6900416</td><td>1.8464775</td><td>0.7157013</td><td>-0.29583986</td><td>-0.06923228</td><td>-0.5934380</td><td>0.59444022</td><td>0.1172003</td><td>2.806439</td></tr>\n",
       "</tbody>\n",
       "</table>\n"
      ],
      "text/latex": [
       "A matrix: 6 × 5450 of type dbl\n",
       "\\begin{tabular}{r|lllllllllllllllllllll}\n",
       "  & ICR1 & LSR1 & NME1 & RUF20 & RUF21 & SCR1 & SRG1 & YAL001C & YAL002W & YAL003W & ... & snR63 & snR69 & snR70 & snR76 & snR8 & snR82 & snR83 & snR84 & snR86 & snR9\\\\\n",
       "\\hline\n",
       "\tX14251X1 & -1.731426 &  0.38964304 & -0.57119579 & -0.17718838 & -1.830513 &  1.5551068 & 0.4394970 & -0.6252072 & -1.0224432 & 1.550487 & ... & -0.65468877 & 1.3847528 & 1.2676861 & 1.2984695 & -0.21322387 & -0.26751525 & -0.1494492 & 0.25380825 & 0.1993551 & 2.166556\\\\\n",
       "\tX14251X2 & -1.786372 & -0.49972984 & -0.83225034 &  0.40737755 & -1.834909 &  0.7152007 & 0.6179835 & -0.5291303 & -1.1702694 & 1.217540 & ... & -0.52121793 & 1.9221164 & 1.2093182 & 0.7631965 & -0.40373820 & -0.39396499 & -0.4155076 & 0.49870223 & 0.6394497 & 2.752107\\\\\n",
       "\tX14251X3 & -1.494628 & -0.06081631 & -0.08978704 &  0.10888465 & -1.485335 &  1.0817792 & 0.3281574 & -0.6686617 & -0.9052178 & 1.890402 & ... & -0.06405718 & 0.5043434 & 0.6621524 & 0.9105616 &  0.76254843 & -0.07158412 &  0.2927302 & 0.12213344 & 0.3562519 & 1.337518\\\\\n",
       "\tX14251X4 & -1.835715 & -0.38769413 & -0.94998686 & -0.41571712 & -1.810288 &  0.7070646 & 0.2837919 & -0.6937246 & -1.0519312 & 1.676101 & ... & -0.95630899 & 0.3331547 & 1.2394739 & 1.1514536 &  0.05323499 & -0.48828282 & -0.5769813 & 0.07730142 & 0.1107705 & 2.089807\\\\\n",
       "\tX14251X5 & -1.741690 & -1.04909594 & -0.88872648 &  0.58747205 & -1.664506 & -0.8038092 & 0.8714409 & -0.6337309 & -1.1327953 & 1.426124 & ... & -0.08662254 & 1.4068803 & 1.1985383 & 1.2085178 &  0.33109364 & -0.34324899 & -0.4163094 & 0.41821499 & 0.4473125 & 1.784040\\\\\n",
       "\tX14251X6 & -1.712610 & -0.46117604 & -0.71164102 & -0.08935962 & -1.547295 & -0.2232603 & 0.6436296 & -0.7995573 & -1.0367186 & 1.700006 & ... & -1.08950299 & 1.6900416 & 1.8464775 & 0.7157013 & -0.29583986 & -0.06923228 & -0.5934380 & 0.59444022 & 0.1172003 & 2.806439\\\\\n",
       "\\end{tabular}\n"
      ],
      "text/markdown": [
       "\n",
       "A matrix: 6 × 5450 of type dbl\n",
       "\n",
       "| <!--/--> | ICR1 | LSR1 | NME1 | RUF20 | RUF21 | SCR1 | SRG1 | YAL001C | YAL002W | YAL003W | ... | snR63 | snR69 | snR70 | snR76 | snR8 | snR82 | snR83 | snR84 | snR86 | snR9 |\n",
       "|---|---|---|---|---|---|---|---|---|---|---|---|---|---|---|---|---|---|---|---|---|---|\n",
       "| X14251X1 | -1.731426 |  0.38964304 | -0.57119579 | -0.17718838 | -1.830513 |  1.5551068 | 0.4394970 | -0.6252072 | -1.0224432 | 1.550487 | ... | -0.65468877 | 1.3847528 | 1.2676861 | 1.2984695 | -0.21322387 | -0.26751525 | -0.1494492 | 0.25380825 | 0.1993551 | 2.166556 |\n",
       "| X14251X2 | -1.786372 | -0.49972984 | -0.83225034 |  0.40737755 | -1.834909 |  0.7152007 | 0.6179835 | -0.5291303 | -1.1702694 | 1.217540 | ... | -0.52121793 | 1.9221164 | 1.2093182 | 0.7631965 | -0.40373820 | -0.39396499 | -0.4155076 | 0.49870223 | 0.6394497 | 2.752107 |\n",
       "| X14251X3 | -1.494628 | -0.06081631 | -0.08978704 |  0.10888465 | -1.485335 |  1.0817792 | 0.3281574 | -0.6686617 | -0.9052178 | 1.890402 | ... | -0.06405718 | 0.5043434 | 0.6621524 | 0.9105616 |  0.76254843 | -0.07158412 |  0.2927302 | 0.12213344 | 0.3562519 | 1.337518 |\n",
       "| X14251X4 | -1.835715 | -0.38769413 | -0.94998686 | -0.41571712 | -1.810288 |  0.7070646 | 0.2837919 | -0.6937246 | -1.0519312 | 1.676101 | ... | -0.95630899 | 0.3331547 | 1.2394739 | 1.1514536 |  0.05323499 | -0.48828282 | -0.5769813 | 0.07730142 | 0.1107705 | 2.089807 |\n",
       "| X14251X5 | -1.741690 | -1.04909594 | -0.88872648 |  0.58747205 | -1.664506 | -0.8038092 | 0.8714409 | -0.6337309 | -1.1327953 | 1.426124 | ... | -0.08662254 | 1.4068803 | 1.1985383 | 1.2085178 |  0.33109364 | -0.34324899 | -0.4163094 | 0.41821499 | 0.4473125 | 1.784040 |\n",
       "| X14251X6 | -1.712610 | -0.46117604 | -0.71164102 | -0.08935962 | -1.547295 | -0.2232603 | 0.6436296 | -0.7995573 | -1.0367186 | 1.700006 | ... | -1.08950299 | 1.6900416 | 1.8464775 | 0.7157013 | -0.29583986 | -0.06923228 | -0.5934380 | 0.59444022 | 0.1172003 | 2.806439 |\n",
       "\n"
      ],
      "text/plain": [
       "         ICR1      LSR1        NME1        RUF20       RUF21     SCR1      \n",
       "X14251X1 -1.731426  0.38964304 -0.57119579 -0.17718838 -1.830513  1.5551068\n",
       "X14251X2 -1.786372 -0.49972984 -0.83225034  0.40737755 -1.834909  0.7152007\n",
       "X14251X3 -1.494628 -0.06081631 -0.08978704  0.10888465 -1.485335  1.0817792\n",
       "X14251X4 -1.835715 -0.38769413 -0.94998686 -0.41571712 -1.810288  0.7070646\n",
       "X14251X5 -1.741690 -1.04909594 -0.88872648  0.58747205 -1.664506 -0.8038092\n",
       "X14251X6 -1.712610 -0.46117604 -0.71164102 -0.08935962 -1.547295 -0.2232603\n",
       "         SRG1      YAL001C    YAL002W    YAL003W  ... snR63       snR69    \n",
       "X14251X1 0.4394970 -0.6252072 -1.0224432 1.550487 ... -0.65468877 1.3847528\n",
       "X14251X2 0.6179835 -0.5291303 -1.1702694 1.217540 ... -0.52121793 1.9221164\n",
       "X14251X3 0.3281574 -0.6686617 -0.9052178 1.890402 ... -0.06405718 0.5043434\n",
       "X14251X4 0.2837919 -0.6937246 -1.0519312 1.676101 ... -0.95630899 0.3331547\n",
       "X14251X5 0.8714409 -0.6337309 -1.1327953 1.426124 ... -0.08662254 1.4068803\n",
       "X14251X6 0.6436296 -0.7995573 -1.0367186 1.700006 ... -1.08950299 1.6900416\n",
       "         snR70     snR76     snR8        snR82       snR83      snR84     \n",
       "X14251X1 1.2676861 1.2984695 -0.21322387 -0.26751525 -0.1494492 0.25380825\n",
       "X14251X2 1.2093182 0.7631965 -0.40373820 -0.39396499 -0.4155076 0.49870223\n",
       "X14251X3 0.6621524 0.9105616  0.76254843 -0.07158412  0.2927302 0.12213344\n",
       "X14251X4 1.2394739 1.1514536  0.05323499 -0.48828282 -0.5769813 0.07730142\n",
       "X14251X5 1.1985383 1.2085178  0.33109364 -0.34324899 -0.4163094 0.41821499\n",
       "X14251X6 1.8464775 0.7157013 -0.29583986 -0.06923228 -0.5934380 0.59444022\n",
       "         snR86     snR9    \n",
       "X14251X1 0.1993551 2.166556\n",
       "X14251X2 0.6394497 2.752107\n",
       "X14251X3 0.3562519 1.337518\n",
       "X14251X4 0.1107705 2.089807\n",
       "X14251X5 0.4473125 1.784040\n",
       "X14251X6 0.1172003 2.806439"
      ]
     },
     "metadata": {},
     "output_type": "display_data"
    }
   ],
   "source": [
    "head(rnaseq_st)"
   ]
  },
  {
   "cell_type": "code",
   "execution_count": 259,
   "id": "b630b131",
   "metadata": {},
   "outputs": [],
   "source": [
    "res_pca_vanilla <- prcomp(rnaseq_st, scale=FALSE)"
   ]
  },
  {
   "cell_type": "code",
   "execution_count": 261,
   "id": "d2e95f52",
   "metadata": {},
   "outputs": [
    {
     "data": {
      "text/html": [
       "<table class=\"dataframe\">\n",
       "<caption>A matrix: 6 × 4 of type dbl</caption>\n",
       "<thead>\n",
       "\t<tr><th></th><th scope=col>PC1</th><th scope=col>PC2</th><th scope=col>PC3</th><th scope=col>PC4</th></tr>\n",
       "</thead>\n",
       "<tbody>\n",
       "\t<tr><th scope=row>ICR1</th><td> 0.05885595</td><td>-0.04488044</td><td>-0.09729293</td><td> 0.06186443</td></tr>\n",
       "\t<tr><th scope=row>LSR1</th><td>-0.26944320</td><td> 0.05790684</td><td>-0.15354640</td><td> 0.15021890</td></tr>\n",
       "\t<tr><th scope=row>NME1</th><td>-0.06810757</td><td>-0.11582079</td><td>-0.13422531</td><td> 0.08407820</td></tr>\n",
       "\t<tr><th scope=row>RUF20</th><td> 0.23663592</td><td>-0.03405742</td><td>-0.11053150</td><td>-0.15847893</td></tr>\n",
       "\t<tr><th scope=row>RUF21</th><td> 0.03472018</td><td>-0.13339448</td><td>-0.07319405</td><td> 0.07133664</td></tr>\n",
       "\t<tr><th scope=row>SCR1</th><td>-0.40557650</td><td> 0.31864165</td><td>-0.22836839</td><td> 0.25499406</td></tr>\n",
       "</tbody>\n",
       "</table>\n"
      ],
      "text/latex": [
       "A matrix: 6 × 4 of type dbl\n",
       "\\begin{tabular}{r|llll}\n",
       "  & PC1 & PC2 & PC3 & PC4\\\\\n",
       "\\hline\n",
       "\tICR1 &  0.05885595 & -0.04488044 & -0.09729293 &  0.06186443\\\\\n",
       "\tLSR1 & -0.26944320 &  0.05790684 & -0.15354640 &  0.15021890\\\\\n",
       "\tNME1 & -0.06810757 & -0.11582079 & -0.13422531 &  0.08407820\\\\\n",
       "\tRUF20 &  0.23663592 & -0.03405742 & -0.11053150 & -0.15847893\\\\\n",
       "\tRUF21 &  0.03472018 & -0.13339448 & -0.07319405 &  0.07133664\\\\\n",
       "\tSCR1 & -0.40557650 &  0.31864165 & -0.22836839 &  0.25499406\\\\\n",
       "\\end{tabular}\n"
      ],
      "text/markdown": [
       "\n",
       "A matrix: 6 × 4 of type dbl\n",
       "\n",
       "| <!--/--> | PC1 | PC2 | PC3 | PC4 |\n",
       "|---|---|---|---|---|\n",
       "| ICR1 |  0.05885595 | -0.04488044 | -0.09729293 |  0.06186443 |\n",
       "| LSR1 | -0.26944320 |  0.05790684 | -0.15354640 |  0.15021890 |\n",
       "| NME1 | -0.06810757 | -0.11582079 | -0.13422531 |  0.08407820 |\n",
       "| RUF20 |  0.23663592 | -0.03405742 | -0.11053150 | -0.15847893 |\n",
       "| RUF21 |  0.03472018 | -0.13339448 | -0.07319405 |  0.07133664 |\n",
       "| SCR1 | -0.40557650 |  0.31864165 | -0.22836839 |  0.25499406 |\n",
       "\n"
      ],
      "text/plain": [
       "      PC1         PC2         PC3         PC4        \n",
       "ICR1   0.05885595 -0.04488044 -0.09729293  0.06186443\n",
       "LSR1  -0.26944320  0.05790684 -0.15354640  0.15021890\n",
       "NME1  -0.06810757 -0.11582079 -0.13422531  0.08407820\n",
       "RUF20  0.23663592 -0.03405742 -0.11053150 -0.15847893\n",
       "RUF21  0.03472018 -0.13339448 -0.07319405  0.07133664\n",
       "SCR1  -0.40557650  0.31864165 -0.22836839  0.25499406"
      ]
     },
     "metadata": {},
     "output_type": "display_data"
    }
   ],
   "source": [
    "var_coord_func <- function(loadings, comp.sdev){\n",
    "  loadings*comp.sdev\n",
    "}\n",
    "\n",
    "loadings <- res_pca_vanilla$rotation\n",
    "sdev <- res_pca_vanilla$sdev\n",
    "var_coord <- t(apply(loadings, 1, var_coord_func, sdev)) \n",
    "head(var_coord[, 1:4])"
   ]
  },
  {
   "cell_type": "code",
   "execution_count": 262,
   "id": "d0465b50",
   "metadata": {},
   "outputs": [],
   "source": [
    "res_pca_vanilla_id <- var_coord\n",
    "res_pca_vanilla_id <- cbind(ID = rownames(res_pca_vanilla_id), res_pca_vanilla_id)\n",
    "rownames(res_pca_vanilla_id) <- 1:nrow(res_pca_vanilla_id)\n",
    "\n",
    "res_pca_vanilla_id <- as.data.table(res_pca_vanilla_id)"
   ]
  },
  {
   "cell_type": "code",
   "execution_count": 263,
   "id": "48f4fa79",
   "metadata": {},
   "outputs": [
    {
     "data": {
      "text/html": [
       "<table class=\"dataframe\">\n",
       "<caption>A data.table: 6 × 25</caption>\n",
       "<thead>\n",
       "\t<tr><th scope=col>ID</th><th scope=col>PC1</th><th scope=col>PC2</th><th scope=col>PC3</th><th scope=col>PC4</th><th scope=col>PC5</th><th scope=col>PC6</th><th scope=col>PC7</th><th scope=col>PC8</th><th scope=col>PC9</th><th scope=col>...</th><th scope=col>PC15</th><th scope=col>PC16</th><th scope=col>PC17</th><th scope=col>PC18</th><th scope=col>PC19</th><th scope=col>PC20</th><th scope=col>PC21</th><th scope=col>PC22</th><th scope=col>PC23</th><th scope=col>PC24</th></tr>\n",
       "\t<tr><th scope=col>&lt;chr&gt;</th><th scope=col>&lt;chr&gt;</th><th scope=col>&lt;chr&gt;</th><th scope=col>&lt;chr&gt;</th><th scope=col>&lt;chr&gt;</th><th scope=col>&lt;chr&gt;</th><th scope=col>&lt;chr&gt;</th><th scope=col>&lt;chr&gt;</th><th scope=col>&lt;chr&gt;</th><th scope=col>&lt;chr&gt;</th><th scope=col>...</th><th scope=col>&lt;chr&gt;</th><th scope=col>&lt;chr&gt;</th><th scope=col>&lt;chr&gt;</th><th scope=col>&lt;chr&gt;</th><th scope=col>&lt;chr&gt;</th><th scope=col>&lt;chr&gt;</th><th scope=col>&lt;chr&gt;</th><th scope=col>&lt;chr&gt;</th><th scope=col>&lt;chr&gt;</th><th scope=col>&lt;chr&gt;</th></tr>\n",
       "</thead>\n",
       "<tbody>\n",
       "\t<tr><td>ICR1 </td><td>0.0588559527130817 </td><td>-0.0448804414488034</td><td>-0.0972929294125822</td><td>0.0618644339300464</td><td>-0.0266125273130383</td><td>-0.000510228317625004</td><td>-0.0131852470314281</td><td>0.0111615770797829  </td><td>-0.012521801422639  </td><td>...</td><td>-0.00280126577669388</td><td>-0.00455962210282592</td><td>-0.0132965462384277  </td><td>-0.000590336561367515</td><td>0.00511084335755046</td><td>0.0026563626327289  </td><td>0.00732086503922051</td><td>0.00335415657703396 </td><td>0.00207695719781189 </td><td>2.76450244162505e-15 </td></tr>\n",
       "\t<tr><td>LSR1 </td><td>-0.269443195623559 </td><td>0.0579068385453218 </td><td>-0.153546395821349 </td><td>0.150218898519533 </td><td>-0.104805303753986 </td><td>-0.125771478252086   </td><td>-0.100429863882007 </td><td>0.0112923726506762  </td><td>-0.293233118330834  </td><td>...</td><td>0.0040439281990686  </td><td>-0.04109781335655   </td><td>-0.0131623057787665  </td><td>0.016794843507067    </td><td>-0.0548640828519344</td><td>-0.00302325724529372</td><td>0.0261920302869924 </td><td>0.00967717953955981 </td><td>-0.0314825394495753 </td><td>1.01971649576696e-15 </td></tr>\n",
       "\t<tr><td>NME1 </td><td>-0.0681075675137311</td><td>-0.115820787170828 </td><td>-0.13422530521524  </td><td>0.0840781985540536</td><td>-0.0411448330513359</td><td>-0.192338473086343   </td><td>-0.037081055952665 </td><td>-0.106598231462554  </td><td>-0.266380144866092  </td><td>...</td><td>0.015299277882792   </td><td>0.00602007792775742 </td><td>-0.000658651684832521</td><td>-0.0161798441515065  </td><td>-0.0281484092162094</td><td>0.0442460126001781  </td><td>0.0276464345782822 </td><td>-0.00330407342745736</td><td>-0.00784862307819769</td><td>5.81575950606395e-16 </td></tr>\n",
       "\t<tr><td>RUF20</td><td>0.236635923577873  </td><td>-0.0340574225397828</td><td>-0.110531500124679 </td><td>-0.158478929314031</td><td>0.00310620950183882</td><td>-0.042790890339849   </td><td>0.0280421021143129 </td><td>0.0694699875105423  </td><td>-0.0250720267440977 </td><td>...</td><td>0.0285385847565759  </td><td>-0.0259636032367108 </td><td>0.031744530000707    </td><td>0.0057232184043401   </td><td>-0.0178154953811255</td><td>0.0238456626556489  </td><td>0.026483780474371  </td><td>0.0123798772264418  </td><td>0.0218067886012916  </td><td>-7.1757002988231e-16 </td></tr>\n",
       "\t<tr><td>RUF21</td><td>0.0347201833378829 </td><td>-0.13339448206721  </td><td>-0.0731940464693249</td><td>0.0713366358385952</td><td>-0.0356620914054707</td><td>0.0190567471133098   </td><td>0.00539658839718519</td><td>-0.00632793095433574</td><td>-0.00138321133484869</td><td>...</td><td>-0.00166309306993998</td><td>0.00276801818702777 </td><td>-0.022517341209075   </td><td>-0.00679012385632141 </td><td>0.00179370152725339</td><td>0.0103570696065095  </td><td>0.012735632219809  </td><td>-0.00625629840423403</td><td>0.00724017790633031 </td><td>1.13734091952059e-15 </td></tr>\n",
       "\t<tr><td>SCR1 </td><td>-0.405576499849639 </td><td>0.318641647570438  </td><td>-0.228368390746422 </td><td>0.254994063752209 </td><td>0.00140443409897023</td><td>-0.159250117100192   </td><td>-0.151007735165917 </td><td>-0.208550620720387  </td><td>-0.413823101823148  </td><td>...</td><td>-0.0623728125551685 </td><td>-0.0597625045880666 </td><td>0.0178275604972554   </td><td>0.00893578987927027  </td><td>-0.117992951225293 </td><td>0.0336780603628549  </td><td>-0.0131941768095842</td><td>0.0116465101110156  </td><td>0.00476458800298715 </td><td>-1.18835368197716e-15</td></tr>\n",
       "</tbody>\n",
       "</table>\n"
      ],
      "text/latex": [
       "A data.table: 6 × 25\n",
       "\\begin{tabular}{lllllllllllllllllllll}\n",
       " ID & PC1 & PC2 & PC3 & PC4 & PC5 & PC6 & PC7 & PC8 & PC9 & ... & PC15 & PC16 & PC17 & PC18 & PC19 & PC20 & PC21 & PC22 & PC23 & PC24\\\\\n",
       " <chr> & <chr> & <chr> & <chr> & <chr> & <chr> & <chr> & <chr> & <chr> & <chr> & ... & <chr> & <chr> & <chr> & <chr> & <chr> & <chr> & <chr> & <chr> & <chr> & <chr>\\\\\n",
       "\\hline\n",
       "\t ICR1  & 0.0588559527130817  & -0.0448804414488034 & -0.0972929294125822 & 0.0618644339300464 & -0.0266125273130383 & -0.000510228317625004 & -0.0131852470314281 & 0.0111615770797829   & -0.012521801422639   & ... & -0.00280126577669388 & -0.00455962210282592 & -0.0132965462384277   & -0.000590336561367515 & 0.00511084335755046 & 0.0026563626327289   & 0.00732086503922051 & 0.00335415657703396  & 0.00207695719781189  & 2.76450244162505e-15 \\\\\n",
       "\t LSR1  & -0.269443195623559  & 0.0579068385453218  & -0.153546395821349  & 0.150218898519533  & -0.104805303753986  & -0.125771478252086    & -0.100429863882007  & 0.0112923726506762   & -0.293233118330834   & ... & 0.0040439281990686   & -0.04109781335655    & -0.0131623057787665   & 0.016794843507067     & -0.0548640828519344 & -0.00302325724529372 & 0.0261920302869924  & 0.00967717953955981  & -0.0314825394495753  & 1.01971649576696e-15 \\\\\n",
       "\t NME1  & -0.0681075675137311 & -0.115820787170828  & -0.13422530521524   & 0.0840781985540536 & -0.0411448330513359 & -0.192338473086343    & -0.037081055952665  & -0.106598231462554   & -0.266380144866092   & ... & 0.015299277882792    & 0.00602007792775742  & -0.000658651684832521 & -0.0161798441515065   & -0.0281484092162094 & 0.0442460126001781   & 0.0276464345782822  & -0.00330407342745736 & -0.00784862307819769 & 5.81575950606395e-16 \\\\\n",
       "\t RUF20 & 0.236635923577873   & -0.0340574225397828 & -0.110531500124679  & -0.158478929314031 & 0.00310620950183882 & -0.042790890339849    & 0.0280421021143129  & 0.0694699875105423   & -0.0250720267440977  & ... & 0.0285385847565759   & -0.0259636032367108  & 0.031744530000707     & 0.0057232184043401    & -0.0178154953811255 & 0.0238456626556489   & 0.026483780474371   & 0.0123798772264418   & 0.0218067886012916   & -7.1757002988231e-16 \\\\\n",
       "\t RUF21 & 0.0347201833378829  & -0.13339448206721   & -0.0731940464693249 & 0.0713366358385952 & -0.0356620914054707 & 0.0190567471133098    & 0.00539658839718519 & -0.00632793095433574 & -0.00138321133484869 & ... & -0.00166309306993998 & 0.00276801818702777  & -0.022517341209075    & -0.00679012385632141  & 0.00179370152725339 & 0.0103570696065095   & 0.012735632219809   & -0.00625629840423403 & 0.00724017790633031  & 1.13734091952059e-15 \\\\\n",
       "\t SCR1  & -0.405576499849639  & 0.318641647570438   & -0.228368390746422  & 0.254994063752209  & 0.00140443409897023 & -0.159250117100192    & -0.151007735165917  & -0.208550620720387   & -0.413823101823148   & ... & -0.0623728125551685  & -0.0597625045880666  & 0.0178275604972554    & 0.00893578987927027   & -0.117992951225293  & 0.0336780603628549   & -0.0131941768095842 & 0.0116465101110156   & 0.00476458800298715  & -1.18835368197716e-15\\\\\n",
       "\\end{tabular}\n"
      ],
      "text/markdown": [
       "\n",
       "A data.table: 6 × 25\n",
       "\n",
       "| ID &lt;chr&gt; | PC1 &lt;chr&gt; | PC2 &lt;chr&gt; | PC3 &lt;chr&gt; | PC4 &lt;chr&gt; | PC5 &lt;chr&gt; | PC6 &lt;chr&gt; | PC7 &lt;chr&gt; | PC8 &lt;chr&gt; | PC9 &lt;chr&gt; | ... ... | PC15 &lt;chr&gt; | PC16 &lt;chr&gt; | PC17 &lt;chr&gt; | PC18 &lt;chr&gt; | PC19 &lt;chr&gt; | PC20 &lt;chr&gt; | PC21 &lt;chr&gt; | PC22 &lt;chr&gt; | PC23 &lt;chr&gt; | PC24 &lt;chr&gt; |\n",
       "|---|---|---|---|---|---|---|---|---|---|---|---|---|---|---|---|---|---|---|---|---|\n",
       "| ICR1  | 0.0588559527130817  | -0.0448804414488034 | -0.0972929294125822 | 0.0618644339300464 | -0.0266125273130383 | -0.000510228317625004 | -0.0131852470314281 | 0.0111615770797829   | -0.012521801422639   | ... | -0.00280126577669388 | -0.00455962210282592 | -0.0132965462384277   | -0.000590336561367515 | 0.00511084335755046 | 0.0026563626327289   | 0.00732086503922051 | 0.00335415657703396  | 0.00207695719781189  | 2.76450244162505e-15  |\n",
       "| LSR1  | -0.269443195623559  | 0.0579068385453218  | -0.153546395821349  | 0.150218898519533  | -0.104805303753986  | -0.125771478252086    | -0.100429863882007  | 0.0112923726506762   | -0.293233118330834   | ... | 0.0040439281990686   | -0.04109781335655    | -0.0131623057787665   | 0.016794843507067     | -0.0548640828519344 | -0.00302325724529372 | 0.0261920302869924  | 0.00967717953955981  | -0.0314825394495753  | 1.01971649576696e-15  |\n",
       "| NME1  | -0.0681075675137311 | -0.115820787170828  | -0.13422530521524   | 0.0840781985540536 | -0.0411448330513359 | -0.192338473086343    | -0.037081055952665  | -0.106598231462554   | -0.266380144866092   | ... | 0.015299277882792    | 0.00602007792775742  | -0.000658651684832521 | -0.0161798441515065   | -0.0281484092162094 | 0.0442460126001781   | 0.0276464345782822  | -0.00330407342745736 | -0.00784862307819769 | 5.81575950606395e-16  |\n",
       "| RUF20 | 0.236635923577873   | -0.0340574225397828 | -0.110531500124679  | -0.158478929314031 | 0.00310620950183882 | -0.042790890339849    | 0.0280421021143129  | 0.0694699875105423   | -0.0250720267440977  | ... | 0.0285385847565759   | -0.0259636032367108  | 0.031744530000707     | 0.0057232184043401    | -0.0178154953811255 | 0.0238456626556489   | 0.026483780474371   | 0.0123798772264418   | 0.0218067886012916   | -7.1757002988231e-16  |\n",
       "| RUF21 | 0.0347201833378829  | -0.13339448206721   | -0.0731940464693249 | 0.0713366358385952 | -0.0356620914054707 | 0.0190567471133098    | 0.00539658839718519 | -0.00632793095433574 | -0.00138321133484869 | ... | -0.00166309306993998 | 0.00276801818702777  | -0.022517341209075    | -0.00679012385632141  | 0.00179370152725339 | 0.0103570696065095   | 0.012735632219809   | -0.00625629840423403 | 0.00724017790633031  | 1.13734091952059e-15  |\n",
       "| SCR1  | -0.405576499849639  | 0.318641647570438   | -0.228368390746422  | 0.254994063752209  | 0.00140443409897023 | -0.159250117100192    | -0.151007735165917  | -0.208550620720387   | -0.413823101823148   | ... | -0.0623728125551685  | -0.0597625045880666  | 0.0178275604972554    | 0.00893578987927027   | -0.117992951225293  | 0.0336780603628549   | -0.0131941768095842 | 0.0116465101110156   | 0.00476458800298715  | -1.18835368197716e-15 |\n",
       "\n"
      ],
      "text/plain": [
       "  ID    PC1                 PC2                 PC3                \n",
       "1 ICR1  0.0588559527130817  -0.0448804414488034 -0.0972929294125822\n",
       "2 LSR1  -0.269443195623559  0.0579068385453218  -0.153546395821349 \n",
       "3 NME1  -0.0681075675137311 -0.115820787170828  -0.13422530521524  \n",
       "4 RUF20 0.236635923577873   -0.0340574225397828 -0.110531500124679 \n",
       "5 RUF21 0.0347201833378829  -0.13339448206721   -0.0731940464693249\n",
       "6 SCR1  -0.405576499849639  0.318641647570438   -0.228368390746422 \n",
       "  PC4                PC5                 PC6                  \n",
       "1 0.0618644339300464 -0.0266125273130383 -0.000510228317625004\n",
       "2 0.150218898519533  -0.104805303753986  -0.125771478252086   \n",
       "3 0.0840781985540536 -0.0411448330513359 -0.192338473086343   \n",
       "4 -0.158478929314031 0.00310620950183882 -0.042790890339849   \n",
       "5 0.0713366358385952 -0.0356620914054707 0.0190567471133098   \n",
       "6 0.254994063752209  0.00140443409897023 -0.159250117100192   \n",
       "  PC7                 PC8                  PC9                  ...\n",
       "1 -0.0131852470314281 0.0111615770797829   -0.012521801422639   ...\n",
       "2 -0.100429863882007  0.0112923726506762   -0.293233118330834   ...\n",
       "3 -0.037081055952665  -0.106598231462554   -0.266380144866092   ...\n",
       "4 0.0280421021143129  0.0694699875105423   -0.0250720267440977  ...\n",
       "5 0.00539658839718519 -0.00632793095433574 -0.00138321133484869 ...\n",
       "6 -0.151007735165917  -0.208550620720387   -0.413823101823148   ...\n",
       "  PC15                 PC16                 PC17                 \n",
       "1 -0.00280126577669388 -0.00455962210282592 -0.0132965462384277  \n",
       "2 0.0040439281990686   -0.04109781335655    -0.0131623057787665  \n",
       "3 0.015299277882792    0.00602007792775742  -0.000658651684832521\n",
       "4 0.0285385847565759   -0.0259636032367108  0.031744530000707    \n",
       "5 -0.00166309306993998 0.00276801818702777  -0.022517341209075   \n",
       "6 -0.0623728125551685  -0.0597625045880666  0.0178275604972554   \n",
       "  PC18                  PC19                PC20                \n",
       "1 -0.000590336561367515 0.00511084335755046 0.0026563626327289  \n",
       "2 0.016794843507067     -0.0548640828519344 -0.00302325724529372\n",
       "3 -0.0161798441515065   -0.0281484092162094 0.0442460126001781  \n",
       "4 0.0057232184043401    -0.0178154953811255 0.0238456626556489  \n",
       "5 -0.00679012385632141  0.00179370152725339 0.0103570696065095  \n",
       "6 0.00893578987927027   -0.117992951225293  0.0336780603628549  \n",
       "  PC21                PC22                 PC23                \n",
       "1 0.00732086503922051 0.00335415657703396  0.00207695719781189 \n",
       "2 0.0261920302869924  0.00967717953955981  -0.0314825394495753 \n",
       "3 0.0276464345782822  -0.00330407342745736 -0.00784862307819769\n",
       "4 0.026483780474371   0.0123798772264418   0.0218067886012916  \n",
       "5 0.012735632219809   -0.00625629840423403 0.00724017790633031 \n",
       "6 -0.0131941768095842 0.0116465101110156   0.00476458800298715 \n",
       "  PC24                 \n",
       "1 2.76450244162505e-15 \n",
       "2 1.01971649576696e-15 \n",
       "3 5.81575950606395e-16 \n",
       "4 -7.1757002988231e-16 \n",
       "5 1.13734091952059e-15 \n",
       "6 -1.18835368197716e-15"
      ]
     },
     "metadata": {},
     "output_type": "display_data"
    }
   ],
   "source": [
    "head(res_pca_vanilla_id)"
   ]
  },
  {
   "cell_type": "code",
   "execution_count": 265,
   "id": "f0a7172c",
   "metadata": {},
   "outputs": [
    {
     "data": {
      "image/png": "[encoded data removed]",
      "text/plain": [
       "plot without title"
      ]
     },
     "metadata": {
      "image/png": {
       "height": 420,
       "width": 420
      }
     },
     "output_type": "display_data"
    }
   ],
   "source": [
    "pPCA <- ggplot(\n",
    "    res_pca_vanilla_id, \n",
    "    aes(x = PC1, y = PC2))+\n",
    "        geom_point(shape = 16, size=1, alpha=1)+\n",
    "        geom_point(data = res_pca_vanilla_id[res_pca_vanilla_id$ID == 'CTP1', ], shape = 16, size = 1, colour = \"#7fc97f\")+\n",
    "        geom_point(data = res_pca_vanilla_id[res_pca_vanilla_id$ID == 'MAE1', ], shape = 16, size = 1, colour = \"#beaed4\")+\n",
    "        geom_point(data = res_pca_vanilla_id[res_pca_vanilla_id$ID == 'PYC1', ], shape = 16, size = 1, colour = \"#fdc086\")+\n",
    "        geom_point(data = res_pca_vanilla_id[res_pca_vanilla_id$ID == 'PYC2', ], shape = 16, size = 1, colour = \"#ffff99\")+\n",
    "        geom_point(data = res_pca_vanilla_id[res_pca_vanilla_id$ID == 'CIT2', ], shape = 16, size = 1, colour = \"#386cb0\")+\n",
    "        geom_point(data = res_pca_vanilla_id[res_pca_vanilla_id$ID == 'CIT3', ], shape = 16, size = 1, colour = \"#f0027f\")+\n",
    "        geom_point(data = res_pca_vanilla_id[res_pca_vanilla_id$ID == 'GDH2', ], shape = 16, size = 1, colour = \"#bf5b17\")+\n",
    "        geom_point(data = res_pca_vanilla_id[res_pca_vanilla_id$ID == 'MCT1', ], shape = 16, size = 1, colour = \"#666666\")+\n",
    "        theme(panel.background=element_blank(), \n",
    "    axis.text=element_blank(), \n",
    "    axis.ticks=element_blank(),\n",
    "    panel.border=element_rect(fill=NA, \n",
    "        colour=\"black\", \n",
    "        size=0.25), \n",
    "    panel.grid.major=element_blank(),\n",
    "    axis.title=element_blank(), \n",
    "              axis.ticks.x=element_blank(),\n",
    "    plot.margin = unit( c(0.5, 0.5, 0.5, 0.5), \"mm\")\n",
    ")\n",
    "pPCA + \n",
    "  geom_label_repel(\n",
    "            aes(label = ifelse(ID %in% targets2 == TRUE, as.character(ID), '')),\n",
    "            box.padding   = 0.35, \n",
    "            point.padding = 0,\n",
    "            force = 7,\n",
    "            max.overlaps = 5000,\n",
    "            segment.color = 'grey50') +\n",
    "  theme_classic()"
   ]
  },
  {
   "cell_type": "code",
   "execution_count": null,
   "id": "70f7405d",
   "metadata": {},
   "outputs": [],
   "source": []
  },
  {
   "cell_type": "code",
   "execution_count": null,
   "id": "399314ba",
   "metadata": {},
   "outputs": [],
   "source": []
  }
 ],
 "metadata": {
  "kernelspec": {
   "display_name": "R",
   "language": "R",
   "name": "ir"
  },
  "language_info": {
   "codemirror_mode": "r",
   "file_extension": ".r",
   "mimetype": "text/x-r-source",
   "name": "R",
   "pygments_lexer": "r",
   "version": "4.0.2"
  }
 },
 "nbformat": 4,
 "nbformat_minor": 5
}
